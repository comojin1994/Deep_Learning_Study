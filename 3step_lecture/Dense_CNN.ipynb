{
  "nbformat": 4,
  "nbformat_minor": 0,
  "metadata": {
    "colab": {
      "name": "Dense_CNN.ipynb",
      "provenance": [],
      "authorship_tag": "ABX9TyP9ti3uSXiAP+XF4j1QNMeW",
      "include_colab_link": true
    },
    "kernelspec": {
      "name": "python3",
      "display_name": "Python 3"
    },
    "accelerator": "GPU"
  },
  "cells": [
    {
      "cell_type": "markdown",
      "metadata": {
        "id": "view-in-github",
        "colab_type": "text"
      },
      "source": [
        "<a href=\"https://colab.research.google.com/github/comojin1994/Deep_Learning_Study/blob/master/3step_lecture/Dense_CNN.ipynb\" target=\"_parent\"><img src=\"https://colab.research.google.com/assets/colab-badge.svg\" alt=\"Open In Colab\"/></a>"
      ]
    },
    {
      "cell_type": "code",
      "metadata": {
        "id": "jO9jmyfw7ZfZ",
        "colab_type": "code",
        "colab": {
          "base_uri": "https://localhost:8080/",
          "height": 53
        },
        "outputId": "ed7071c6-1232-4d5f-f6f0-d757b7c1da98"
      },
      "source": [
        "%tensorflow_version 2.x\n",
        "import tensorflow as tf\n",
        "import numpy as np\n",
        "tf.__version__"
      ],
      "execution_count": 1,
      "outputs": [
        {
          "output_type": "stream",
          "text": [
            "TensorFlow 2.x selected.\n"
          ],
          "name": "stdout"
        },
        {
          "output_type": "execute_result",
          "data": {
            "text/plain": [
              "'2.1.0'"
            ]
          },
          "metadata": {
            "tags": []
          },
          "execution_count": 1
        }
      ]
    },
    {
      "cell_type": "markdown",
      "metadata": {
        "id": "Naeupu99HptH",
        "colab_type": "text"
      },
      "source": [
        "### Hyperparameter"
      ]
    },
    {
      "cell_type": "code",
      "metadata": {
        "id": "1zo09pUSHssp",
        "colab_type": "code",
        "colab": {}
      },
      "source": [
        "EPOCHS = 10\n",
        "batch_size = 32"
      ],
      "execution_count": 0,
      "outputs": []
    },
    {
      "cell_type": "markdown",
      "metadata": {
        "id": "TncvRtmRHtXq",
        "colab_type": "text"
      },
      "source": [
        "### DenseUnit"
      ]
    },
    {
      "cell_type": "code",
      "metadata": {
        "id": "Mde_PTvRHub4",
        "colab_type": "code",
        "colab": {}
      },
      "source": [
        "class DenseUnit(tf.keras.Model):\n",
        "    def __init__(self, filter_out, kernel_size):\n",
        "        super(DenseUnit, self).__init__()\n",
        "        self.bn = tf.keras.layers.BatchNormalization()\n",
        "        self.conv = tf.keras.layers.Conv2D(filter_out, kernel_size, padding='same')\n",
        "        self.concat = tf.keras.layers.Concatenate()\n",
        "\n",
        "    def call(self, x, training=False, mask=None): # x: (Batch, H, W, Ch_in)\n",
        "        h = self.bn(x, training=training)\n",
        "        h = tf.nn.relu(h)\n",
        "        h = self.conv(h) # h: (Batch, H, W, filter_out)\n",
        "        h = self.concat([x, h]) # (Batch, H, W, Ch_in + filter_out)\n",
        "        return h"
      ],
      "execution_count": 0,
      "outputs": []
    },
    {
      "cell_type": "markdown",
      "metadata": {
        "id": "83-nt3emHu1h",
        "colab_type": "text"
      },
      "source": [
        "### DenseLayer"
      ]
    },
    {
      "cell_type": "code",
      "metadata": {
        "id": "XCNeioRQHvyQ",
        "colab_type": "code",
        "colab": {}
      },
      "source": [
        "class DenseLayer(tf.keras.Model):\n",
        "    def __init__(self, num_unit, growth_rate, kernel_size):\n",
        "        super(DenseLayer, self).__init__()\n",
        "        self.sequence = list()\n",
        "        for idx in range(num_unit):\n",
        "            self.sequence.append(DenseUnit(growth_rate, kernel_size))\n",
        "\n",
        "    def call(self, x, training=False, mask=None):\n",
        "        for unit in self.sequence:\n",
        "            x = unit(x, training=False)\n",
        "        return x "
      ],
      "execution_count": 0,
      "outputs": []
    },
    {
      "cell_type": "markdown",
      "metadata": {
        "id": "YdWFniZoLXbY",
        "colab_type": "text"
      },
      "source": [
        "### Transition Layer"
      ]
    },
    {
      "cell_type": "code",
      "metadata": {
        "id": "S1S8INsoLZwB",
        "colab_type": "code",
        "colab": {}
      },
      "source": [
        "class TransitionLayer(tf.keras.Model):\n",
        "    def __init__(self, filters, kernel_size):\n",
        "        super(TransitionLayer, self).__init__()\n",
        "        self.conv = tf.keras.layers.Conv2D(filters, kernel_size, padding='same')\n",
        "        self.pool = tf.keras.layers.MaxPool2D()\n",
        "\n",
        "    def call(self, x, training=False, mask=None):\n",
        "        x = self.conv(x)\n",
        "        return self.pool(x)"
      ],
      "execution_count": 0,
      "outputs": []
    },
    {
      "cell_type": "markdown",
      "metadata": {
        "id": "C36pJ3jcHwE1",
        "colab_type": "text"
      },
      "source": [
        "### Model"
      ]
    },
    {
      "cell_type": "code",
      "metadata": {
        "id": "VYIlIVYuHxav",
        "colab_type": "code",
        "colab": {}
      },
      "source": [
        "class DenseNet(tf.keras.Model):\n",
        "    def __init__(self):\n",
        "        super(DenseNet, self).__init__()\n",
        "        self.conv1 = tf.keras.layers.Conv2D(8, (3, 3), padding='same', activation='relu') # 28x28x8\n",
        "\n",
        "        self.dl1 = DenseLayer(2, 4, (3, 3)) # 28x28x16\n",
        "        self.tr1 = TransitionLayer(16, (3, 3)) # 14x14x16\n",
        "\n",
        "        self.dl2 = DenseLayer(2, 8, (3, 3)) # 28x28x32\n",
        "        self.tr2 = TransitionLayer(32, (3, 3)) # 7x7x32\n",
        "\n",
        "        self.dl3 = DenseLayer(2, 16, (3, 3)) # 7x7x64\n",
        "\n",
        "        self.flatten = tf.keras.layers.Flatten()\n",
        "        self.dense1 = tf.keras.layers.Dense(128, activation='relu')\n",
        "        self.dense2 = tf.keras.layers.Dense(10, activation='softmax')\n",
        "        \n",
        "\n",
        "    def call(self, x, training=False, mask=None):\n",
        "        x = self.conv1(x)\n",
        "\n",
        "        x = self.dl1(x, training=training)\n",
        "        x = self.tr1(x)\n",
        "        x = self.dl2(x, training=training)\n",
        "        x = self.tr2(x)\n",
        "        x = self.dl3(x, training=training)\n",
        "\n",
        "        x = self.flatten(x)\n",
        "        x = self.dense1(x)\n",
        "        x = self.dense2(x)\n",
        "        return x        "
      ],
      "execution_count": 0,
      "outputs": []
    },
    {
      "cell_type": "markdown",
      "metadata": {
        "id": "PC404HxQHxqt",
        "colab_type": "text"
      },
      "source": [
        "### Define train, test loop"
      ]
    },
    {
      "cell_type": "code",
      "metadata": {
        "id": "T15kmhRmH0nA",
        "colab_type": "code",
        "colab": {}
      },
      "source": [
        "# Implement training loop\n",
        "@tf.function\n",
        "def train_step(model, images, labels, loss_object, optimizer, train_loss, train_accuracy):\n",
        "    with tf.GradientTape() as tape:\n",
        "        predictions = model(images, training=True)\n",
        "        loss = loss_object(labels, predictions)\n",
        "    gradients = tape.gradient(loss, model.trainable_variables)\n",
        "\n",
        "    optimizer.apply_gradients(zip(gradients, model.trainable_variables))\n",
        "    train_loss(loss)\n",
        "    train_accuracy(labels, predictions)\n",
        "\n",
        "# Implement algorithm test\n",
        "@tf.function\n",
        "def test_step(model, images, labels, loss_object, test_loss, test_accuracy):\n",
        "    predictions = model(images, training=False)\n",
        "    t_loss = loss_object(labels, predictions)\n",
        "\n",
        "    test_loss(t_loss)\n",
        "    test_accuracy(labels, predictions)"
      ],
      "execution_count": 0,
      "outputs": []
    },
    {
      "cell_type": "markdown",
      "metadata": {
        "id": "kSngeRY5H2W0",
        "colab_type": "text"
      },
      "source": [
        "### Load Data"
      ]
    },
    {
      "cell_type": "code",
      "metadata": {
        "id": "DbO7usioH3FY",
        "colab_type": "code",
        "colab": {
          "base_uri": "https://localhost:8080/",
          "height": 53
        },
        "outputId": "33d8af1c-1566-4c5b-be68-9d0849b3383b"
      },
      "source": [
        "mnist = tf.keras.datasets.mnist\n",
        "(x_train, y_train), (x_test, y_test) = mnist.load_data()\n",
        "\n",
        "x_train, x_test = x_train / 255., x_test / 255.\n",
        "x_train = x_train[..., tf.newaxis].astype(np.float32)\n",
        "x_test = x_test[..., tf.newaxis].astype(np.float32)\n",
        "\n",
        "train_ds = tf.data.Dataset.from_tensor_slices((x_train, y_train)).shuffle(len(x_train)).batch(batch_size)\n",
        "test_ds = tf.data.Dataset.from_tensor_slices((x_test, y_test)).batch(batch_size)"
      ],
      "execution_count": 8,
      "outputs": [
        {
          "output_type": "stream",
          "text": [
            "Downloading data from https://storage.googleapis.com/tensorflow/tf-keras-datasets/mnist.npz\n",
            "11493376/11490434 [==============================] - 0s 0us/step\n"
          ],
          "name": "stdout"
        }
      ]
    },
    {
      "cell_type": "markdown",
      "metadata": {
        "id": "fzzAQxT9H3WS",
        "colab_type": "text"
      },
      "source": [
        "### Define model, loss, optimizer and metric"
      ]
    },
    {
      "cell_type": "code",
      "metadata": {
        "id": "OxEpdEqqH71p",
        "colab_type": "code",
        "colab": {}
      },
      "source": [
        "model = DenseNet()\n",
        "\n",
        "loss_object = tf.keras.losses.SparseCategoricalCrossentropy()\n",
        "optimizer = tf.keras.optimizers.Adam()\n",
        "\n",
        "train_loss = tf.keras.metrics.Mean(name='train_loss')\n",
        "train_accuracy = tf.keras.metrics.SparseCategoricalAccuracy(name='train_accuracy')\n",
        "\n",
        "test_loss = tf.keras.metrics.Mean(name='test_loss')\n",
        "test_accuracy = tf.keras.metrics.SparseCategoricalAccuracy(name='test_accuracy')"
      ],
      "execution_count": 0,
      "outputs": []
    },
    {
      "cell_type": "markdown",
      "metadata": {
        "id": "onaEymL5H8Ka",
        "colab_type": "text"
      },
      "source": [
        "### Training"
      ]
    },
    {
      "cell_type": "code",
      "metadata": {
        "id": "9HJiVZjzIAeJ",
        "colab_type": "code",
        "colab": {
          "base_uri": "https://localhost:8080/",
          "height": 217
        },
        "outputId": "79382b5e-c378-496f-8cf9-5e977eed57c3"
      },
      "source": [
        "for epoch in range(EPOCHS):\n",
        "    for images, labels in train_ds:\n",
        "        train_step(model, images, labels, loss_object, optimizer, train_loss, train_accuracy)\n",
        "\n",
        "    for images, labels in test_ds:\n",
        "        test_step(model, images, labels, loss_object, test_loss, test_accuracy)\n",
        "\n",
        "    template = 'Epoch {}, Loss: {}, Accuracy: {}, Test Loss: {}, Test Accuracy: {}'\n",
        "    print(template.format(\n",
        "          epoch + 1,\n",
        "          train_loss.result(),\n",
        "          train_accuracy.result() * 100,\n",
        "          test_loss.result(),\n",
        "          test_accuracy.result() * 100\n",
        "    ))\n",
        "\n",
        "    train_loss.reset_states()\n",
        "    train_accuracy.reset_states()\n",
        "    test_loss.reset_states()\n",
        "    test_accuracy.reset_states()"
      ],
      "execution_count": 13,
      "outputs": [
        {
          "output_type": "stream",
          "text": [
            "Epoch 1, Loss: 0.112987220287323, Accuracy: 96.47166442871094, Test Loss: 0.048053301870822906, Test Accuracy: 98.47999572753906\n",
            "Epoch 2, Loss: 0.04208860918879509, Accuracy: 98.70999908447266, Test Loss: 0.04376764968037605, Test Accuracy: 98.56999969482422\n",
            "Epoch 3, Loss: 0.03177628293633461, Accuracy: 98.98999786376953, Test Loss: 0.03924807161092758, Test Accuracy: 98.79999542236328\n",
            "Epoch 4, Loss: 0.023990724235773087, Accuracy: 99.25167083740234, Test Loss: 0.033345095813274384, Test Accuracy: 99.01000213623047\n",
            "Epoch 5, Loss: 0.020268982276320457, Accuracy: 99.34832763671875, Test Loss: 0.035146862268447876, Test Accuracy: 98.98999786376953\n",
            "Epoch 6, Loss: 0.017092781141400337, Accuracy: 99.42500305175781, Test Loss: 0.040640562772750854, Test Accuracy: 98.91999816894531\n",
            "Epoch 7, Loss: 0.014760964550077915, Accuracy: 99.52666473388672, Test Loss: 0.03548755124211311, Test Accuracy: 99.11000061035156\n",
            "Epoch 8, Loss: 0.014561054296791553, Accuracy: 99.55166625976562, Test Loss: 0.043215375393629074, Test Accuracy: 98.76000213623047\n",
            "Epoch 9, Loss: 0.012386133894324303, Accuracy: 99.61666107177734, Test Loss: 0.04152604937553406, Test Accuracy: 98.91999816894531\n",
            "Epoch 10, Loss: 0.012606929987668991, Accuracy: 99.62666320800781, Test Loss: 0.03368682786822319, Test Accuracy: 99.11000061035156\n"
          ],
          "name": "stdout"
        }
      ]
    },
    {
      "cell_type": "code",
      "metadata": {
        "id": "an0AbDm_REE_",
        "colab_type": "code",
        "colab": {
          "base_uri": "https://localhost:8080/",
          "height": 485
        },
        "outputId": "68fdeba4-f854-43b7-edad-7e315b4f947a"
      },
      "source": [
        "model.summary()"
      ],
      "execution_count": 14,
      "outputs": [
        {
          "output_type": "stream",
          "text": [
            "Model: \"dense_net_1\"\n",
            "_________________________________________________________________\n",
            "Layer (type)                 Output Shape              Param #   \n",
            "=================================================================\n",
            "conv2d_9 (Conv2D)            multiple                  80        \n",
            "_________________________________________________________________\n",
            "dense_layer_3 (DenseLayer)   multiple                  808       \n",
            "_________________________________________________________________\n",
            "transition_layer_2 (Transiti multiple                  2320      \n",
            "_________________________________________________________________\n",
            "dense_layer_4 (DenseLayer)   multiple                  3056      \n",
            "_________________________________________________________________\n",
            "transition_layer_3 (Transiti multiple                  9248      \n",
            "_________________________________________________________________\n",
            "dense_layer_5 (DenseLayer)   multiple                  11872     \n",
            "_________________________________________________________________\n",
            "flatten_1 (Flatten)          multiple                  0         \n",
            "_________________________________________________________________\n",
            "dense_2 (Dense)              multiple                  401536    \n",
            "_________________________________________________________________\n",
            "dense_3 (Dense)              multiple                  1290      \n",
            "=================================================================\n",
            "Total params: 430,210\n",
            "Trainable params: 429,930\n",
            "Non-trainable params: 280\n",
            "_________________________________________________________________\n"
          ],
          "name": "stdout"
        }
      ]
    }
  ]
}
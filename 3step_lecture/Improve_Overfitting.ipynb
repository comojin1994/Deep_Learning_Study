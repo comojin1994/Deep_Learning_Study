{
  "nbformat": 4,
  "nbformat_minor": 0,
  "metadata": {
    "colab": {
      "name": "Improve_Overfitting.ipynb",
      "provenance": [],
      "authorship_tag": "ABX9TyPqy3Dcy3Qeq/LSbrPLxJ8j",
      "include_colab_link": true
    },
    "kernelspec": {
      "name": "python3",
      "display_name": "Python 3"
    },
    "accelerator": "GPU"
  },
  "cells": [
    {
      "cell_type": "markdown",
      "metadata": {
        "id": "view-in-github",
        "colab_type": "text"
      },
      "source": [
        "<a href=\"https://colab.research.google.com/github/comojin1994/Deep_Learning_Study/blob/master/3step_lecture/Improve_Overfitting.ipynb\" target=\"_parent\"><img src=\"https://colab.research.google.com/assets/colab-badge.svg\" alt=\"Open In Colab\"/></a>"
      ]
    },
    {
      "cell_type": "code",
      "metadata": {
        "id": "A-hBAVAxcfXM",
        "colab_type": "code",
        "outputId": "3d3978e0-8747-447e-a479-55f3cf9b1063",
        "colab": {
          "base_uri": "https://localhost:8080/",
          "height": 52
        }
      },
      "source": [
        "%tensorflow_version 2.x\n",
        "import tensorflow as tf\n",
        "import numpy as np\n",
        "import matplotlib.pyplot as plt\n",
        "%matplotlib inline\n",
        "tf.__version__"
      ],
      "execution_count": 0,
      "outputs": [
        {
          "output_type": "stream",
          "text": [
            "TensorFlow 2.x selected.\n"
          ],
          "name": "stdout"
        },
        {
          "output_type": "execute_result",
          "data": {
            "text/plain": [
              "'2.1.0'"
            ]
          },
          "metadata": {
            "tags": []
          },
          "execution_count": 1
        }
      ]
    },
    {
      "cell_type": "markdown",
      "metadata": {
        "id": "NLMSvs18csKO",
        "colab_type": "text"
      },
      "source": [
        "### Hyperparameter"
      ]
    },
    {
      "cell_type": "code",
      "metadata": {
        "id": "rVvFaOkjcu3B",
        "colab_type": "code",
        "colab": {}
      },
      "source": [
        "EPOCHS = 100"
      ],
      "execution_count": 0,
      "outputs": []
    },
    {
      "cell_type": "markdown",
      "metadata": {
        "id": "S9C4pid6dGHO",
        "colab_type": "text"
      },
      "source": [
        "### Layers"
      ]
    },
    {
      "cell_type": "code",
      "metadata": {
        "id": "OfpTuvplji7d",
        "colab_type": "code",
        "colab": {}
      },
      "source": [
        "class ConvLNReluBlock(tf.keras.Model):\n",
        "    def __init__(self, filters, kernel_size):\n",
        "        super(ConvLNReluBlock, self).__init__()\n",
        "        self.conv = tf.keras.layers.Conv2D(filters, kernel_size, padding='same', use_bias=False)\n",
        "        self.ln = tf.keras.layers.LayerNormalization()\n",
        "    \n",
        "    def call(self, x, training=False, mask=None):\n",
        "        x = self.conv(x)\n",
        "        x = self.ln(x) # training여부가 상관 없음\n",
        "        return tf.nn.relu(x)"
      ],
      "execution_count": 0,
      "outputs": []
    },
    {
      "cell_type": "code",
      "metadata": {
        "id": "t8SWLe9ydH-o",
        "colab_type": "code",
        "colab": {}
      },
      "source": [
        "def conv(filters, kernel_size, padding, activation):\n",
        "    return tf.keras.layers.Conv2D(filters, kernel_size, padding=padding, activation=activation,\n",
        "                                  kernel_initializer='he_normal', kernel_regularizer=tf.keras.regularizers.l2(0.01))\n",
        "    \n",
        "def dense(units, activation):\n",
        "    return tf.keras.layers.Dense(units, activation=activation, kernel_regularizer=tf.keras.regularizers.l2(0.01))"
      ],
      "execution_count": 0,
      "outputs": []
    },
    {
      "cell_type": "markdown",
      "metadata": {
        "id": "1-7EtT_qfNG5",
        "colab_type": "text"
      },
      "source": [
        "### Load Data"
      ]
    },
    {
      "cell_type": "code",
      "metadata": {
        "id": "7OTd6xMOfO74",
        "colab_type": "code",
        "outputId": "1ebb7072-1bcd-47de-b505-4ff9f1ecaec0",
        "colab": {
          "base_uri": "https://localhost:8080/",
          "height": 52
        }
      },
      "source": [
        "cifar10 = tf.keras.datasets.cifar10\n",
        "\n",
        "(x_train, y_train), (x_test, y_test) = cifar10.load_data()\n",
        "x_train, x_test = x_train / 255., x_test / 255.\n",
        "\n",
        "x_train = x_train.astype(np.float32)\n",
        "x_test = x_test.astype(np.float32)\n",
        "\n",
        "train_ds = tf.data.Dataset.from_tensor_slices((x_train, y_train)).shuffle(10000).batch(32).prefetch(1024)\n",
        "test_ds = tf.data.Dataset.from_tensor_slices((x_test, y_test)).batch(32).prefetch(1024)"
      ],
      "execution_count": 0,
      "outputs": [
        {
          "output_type": "stream",
          "text": [
            "Downloading data from https://www.cs.toronto.edu/~kriz/cifar-10-python.tar.gz\n",
            "170500096/170498071 [==============================] - 6s 0us/step\n"
          ],
          "name": "stdout"
        }
      ]
    },
    {
      "cell_type": "markdown",
      "metadata": {
        "id": "RERp8t4KlUFY",
        "colab_type": "text"
      },
      "source": [
        "### L2 Regularization & He initializer"
      ]
    },
    {
      "cell_type": "markdown",
      "metadata": {
        "id": "ZoJDD_DTczRP",
        "colab_type": "text"
      },
      "source": [
        "### Model 1"
      ]
    },
    {
      "cell_type": "code",
      "metadata": {
        "id": "kWx-vdmTc0RX",
        "colab_type": "code",
        "colab": {}
      },
      "source": [
        "class MyModel(tf.keras.Model):\n",
        "    def __init__(self):\n",
        "        super(MyModel, self).__init__()\n",
        "        self.conv1_1 = conv(16, (3, 3), padding='same', activation='relu')\n",
        "        self.conv1_2 = conv(16, (3, 3), padding='same', activation='relu')\n",
        "        self.pool1 = tf.keras.layers.MaxPool2D((2, 2))\n",
        "\n",
        "        self.conv2_1 = conv(32, (3, 3), padding='same', activation='relu')\n",
        "        self.conv2_2 = conv(32, (3, 3), padding='same', activation='relu')\n",
        "        self.pool2 = tf.keras.layers.MaxPool2D((2, 2))\n",
        "\n",
        "        self.conv3_1 = conv(64, (3, 3), padding='same', activation='relu')\n",
        "        self.conv3_2 = conv(64, (3, 3), padding='same', activation='relu')\n",
        "\n",
        "        self.flatten = tf.keras.layers.Flatten()\n",
        "        self.dense1 = dense(1024, activation='relu')\n",
        "        self.dense2 = dense(10, activation='softmax')\n",
        "\n",
        "    def call(self, x, training=False, mask=None):\n",
        "        x = self.conv1_1(x)\n",
        "        x = self.conv1_2(x)\n",
        "        x = self.pool1(x)\n",
        "\n",
        "        x = self.conv2_1(x)\n",
        "        x = self.conv2_2(x)\n",
        "        x = self.pool2(x)\n",
        "        \n",
        "        x = self.conv3_1(x)\n",
        "        x = self.conv3_2(x)\n",
        "        \n",
        "        x = self.flatten(x)\n",
        "        x = self.dense1(x)\n",
        "        return self.dense2(x)"
      ],
      "execution_count": 0,
      "outputs": []
    },
    {
      "cell_type": "markdown",
      "metadata": {
        "id": "gDLDoMrCfxmC",
        "colab_type": "text"
      },
      "source": [
        "### Training"
      ]
    },
    {
      "cell_type": "code",
      "metadata": {
        "id": "UoxmOPfvf0GJ",
        "colab_type": "code",
        "colab": {}
      },
      "source": [
        "model = MyModel()\n",
        "\n",
        "loss_object = tf.keras.losses.SparseCategoricalCrossentropy()\n",
        "optimizer = tf.keras.optimizers.Adam()\n",
        "metrics = ['accuracy']\n",
        "\n",
        "model.compile(optimizer=optimizer, loss=loss_object, metrics=metrics, )"
      ],
      "execution_count": 0,
      "outputs": []
    },
    {
      "cell_type": "code",
      "metadata": {
        "id": "NPuDImJpf_D2",
        "colab_type": "code",
        "outputId": "a93b6548-fb72-4bb6-c3ee-9f0a959f2d25",
        "colab": {
          "base_uri": "https://localhost:8080/",
          "height": 1000
        }
      },
      "source": [
        "history = model.fit(\n",
        "      train_ds,\n",
        "      epochs=EPOCHS,\n",
        "      validation_data=test_ds,\n",
        ")"
      ],
      "execution_count": 0,
      "outputs": [
        {
          "output_type": "stream",
          "text": [
            "Train for 1563 steps, validate for 313 steps\n",
            "Epoch 1/100\n",
            "1563/1563 [==============================] - 10s 6ms/step - loss: 2.0629 - accuracy: 0.4264 - val_loss: 1.9734 - val_accuracy: 0.4422\n",
            "Epoch 2/100\n",
            "1563/1563 [==============================] - 10s 6ms/step - loss: 1.9028 - accuracy: 0.4497 - val_loss: 1.8493 - val_accuracy: 0.4518\n",
            "Epoch 3/100\n",
            "1563/1563 [==============================] - 10s 6ms/step - loss: 1.8221 - accuracy: 0.4654 - val_loss: 1.7835 - val_accuracy: 0.4745\n",
            "Epoch 4/100\n",
            "1563/1563 [==============================] - 10s 6ms/step - loss: 1.7751 - accuracy: 0.4778 - val_loss: 1.7766 - val_accuracy: 0.4765\n",
            "Epoch 5/100\n",
            "1563/1563 [==============================] - 10s 6ms/step - loss: 1.7327 - accuracy: 0.4931 - val_loss: 1.6830 - val_accuracy: 0.5117\n",
            "Epoch 6/100\n",
            "1563/1563 [==============================] - 10s 6ms/step - loss: 1.6996 - accuracy: 0.5090 - val_loss: 1.7405 - val_accuracy: 0.4829\n",
            "Epoch 7/100\n",
            "1563/1563 [==============================] - 10s 6ms/step - loss: 1.6677 - accuracy: 0.5230 - val_loss: 1.6067 - val_accuracy: 0.5432\n",
            "Epoch 8/100\n",
            "1563/1563 [==============================] - 10s 6ms/step - loss: 1.6482 - accuracy: 0.5332 - val_loss: 1.6427 - val_accuracy: 0.5423\n",
            "Epoch 9/100\n",
            "1563/1563 [==============================] - 10s 6ms/step - loss: 1.6291 - accuracy: 0.5432 - val_loss: 1.5709 - val_accuracy: 0.5644\n",
            "Epoch 10/100\n",
            "1563/1563 [==============================] - 10s 6ms/step - loss: 1.6159 - accuracy: 0.5516 - val_loss: 1.7077 - val_accuracy: 0.5051\n",
            "Epoch 11/100\n",
            "1563/1563 [==============================] - 10s 6ms/step - loss: 1.6028 - accuracy: 0.5558 - val_loss: 1.5931 - val_accuracy: 0.5601\n",
            "Epoch 12/100\n",
            "1563/1563 [==============================] - 10s 6ms/step - loss: 1.5943 - accuracy: 0.5603 - val_loss: 1.5646 - val_accuracy: 0.5718\n",
            "Epoch 13/100\n",
            "1563/1563 [==============================] - 10s 6ms/step - loss: 1.5849 - accuracy: 0.5638 - val_loss: 1.5498 - val_accuracy: 0.5729\n",
            "Epoch 14/100\n",
            "1563/1563 [==============================] - 10s 6ms/step - loss: 1.5806 - accuracy: 0.5679 - val_loss: 1.5442 - val_accuracy: 0.5823\n",
            "Epoch 15/100\n",
            "1563/1563 [==============================] - 10s 6ms/step - loss: 1.5759 - accuracy: 0.5694 - val_loss: 1.5952 - val_accuracy: 0.5670\n",
            "Epoch 16/100\n",
            "1563/1563 [==============================] - 10s 6ms/step - loss: 1.5759 - accuracy: 0.5708 - val_loss: 1.5711 - val_accuracy: 0.5762\n",
            "Epoch 17/100\n",
            "1563/1563 [==============================] - 10s 6ms/step - loss: 1.5679 - accuracy: 0.5735 - val_loss: 1.5466 - val_accuracy: 0.5767\n",
            "Epoch 18/100\n",
            "1563/1563 [==============================] - 10s 6ms/step - loss: 1.5660 - accuracy: 0.5750 - val_loss: 1.5549 - val_accuracy: 0.5787\n",
            "Epoch 19/100\n",
            "1563/1563 [==============================] - 10s 6ms/step - loss: 1.5655 - accuracy: 0.5750 - val_loss: 1.5537 - val_accuracy: 0.5775\n",
            "Epoch 20/100\n",
            "1563/1563 [==============================] - 10s 6ms/step - loss: 1.5644 - accuracy: 0.5754 - val_loss: 1.6242 - val_accuracy: 0.5539\n",
            "Epoch 21/100\n",
            "1563/1563 [==============================] - 10s 6ms/step - loss: 1.5601 - accuracy: 0.5784 - val_loss: 1.5642 - val_accuracy: 0.5717\n",
            "Epoch 22/100\n",
            "1563/1563 [==============================] - 10s 6ms/step - loss: 1.5561 - accuracy: 0.5787 - val_loss: 1.5401 - val_accuracy: 0.5879\n",
            "Epoch 23/100\n",
            "1563/1563 [==============================] - 10s 6ms/step - loss: 1.5530 - accuracy: 0.5813 - val_loss: 1.5432 - val_accuracy: 0.5854\n",
            "Epoch 24/100\n",
            "1563/1563 [==============================] - 10s 6ms/step - loss: 1.5454 - accuracy: 0.5834 - val_loss: 1.5879 - val_accuracy: 0.5728\n",
            "Epoch 25/100\n",
            "1563/1563 [==============================] - 10s 6ms/step - loss: 1.5412 - accuracy: 0.5831 - val_loss: 1.5150 - val_accuracy: 0.5970\n",
            "Epoch 26/100\n",
            "1563/1563 [==============================] - 10s 6ms/step - loss: 1.5424 - accuracy: 0.5848 - val_loss: 1.5282 - val_accuracy: 0.5889\n",
            "Epoch 27/100\n",
            "1563/1563 [==============================] - 10s 6ms/step - loss: 1.5436 - accuracy: 0.5825 - val_loss: 1.5806 - val_accuracy: 0.5722\n",
            "Epoch 28/100\n",
            "1563/1563 [==============================] - 10s 6ms/step - loss: 1.5397 - accuracy: 0.5845 - val_loss: 1.5308 - val_accuracy: 0.5973\n",
            "Epoch 29/100\n",
            "1563/1563 [==============================] - 10s 6ms/step - loss: 1.5406 - accuracy: 0.5844 - val_loss: 1.5060 - val_accuracy: 0.5962\n",
            "Epoch 30/100\n",
            "1563/1563 [==============================] - 10s 6ms/step - loss: 1.5363 - accuracy: 0.5868 - val_loss: 1.5771 - val_accuracy: 0.5726\n",
            "Epoch 31/100\n",
            "1563/1563 [==============================] - 10s 6ms/step - loss: 1.5356 - accuracy: 0.5866 - val_loss: 1.5531 - val_accuracy: 0.5760\n",
            "Epoch 32/100\n",
            "1563/1563 [==============================] - 10s 6ms/step - loss: 1.5302 - accuracy: 0.5898 - val_loss: 1.5880 - val_accuracy: 0.5721\n",
            "Epoch 33/100\n",
            "1563/1563 [==============================] - 10s 6ms/step - loss: 1.5317 - accuracy: 0.5876 - val_loss: 1.5505 - val_accuracy: 0.5854\n",
            "Epoch 34/100\n",
            "1563/1563 [==============================] - 10s 6ms/step - loss: 1.5279 - accuracy: 0.5913 - val_loss: 1.5532 - val_accuracy: 0.5752\n",
            "Epoch 35/100\n",
            "1563/1563 [==============================] - 10s 6ms/step - loss: 1.5268 - accuracy: 0.5915 - val_loss: 1.5262 - val_accuracy: 0.5925\n",
            "Epoch 36/100\n",
            "1563/1563 [==============================] - 9s 6ms/step - loss: 1.5285 - accuracy: 0.5907 - val_loss: 1.5074 - val_accuracy: 0.5994\n",
            "Epoch 37/100\n",
            "1563/1563 [==============================] - 10s 6ms/step - loss: 1.5291 - accuracy: 0.5923 - val_loss: 1.5635 - val_accuracy: 0.5727\n",
            "Epoch 38/100\n",
            "1563/1563 [==============================] - 10s 6ms/step - loss: 1.5209 - accuracy: 0.5946 - val_loss: 1.4897 - val_accuracy: 0.6026\n",
            "Epoch 39/100\n",
            "1563/1563 [==============================] - 10s 6ms/step - loss: 1.5169 - accuracy: 0.5947 - val_loss: 1.5843 - val_accuracy: 0.5754\n",
            "Epoch 40/100\n",
            "1563/1563 [==============================] - 10s 6ms/step - loss: 1.5181 - accuracy: 0.5942 - val_loss: 1.4995 - val_accuracy: 0.6031\n",
            "Epoch 41/100\n",
            "1563/1563 [==============================] - 10s 6ms/step - loss: 1.5128 - accuracy: 0.5982 - val_loss: 1.4816 - val_accuracy: 0.6156\n",
            "Epoch 42/100\n",
            "1563/1563 [==============================] - 10s 6ms/step - loss: 1.5170 - accuracy: 0.5966 - val_loss: 1.4910 - val_accuracy: 0.6103\n",
            "Epoch 43/100\n",
            "1563/1563 [==============================] - 10s 6ms/step - loss: 1.5084 - accuracy: 0.5982 - val_loss: 1.4873 - val_accuracy: 0.6131\n",
            "Epoch 44/100\n",
            "1563/1563 [==============================] - 10s 6ms/step - loss: 1.5074 - accuracy: 0.5986 - val_loss: 1.5503 - val_accuracy: 0.5797\n",
            "Epoch 45/100\n",
            "1563/1563 [==============================] - 10s 6ms/step - loss: 1.5095 - accuracy: 0.5999 - val_loss: 1.5467 - val_accuracy: 0.5828\n",
            "Epoch 46/100\n",
            "1563/1563 [==============================] - 10s 6ms/step - loss: 1.5080 - accuracy: 0.5990 - val_loss: 1.5388 - val_accuracy: 0.5939\n",
            "Epoch 47/100\n",
            "1563/1563 [==============================] - 10s 6ms/step - loss: 1.5101 - accuracy: 0.5986 - val_loss: 1.4741 - val_accuracy: 0.6188\n",
            "Epoch 48/100\n",
            "1563/1563 [==============================] - 9s 6ms/step - loss: 1.5086 - accuracy: 0.6004 - val_loss: 1.5380 - val_accuracy: 0.5931\n",
            "Epoch 49/100\n",
            "1563/1563 [==============================] - 10s 6ms/step - loss: 1.5062 - accuracy: 0.6018 - val_loss: 1.4816 - val_accuracy: 0.6181\n",
            "Epoch 50/100\n",
            "1563/1563 [==============================] - 10s 6ms/step - loss: 1.5023 - accuracy: 0.6034 - val_loss: 1.4711 - val_accuracy: 0.6213\n",
            "Epoch 51/100\n",
            "1563/1563 [==============================] - 10s 6ms/step - loss: 1.4991 - accuracy: 0.6054 - val_loss: 1.5714 - val_accuracy: 0.5859\n",
            "Epoch 52/100\n",
            "1563/1563 [==============================] - 10s 6ms/step - loss: 1.5002 - accuracy: 0.6038 - val_loss: 1.5447 - val_accuracy: 0.5929\n",
            "Epoch 53/100\n",
            "1563/1563 [==============================] - 9s 6ms/step - loss: 1.4977 - accuracy: 0.6067 - val_loss: 1.4833 - val_accuracy: 0.6084\n",
            "Epoch 54/100\n",
            "1563/1563 [==============================] - 9s 6ms/step - loss: 1.4939 - accuracy: 0.6074 - val_loss: 1.4641 - val_accuracy: 0.6271\n",
            "Epoch 55/100\n",
            "1563/1563 [==============================] - 9s 6ms/step - loss: 1.4948 - accuracy: 0.6088 - val_loss: 1.4889 - val_accuracy: 0.6112\n",
            "Epoch 56/100\n",
            "1563/1563 [==============================] - 9s 6ms/step - loss: 1.5011 - accuracy: 0.6032 - val_loss: 1.5014 - val_accuracy: 0.6062\n",
            "Epoch 57/100\n",
            "1563/1563 [==============================] - 10s 6ms/step - loss: 1.4975 - accuracy: 0.6073 - val_loss: 1.4860 - val_accuracy: 0.6153\n",
            "Epoch 58/100\n",
            "1563/1563 [==============================] - 10s 6ms/step - loss: 1.4969 - accuracy: 0.6075 - val_loss: 1.5411 - val_accuracy: 0.6006\n",
            "Epoch 59/100\n",
            "1563/1563 [==============================] - 10s 6ms/step - loss: 1.4930 - accuracy: 0.6089 - val_loss: 1.5039 - val_accuracy: 0.5990\n",
            "Epoch 60/100\n",
            "1563/1563 [==============================] - 10s 6ms/step - loss: 1.4945 - accuracy: 0.6071 - val_loss: 1.5441 - val_accuracy: 0.5887\n",
            "Epoch 61/100\n",
            "1563/1563 [==============================] - 10s 6ms/step - loss: 1.4925 - accuracy: 0.6079 - val_loss: 1.5092 - val_accuracy: 0.6082\n",
            "Epoch 62/100\n",
            "1563/1563 [==============================] - 10s 6ms/step - loss: 1.4900 - accuracy: 0.6112 - val_loss: 1.5262 - val_accuracy: 0.6009\n",
            "Epoch 63/100\n",
            "1563/1563 [==============================] - 10s 6ms/step - loss: 1.4905 - accuracy: 0.6098 - val_loss: 1.4777 - val_accuracy: 0.6232\n",
            "Epoch 64/100\n",
            "1563/1563 [==============================] - 10s 6ms/step - loss: 1.4896 - accuracy: 0.6076 - val_loss: 1.4858 - val_accuracy: 0.6111\n",
            "Epoch 65/100\n",
            "1563/1563 [==============================] - 10s 6ms/step - loss: 1.4879 - accuracy: 0.6103 - val_loss: 1.4675 - val_accuracy: 0.6222\n",
            "Epoch 66/100\n",
            "1563/1563 [==============================] - 10s 6ms/step - loss: 1.4874 - accuracy: 0.6101 - val_loss: 1.4582 - val_accuracy: 0.6288\n",
            "Epoch 67/100\n",
            "1563/1563 [==============================] - 10s 6ms/step - loss: 1.4859 - accuracy: 0.6123 - val_loss: 1.4615 - val_accuracy: 0.6327\n",
            "Epoch 68/100\n",
            "1563/1563 [==============================] - 10s 6ms/step - loss: 1.4876 - accuracy: 0.6116 - val_loss: 1.4995 - val_accuracy: 0.6146\n",
            "Epoch 69/100\n",
            "1563/1563 [==============================] - 10s 6ms/step - loss: 1.4838 - accuracy: 0.6140 - val_loss: 1.4876 - val_accuracy: 0.6214\n",
            "Epoch 70/100\n",
            "1563/1563 [==============================] - 10s 6ms/step - loss: 1.4880 - accuracy: 0.6107 - val_loss: 1.5051 - val_accuracy: 0.6136\n",
            "Epoch 71/100\n",
            "1563/1563 [==============================] - 10s 6ms/step - loss: 1.4846 - accuracy: 0.6125 - val_loss: 1.5339 - val_accuracy: 0.6030\n",
            "Epoch 72/100\n",
            "1563/1563 [==============================] - 10s 6ms/step - loss: 1.4873 - accuracy: 0.6110 - val_loss: 1.5120 - val_accuracy: 0.6094\n",
            "Epoch 73/100\n",
            "1563/1563 [==============================] - 10s 6ms/step - loss: 1.4804 - accuracy: 0.6130 - val_loss: 1.5235 - val_accuracy: 0.5972\n",
            "Epoch 74/100\n",
            "1563/1563 [==============================] - 10s 6ms/step - loss: 1.4824 - accuracy: 0.6133 - val_loss: 1.4717 - val_accuracy: 0.6285\n",
            "Epoch 75/100\n",
            "1563/1563 [==============================] - 10s 6ms/step - loss: 1.4797 - accuracy: 0.6129 - val_loss: 1.5169 - val_accuracy: 0.5996\n",
            "Epoch 76/100\n",
            "1563/1563 [==============================] - 10s 6ms/step - loss: 1.4829 - accuracy: 0.6125 - val_loss: 1.4968 - val_accuracy: 0.6181\n",
            "Epoch 77/100\n",
            "1563/1563 [==============================] - 10s 6ms/step - loss: 1.4835 - accuracy: 0.6132 - val_loss: 1.4850 - val_accuracy: 0.6114\n",
            "Epoch 78/100\n",
            "1563/1563 [==============================] - 10s 6ms/step - loss: 1.4845 - accuracy: 0.6133 - val_loss: 1.4769 - val_accuracy: 0.6218\n",
            "Epoch 79/100\n",
            "1563/1563 [==============================] - 9s 6ms/step - loss: 1.4783 - accuracy: 0.6138 - val_loss: 1.5393 - val_accuracy: 0.5894\n",
            "Epoch 80/100\n",
            "1563/1563 [==============================] - 10s 6ms/step - loss: 1.4835 - accuracy: 0.6131 - val_loss: 1.4984 - val_accuracy: 0.6150\n",
            "Epoch 81/100\n",
            "1563/1563 [==============================] - 10s 6ms/step - loss: 1.4804 - accuracy: 0.6141 - val_loss: 1.4944 - val_accuracy: 0.6093\n",
            "Epoch 82/100\n",
            "1563/1563 [==============================] - 10s 6ms/step - loss: 1.4813 - accuracy: 0.6159 - val_loss: 1.4695 - val_accuracy: 0.6244\n",
            "Epoch 83/100\n",
            "1563/1563 [==============================] - 10s 6ms/step - loss: 1.4822 - accuracy: 0.6123 - val_loss: 1.4574 - val_accuracy: 0.6286\n",
            "Epoch 84/100\n",
            "1563/1563 [==============================] - 10s 6ms/step - loss: 1.4721 - accuracy: 0.6178 - val_loss: 1.4806 - val_accuracy: 0.6191\n",
            "Epoch 85/100\n",
            "1563/1563 [==============================] - 10s 6ms/step - loss: 1.4786 - accuracy: 0.6164 - val_loss: 1.4500 - val_accuracy: 0.6337\n",
            "Epoch 86/100\n",
            "1563/1563 [==============================] - 9s 6ms/step - loss: 1.4784 - accuracy: 0.6158 - val_loss: 1.5387 - val_accuracy: 0.5991\n",
            "Epoch 87/100\n",
            "1563/1563 [==============================] - 10s 6ms/step - loss: 1.4752 - accuracy: 0.6174 - val_loss: 1.5872 - val_accuracy: 0.5947\n",
            "Epoch 88/100\n",
            "1563/1563 [==============================] - 10s 6ms/step - loss: 1.4777 - accuracy: 0.6184 - val_loss: 1.4652 - val_accuracy: 0.6282\n",
            "Epoch 89/100\n",
            "1563/1563 [==============================] - 10s 6ms/step - loss: 1.4753 - accuracy: 0.6180 - val_loss: 1.4966 - val_accuracy: 0.6111\n",
            "Epoch 90/100\n",
            "1563/1563 [==============================] - 9s 6ms/step - loss: 1.4765 - accuracy: 0.6151 - val_loss: 1.5698 - val_accuracy: 0.5906\n",
            "Epoch 91/100\n",
            "1563/1563 [==============================] - 10s 6ms/step - loss: 1.4763 - accuracy: 0.6172 - val_loss: 1.4661 - val_accuracy: 0.6325\n",
            "Epoch 92/100\n",
            "1563/1563 [==============================] - 9s 6ms/step - loss: 1.4713 - accuracy: 0.6179 - val_loss: 1.4697 - val_accuracy: 0.6244\n",
            "Epoch 93/100\n",
            "1563/1563 [==============================] - 10s 6ms/step - loss: 1.4762 - accuracy: 0.6173 - val_loss: 1.4592 - val_accuracy: 0.6257\n",
            "Epoch 94/100\n",
            "1563/1563 [==============================] - 9s 6ms/step - loss: 1.4721 - accuracy: 0.6176 - val_loss: 1.4780 - val_accuracy: 0.6163\n",
            "Epoch 95/100\n",
            "1563/1563 [==============================] - 9s 6ms/step - loss: 1.4758 - accuracy: 0.6158 - val_loss: 1.5050 - val_accuracy: 0.6129\n",
            "Epoch 96/100\n",
            "1563/1563 [==============================] - 9s 6ms/step - loss: 1.4735 - accuracy: 0.6199 - val_loss: 1.5693 - val_accuracy: 0.5726\n",
            "Epoch 97/100\n",
            "1563/1563 [==============================] - 9s 6ms/step - loss: 1.4734 - accuracy: 0.6188 - val_loss: 1.4671 - val_accuracy: 0.6204\n",
            "Epoch 98/100\n",
            "1563/1563 [==============================] - 9s 6ms/step - loss: 1.4744 - accuracy: 0.6156 - val_loss: 1.6233 - val_accuracy: 0.5706\n",
            "Epoch 99/100\n",
            "1563/1563 [==============================] - 9s 6ms/step - loss: 1.4710 - accuracy: 0.6188 - val_loss: 1.4634 - val_accuracy: 0.6228\n",
            "Epoch 100/100\n",
            "1563/1563 [==============================] - 9s 6ms/step - loss: 1.4711 - accuracy: 0.6185 - val_loss: 1.4906 - val_accuracy: 0.6149\n"
          ],
          "name": "stdout"
        }
      ]
    },
    {
      "cell_type": "code",
      "metadata": {
        "id": "WFu3YYbTkmAb",
        "colab_type": "code",
        "outputId": "778acc65-489e-4fbd-eee2-6e2ebeeffb81",
        "colab": {
          "base_uri": "https://localhost:8080/",
          "height": 320
        }
      },
      "source": [
        "plt.figure(figsize=(10, 5))\n",
        "plt.subplot(121)\n",
        "plt.plot(history.history['accuracy'])\n",
        "plt.plot(history.history['val_accuracy'])\n",
        "plt.legend(['train', 'validation'])\n",
        "\n",
        "plt.subplot(122)\n",
        "plt.plot(history.history['loss'])\n",
        "plt.plot(history.history['val_loss'])\n",
        "plt.legend(['train', 'validation'])\n",
        "plt.show()"
      ],
      "execution_count": 0,
      "outputs": [
        {
          "output_type": "display_data",
          "data": {
            "image/png": "[encoded data removed]",
            "text/plain": [
              "<Figure size 720x360 with 2 Axes>"
            ]
          },
          "metadata": {
            "tags": []
          }
        }
      ]
    },
    {
      "cell_type": "markdown",
      "metadata": {
        "id": "l2Q53Hn4lXam",
        "colab_type": "text"
      },
      "source": [
        "### LayerNormalization & L2 Regularization"
      ]
    },
    {
      "cell_type": "markdown",
      "metadata": {
        "id": "S21ycQIBkX6s",
        "colab_type": "text"
      },
      "source": [
        "### Model 2"
      ]
    },
    {
      "cell_type": "code",
      "metadata": {
        "colab_type": "code",
        "id": "yXCjS4jKlmLG",
        "colab": {}
      },
      "source": [
        "class MyModel(tf.keras.Model):\n",
        "    def __init__(self):\n",
        "        super(MyModel, self).__init__()\n",
        "        self.conv1_1 = ConvLNReluBlock(16, (3, 3))\n",
        "        self.conv1_2 = ConvLNReluBlock(16, (3, 3))\n",
        "        self.pool1 = tf.keras.layers.MaxPool2D((2, 2))\n",
        "\n",
        "        self.conv2_1 = ConvLNReluBlock(32, (3, 3))\n",
        "        self.conv2_2 = ConvLNReluBlock(32, (3, 3))\n",
        "        self.pool2 = tf.keras.layers.MaxPool2D((2, 2))\n",
        "\n",
        "        self.conv3_1 = ConvLNReluBlock(64, (3, 3))\n",
        "        self.conv3_2 = ConvLNReluBlock(64, (3, 3))\n",
        "\n",
        "        self.flatten = tf.keras.layers.Flatten()\n",
        "        self.dense1 = dense(1024, activation='relu')\n",
        "        self.dense2 = dense(10, activation='softmax')\n",
        "\n",
        "    def call(self, x, training=False, mask=None):\n",
        "        x = self.conv1_1(x)\n",
        "        x = self.conv1_2(x)\n",
        "        x = self.pool1(x)\n",
        "\n",
        "        x = self.conv2_1(x)\n",
        "        x = self.conv2_2(x)\n",
        "        x = self.pool2(x)\n",
        "        \n",
        "        x = self.conv3_1(x)\n",
        "        x = self.conv3_2(x)\n",
        "        \n",
        "        x = self.flatten(x)\n",
        "        x = self.dense1(x)\n",
        "        return self.dense2(x)"
      ],
      "execution_count": 0,
      "outputs": []
    },
    {
      "cell_type": "markdown",
      "metadata": {
        "id": "heCqL60ClvK-",
        "colab_type": "text"
      },
      "source": [
        "### Training"
      ]
    },
    {
      "cell_type": "code",
      "metadata": {
        "colab_type": "code",
        "id": "Vqb00-Pdl2kM",
        "colab": {}
      },
      "source": [
        "model = MyModel()\n",
        "\n",
        "loss_object = tf.keras.losses.SparseCategoricalCrossentropy()\n",
        "optimizer = tf.keras.optimizers.Adam()\n",
        "metrics = ['accuracy']\n",
        "\n",
        "model.compile(optimizer=optimizer, loss=loss_object, metrics=metrics, )"
      ],
      "execution_count": 0,
      "outputs": []
    },
    {
      "cell_type": "code",
      "metadata": {
        "colab_type": "code",
        "outputId": "70c3c047-feea-49f7-e1d9-47fac45a5c05",
        "id": "z-vWuk3gl1h7",
        "colab": {
          "base_uri": "https://localhost:8080/",
          "height": 1000
        }
      },
      "source": [
        "history = model.fit(\n",
        "      train_ds,\n",
        "      epochs=EPOCHS,\n",
        "      validation_data=test_ds,\n",
        ")"
      ],
      "execution_count": 0,
      "outputs": [
        {
          "output_type": "stream",
          "text": [
            "Train for 1563 steps, validate for 313 steps\n",
            "Epoch 1/100\n",
            "1563/1563 [==============================] - 26s 17ms/step - loss: 2.1718 - accuracy: 0.4186 - val_loss: 1.3546 - val_accuracy: 0.5584\n",
            "Epoch 2/100\n",
            "1563/1563 [==============================] - 19s 12ms/step - loss: 1.2645 - accuracy: 0.5977 - val_loss: 1.2019 - val_accuracy: 0.6335\n",
            "Epoch 3/100\n",
            "1563/1563 [==============================] - 19s 12ms/step - loss: 1.0812 - accuracy: 0.6641 - val_loss: 1.0409 - val_accuracy: 0.6836\n",
            "Epoch 4/100\n",
            "1563/1563 [==============================] - 19s 12ms/step - loss: 0.9856 - accuracy: 0.6978 - val_loss: 1.0000 - val_accuracy: 0.6931\n",
            "Epoch 5/100\n",
            "1563/1563 [==============================] - 19s 12ms/step - loss: 0.9206 - accuracy: 0.7199 - val_loss: 0.9327 - val_accuracy: 0.7179\n",
            "Epoch 6/100\n",
            "1563/1563 [==============================] - 19s 12ms/step - loss: 0.8679 - accuracy: 0.7367 - val_loss: 0.9038 - val_accuracy: 0.7284\n",
            "Epoch 7/100\n",
            "1563/1563 [==============================] - 19s 12ms/step - loss: 0.8210 - accuracy: 0.7533 - val_loss: 0.8549 - val_accuracy: 0.7476\n",
            "Epoch 8/100\n",
            "1563/1563 [==============================] - 19s 12ms/step - loss: 0.7893 - accuracy: 0.7663 - val_loss: 0.8302 - val_accuracy: 0.7536\n",
            "Epoch 9/100\n",
            "1563/1563 [==============================] - 19s 12ms/step - loss: 0.7551 - accuracy: 0.7776 - val_loss: 0.8137 - val_accuracy: 0.7552\n",
            "Epoch 10/100\n",
            "1563/1563 [==============================] - 19s 12ms/step - loss: 0.7239 - accuracy: 0.7875 - val_loss: 0.8622 - val_accuracy: 0.7477\n",
            "Epoch 11/100\n",
            "1563/1563 [==============================] - 19s 12ms/step - loss: 0.6992 - accuracy: 0.7959 - val_loss: 0.7971 - val_accuracy: 0.7631\n",
            "Epoch 12/100\n",
            "1563/1563 [==============================] - 19s 12ms/step - loss: 0.6778 - accuracy: 0.8037 - val_loss: 0.7913 - val_accuracy: 0.7661\n",
            "Epoch 13/100\n",
            "1563/1563 [==============================] - 19s 12ms/step - loss: 0.6575 - accuracy: 0.8120 - val_loss: 0.7923 - val_accuracy: 0.7677\n",
            "Epoch 14/100\n",
            "1563/1563 [==============================] - 19s 12ms/step - loss: 0.6387 - accuracy: 0.8158 - val_loss: 0.7796 - val_accuracy: 0.7741\n",
            "Epoch 15/100\n",
            "1563/1563 [==============================] - 19s 12ms/step - loss: 0.6223 - accuracy: 0.8230 - val_loss: 0.8350 - val_accuracy: 0.7617\n",
            "Epoch 16/100\n",
            "1563/1563 [==============================] - 19s 12ms/step - loss: 0.5994 - accuracy: 0.8321 - val_loss: 0.7491 - val_accuracy: 0.7823\n",
            "Epoch 17/100\n",
            "1563/1563 [==============================] - 19s 12ms/step - loss: 0.5876 - accuracy: 0.8358 - val_loss: 0.7769 - val_accuracy: 0.7806\n",
            "Epoch 18/100\n",
            "1563/1563 [==============================] - 19s 12ms/step - loss: 0.5700 - accuracy: 0.8423 - val_loss: 0.7584 - val_accuracy: 0.7866\n",
            "Epoch 19/100\n",
            "1563/1563 [==============================] - 19s 12ms/step - loss: 0.5531 - accuracy: 0.8486 - val_loss: 0.8009 - val_accuracy: 0.7775\n",
            "Epoch 20/100\n",
            "1563/1563 [==============================] - 19s 12ms/step - loss: 0.5417 - accuracy: 0.8514 - val_loss: 0.7802 - val_accuracy: 0.7787\n",
            "Epoch 21/100\n",
            "1563/1563 [==============================] - 19s 12ms/step - loss: 0.5276 - accuracy: 0.8588 - val_loss: 0.7803 - val_accuracy: 0.7857\n",
            "Epoch 22/100\n",
            "1563/1563 [==============================] - 19s 12ms/step - loss: 0.5129 - accuracy: 0.8627 - val_loss: 0.7861 - val_accuracy: 0.7821\n",
            "Epoch 23/100\n",
            "1563/1563 [==============================] - 19s 12ms/step - loss: 0.5022 - accuracy: 0.8658 - val_loss: 0.7658 - val_accuracy: 0.7838\n",
            "Epoch 24/100\n",
            "1563/1563 [==============================] - 19s 12ms/step - loss: 0.4873 - accuracy: 0.8722 - val_loss: 0.7702 - val_accuracy: 0.7894\n",
            "Epoch 25/100\n",
            "1563/1563 [==============================] - 19s 12ms/step - loss: 0.4783 - accuracy: 0.8756 - val_loss: 0.7707 - val_accuracy: 0.7880\n",
            "Epoch 26/100\n",
            "1563/1563 [==============================] - 19s 12ms/step - loss: 0.4651 - accuracy: 0.8810 - val_loss: 0.7948 - val_accuracy: 0.7824\n",
            "Epoch 27/100\n",
            "1563/1563 [==============================] - 19s 12ms/step - loss: 0.4532 - accuracy: 0.8853 - val_loss: 0.8023 - val_accuracy: 0.7807\n",
            "Epoch 28/100\n",
            "1563/1563 [==============================] - 19s 12ms/step - loss: 0.4487 - accuracy: 0.8870 - val_loss: 0.7797 - val_accuracy: 0.7892\n",
            "Epoch 29/100\n",
            "1563/1563 [==============================] - 19s 12ms/step - loss: 0.4346 - accuracy: 0.8908 - val_loss: 0.8444 - val_accuracy: 0.7767\n",
            "Epoch 30/100\n",
            "1563/1563 [==============================] - 19s 12ms/step - loss: 0.4267 - accuracy: 0.8947 - val_loss: 0.8600 - val_accuracy: 0.7728\n",
            "Epoch 31/100\n",
            "1563/1563 [==============================] - 19s 12ms/step - loss: 0.4174 - accuracy: 0.8982 - val_loss: 0.8109 - val_accuracy: 0.7848\n",
            "Epoch 32/100\n",
            "1563/1563 [==============================] - 19s 12ms/step - loss: 0.4065 - accuracy: 0.9019 - val_loss: 0.8108 - val_accuracy: 0.7835\n",
            "Epoch 33/100\n",
            "1563/1563 [==============================] - 19s 12ms/step - loss: 0.4029 - accuracy: 0.9028 - val_loss: 0.8130 - val_accuracy: 0.7835\n",
            "Epoch 34/100\n",
            "1563/1563 [==============================] - 19s 12ms/step - loss: 0.3922 - accuracy: 0.9062 - val_loss: 0.8649 - val_accuracy: 0.7775\n",
            "Epoch 35/100\n",
            "1563/1563 [==============================] - 19s 12ms/step - loss: 0.3869 - accuracy: 0.9087 - val_loss: 0.8140 - val_accuracy: 0.7876\n",
            "Epoch 36/100\n",
            "1563/1563 [==============================] - 19s 12ms/step - loss: 0.3754 - accuracy: 0.9137 - val_loss: 0.8448 - val_accuracy: 0.7890\n",
            "Epoch 37/100\n",
            "1563/1563 [==============================] - 19s 12ms/step - loss: 0.3692 - accuracy: 0.9152 - val_loss: 0.8430 - val_accuracy: 0.7819\n",
            "Epoch 38/100\n",
            "1563/1563 [==============================] - 19s 12ms/step - loss: 0.3629 - accuracy: 0.9177 - val_loss: 0.9007 - val_accuracy: 0.7737\n",
            "Epoch 39/100\n",
            "1563/1563 [==============================] - 19s 12ms/step - loss: 0.3579 - accuracy: 0.9184 - val_loss: 0.8655 - val_accuracy: 0.7773\n",
            "Epoch 40/100\n",
            "1563/1563 [==============================] - 19s 12ms/step - loss: 0.3501 - accuracy: 0.9216 - val_loss: 0.8686 - val_accuracy: 0.7805\n",
            "Epoch 41/100\n",
            "1563/1563 [==============================] - 19s 12ms/step - loss: 0.3456 - accuracy: 0.9229 - val_loss: 0.8616 - val_accuracy: 0.7803\n",
            "Epoch 42/100\n",
            "1563/1563 [==============================] - 19s 12ms/step - loss: 0.3343 - accuracy: 0.9292 - val_loss: 0.8677 - val_accuracy: 0.7833\n",
            "Epoch 43/100\n",
            "1563/1563 [==============================] - 19s 12ms/step - loss: 0.3347 - accuracy: 0.9265 - val_loss: 0.9063 - val_accuracy: 0.7795\n",
            "Epoch 44/100\n",
            "1563/1563 [==============================] - 19s 12ms/step - loss: 0.3272 - accuracy: 0.9302 - val_loss: 0.9104 - val_accuracy: 0.7761\n",
            "Epoch 45/100\n",
            "1563/1563 [==============================] - 19s 12ms/step - loss: 0.3205 - accuracy: 0.9329 - val_loss: 0.9589 - val_accuracy: 0.7789\n",
            "Epoch 46/100\n",
            "1563/1563 [==============================] - 19s 12ms/step - loss: 0.3179 - accuracy: 0.9333 - val_loss: 0.9281 - val_accuracy: 0.7795\n",
            "Epoch 47/100\n",
            "1563/1563 [==============================] - 19s 12ms/step - loss: 0.3121 - accuracy: 0.9367 - val_loss: 0.9321 - val_accuracy: 0.7755\n",
            "Epoch 48/100\n",
            "1563/1563 [==============================] - 19s 12ms/step - loss: 0.3049 - accuracy: 0.9370 - val_loss: 0.9661 - val_accuracy: 0.7764\n",
            "Epoch 49/100\n",
            "1563/1563 [==============================] - 19s 12ms/step - loss: 0.3002 - accuracy: 0.9400 - val_loss: 0.9271 - val_accuracy: 0.7789\n",
            "Epoch 50/100\n",
            "1563/1563 [==============================] - 19s 12ms/step - loss: 0.2939 - accuracy: 0.9421 - val_loss: 0.9287 - val_accuracy: 0.7874\n",
            "Epoch 51/100\n",
            "1563/1563 [==============================] - 19s 12ms/step - loss: 0.2918 - accuracy: 0.9418 - val_loss: 0.9797 - val_accuracy: 0.7755\n",
            "Epoch 52/100\n",
            "1563/1563 [==============================] - 19s 12ms/step - loss: 0.2882 - accuracy: 0.9438 - val_loss: 0.9510 - val_accuracy: 0.7813\n",
            "Epoch 53/100\n",
            "1563/1563 [==============================] - 19s 12ms/step - loss: 0.2805 - accuracy: 0.9459 - val_loss: 1.0079 - val_accuracy: 0.7698\n",
            "Epoch 54/100\n",
            "1563/1563 [==============================] - 19s 12ms/step - loss: 0.2815 - accuracy: 0.9453 - val_loss: 0.9663 - val_accuracy: 0.7702\n",
            "Epoch 55/100\n",
            "1563/1563 [==============================] - 19s 12ms/step - loss: 0.2717 - accuracy: 0.9492 - val_loss: 1.0233 - val_accuracy: 0.7764\n",
            "Epoch 56/100\n",
            "1563/1563 [==============================] - 19s 12ms/step - loss: 0.2704 - accuracy: 0.9495 - val_loss: 0.9907 - val_accuracy: 0.7741\n",
            "Epoch 57/100\n",
            "1563/1563 [==============================] - 19s 12ms/step - loss: 0.2719 - accuracy: 0.9488 - val_loss: 0.9675 - val_accuracy: 0.7779\n",
            "Epoch 58/100\n",
            "1563/1563 [==============================] - 19s 12ms/step - loss: 0.2655 - accuracy: 0.9503 - val_loss: 0.9375 - val_accuracy: 0.7755\n",
            "Epoch 59/100\n",
            "1563/1563 [==============================] - 19s 12ms/step - loss: 0.2621 - accuracy: 0.9517 - val_loss: 0.9771 - val_accuracy: 0.7798\n",
            "Epoch 60/100\n",
            "1563/1563 [==============================] - 19s 12ms/step - loss: 0.2571 - accuracy: 0.9540 - val_loss: 1.0023 - val_accuracy: 0.7782\n",
            "Epoch 61/100\n",
            "1563/1563 [==============================] - 19s 12ms/step - loss: 0.2507 - accuracy: 0.9553 - val_loss: 0.9895 - val_accuracy: 0.7793\n",
            "Epoch 62/100\n",
            "1563/1563 [==============================] - 19s 12ms/step - loss: 0.2518 - accuracy: 0.9552 - val_loss: 1.0513 - val_accuracy: 0.7667\n",
            "Epoch 63/100\n",
            "1563/1563 [==============================] - 19s 12ms/step - loss: 0.2578 - accuracy: 0.9525 - val_loss: 0.9957 - val_accuracy: 0.7715\n",
            "Epoch 64/100\n",
            "1563/1563 [==============================] - 19s 12ms/step - loss: 0.2478 - accuracy: 0.9561 - val_loss: 1.0271 - val_accuracy: 0.7754\n",
            "Epoch 65/100\n",
            "1563/1563 [==============================] - 19s 12ms/step - loss: 0.2454 - accuracy: 0.9568 - val_loss: 1.0161 - val_accuracy: 0.7709\n",
            "Epoch 66/100\n",
            "1563/1563 [==============================] - 19s 12ms/step - loss: 0.2451 - accuracy: 0.9574 - val_loss: 1.0237 - val_accuracy: 0.7773\n",
            "Epoch 67/100\n",
            "1563/1563 [==============================] - 19s 12ms/step - loss: 0.2380 - accuracy: 0.9599 - val_loss: 1.0258 - val_accuracy: 0.7773\n",
            "Epoch 68/100\n",
            "1563/1563 [==============================] - 19s 12ms/step - loss: 0.2311 - accuracy: 0.9626 - val_loss: 1.0831 - val_accuracy: 0.7647\n",
            "Epoch 69/100\n",
            "1563/1563 [==============================] - 19s 12ms/step - loss: 0.2396 - accuracy: 0.9594 - val_loss: 1.0191 - val_accuracy: 0.7758\n",
            "Epoch 70/100\n",
            "1563/1563 [==============================] - 19s 12ms/step - loss: 0.2328 - accuracy: 0.9610 - val_loss: 1.0096 - val_accuracy: 0.7788\n",
            "Epoch 71/100\n",
            "1563/1563 [==============================] - 19s 12ms/step - loss: 0.2361 - accuracy: 0.9604 - val_loss: 1.0630 - val_accuracy: 0.7727\n",
            "Epoch 72/100\n",
            "1563/1563 [==============================] - 19s 12ms/step - loss: 0.2279 - accuracy: 0.9623 - val_loss: 1.0133 - val_accuracy: 0.7788\n",
            "Epoch 73/100\n",
            "1563/1563 [==============================] - 19s 12ms/step - loss: 0.2291 - accuracy: 0.9618 - val_loss: 1.0449 - val_accuracy: 0.7733\n",
            "Epoch 74/100\n",
            "1563/1563 [==============================] - 19s 12ms/step - loss: 0.2245 - accuracy: 0.9640 - val_loss: 1.1414 - val_accuracy: 0.7595\n",
            "Epoch 75/100\n",
            "1563/1563 [==============================] - 19s 12ms/step - loss: 0.2219 - accuracy: 0.9637 - val_loss: 1.1035 - val_accuracy: 0.7731\n",
            "Epoch 76/100\n",
            "1563/1563 [==============================] - 19s 12ms/step - loss: 0.2231 - accuracy: 0.9630 - val_loss: 1.0802 - val_accuracy: 0.7772\n",
            "Epoch 77/100\n",
            "1563/1563 [==============================] - 19s 12ms/step - loss: 0.2238 - accuracy: 0.9631 - val_loss: 1.0591 - val_accuracy: 0.7802\n",
            "Epoch 78/100\n",
            "1563/1563 [==============================] - 19s 12ms/step - loss: 0.2150 - accuracy: 0.9649 - val_loss: 1.0575 - val_accuracy: 0.7785\n",
            "Epoch 79/100\n",
            "1563/1563 [==============================] - 19s 12ms/step - loss: 0.2169 - accuracy: 0.9650 - val_loss: 1.1121 - val_accuracy: 0.7598\n",
            "Epoch 80/100\n",
            "1563/1563 [==============================] - 19s 12ms/step - loss: 0.2130 - accuracy: 0.9673 - val_loss: 1.0533 - val_accuracy: 0.7748\n",
            "Epoch 81/100\n",
            "1563/1563 [==============================] - 19s 12ms/step - loss: 0.2171 - accuracy: 0.9649 - val_loss: 1.0665 - val_accuracy: 0.7755\n",
            "Epoch 82/100\n",
            "1563/1563 [==============================] - 19s 12ms/step - loss: 0.2111 - accuracy: 0.9670 - val_loss: 1.0651 - val_accuracy: 0.7770\n",
            "Epoch 83/100\n",
            "1563/1563 [==============================] - 19s 12ms/step - loss: 0.2179 - accuracy: 0.9642 - val_loss: 1.0788 - val_accuracy: 0.7754\n",
            "Epoch 84/100\n",
            "1563/1563 [==============================] - 19s 12ms/step - loss: 0.2083 - accuracy: 0.9685 - val_loss: 1.1299 - val_accuracy: 0.7709\n",
            "Epoch 85/100\n",
            "1563/1563 [==============================] - 19s 12ms/step - loss: 0.2048 - accuracy: 0.9682 - val_loss: 1.0942 - val_accuracy: 0.7763\n",
            "Epoch 86/100\n",
            "1563/1563 [==============================] - 19s 12ms/step - loss: 0.2094 - accuracy: 0.9672 - val_loss: 1.1538 - val_accuracy: 0.7705\n",
            "Epoch 87/100\n",
            "1563/1563 [==============================] - 19s 12ms/step - loss: 0.2028 - accuracy: 0.9687 - val_loss: 1.0761 - val_accuracy: 0.7758\n",
            "Epoch 88/100\n",
            "1563/1563 [==============================] - 19s 12ms/step - loss: 0.2029 - accuracy: 0.9693 - val_loss: 1.0655 - val_accuracy: 0.7732\n",
            "Epoch 89/100\n",
            "1563/1563 [==============================] - 19s 12ms/step - loss: 0.1991 - accuracy: 0.9714 - val_loss: 1.0763 - val_accuracy: 0.7739\n",
            "Epoch 90/100\n",
            "1563/1563 [==============================] - 19s 12ms/step - loss: 0.2030 - accuracy: 0.9688 - val_loss: 1.1340 - val_accuracy: 0.7733\n",
            "Epoch 91/100\n",
            "1563/1563 [==============================] - 19s 12ms/step - loss: 0.1958 - accuracy: 0.9711 - val_loss: 1.1213 - val_accuracy: 0.7764\n",
            "Epoch 92/100\n",
            "1563/1563 [==============================] - 19s 12ms/step - loss: 0.1966 - accuracy: 0.9704 - val_loss: 1.1559 - val_accuracy: 0.7734\n",
            "Epoch 93/100\n",
            "1563/1563 [==============================] - 19s 12ms/step - loss: 0.1934 - accuracy: 0.9721 - val_loss: 1.1285 - val_accuracy: 0.7651\n",
            "Epoch 94/100\n",
            "1563/1563 [==============================] - 19s 12ms/step - loss: 0.1937 - accuracy: 0.9717 - val_loss: 1.1783 - val_accuracy: 0.7635\n",
            "Epoch 95/100\n",
            "1563/1563 [==============================] - 19s 12ms/step - loss: 0.1953 - accuracy: 0.9705 - val_loss: 1.1139 - val_accuracy: 0.7748\n",
            "Epoch 96/100\n",
            "1563/1563 [==============================] - 19s 12ms/step - loss: 0.1906 - accuracy: 0.9727 - val_loss: 1.1148 - val_accuracy: 0.7794\n",
            "Epoch 97/100\n",
            "1563/1563 [==============================] - 19s 12ms/step - loss: 0.1936 - accuracy: 0.9709 - val_loss: 1.0777 - val_accuracy: 0.7749\n",
            "Epoch 98/100\n",
            "1563/1563 [==============================] - 19s 12ms/step - loss: 0.1923 - accuracy: 0.9717 - val_loss: 1.0814 - val_accuracy: 0.7750\n",
            "Epoch 99/100\n",
            "1563/1563 [==============================] - 19s 12ms/step - loss: 0.1917 - accuracy: 0.9715 - val_loss: 1.0987 - val_accuracy: 0.7747\n",
            "Epoch 100/100\n",
            "1563/1563 [==============================] - 19s 12ms/step - loss: 0.1879 - accuracy: 0.9732 - val_loss: 1.1381 - val_accuracy: 0.7705\n"
          ],
          "name": "stdout"
        }
      ]
    },
    {
      "cell_type": "code",
      "metadata": {
        "colab_type": "code",
        "outputId": "75756ea8-cdb1-4cdf-f095-880cfb9ca8c6",
        "id": "AfaI0Erll1h9",
        "colab": {
          "base_uri": "https://localhost:8080/",
          "height": 323
        }
      },
      "source": [
        "plt.figure(figsize=(10, 5))\n",
        "plt.subplot(121)\n",
        "plt.plot(history.history['accuracy'])\n",
        "plt.plot(history.history['val_accuracy'])\n",
        "plt.legend(['train', 'validation'])\n",
        "\n",
        "plt.subplot(122)\n",
        "plt.plot(history.history['loss'])\n",
        "plt.plot(history.history['val_loss'])\n",
        "plt.legend(['train', 'validation'])\n",
        "plt.show()"
      ],
      "execution_count": 0,
      "outputs": [
        {
          "output_type": "display_data",
          "data": {
            "image/png": "[encoded data removed]",
            "text/plain": [
              "<Figure size 720x360 with 2 Axes>"
            ]
          },
          "metadata": {
            "tags": []
          }
        }
      ]
    }
  ]
}
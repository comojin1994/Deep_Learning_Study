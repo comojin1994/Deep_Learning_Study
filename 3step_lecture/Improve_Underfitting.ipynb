{
  "nbformat": 4,
  "nbformat_minor": 0,
  "metadata": {
    "colab": {
      "name": "Improve_Underfitting.ipynb",
      "provenance": [],
      "authorship_tag": "ABX9TyMvcnQiEQQkPoB+rbdmV/aO",
      "include_colab_link": true
    },
    "kernelspec": {
      "name": "python3",
      "display_name": "Python 3"
    },
    "accelerator": "GPU"
  },
  "cells": [
    {
      "cell_type": "markdown",
      "metadata": {
        "id": "view-in-github",
        "colab_type": "text"
      },
      "source": [
        "<a href=\"https://colab.research.google.com/github/comojin1994/Deep_Learning_Study/blob/master/3step_lecture/Improve_Underfitting.ipynb\" target=\"_parent\"><img src=\"https://colab.research.google.com/assets/colab-badge.svg\" alt=\"Open In Colab\"/></a>"
      ]
    },
    {
      "cell_type": "code",
      "metadata": {
        "id": "Jw0zQUsUnaOd",
        "colab_type": "code",
        "outputId": "5525e49f-d7d5-48de-9703-d4c4179d420e",
        "colab": {
          "base_uri": "https://localhost:8080/",
          "height": 52
        }
      },
      "source": [
        "%tensorflow_version 2.x\n",
        "import tensorflow as tf\n",
        "import numpy as np\n",
        "import matplotlib.pyplot as plt\n",
        "%matplotlib inline\n",
        "tf.__version__"
      ],
      "execution_count": 0,
      "outputs": [
        {
          "output_type": "stream",
          "text": [
            "TensorFlow 2.x selected.\n"
          ],
          "name": "stdout"
        },
        {
          "output_type": "execute_result",
          "data": {
            "text/plain": [
              "'2.1.0'"
            ]
          },
          "metadata": {
            "tags": []
          },
          "execution_count": 1
        }
      ]
    },
    {
      "cell_type": "markdown",
      "metadata": {
        "id": "InqgnAmQnxaE",
        "colab_type": "text"
      },
      "source": [
        "### Hyperparameter"
      ]
    },
    {
      "cell_type": "code",
      "metadata": {
        "id": "H5qA7CKOn4Gg",
        "colab_type": "code",
        "colab": {}
      },
      "source": [
        "EPOCHS = 100"
      ],
      "execution_count": 0,
      "outputs": []
    },
    {
      "cell_type": "markdown",
      "metadata": {
        "id": "KWLSi8fEn6eW",
        "colab_type": "text"
      },
      "source": [
        "### Model"
      ]
    },
    {
      "cell_type": "code",
      "metadata": {
        "id": "1n8DwHxyn8Ba",
        "colab_type": "code",
        "colab": {}
      },
      "source": [
        "class MyModel(tf.keras.Model):\n",
        "    def __init__(self):\n",
        "        super(MyModel, self).__init__()\n",
        "        self.flatten = tf.keras.layers.Flatten()\n",
        "        self.dense1 = tf.keras.layers.Dense(32, use_bias=False)\n",
        "        self.bn1 = tf.keras.layers.BatchNormalization()\n",
        "\n",
        "        self.bn2 = tf.keras.layers.BatchNormalization()\n",
        "        self.dense2 = tf.keras.layers.Dense(32, use_bias=False)\n",
        "        \n",
        "        self.bn3 = tf.keras.layers.BatchNormalization()\n",
        "        self.dense3 = tf.keras.layers.Dense(64, use_bias=False)\n",
        "        \n",
        "        self.bn4 = tf.keras.layers.BatchNormalization()\n",
        "        self.dense4 = tf.keras.layers.Dense(128, use_bias=False)\n",
        "        \n",
        "        self.dense5 = tf.keras.layers.Dense(10, activation='softmax')\n",
        "\n",
        "    def call(self, x, training=False, mask=None):\n",
        "        x = self.flatten(x)\n",
        "        \n",
        "        x = self.dense1(x)\n",
        "        x = self.bn1(x, training)\n",
        "        x = tf.nn.relu(x)\n",
        "\n",
        "        h = self.bn2(x, training)\n",
        "        h = tf.nn.relu(h)\n",
        "        h = self.dense2(h)\n",
        "        x = tf.concat([x, h], axis=-1)\n",
        "\n",
        "        h = self.bn3(x, training)\n",
        "        h = tf.nn.relu(h)\n",
        "        h = self.dense3(h)\n",
        "        x = tf.concat([x, h], axis=-1)\n",
        "\n",
        "        h = self.bn4(x, training)\n",
        "        h = tf.nn.relu(h)\n",
        "        h = self.dense4(h)\n",
        "        x = tf.concat([x, h], axis=-1)\n",
        "\n",
        "        return self.dense5(x)"
      ],
      "execution_count": 0,
      "outputs": []
    },
    {
      "cell_type": "markdown",
      "metadata": {
        "id": "EfC6Gi-1oadC",
        "colab_type": "text"
      },
      "source": [
        "### Load Data"
      ]
    },
    {
      "cell_type": "code",
      "metadata": {
        "id": "BbYxg4XLocry",
        "colab_type": "code",
        "outputId": "d5773936-1ce2-4c8c-9b60-4b27f2bd4ddd",
        "colab": {
          "base_uri": "https://localhost:8080/",
          "height": 158
        }
      },
      "source": [
        "fashion_mnist = tf.keras.datasets.fashion_mnist\n",
        "\n",
        "(x_train, y_train), (x_test, y_test) = fashion_mnist.load_data()\n",
        "x_train, x_test = x_train / 255., x_test / 255.\n",
        "x_train = x_train.astype(np.float32)\n",
        "x_test = x_test.astype(np.float32)\n",
        "\n",
        "# prefetch: 미리 데이터를 불러놓고 학습\n",
        "train_ds = tf.data.Dataset.from_tensor_slices((x_train, y_train)).shuffle(10000).batch(32).prefetch(2048)\n",
        "test_ds = tf.data.Dataset.from_tensor_slices((x_test, y_test)).batch(32).prefetch(2048)"
      ],
      "execution_count": 0,
      "outputs": [
        {
          "output_type": "stream",
          "text": [
            "Downloading data from https://storage.googleapis.com/tensorflow/tf-keras-datasets/train-labels-idx1-ubyte.gz\n",
            "32768/29515 [=================================] - 0s 0us/step\n",
            "Downloading data from https://storage.googleapis.com/tensorflow/tf-keras-datasets/train-images-idx3-ubyte.gz\n",
            "26427392/26421880 [==============================] - 1s 0us/step\n",
            "Downloading data from https://storage.googleapis.com/tensorflow/tf-keras-datasets/t10k-labels-idx1-ubyte.gz\n",
            "8192/5148 [===============================================] - 0s 0us/step\n",
            "Downloading data from https://storage.googleapis.com/tensorflow/tf-keras-datasets/t10k-images-idx3-ubyte.gz\n",
            "4423680/4422102 [==============================] - 0s 0us/step\n"
          ],
          "name": "stdout"
        }
      ]
    },
    {
      "cell_type": "code",
      "metadata": {
        "id": "1bwcac-vo9xi",
        "colab_type": "code",
        "colab": {}
      },
      "source": [
        "model = MyModel()\n",
        "\n",
        "loss_object = tf.keras.losses.SparseCategoricalCrossentropy()\n",
        "optimizer = tf.keras.optimizers.Adam()\n",
        "metrics = ['accuracy']\n",
        "model.compile(optimizer=optimizer, loss=loss_object, metrics=metrics)"
      ],
      "execution_count": 0,
      "outputs": []
    },
    {
      "cell_type": "markdown",
      "metadata": {
        "id": "yLRwPEC6o5oG",
        "colab_type": "text"
      },
      "source": [
        "### Training(Baseline)"
      ]
    },
    {
      "cell_type": "code",
      "metadata": {
        "id": "SILsF4LSpLkD",
        "colab_type": "code",
        "outputId": "ba587d0c-925f-44f3-f6f8-37f425e9c8a4",
        "colab": {
          "base_uri": "https://localhost:8080/",
          "height": 1000
        }
      },
      "source": [
        "history = model.fit(train_ds,\n",
        "                    epochs=EPOCHS,\n",
        "                    validation_data=test_ds)"
      ],
      "execution_count": 0,
      "outputs": [
        {
          "output_type": "stream",
          "text": [
            "Train for 1875 steps, validate for 313 steps\n",
            "Epoch 1/100\n",
            "1875/1875 [==============================] - 8s 4ms/step - loss: 0.5240 - accuracy: 0.8096 - val_loss: 0.4301 - val_accuracy: 0.8425\n",
            "Epoch 2/100\n",
            "1875/1875 [==============================] - 6s 3ms/step - loss: 0.3906 - accuracy: 0.8554 - val_loss: 0.4351 - val_accuracy: 0.8409\n",
            "Epoch 3/100\n",
            "1875/1875 [==============================] - 6s 3ms/step - loss: 0.3554 - accuracy: 0.8689 - val_loss: 0.3785 - val_accuracy: 0.8647\n",
            "Epoch 4/100\n",
            "1875/1875 [==============================] - 6s 3ms/step - loss: 0.3354 - accuracy: 0.8774 - val_loss: 0.3572 - val_accuracy: 0.8724\n",
            "Epoch 5/100\n",
            "1875/1875 [==============================] - 6s 3ms/step - loss: 0.3193 - accuracy: 0.8830 - val_loss: 0.3832 - val_accuracy: 0.8588\n",
            "Epoch 6/100\n",
            "1875/1875 [==============================] - 6s 3ms/step - loss: 0.3051 - accuracy: 0.8875 - val_loss: 0.3592 - val_accuracy: 0.8712\n",
            "Epoch 7/100\n",
            "1875/1875 [==============================] - 6s 3ms/step - loss: 0.2949 - accuracy: 0.8895 - val_loss: 0.3558 - val_accuracy: 0.8712\n",
            "Epoch 8/100\n",
            "1875/1875 [==============================] - 6s 3ms/step - loss: 0.2835 - accuracy: 0.8948 - val_loss: 0.3525 - val_accuracy: 0.8776\n",
            "Epoch 9/100\n",
            "1875/1875 [==============================] - 6s 3ms/step - loss: 0.2745 - accuracy: 0.8971 - val_loss: 0.3401 - val_accuracy: 0.8797\n",
            "Epoch 10/100\n",
            "1875/1875 [==============================] - 6s 3ms/step - loss: 0.2695 - accuracy: 0.8997 - val_loss: 0.4084 - val_accuracy: 0.8551\n",
            "Epoch 11/100\n",
            "1875/1875 [==============================] - 6s 3ms/step - loss: 0.2610 - accuracy: 0.9011 - val_loss: 0.3647 - val_accuracy: 0.8758\n",
            "Epoch 12/100\n",
            "1875/1875 [==============================] - 6s 3ms/step - loss: 0.2551 - accuracy: 0.9046 - val_loss: 0.3603 - val_accuracy: 0.8793\n",
            "Epoch 13/100\n",
            "1875/1875 [==============================] - 6s 3ms/step - loss: 0.2477 - accuracy: 0.9060 - val_loss: 0.3550 - val_accuracy: 0.8823\n",
            "Epoch 14/100\n",
            "1875/1875 [==============================] - 6s 3ms/step - loss: 0.2444 - accuracy: 0.9086 - val_loss: 0.3576 - val_accuracy: 0.8796\n",
            "Epoch 15/100\n",
            "1875/1875 [==============================] - 6s 3ms/step - loss: 0.2400 - accuracy: 0.9086 - val_loss: 0.3462 - val_accuracy: 0.8822\n",
            "Epoch 16/100\n",
            "1875/1875 [==============================] - 6s 3ms/step - loss: 0.2319 - accuracy: 0.9111 - val_loss: 0.3824 - val_accuracy: 0.8766\n",
            "Epoch 17/100\n",
            "1875/1875 [==============================] - 6s 3ms/step - loss: 0.2292 - accuracy: 0.9124 - val_loss: 0.3564 - val_accuracy: 0.8799\n",
            "Epoch 18/100\n",
            "1875/1875 [==============================] - 6s 3ms/step - loss: 0.2261 - accuracy: 0.9147 - val_loss: 0.3689 - val_accuracy: 0.8791\n",
            "Epoch 19/100\n",
            "1875/1875 [==============================] - 6s 3ms/step - loss: 0.2156 - accuracy: 0.9172 - val_loss: 0.3959 - val_accuracy: 0.8793\n",
            "Epoch 20/100\n",
            "1875/1875 [==============================] - 6s 3ms/step - loss: 0.2141 - accuracy: 0.9181 - val_loss: 0.3825 - val_accuracy: 0.8791\n",
            "Epoch 21/100\n",
            "1875/1875 [==============================] - 6s 3ms/step - loss: 0.2121 - accuracy: 0.9181 - val_loss: 0.3899 - val_accuracy: 0.8867\n",
            "Epoch 22/100\n",
            "1875/1875 [==============================] - 6s 3ms/step - loss: 0.2078 - accuracy: 0.9196 - val_loss: 0.3880 - val_accuracy: 0.8851\n",
            "Epoch 23/100\n",
            "1875/1875 [==============================] - 6s 3ms/step - loss: 0.2057 - accuracy: 0.9219 - val_loss: 0.4207 - val_accuracy: 0.8723\n",
            "Epoch 24/100\n",
            "1875/1875 [==============================] - 6s 3ms/step - loss: 0.2013 - accuracy: 0.9230 - val_loss: 0.4010 - val_accuracy: 0.8815\n",
            "Epoch 25/100\n",
            "1875/1875 [==============================] - 7s 4ms/step - loss: 0.1972 - accuracy: 0.9240 - val_loss: 0.3978 - val_accuracy: 0.8829\n",
            "Epoch 26/100\n",
            "1875/1875 [==============================] - 7s 4ms/step - loss: 0.1964 - accuracy: 0.9238 - val_loss: 0.4138 - val_accuracy: 0.8785\n",
            "Epoch 27/100\n",
            "1875/1875 [==============================] - 7s 4ms/step - loss: 0.1964 - accuracy: 0.9243 - val_loss: 0.4095 - val_accuracy: 0.8831\n",
            "Epoch 28/100\n",
            "1875/1875 [==============================] - 6s 3ms/step - loss: 0.1880 - accuracy: 0.9271 - val_loss: 0.4507 - val_accuracy: 0.8784\n",
            "Epoch 29/100\n",
            "1875/1875 [==============================] - 6s 3ms/step - loss: 0.1909 - accuracy: 0.9270 - val_loss: 0.4009 - val_accuracy: 0.8862\n",
            "Epoch 30/100\n",
            "1875/1875 [==============================] - 6s 3ms/step - loss: 0.1835 - accuracy: 0.9293 - val_loss: 0.4307 - val_accuracy: 0.8831\n",
            "Epoch 31/100\n",
            "1875/1875 [==============================] - 6s 3ms/step - loss: 0.1834 - accuracy: 0.9284 - val_loss: 0.4536 - val_accuracy: 0.8844\n",
            "Epoch 32/100\n",
            "1875/1875 [==============================] - 6s 3ms/step - loss: 0.1806 - accuracy: 0.9310 - val_loss: 0.4148 - val_accuracy: 0.8836\n",
            "Epoch 33/100\n",
            "1875/1875 [==============================] - 6s 3ms/step - loss: 0.1771 - accuracy: 0.9309 - val_loss: 0.4287 - val_accuracy: 0.8827\n",
            "Epoch 34/100\n",
            "1875/1875 [==============================] - 6s 3ms/step - loss: 0.1779 - accuracy: 0.9309 - val_loss: 0.5187 - val_accuracy: 0.8777\n",
            "Epoch 35/100\n",
            "1875/1875 [==============================] - 6s 3ms/step - loss: 0.1730 - accuracy: 0.9323 - val_loss: 0.4288 - val_accuracy: 0.8871\n",
            "Epoch 36/100\n",
            "1875/1875 [==============================] - 6s 3ms/step - loss: 0.1736 - accuracy: 0.9331 - val_loss: 0.4526 - val_accuracy: 0.8864\n",
            "Epoch 37/100\n",
            "1875/1875 [==============================] - 6s 3ms/step - loss: 0.1696 - accuracy: 0.9347 - val_loss: 0.4991 - val_accuracy: 0.8790\n",
            "Epoch 38/100\n",
            "1875/1875 [==============================] - 6s 3ms/step - loss: 0.1704 - accuracy: 0.9338 - val_loss: 0.5115 - val_accuracy: 0.8782\n",
            "Epoch 39/100\n",
            "1875/1875 [==============================] - 6s 3ms/step - loss: 0.1629 - accuracy: 0.9379 - val_loss: 0.4687 - val_accuracy: 0.8802\n",
            "Epoch 40/100\n",
            "1875/1875 [==============================] - 6s 3ms/step - loss: 0.1622 - accuracy: 0.9376 - val_loss: 0.4880 - val_accuracy: 0.8813\n",
            "Epoch 41/100\n",
            "1875/1875 [==============================] - 6s 3ms/step - loss: 0.1654 - accuracy: 0.9367 - val_loss: 0.5136 - val_accuracy: 0.8811\n",
            "Epoch 42/100\n",
            "1875/1875 [==============================] - 6s 3ms/step - loss: 0.1595 - accuracy: 0.9387 - val_loss: 0.4845 - val_accuracy: 0.8838\n",
            "Epoch 43/100\n",
            "1875/1875 [==============================] - 6s 3ms/step - loss: 0.1585 - accuracy: 0.9377 - val_loss: 0.5169 - val_accuracy: 0.8819\n",
            "Epoch 44/100\n",
            "1875/1875 [==============================] - 6s 3ms/step - loss: 0.1648 - accuracy: 0.9367 - val_loss: 0.5144 - val_accuracy: 0.8823\n",
            "Epoch 45/100\n",
            "1875/1875 [==============================] - 6s 3ms/step - loss: 0.1570 - accuracy: 0.9391 - val_loss: 0.5238 - val_accuracy: 0.8818\n",
            "Epoch 46/100\n",
            "1875/1875 [==============================] - 6s 3ms/step - loss: 0.1567 - accuracy: 0.9400 - val_loss: 0.4776 - val_accuracy: 0.8831\n",
            "Epoch 47/100\n",
            "1875/1875 [==============================] - 6s 3ms/step - loss: 0.1499 - accuracy: 0.9416 - val_loss: 0.5263 - val_accuracy: 0.8770\n",
            "Epoch 48/100\n",
            "1875/1875 [==============================] - 6s 3ms/step - loss: 0.1522 - accuracy: 0.9407 - val_loss: 0.5353 - val_accuracy: 0.8828\n",
            "Epoch 49/100\n",
            "1875/1875 [==============================] - 6s 3ms/step - loss: 0.1474 - accuracy: 0.9426 - val_loss: 0.5427 - val_accuracy: 0.8795\n",
            "Epoch 50/100\n",
            "1875/1875 [==============================] - 6s 3ms/step - loss: 0.1532 - accuracy: 0.9420 - val_loss: 0.6366 - val_accuracy: 0.8728\n",
            "Epoch 51/100\n",
            "1875/1875 [==============================] - 6s 3ms/step - loss: 0.1521 - accuracy: 0.9417 - val_loss: 0.5700 - val_accuracy: 0.8805\n",
            "Epoch 52/100\n",
            "1875/1875 [==============================] - 6s 3ms/step - loss: 0.1470 - accuracy: 0.9425 - val_loss: 0.5558 - val_accuracy: 0.8772\n",
            "Epoch 53/100\n",
            "1875/1875 [==============================] - 6s 3ms/step - loss: 0.1458 - accuracy: 0.9436 - val_loss: 0.5771 - val_accuracy: 0.8794\n",
            "Epoch 54/100\n",
            "1875/1875 [==============================] - 6s 3ms/step - loss: 0.1433 - accuracy: 0.9451 - val_loss: 0.5874 - val_accuracy: 0.8796\n",
            "Epoch 55/100\n",
            "1875/1875 [==============================] - 6s 3ms/step - loss: 0.1468 - accuracy: 0.9438 - val_loss: 0.6126 - val_accuracy: 0.8808\n",
            "Epoch 56/100\n",
            "1875/1875 [==============================] - 6s 3ms/step - loss: 0.1397 - accuracy: 0.9465 - val_loss: 0.6225 - val_accuracy: 0.8811\n",
            "Epoch 57/100\n",
            "1875/1875 [==============================] - 6s 3ms/step - loss: 0.1410 - accuracy: 0.9455 - val_loss: 0.6336 - val_accuracy: 0.8819\n",
            "Epoch 58/100\n",
            "1875/1875 [==============================] - 6s 3ms/step - loss: 0.1414 - accuracy: 0.9464 - val_loss: 0.6495 - val_accuracy: 0.8820\n",
            "Epoch 59/100\n",
            "1875/1875 [==============================] - 6s 3ms/step - loss: 0.1425 - accuracy: 0.9440 - val_loss: 0.5993 - val_accuracy: 0.8776\n",
            "Epoch 60/100\n",
            "1875/1875 [==============================] - 6s 3ms/step - loss: 0.1342 - accuracy: 0.9478 - val_loss: 0.6913 - val_accuracy: 0.8811\n",
            "Epoch 61/100\n",
            "1875/1875 [==============================] - 6s 3ms/step - loss: 0.1364 - accuracy: 0.9478 - val_loss: 0.6945 - val_accuracy: 0.8766\n",
            "Epoch 62/100\n",
            "1875/1875 [==============================] - 6s 3ms/step - loss: 0.1366 - accuracy: 0.9477 - val_loss: 0.6805 - val_accuracy: 0.8791\n",
            "Epoch 63/100\n",
            "1875/1875 [==============================] - 6s 3ms/step - loss: 0.1351 - accuracy: 0.9487 - val_loss: 0.6611 - val_accuracy: 0.8804\n",
            "Epoch 64/100\n",
            "1875/1875 [==============================] - 6s 3ms/step - loss: 0.1314 - accuracy: 0.9493 - val_loss: 0.7153 - val_accuracy: 0.8757\n",
            "Epoch 65/100\n",
            "1875/1875 [==============================] - 6s 3ms/step - loss: 0.1294 - accuracy: 0.9504 - val_loss: 0.6866 - val_accuracy: 0.8794\n",
            "Epoch 66/100\n",
            "1875/1875 [==============================] - 6s 3ms/step - loss: 0.1291 - accuracy: 0.9502 - val_loss: 0.7300 - val_accuracy: 0.8797\n",
            "Epoch 67/100\n",
            "1875/1875 [==============================] - 6s 3ms/step - loss: 0.1440 - accuracy: 0.9453 - val_loss: 0.6510 - val_accuracy: 0.8816\n",
            "Epoch 68/100\n",
            "1875/1875 [==============================] - 6s 3ms/step - loss: 0.1295 - accuracy: 0.9508 - val_loss: 0.6632 - val_accuracy: 0.8720\n",
            "Epoch 69/100\n",
            "1875/1875 [==============================] - 6s 3ms/step - loss: 0.1329 - accuracy: 0.9493 - val_loss: 0.6701 - val_accuracy: 0.8793\n",
            "Epoch 70/100\n",
            "1875/1875 [==============================] - 6s 3ms/step - loss: 0.1249 - accuracy: 0.9520 - val_loss: 0.7353 - val_accuracy: 0.8764\n",
            "Epoch 71/100\n",
            "1875/1875 [==============================] - 6s 3ms/step - loss: 0.1274 - accuracy: 0.9507 - val_loss: 0.6457 - val_accuracy: 0.8804\n",
            "Epoch 72/100\n",
            "1875/1875 [==============================] - 6s 3ms/step - loss: 0.1296 - accuracy: 0.9508 - val_loss: 0.6960 - val_accuracy: 0.8767\n",
            "Epoch 73/100\n",
            "1875/1875 [==============================] - 6s 3ms/step - loss: 0.1357 - accuracy: 0.9492 - val_loss: 0.6846 - val_accuracy: 0.8798\n",
            "Epoch 74/100\n",
            "1875/1875 [==============================] - 6s 3ms/step - loss: 0.1251 - accuracy: 0.9518 - val_loss: 0.7707 - val_accuracy: 0.8740\n",
            "Epoch 75/100\n",
            "1875/1875 [==============================] - 6s 3ms/step - loss: 0.1296 - accuracy: 0.9512 - val_loss: 0.7854 - val_accuracy: 0.8794\n",
            "Epoch 76/100\n",
            "1875/1875 [==============================] - 6s 3ms/step - loss: 0.1240 - accuracy: 0.9519 - val_loss: 0.8687 - val_accuracy: 0.8723\n",
            "Epoch 77/100\n",
            "1875/1875 [==============================] - 6s 3ms/step - loss: 0.1246 - accuracy: 0.9517 - val_loss: 0.8052 - val_accuracy: 0.8838\n",
            "Epoch 78/100\n",
            "1875/1875 [==============================] - 6s 3ms/step - loss: 0.1315 - accuracy: 0.9509 - val_loss: 0.7238 - val_accuracy: 0.8800\n",
            "Epoch 79/100\n",
            "1875/1875 [==============================] - 6s 3ms/step - loss: 0.1277 - accuracy: 0.9521 - val_loss: 0.6533 - val_accuracy: 0.8805\n",
            "Epoch 80/100\n",
            "1875/1875 [==============================] - 6s 3ms/step - loss: 0.1176 - accuracy: 0.9551 - val_loss: 0.7521 - val_accuracy: 0.8782\n",
            "Epoch 81/100\n",
            "1875/1875 [==============================] - 6s 3ms/step - loss: 0.1296 - accuracy: 0.9509 - val_loss: 0.7087 - val_accuracy: 0.8765\n",
            "Epoch 82/100\n",
            "1875/1875 [==============================] - 6s 3ms/step - loss: 0.1205 - accuracy: 0.9545 - val_loss: 0.7006 - val_accuracy: 0.8766\n",
            "Epoch 83/100\n",
            "1875/1875 [==============================] - 6s 3ms/step - loss: 0.1280 - accuracy: 0.9520 - val_loss: 0.8389 - val_accuracy: 0.8676\n",
            "Epoch 84/100\n",
            "1875/1875 [==============================] - 6s 3ms/step - loss: 0.1219 - accuracy: 0.9545 - val_loss: 0.7568 - val_accuracy: 0.8796\n",
            "Epoch 85/100\n",
            "1875/1875 [==============================] - 6s 3ms/step - loss: 0.1211 - accuracy: 0.9547 - val_loss: 0.8610 - val_accuracy: 0.8853\n",
            "Epoch 86/100\n",
            "1875/1875 [==============================] - 6s 3ms/step - loss: 0.1187 - accuracy: 0.9548 - val_loss: 0.8207 - val_accuracy: 0.8777\n",
            "Epoch 87/100\n",
            "1875/1875 [==============================] - 6s 3ms/step - loss: 0.1226 - accuracy: 0.9533 - val_loss: 0.9029 - val_accuracy: 0.8836\n",
            "Epoch 88/100\n",
            "1875/1875 [==============================] - 6s 3ms/step - loss: 0.1190 - accuracy: 0.9554 - val_loss: 0.8119 - val_accuracy: 0.8805\n",
            "Epoch 89/100\n",
            "1875/1875 [==============================] - 6s 3ms/step - loss: 0.1188 - accuracy: 0.9548 - val_loss: 0.8368 - val_accuracy: 0.8785\n",
            "Epoch 90/100\n",
            "1875/1875 [==============================] - 6s 3ms/step - loss: 0.1192 - accuracy: 0.9542 - val_loss: 0.8225 - val_accuracy: 0.8789\n",
            "Epoch 91/100\n",
            "1875/1875 [==============================] - 6s 3ms/step - loss: 0.1215 - accuracy: 0.9540 - val_loss: 0.8564 - val_accuracy: 0.8783\n",
            "Epoch 92/100\n",
            "1875/1875 [==============================] - 6s 3ms/step - loss: 0.1172 - accuracy: 0.9562 - val_loss: 0.9222 - val_accuracy: 0.8729\n",
            "Epoch 93/100\n",
            "1875/1875 [==============================] - 6s 3ms/step - loss: 0.1129 - accuracy: 0.9574 - val_loss: 0.9601 - val_accuracy: 0.8793\n",
            "Epoch 94/100\n",
            "1875/1875 [==============================] - 6s 3ms/step - loss: 0.1276 - accuracy: 0.9537 - val_loss: 0.8680 - val_accuracy: 0.8793\n",
            "Epoch 95/100\n",
            "1875/1875 [==============================] - 6s 3ms/step - loss: 0.1106 - accuracy: 0.9578 - val_loss: 0.9346 - val_accuracy: 0.8725\n",
            "Epoch 96/100\n",
            "1875/1875 [==============================] - 6s 3ms/step - loss: 0.1162 - accuracy: 0.9573 - val_loss: 0.8720 - val_accuracy: 0.8831\n",
            "Epoch 97/100\n",
            "1875/1875 [==============================] - 6s 3ms/step - loss: 0.1153 - accuracy: 0.9565 - val_loss: 0.8634 - val_accuracy: 0.8830\n",
            "Epoch 98/100\n",
            "1875/1875 [==============================] - 6s 3ms/step - loss: 0.1147 - accuracy: 0.9576 - val_loss: 0.8928 - val_accuracy: 0.8806\n",
            "Epoch 99/100\n",
            "1875/1875 [==============================] - 6s 3ms/step - loss: 0.1105 - accuracy: 0.9592 - val_loss: 0.9737 - val_accuracy: 0.8747\n",
            "Epoch 100/100\n",
            "1875/1875 [==============================] - 6s 3ms/step - loss: 0.1169 - accuracy: 0.9575 - val_loss: 0.8357 - val_accuracy: 0.8739\n"
          ],
          "name": "stdout"
        }
      ]
    },
    {
      "cell_type": "code",
      "metadata": {
        "id": "yFTa4CBrpcZ6",
        "colab_type": "code",
        "outputId": "cabab867-70d4-4bb6-ef28-0bf813397536",
        "colab": {
          "base_uri": "https://localhost:8080/",
          "height": 320
        }
      },
      "source": [
        "plt.figure(figsize=(10, 5))\n",
        "plt.subplot(121)\n",
        "plt.plot(history.history['accuracy'])\n",
        "plt.plot(history.history['val_accuracy'])\n",
        "plt.legend(['train', 'validation'])\n",
        "\n",
        "plt.subplot(122)\n",
        "plt.plot(history.history['loss'])\n",
        "plt.plot(history.history['val_loss'])\n",
        "plt.legend(['train', 'validation'])\n",
        "plt.show()"
      ],
      "execution_count": 0,
      "outputs": [
        {
          "output_type": "display_data",
          "data": {
            "image/png": "[encoded data removed]",
            "text/plain": [
              "<Figure size 720x360 with 2 Axes>"
            ]
          },
          "metadata": {
            "tags": []
          }
        }
      ]
    },
    {
      "cell_type": "markdown",
      "metadata": {
        "id": "Zb0mTBpKsPBr",
        "colab_type": "text"
      },
      "source": [
        "### Training(with Complex Model)"
      ]
    },
    {
      "cell_type": "code",
      "metadata": {
        "id": "d_op2xbBsQQS",
        "colab_type": "code",
        "outputId": "e6400ddf-1744-41a8-d753-5881b8576287",
        "colab": {
          "base_uri": "https://localhost:8080/",
          "height": 1000
        }
      },
      "source": [
        "history = model.fit(train_ds,\n",
        "                    epochs=EPOCHS,\n",
        "                    validation_data=test_ds)"
      ],
      "execution_count": 0,
      "outputs": [
        {
          "output_type": "stream",
          "text": [
            "Train for 1875 steps, validate for 313 steps\n",
            "Epoch 1/100\n",
            "1875/1875 [==============================] - 12s 6ms/step - loss: 0.5199 - accuracy: 0.8124 - val_loss: 0.4555 - val_accuracy: 0.8333\n",
            "Epoch 2/100\n",
            "1875/1875 [==============================] - 10s 5ms/step - loss: 0.4013 - accuracy: 0.8538 - val_loss: 0.3936 - val_accuracy: 0.8580\n",
            "Epoch 3/100\n",
            "1875/1875 [==============================] - 9s 5ms/step - loss: 0.3659 - accuracy: 0.8650 - val_loss: 0.4114 - val_accuracy: 0.8559\n",
            "Epoch 4/100\n",
            "1875/1875 [==============================] - 9s 5ms/step - loss: 0.3485 - accuracy: 0.8722 - val_loss: 0.3739 - val_accuracy: 0.8678\n",
            "Epoch 5/100\n",
            "1875/1875 [==============================] - 9s 5ms/step - loss: 0.3310 - accuracy: 0.8784 - val_loss: 0.3614 - val_accuracy: 0.8709\n",
            "Epoch 6/100\n",
            "1875/1875 [==============================] - 9s 5ms/step - loss: 0.3175 - accuracy: 0.8817 - val_loss: 0.3696 - val_accuracy: 0.8657\n",
            "Epoch 7/100\n",
            "1875/1875 [==============================] - 9s 5ms/step - loss: 0.3116 - accuracy: 0.8845 - val_loss: 0.3608 - val_accuracy: 0.8706\n",
            "Epoch 8/100\n",
            "1875/1875 [==============================] - 9s 5ms/step - loss: 0.3005 - accuracy: 0.8885 - val_loss: 0.4153 - val_accuracy: 0.8541\n",
            "Epoch 9/100\n",
            "1875/1875 [==============================] - 10s 5ms/step - loss: 0.2941 - accuracy: 0.8922 - val_loss: 0.3643 - val_accuracy: 0.8723\n",
            "Epoch 10/100\n",
            "1875/1875 [==============================] - 9s 5ms/step - loss: 0.2875 - accuracy: 0.8929 - val_loss: 0.3737 - val_accuracy: 0.8655\n",
            "Epoch 11/100\n",
            "1875/1875 [==============================] - 9s 5ms/step - loss: 0.2808 - accuracy: 0.8955 - val_loss: 0.3548 - val_accuracy: 0.8701\n",
            "Epoch 12/100\n",
            "1875/1875 [==============================] - 9s 5ms/step - loss: 0.2764 - accuracy: 0.8984 - val_loss: 0.3468 - val_accuracy: 0.8789\n",
            "Epoch 13/100\n",
            "1875/1875 [==============================] - 10s 5ms/step - loss: 0.2705 - accuracy: 0.8999 - val_loss: 0.3688 - val_accuracy: 0.8712\n",
            "Epoch 14/100\n",
            "1875/1875 [==============================] - 10s 5ms/step - loss: 0.2669 - accuracy: 0.9000 - val_loss: 0.3661 - val_accuracy: 0.8724\n",
            "Epoch 15/100\n",
            "1875/1875 [==============================] - 10s 5ms/step - loss: 0.2615 - accuracy: 0.9029 - val_loss: 0.3515 - val_accuracy: 0.8746\n",
            "Epoch 16/100\n",
            "1875/1875 [==============================] - 9s 5ms/step - loss: 0.2556 - accuracy: 0.9044 - val_loss: 0.3602 - val_accuracy: 0.8756\n",
            "Epoch 17/100\n",
            "1875/1875 [==============================] - 9s 5ms/step - loss: 0.2546 - accuracy: 0.9048 - val_loss: 0.3470 - val_accuracy: 0.8776\n",
            "Epoch 18/100\n",
            "1875/1875 [==============================] - 9s 5ms/step - loss: 0.2494 - accuracy: 0.9064 - val_loss: 0.3424 - val_accuracy: 0.8798\n",
            "Epoch 19/100\n",
            "1875/1875 [==============================] - 9s 5ms/step - loss: 0.2462 - accuracy: 0.9086 - val_loss: 0.3573 - val_accuracy: 0.8762\n",
            "Epoch 20/100\n",
            "1875/1875 [==============================] - 9s 5ms/step - loss: 0.2436 - accuracy: 0.9086 - val_loss: 0.3555 - val_accuracy: 0.8792\n",
            "Epoch 21/100\n",
            "1875/1875 [==============================] - 9s 5ms/step - loss: 0.2436 - accuracy: 0.9079 - val_loss: 0.3823 - val_accuracy: 0.8677\n",
            "Epoch 22/100\n",
            "1875/1875 [==============================] - 9s 5ms/step - loss: 0.2384 - accuracy: 0.9114 - val_loss: 0.3784 - val_accuracy: 0.8715\n",
            "Epoch 23/100\n",
            "1875/1875 [==============================] - 9s 5ms/step - loss: 0.2352 - accuracy: 0.9122 - val_loss: 0.3629 - val_accuracy: 0.8758\n",
            "Epoch 24/100\n",
            "1875/1875 [==============================] - 9s 5ms/step - loss: 0.2324 - accuracy: 0.9146 - val_loss: 0.3680 - val_accuracy: 0.8749\n",
            "Epoch 25/100\n",
            "1875/1875 [==============================] - 9s 5ms/step - loss: 0.2327 - accuracy: 0.9131 - val_loss: 0.3531 - val_accuracy: 0.8814\n",
            "Epoch 26/100\n",
            "1875/1875 [==============================] - 9s 5ms/step - loss: 0.2298 - accuracy: 0.9138 - val_loss: 0.3856 - val_accuracy: 0.8674\n",
            "Epoch 27/100\n",
            "1875/1875 [==============================] - 9s 5ms/step - loss: 0.2262 - accuracy: 0.9143 - val_loss: 0.3692 - val_accuracy: 0.8789\n",
            "Epoch 28/100\n",
            "1875/1875 [==============================] - 9s 5ms/step - loss: 0.2244 - accuracy: 0.9157 - val_loss: 0.3748 - val_accuracy: 0.8761\n",
            "Epoch 29/100\n",
            "1875/1875 [==============================] - 9s 5ms/step - loss: 0.2212 - accuracy: 0.9173 - val_loss: 0.3600 - val_accuracy: 0.8794\n",
            "Epoch 30/100\n",
            "1875/1875 [==============================] - 9s 5ms/step - loss: 0.2219 - accuracy: 0.9171 - val_loss: 0.3752 - val_accuracy: 0.8763\n",
            "Epoch 31/100\n",
            "1875/1875 [==============================] - 9s 5ms/step - loss: 0.2185 - accuracy: 0.9172 - val_loss: 0.3778 - val_accuracy: 0.8773\n",
            "Epoch 32/100\n",
            "1875/1875 [==============================] - 9s 5ms/step - loss: 0.2168 - accuracy: 0.9191 - val_loss: 0.3550 - val_accuracy: 0.8821\n",
            "Epoch 33/100\n",
            "1875/1875 [==============================] - 9s 5ms/step - loss: 0.2141 - accuracy: 0.9201 - val_loss: 0.3826 - val_accuracy: 0.8774\n",
            "Epoch 34/100\n",
            "1875/1875 [==============================] - 9s 5ms/step - loss: 0.2135 - accuracy: 0.9198 - val_loss: 0.3650 - val_accuracy: 0.8769\n",
            "Epoch 35/100\n",
            "1875/1875 [==============================] - 9s 5ms/step - loss: 0.2122 - accuracy: 0.9205 - val_loss: 0.3719 - val_accuracy: 0.8755\n",
            "Epoch 36/100\n",
            "1875/1875 [==============================] - 9s 5ms/step - loss: 0.2124 - accuracy: 0.9201 - val_loss: 0.3719 - val_accuracy: 0.8784\n",
            "Epoch 37/100\n",
            "1875/1875 [==============================] - 9s 5ms/step - loss: 0.2087 - accuracy: 0.9225 - val_loss: 0.3819 - val_accuracy: 0.8792\n",
            "Epoch 38/100\n",
            "1875/1875 [==============================] - 9s 5ms/step - loss: 0.2074 - accuracy: 0.9226 - val_loss: 0.3848 - val_accuracy: 0.8754\n",
            "Epoch 39/100\n",
            "1875/1875 [==============================] - 9s 5ms/step - loss: 0.2053 - accuracy: 0.9227 - val_loss: 0.3793 - val_accuracy: 0.8770\n",
            "Epoch 40/100\n",
            "1875/1875 [==============================] - 9s 5ms/step - loss: 0.2026 - accuracy: 0.9237 - val_loss: 0.3749 - val_accuracy: 0.8817\n",
            "Epoch 41/100\n",
            "1875/1875 [==============================] - 10s 5ms/step - loss: 0.2032 - accuracy: 0.9233 - val_loss: 0.4239 - val_accuracy: 0.8621\n",
            "Epoch 42/100\n",
            "1875/1875 [==============================] - 9s 5ms/step - loss: 0.2024 - accuracy: 0.9234 - val_loss: 0.3661 - val_accuracy: 0.8797\n",
            "Epoch 43/100\n",
            "1875/1875 [==============================] - 9s 5ms/step - loss: 0.1998 - accuracy: 0.9248 - val_loss: 0.3934 - val_accuracy: 0.8716\n",
            "Epoch 44/100\n",
            "1875/1875 [==============================] - 9s 5ms/step - loss: 0.1997 - accuracy: 0.9248 - val_loss: 0.3735 - val_accuracy: 0.8774\n",
            "Epoch 45/100\n",
            "1875/1875 [==============================] - 9s 5ms/step - loss: 0.1935 - accuracy: 0.9265 - val_loss: 0.3846 - val_accuracy: 0.8769\n",
            "Epoch 46/100\n",
            "1875/1875 [==============================] - 9s 5ms/step - loss: 0.1959 - accuracy: 0.9260 - val_loss: 0.4073 - val_accuracy: 0.8737\n",
            "Epoch 47/100\n",
            "1875/1875 [==============================] - 9s 5ms/step - loss: 0.1953 - accuracy: 0.9251 - val_loss: 0.3890 - val_accuracy: 0.8766\n",
            "Epoch 48/100\n",
            "1875/1875 [==============================] - 9s 5ms/step - loss: 0.1939 - accuracy: 0.9264 - val_loss: 0.3873 - val_accuracy: 0.8754\n",
            "Epoch 49/100\n",
            "1875/1875 [==============================] - 9s 5ms/step - loss: 0.1931 - accuracy: 0.9267 - val_loss: 0.3814 - val_accuracy: 0.8801\n",
            "Epoch 50/100\n",
            "1875/1875 [==============================] - 9s 5ms/step - loss: 0.1929 - accuracy: 0.9269 - val_loss: 0.3727 - val_accuracy: 0.8819\n",
            "Epoch 51/100\n",
            "1875/1875 [==============================] - 9s 5ms/step - loss: 0.1923 - accuracy: 0.9267 - val_loss: 0.3898 - val_accuracy: 0.8812\n",
            "Epoch 52/100\n",
            "1875/1875 [==============================] - 9s 5ms/step - loss: 0.1903 - accuracy: 0.9283 - val_loss: 0.3952 - val_accuracy: 0.8785\n",
            "Epoch 53/100\n",
            "1875/1875 [==============================] - 9s 5ms/step - loss: 0.1916 - accuracy: 0.9278 - val_loss: 0.3997 - val_accuracy: 0.8759\n",
            "Epoch 54/100\n",
            "1875/1875 [==============================] - 9s 5ms/step - loss: 0.1872 - accuracy: 0.9302 - val_loss: 0.3929 - val_accuracy: 0.8806\n",
            "Epoch 55/100\n",
            "1875/1875 [==============================] - 9s 5ms/step - loss: 0.1847 - accuracy: 0.9292 - val_loss: 0.4110 - val_accuracy: 0.8778\n",
            "Epoch 56/100\n",
            "1875/1875 [==============================] - 9s 5ms/step - loss: 0.1870 - accuracy: 0.9292 - val_loss: 0.3892 - val_accuracy: 0.8758\n",
            "Epoch 57/100\n",
            "1875/1875 [==============================] - 9s 5ms/step - loss: 0.1824 - accuracy: 0.9313 - val_loss: 0.4231 - val_accuracy: 0.8687\n",
            "Epoch 58/100\n",
            "1875/1875 [==============================] - 9s 5ms/step - loss: 0.1869 - accuracy: 0.9297 - val_loss: 0.3796 - val_accuracy: 0.8841\n",
            "Epoch 59/100\n",
            "1875/1875 [==============================] - 9s 5ms/step - loss: 0.1852 - accuracy: 0.9299 - val_loss: 0.4405 - val_accuracy: 0.8673\n",
            "Epoch 60/100\n",
            "1875/1875 [==============================] - 9s 5ms/step - loss: 0.1802 - accuracy: 0.9316 - val_loss: 0.4383 - val_accuracy: 0.8701\n",
            "Epoch 61/100\n",
            "1875/1875 [==============================] - 9s 5ms/step - loss: 0.1820 - accuracy: 0.9309 - val_loss: 0.4171 - val_accuracy: 0.8748\n",
            "Epoch 62/100\n",
            "1875/1875 [==============================] - 9s 5ms/step - loss: 0.1801 - accuracy: 0.9321 - val_loss: 0.4258 - val_accuracy: 0.8727\n",
            "Epoch 63/100\n",
            "1875/1875 [==============================] - 9s 5ms/step - loss: 0.1788 - accuracy: 0.9326 - val_loss: 0.4150 - val_accuracy: 0.8715\n",
            "Epoch 64/100\n",
            "1875/1875 [==============================] - 9s 5ms/step - loss: 0.1781 - accuracy: 0.9331 - val_loss: 0.4222 - val_accuracy: 0.8787\n",
            "Epoch 65/100\n",
            "1875/1875 [==============================] - 9s 5ms/step - loss: 0.1779 - accuracy: 0.9326 - val_loss: 0.4071 - val_accuracy: 0.8786\n",
            "Epoch 66/100\n",
            "1875/1875 [==============================] - 9s 5ms/step - loss: 0.1752 - accuracy: 0.9328 - val_loss: 0.4256 - val_accuracy: 0.8762\n",
            "Epoch 67/100\n",
            "1875/1875 [==============================] - 9s 5ms/step - loss: 0.1759 - accuracy: 0.9336 - val_loss: 0.4009 - val_accuracy: 0.8796\n",
            "Epoch 68/100\n",
            "1875/1875 [==============================] - 9s 5ms/step - loss: 0.1780 - accuracy: 0.9324 - val_loss: 0.4198 - val_accuracy: 0.8757\n",
            "Epoch 69/100\n",
            "1875/1875 [==============================] - 9s 5ms/step - loss: 0.1739 - accuracy: 0.9339 - val_loss: 0.4242 - val_accuracy: 0.8720\n",
            "Epoch 70/100\n",
            "1875/1875 [==============================] - 9s 5ms/step - loss: 0.1766 - accuracy: 0.9331 - val_loss: 0.4146 - val_accuracy: 0.8755\n",
            "Epoch 71/100\n",
            "1875/1875 [==============================] - 9s 5ms/step - loss: 0.1739 - accuracy: 0.9341 - val_loss: 0.4196 - val_accuracy: 0.8795\n",
            "Epoch 72/100\n",
            "1875/1875 [==============================] - 9s 5ms/step - loss: 0.1729 - accuracy: 0.9345 - val_loss: 0.4145 - val_accuracy: 0.8784\n",
            "Epoch 73/100\n",
            "1875/1875 [==============================] - 9s 5ms/step - loss: 0.1714 - accuracy: 0.9350 - val_loss: 0.3993 - val_accuracy: 0.8767\n",
            "Epoch 74/100\n",
            "1875/1875 [==============================] - 10s 5ms/step - loss: 0.1709 - accuracy: 0.9349 - val_loss: 0.4086 - val_accuracy: 0.8798\n",
            "Epoch 75/100\n",
            "1875/1875 [==============================] - 9s 5ms/step - loss: 0.1730 - accuracy: 0.9348 - val_loss: 0.4211 - val_accuracy: 0.8691\n",
            "Epoch 76/100\n",
            "1875/1875 [==============================] - 9s 5ms/step - loss: 0.1712 - accuracy: 0.9344 - val_loss: 0.4066 - val_accuracy: 0.8793\n",
            "Epoch 77/100\n",
            "1875/1875 [==============================] - 9s 5ms/step - loss: 0.1667 - accuracy: 0.9373 - val_loss: 0.4229 - val_accuracy: 0.8774\n",
            "Epoch 78/100\n",
            "1875/1875 [==============================] - 9s 5ms/step - loss: 0.1703 - accuracy: 0.9345 - val_loss: 0.4497 - val_accuracy: 0.8747\n",
            "Epoch 79/100\n",
            "1875/1875 [==============================] - 9s 5ms/step - loss: 0.1684 - accuracy: 0.9355 - val_loss: 0.4440 - val_accuracy: 0.8725\n",
            "Epoch 80/100\n",
            "1875/1875 [==============================] - 9s 5ms/step - loss: 0.1683 - accuracy: 0.9361 - val_loss: 0.4321 - val_accuracy: 0.8762\n",
            "Epoch 81/100\n",
            "1875/1875 [==============================] - 9s 5ms/step - loss: 0.1671 - accuracy: 0.9361 - val_loss: 0.4236 - val_accuracy: 0.8779\n",
            "Epoch 82/100\n",
            "1875/1875 [==============================] - 9s 5ms/step - loss: 0.1653 - accuracy: 0.9377 - val_loss: 0.4421 - val_accuracy: 0.8736\n",
            "Epoch 83/100\n",
            "1875/1875 [==============================] - 9s 5ms/step - loss: 0.1650 - accuracy: 0.9374 - val_loss: 0.4402 - val_accuracy: 0.8694\n",
            "Epoch 84/100\n",
            "1875/1875 [==============================] - 9s 5ms/step - loss: 0.1665 - accuracy: 0.9356 - val_loss: 0.4264 - val_accuracy: 0.8784\n",
            "Epoch 85/100\n",
            "1875/1875 [==============================] - 9s 5ms/step - loss: 0.1628 - accuracy: 0.9374 - val_loss: 0.4152 - val_accuracy: 0.8786\n",
            "Epoch 86/100\n",
            "1875/1875 [==============================] - 9s 5ms/step - loss: 0.1631 - accuracy: 0.9379 - val_loss: 0.4236 - val_accuracy: 0.8760\n",
            "Epoch 87/100\n",
            "1875/1875 [==============================] - 9s 5ms/step - loss: 0.1611 - accuracy: 0.9385 - val_loss: 0.4286 - val_accuracy: 0.8764\n",
            "Epoch 88/100\n",
            "1875/1875 [==============================] - 9s 5ms/step - loss: 0.1633 - accuracy: 0.9388 - val_loss: 0.4334 - val_accuracy: 0.8821\n",
            "Epoch 89/100\n",
            "1875/1875 [==============================] - 9s 5ms/step - loss: 0.1639 - accuracy: 0.9384 - val_loss: 0.4278 - val_accuracy: 0.8742\n",
            "Epoch 90/100\n",
            "1875/1875 [==============================] - 9s 5ms/step - loss: 0.1630 - accuracy: 0.9390 - val_loss: 0.4498 - val_accuracy: 0.8729\n",
            "Epoch 91/100\n",
            "1875/1875 [==============================] - 9s 5ms/step - loss: 0.1609 - accuracy: 0.9393 - val_loss: 0.4499 - val_accuracy: 0.8716\n",
            "Epoch 92/100\n",
            "1875/1875 [==============================] - 9s 5ms/step - loss: 0.1610 - accuracy: 0.9385 - val_loss: 0.4590 - val_accuracy: 0.8756\n",
            "Epoch 93/100\n",
            "1875/1875 [==============================] - 9s 5ms/step - loss: 0.1591 - accuracy: 0.9403 - val_loss: 0.4481 - val_accuracy: 0.8712\n",
            "Epoch 94/100\n",
            "1875/1875 [==============================] - 9s 5ms/step - loss: 0.1630 - accuracy: 0.9384 - val_loss: 0.4578 - val_accuracy: 0.8769\n",
            "Epoch 95/100\n",
            "1875/1875 [==============================] - 9s 5ms/step - loss: 0.1569 - accuracy: 0.9404 - val_loss: 0.4403 - val_accuracy: 0.8790\n",
            "Epoch 96/100\n",
            "1875/1875 [==============================] - 9s 5ms/step - loss: 0.1614 - accuracy: 0.9384 - val_loss: 0.4305 - val_accuracy: 0.8735\n",
            "Epoch 97/100\n",
            "1875/1875 [==============================] - 10s 5ms/step - loss: 0.1564 - accuracy: 0.9403 - val_loss: 0.4359 - val_accuracy: 0.8754\n",
            "Epoch 98/100\n",
            "1875/1875 [==============================] - 9s 5ms/step - loss: 0.1622 - accuracy: 0.9380 - val_loss: 0.4754 - val_accuracy: 0.8698\n",
            "Epoch 99/100\n",
            "1875/1875 [==============================] - 10s 5ms/step - loss: 0.1551 - accuracy: 0.9416 - val_loss: 0.4392 - val_accuracy: 0.8721\n",
            "Epoch 100/100\n",
            "1875/1875 [==============================] - 9s 5ms/step - loss: 0.1570 - accuracy: 0.9408 - val_loss: 0.4547 - val_accuracy: 0.8688\n"
          ],
          "name": "stdout"
        }
      ]
    },
    {
      "cell_type": "code",
      "metadata": {
        "id": "hinM1JTYsbOw",
        "colab_type": "code",
        "outputId": "69fec5d4-d2c7-49d8-ff9e-40e4eefaac22",
        "colab": {
          "base_uri": "https://localhost:8080/",
          "height": 320
        }
      },
      "source": [
        "plt.figure(figsize=(10, 5))\n",
        "plt.subplot(121)\n",
        "plt.plot(history.history['accuracy'])\n",
        "plt.plot(history.history['val_accuracy'])\n",
        "plt.legend(['train', 'validation'])\n",
        "\n",
        "plt.subplot(122)\n",
        "plt.plot(history.history['loss'])\n",
        "plt.plot(history.history['val_loss'])\n",
        "plt.legend(['train', 'validation'])\n",
        "plt.show()"
      ],
      "execution_count": 0,
      "outputs": [
        {
          "output_type": "display_data",
          "data": {
            "image/png": "[encoded data removed]",
            "text/plain": [
              "<Figure size 720x360 with 2 Axes>"
            ]
          },
          "metadata": {
            "tags": []
          }
        }
      ]
    }
  ]
}
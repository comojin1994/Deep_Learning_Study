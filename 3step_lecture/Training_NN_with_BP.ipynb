{
  "nbformat": 4,
  "nbformat_minor": 0,
  "metadata": {
    "colab": {
      "name": "Training_NN_with_BP.ipynb",
      "provenance": [],
      "authorship_tag": "ABX9TyOb7utY0pMZ0ks3pcQv58ZV",
      "include_colab_link": true
    },
    "kernelspec": {
      "name": "python3",
      "display_name": "Python 3"
    },
    "accelerator": "GPU"
  },
  "cells": [
    {
      "cell_type": "markdown",
      "metadata": {
        "id": "view-in-github",
        "colab_type": "text"
      },
      "source": [
        "<a href=\"https://colab.research.google.com/github/comojin1994/Deep_Learning_Study/blob/master/3step_lecture/Training_NN_with_BP.ipynb\" target=\"_parent\"><img src=\"https://colab.research.google.com/assets/colab-badge.svg\" alt=\"Open In Colab\"/></a>"
      ]
    },
    {
      "cell_type": "code",
      "metadata": {
        "id": "vC-3y6zQwVq0",
        "colab_type": "code",
        "colab": {
          "base_uri": "https://localhost:8080/",
          "height": 35
        },
        "outputId": "7f9852b3-4a1a-46e0-d8d8-6b3658db02de"
      },
      "source": [
        "%tensorflow_version 2.x\n",
        "import tensorflow as tf\n",
        "import numpy as np\n",
        "import time\n",
        "tf.__version__"
      ],
      "execution_count": 3,
      "outputs": [
        {
          "output_type": "execute_result",
          "data": {
            "text/plain": [
              "'2.1.0'"
            ]
          },
          "metadata": {
            "tags": []
          },
          "execution_count": 3
        }
      ]
    },
    {
      "cell_type": "markdown",
      "metadata": {
        "id": "E6fttsGqwtuV",
        "colab_type": "text"
      },
      "source": [
        "### Utility Function"
      ]
    },
    {
      "cell_type": "code",
      "metadata": {
        "id": "Jl58w7Dtwfod",
        "colab_type": "code",
        "colab": {}
      },
      "source": [
        "def _t(x): return np.transpose(x)\n",
        "\n",
        "def _m(A, B): return np.matmul(A, B)"
      ],
      "execution_count": 0,
      "outputs": []
    },
    {
      "cell_type": "markdown",
      "metadata": {
        "id": "wsfGBrB1w6hq",
        "colab_type": "text"
      },
      "source": [
        "### Sigmoid"
      ]
    },
    {
      "cell_type": "code",
      "metadata": {
        "id": "uOZ4-wQfw6KT",
        "colab_type": "code",
        "colab": {}
      },
      "source": [
        "class Sigmoid:\n",
        "    def __init__(self):\n",
        "        self.last_o = 1\n",
        "\n",
        "    def __call__(self, x):\n",
        "        self.last_o = 1 / (1. + np.exp(-x))\n",
        "        return self.last_o\n",
        "\n",
        "    def grad(self):\n",
        "        return self.last_o * (1 - self.last_o)"
      ],
      "execution_count": 0,
      "outputs": []
    },
    {
      "cell_type": "markdown",
      "metadata": {
        "id": "azIgejA1xGmR",
        "colab_type": "text"
      },
      "source": [
        "### MSE"
      ]
    },
    {
      "cell_type": "code",
      "metadata": {
        "id": "5EYnfe3sxHQo",
        "colab_type": "code",
        "colab": {}
      },
      "source": [
        "class MSE:\n",
        "    def __init__(self):\n",
        "        # gradient\n",
        "        self.dh = 1\n",
        "        self.last_diff = 1\n",
        "\n",
        "    def __call__(self, h, y):\n",
        "        self.last_diff = h - y\n",
        "        return 1 / 2 * np.mean(np.square(h - y))\n",
        "    \n",
        "    def grad(self):\n",
        "        return self.last_diff"
      ],
      "execution_count": 0,
      "outputs": []
    },
    {
      "cell_type": "markdown",
      "metadata": {
        "id": "PLGwvPz6xH54",
        "colab_type": "text"
      },
      "source": [
        "### Neuron"
      ]
    },
    {
      "cell_type": "code",
      "metadata": {
        "id": "y4ZSweo3xI0Y",
        "colab_type": "code",
        "colab": {}
      },
      "source": [
        "class Neuron:\n",
        "    def __init__(self, W, b, a_obj):\n",
        "        # Model parameter\n",
        "        self.W = W\n",
        "        self.b = b\n",
        "        self.a = a_obj()\n",
        "\n",
        "        # gradient\n",
        "        self.dW = np.zeros_like(self.W)\n",
        "        self.db = np.zeros_like(self.b)\n",
        "        self.dh = np.zeros_like(_t(self.W))\n",
        "\n",
        "        self.last_x = np.zeros((self.W.shape[0]))\n",
        "        self.last_h = np.zeros((self.W.shape[1]))\n",
        "\n",
        "    def __call__(self, x):\n",
        "        self.last_x = x\n",
        "        self.last_h = _m(_t(self.W), x) + self.b\n",
        "        return self.a(self.last_h)\n",
        "\n",
        "    def grad(self): # dy/dh = W\n",
        "        return self.W * self.a.grad()\n",
        "\n",
        "    def grad_W(self, dh): # dy/dW = x\n",
        "        grad = np.ones_like(self.W)\n",
        "        grad_a = self.a.grad()\n",
        "        for j in range(grad.shape[1]):\n",
        "            grad[:, j] = dh[j] * grad_a[j] * self.last_x\n",
        "        return grad\n",
        "\n",
        "    def grad_b(self, dh):\n",
        "        return dh * self.a.grad()        "
      ],
      "execution_count": 0,
      "outputs": []
    },
    {
      "cell_type": "markdown",
      "metadata": {
        "id": "OrSEDEBSxfi6",
        "colab_type": "text"
      },
      "source": [
        "### Model"
      ]
    },
    {
      "cell_type": "code",
      "metadata": {
        "id": "GJSLc0GTxgtA",
        "colab_type": "code",
        "colab": {}
      },
      "source": [
        "class DNN:\n",
        "    def __init__(self, hidden_depth, num_neuron, num_input, num_output, activation=Sigmoid):\n",
        "        def init_var(i, o):\n",
        "            return np.random.normal(0., 0.01, (i, o)), np.zeros((o, ))\n",
        "        \n",
        "        self.sequence = list()\n",
        "        \n",
        "        # First layer\n",
        "        W, b = init_var(num_input, num_neuron)\n",
        "        self.sequence.append(Neuron(W, b, activation))\n",
        "\n",
        "        # Hidden layers\n",
        "        for _ in range(hidden_depth - 1):\n",
        "            W, b = init_var(num_neuron, num_neuron)\n",
        "            self.sequence.append(Neuron(W, b, activation))\n",
        "        \n",
        "        # Output layer\n",
        "        W, b = init_var(num_neuron, num_output)\n",
        "        self.sequence.append(Neuron(W, b, activation))\n",
        "\n",
        "    def __call__(self, x):\n",
        "        for layer in self.sequence:\n",
        "            x = layer(x)\n",
        "        return x\n",
        "    \n",
        "    def calc_gradient(self, loss_obj):\n",
        "        loss_obj.dh = loss_obj.grad()\n",
        "        self.sequence.append(loss_obj)\n",
        "        \n",
        "        # BP\n",
        "        for i in range(len(self.sequence) - 1, 0, -1):\n",
        "            l1 = self.sequence[i]\n",
        "            l0 = self.sequence[i - 1]\n",
        "\n",
        "            l0.dh = _m(l0.grad(), l1.dh)\n",
        "            l0.dW = l0.grad_W(l1.dh)\n",
        "            l0.db = l0.grad_b(l1.dh)\n",
        "\n",
        "        self.sequence.remove(loss_obj)"
      ],
      "execution_count": 0,
      "outputs": []
    },
    {
      "cell_type": "markdown",
      "metadata": {
        "id": "uaW899FWynz9",
        "colab_type": "text"
      },
      "source": [
        "### Gradient Descent"
      ]
    },
    {
      "cell_type": "code",
      "metadata": {
        "id": "V4otJSxmyvWr",
        "colab_type": "code",
        "colab": {}
      },
      "source": [
        "def gradient_descent(network, x, y, loss_obj, alpha=0.01):\n",
        "    loss = loss_obj(network(x), y) # Forward\n",
        "    network.calc_gradient(loss_obj) # BP\n",
        "    for layer in network.sequence:\n",
        "        layer.W += -alpha * layer.dW\n",
        "        layer.b += -alpha * layer.db\n",
        "    return loss"
      ],
      "execution_count": 0,
      "outputs": []
    },
    {
      "cell_type": "markdown",
      "metadata": {
        "id": "EewIIAxBzJ28",
        "colab_type": "text"
      },
      "source": [
        "### Training"
      ]
    },
    {
      "cell_type": "code",
      "metadata": {
        "id": "a7-0ZyBAzKvw",
        "colab_type": "code",
        "colab": {
          "base_uri": "https://localhost:8080/",
          "height": 1000
        },
        "outputId": "d61a1760-3a8c-4a4c-aab9-8c44b994928f"
      },
      "source": [
        "x = np.random.normal(0., 1., (10, ))\n",
        "y = np.random.normal(0., 1., (2, ))\n",
        "\n",
        "t = time.time()\n",
        "dnn = DNN(hidden_depth=5, num_neuron=32, num_input=10, num_output=2, activation=Sigmoid)\n",
        "loss_obj = MSE()\n",
        "\n",
        "for epoch in range(100):\n",
        "    loss = gradient_descent(dnn, x, y, loss_obj, alpha=0.01)\n",
        "    print('Epoch {}, Test Loss: {}'.format(epoch, loss))\n",
        "print('{} seconds elapse.'.format(time.time() - t))"
      ],
      "execution_count": 37,
      "outputs": [
        {
          "output_type": "stream",
          "text": [
            "Epoch 0, Test Loss: 0.6743494511218002\n",
            "Epoch 1, Test Loss: 0.6668008735268547\n",
            "Epoch 2, Test Loss: 0.6593406193678844\n",
            "Epoch 3, Test Loss: 0.6519727851815206\n",
            "Epoch 4, Test Loss: 0.6447011333231917\n",
            "Epoch 5, Test Loss: 0.6375290876956003\n",
            "Epoch 6, Test Loss: 0.6304597322520952\n",
            "Epoch 7, Test Loss: 0.6234958121285906\n",
            "Epoch 8, Test Loss: 0.6166397372263444\n",
            "Epoch 9, Test Loss: 0.6098935880428367\n",
            "Epoch 10, Test Loss: 0.6032591235292986\n",
            "Epoch 11, Test Loss: 0.5967377907409557\n",
            "Epoch 12, Test Loss: 0.5903307360394767\n",
            "Epoch 13, Test Loss: 0.5840388176059621\n",
            "Epoch 14, Test Loss: 0.5778626190264762\n",
            "Epoch 15, Test Loss: 0.5718024637199841\n",
            "Epoch 16, Test Loss: 0.5658584299898552\n",
            "Epoch 17, Test Loss: 0.5600303664941703\n",
            "Epoch 18, Test Loss: 0.5543179079461995\n",
            "Epoch 19, Test Loss: 0.5487204908739629\n",
            "Epoch 20, Test Loss: 0.5432373692861494\n",
            "Epoch 21, Test Loss: 0.5378676301103335\n",
            "Epoch 22, Test Loss: 0.5326102082879234\n",
            "Epoch 23, Test Loss: 0.5274639014282492\n",
            "Epoch 24, Test Loss: 0.5224273839413297\n",
            "Epoch 25, Test Loss: 0.5174992205849323\n",
            "Epoch 26, Test Loss: 0.5126778793763905\n",
            "Epoch 27, Test Loss: 0.5079617438331595\n",
            "Epoch 28, Test Loss: 0.5033491245182273\n",
            "Epoch 29, Test Loss: 0.49883826987723967\n",
            "Epoch 30, Test Loss: 0.4944273763635624\n",
            "Epoch 31, Test Loss: 0.49011459785555567\n",
            "Epoch 32, Test Loss: 0.4858980543771291\n",
            "Epoch 33, Test Loss: 0.48177584013828434\n",
            "Epoch 34, Test Loss: 0.477746030916921\n",
            "Epoch 35, Test Loss: 0.4738066908067785\n",
            "Epoch 36, Test Loss: 0.4699558783591333\n",
            "Epoch 37, Test Loss: 0.4661916521478396\n",
            "Epoch 38, Test Loss: 0.46251207578861797\n",
            "Epoch 39, Test Loss: 0.4589152224442342\n",
            "Epoch 40, Test Loss: 0.4553991788474609\n",
            "Epoch 41, Test Loss: 0.4519620488735634\n",
            "Epoch 42, Test Loss: 0.44860195669355984\n",
            "Epoch 43, Test Loss: 0.4453170495387416\n",
            "Epoch 44, Test Loss: 0.44210550010596994\n",
            "Epoch 45, Test Loss: 0.4389655086321189\n",
            "Epoch 46, Test Loss: 0.4358953046647782\n",
            "Epoch 47, Test Loss: 0.4328931485549831\n",
            "Epoch 48, Test Loss: 0.4299573326963438\n",
            "Epoch 49, Test Loss: 0.427086182533522\n",
            "Epoch 50, Test Loss: 0.424278057361579\n",
            "Epoch 51, Test Loss: 0.42153135093630945\n",
            "Epoch 52, Test Loss: 0.4188444919142875\n",
            "Epoch 53, Test Loss: 0.4162159441400143\n",
            "Epoch 54, Test Loss: 0.41364420679626035\n",
            "Epoch 55, Test Loss: 0.4111278144324524\n",
            "Epoch 56, Test Loss: 0.4086653368847828\n",
            "Epoch 57, Test Loss: 0.4062553791005918\n",
            "Epoch 58, Test Loss: 0.403896580878526\n",
            "Epoch 59, Test Loss: 0.4015876165349808\n",
            "Epoch 60, Test Loss: 0.39932719450641063\n",
            "Epoch 61, Test Loss: 0.39711405689622115\n",
            "Epoch 62, Test Loss: 0.39494697897416126\n",
            "Epoch 63, Test Loss: 0.3928247686353732\n",
            "Epoch 64, Test Loss: 0.390746265825585\n",
            "Epoch 65, Test Loss: 0.38871034193827625\n",
            "Epoch 66, Test Loss: 0.386715899189073\n",
            "Epoch 67, Test Loss: 0.38476186997208306\n",
            "Epoch 68, Test Loss: 0.3828472162023872\n",
            "Epoch 69, Test Loss: 0.38097092864845516\n",
            "Epoch 70, Test Loss: 0.3791320262578324\n",
            "Epoch 71, Test Loss: 0.3773295554790755\n",
            "Epoch 72, Test Loss: 0.37556258958256444\n",
            "Epoch 73, Test Loss: 0.37383022798250876\n",
            "Epoch 74, Test Loss: 0.37213159556218345\n",
            "Epoch 75, Test Loss: 0.3704658420041701\n",
            "Epoch 76, Test Loss: 0.36883214112714846\n",
            "Epoch 77, Test Loss: 0.36722969023057433\n",
            "Epoch 78, Test Loss: 0.36565770944838716\n",
            "Epoch 79, Test Loss: 0.3641154411127241\n",
            "Epoch 80, Test Loss: 0.3626021491284611\n",
            "Epoch 81, Test Loss: 0.3611171183592665\n",
            "Epoch 82, Test Loss: 0.3596596540257282\n",
            "Epoch 83, Test Loss: 0.35822908111600515\n",
            "Epoch 84, Test Loss: 0.3568247438093585\n",
            "Epoch 85, Test Loss: 0.35544600491282774\n",
            "Epoch 86, Test Loss: 0.35409224531123945\n",
            "Epoch 87, Test Loss: 0.3527628634306733\n",
            "Epoch 88, Test Loss: 0.3514572747154404\n",
            "Epoch 89, Test Loss: 0.35017491111858606\n",
            "Epoch 90, Test Loss: 0.3489152206058729\n",
            "Epoch 91, Test Loss: 0.34767766667316835\n",
            "Epoch 92, Test Loss: 0.34646172787711815\n",
            "Epoch 93, Test Loss: 0.3452668973789615\n",
            "Epoch 94, Test Loss: 0.34409268250131614\n",
            "Epoch 95, Test Loss: 0.34293860429773804\n",
            "Epoch 96, Test Loss: 0.3418041971348433\n",
            "Epoch 97, Test Loss: 0.34068900828676374\n",
            "Epoch 98, Test Loss: 0.33959259754169435\n",
            "Epoch 99, Test Loss: 0.33851453682027965\n",
            "0.09580564498901367 seconds elapse.\n"
          ],
          "name": "stdout"
        }
      ]
    }
  ]
}
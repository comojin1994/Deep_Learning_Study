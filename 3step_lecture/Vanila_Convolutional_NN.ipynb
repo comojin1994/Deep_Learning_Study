{
  "nbformat": 4,
  "nbformat_minor": 0,
  "metadata": {
    "colab": {
      "name": "Vanila_Convolutional_NN.ipynb",
      "provenance": [],
      "authorship_tag": "ABX9TyO2vCsay0JtyoUKjLFW2JEG",
      "include_colab_link": true
    },
    "kernelspec": {
      "name": "python3",
      "display_name": "Python 3"
    },
    "accelerator": "GPU"
  },
  "cells": [
    {
      "cell_type": "markdown",
      "metadata": {
        "id": "view-in-github",
        "colab_type": "text"
      },
      "source": [
        "<a href=\"https://colab.research.google.com/github/comojin1994/Deep_Learning_Study/blob/master/3step_lecture/Vanila_Convolutional_NN.ipynb\" target=\"_parent\"><img src=\"https://colab.research.google.com/assets/colab-badge.svg\" alt=\"Open In Colab\"/></a>"
      ]
    },
    {
      "cell_type": "code",
      "metadata": {
        "id": "Nu3xz5zAFtT_",
        "colab_type": "code",
        "colab": {
          "base_uri": "https://localhost:8080/",
          "height": 52
        },
        "outputId": "62b176c7-e6df-4605-b4c7-fe9c5730ce6c"
      },
      "source": [
        "%tensorflow_version 2.x\n",
        "import tensorflow as tf\n",
        "import numpy as np\n",
        "tf.__version__"
      ],
      "execution_count": 1,
      "outputs": [
        {
          "output_type": "stream",
          "text": [
            "TensorFlow 2.x selected.\n"
          ],
          "name": "stdout"
        },
        {
          "output_type": "execute_result",
          "data": {
            "text/plain": [
              "'2.1.0'"
            ]
          },
          "metadata": {
            "tags": []
          },
          "execution_count": 1
        }
      ]
    },
    {
      "cell_type": "markdown",
      "metadata": {
        "id": "UJfw2dxEGJau",
        "colab_type": "text"
      },
      "source": [
        "### Hyperparameter"
      ]
    },
    {
      "cell_type": "code",
      "metadata": {
        "id": "LXxmTyO2F4XY",
        "colab_type": "code",
        "colab": {}
      },
      "source": [
        "EPOCHS = 10"
      ],
      "execution_count": 0,
      "outputs": []
    },
    {
      "cell_type": "markdown",
      "metadata": {
        "id": "Zt5VciMkGOFs",
        "colab_type": "text"
      },
      "source": [
        "### Model"
      ]
    },
    {
      "cell_type": "code",
      "metadata": {
        "id": "r4zilwumGNye",
        "colab_type": "code",
        "colab": {}
      },
      "source": [
        "class ConvNet(tf.keras.Model):\n",
        "    def __init__(self):\n",
        "        super(ConvNet, self).__init__()\n",
        "        conv2d = tf.keras.layers.Conv2D\n",
        "        maxpool = tf.keras.layers.MaxPool2D\n",
        "        self.sequence = list()\n",
        "        self.sequence.append(conv2d(16, 3, 1, padding='same', activation='relu')) # 28x28x16\n",
        "        self.sequence.append(conv2d(16, 3, 1, padding='same', activation='relu')) # 28x28x16\n",
        "        self.sequence.append(maxpool(2)) # 14x14x16\n",
        "\n",
        "        self.sequence.append(conv2d(32, 3, 1, padding='same', activation='relu')) # 14x14x32\n",
        "        self.sequence.append(conv2d(32, 3, 1, padding='same', activation='relu')) # 14x14x32\n",
        "        self.sequence.append(maxpool(2)) # 7x7x32\n",
        "\n",
        "        self.sequence.append(conv2d(64, 3, 1, padding='same', activation='relu')) # 7x7x64\n",
        "        self.sequence.append(conv2d(64, 3, 1, padding='same', activation='relu')) # 7x7x64\n",
        "        \n",
        "        self.sequence.append(tf.keras.layers.Flatten()) # 1568\n",
        "        self.sequence.append(tf.keras.layers.Dense(2048, activation='relu'))\n",
        "        self.sequence.append(tf.keras.layers.Dense(10, activation='softmax'))\n",
        "\n",
        "    def call(self, x, training=False, mask=None):\n",
        "        for layer in self.sequence:\n",
        "            x = layer(x)\n",
        "        return x"
      ],
      "execution_count": 0,
      "outputs": []
    },
    {
      "cell_type": "markdown",
      "metadata": {
        "id": "39fWN0GSJPpC",
        "colab_type": "text"
      },
      "source": [
        "### Define Training, Test loop"
      ]
    },
    {
      "cell_type": "code",
      "metadata": {
        "id": "5sNpJSIUInxH",
        "colab_type": "code",
        "colab": {}
      },
      "source": [
        "@tf.function\n",
        "def train_step(model, images, labels, loss_object, optimizer, train_loss, train_accuracy):\n",
        "    with tf.GradientTape() as tape:\n",
        "        predictions = model(images)\n",
        "        loss = loss_object(labels, predictions)\n",
        "    gradients = tape.gradient(loss, model.trainable_variables)\n",
        "\n",
        "    optimizer.apply_gradients(zip(gradients, model.trainable_variables))\n",
        "    train_loss(loss)\n",
        "    train_accuracy(labels, predictions)\n",
        "\n",
        "@tf.function\n",
        "def test_step(model, images, labels, loss_object, test_loss, test_accuracy):\n",
        "    predictions = model(images)\n",
        "    loss = loss_object(labels, predictions)\n",
        "\n",
        "    test_loss(loss)\n",
        "    test_accuracy(labels, predictions)"
      ],
      "execution_count": 0,
      "outputs": []
    },
    {
      "cell_type": "markdown",
      "metadata": {
        "id": "yq5FpjdPKMUR",
        "colab_type": "text"
      },
      "source": [
        "### Load Data"
      ]
    },
    {
      "cell_type": "code",
      "metadata": {
        "id": "-AjVt6HVJhdr",
        "colab_type": "code",
        "colab": {}
      },
      "source": [
        "mnist = tf.keras.datasets.mnist\n",
        "\n",
        "(x_train, y_train), (x_test, y_test) = mnist.load_data()\n",
        "x_train, x_test = x_train / 255., x_test / 255.\n",
        "\n",
        "x_train = x_train[..., tf.newaxis].astype(np.float32)\n",
        "x_test = x_test[..., tf.newaxis].astype(np.float32)\n",
        "\n",
        "train_ds = tf.data.Dataset.from_tensor_slices((x_train, y_train)).shuffle(10000).batch(32)\n",
        "test_ds = tf.data.Dataset.from_tensor_slices((x_test, y_test)).batch(32)"
      ],
      "execution_count": 0,
      "outputs": []
    },
    {
      "cell_type": "markdown",
      "metadata": {
        "id": "7HCB8dveO4tb",
        "colab_type": "text"
      },
      "source": [
        "### Define model, loss, optimizer and metrics"
      ]
    },
    {
      "cell_type": "code",
      "metadata": {
        "id": "5BIKpCnbO182",
        "colab_type": "code",
        "colab": {}
      },
      "source": [
        "# Create Model\n",
        "model = ConvNet()\n",
        "\n",
        "# Define loss and optimizer\n",
        "loss_object = tf.keras.losses.SparseCategoricalCrossentropy()\n",
        "optimizer = tf.keras.optimizers.Adam()\n",
        "\n",
        "# Define metrics\n",
        "train_loss = tf.keras.metrics.Mean(name='train_loss')\n",
        "train_accuracy = tf.keras.metrics.SparseCategoricalAccuracy(name='train_accuracy')\n",
        "\n",
        "test_loss = tf.keras.metrics.Mean(name='test_loss')\n",
        "test_accuracy = tf.keras.metrics.SparseCategoricalAccuracy(name='test_accuracy')"
      ],
      "execution_count": 0,
      "outputs": []
    },
    {
      "cell_type": "markdown",
      "metadata": {
        "id": "reuuqh0xQDUL",
        "colab_type": "text"
      },
      "source": [
        "### Training"
      ]
    },
    {
      "cell_type": "code",
      "metadata": {
        "id": "Kw5OlWokPzK3",
        "colab_type": "code",
        "colab": {
          "base_uri": "https://localhost:8080/",
          "height": 193
        },
        "outputId": "d9048169-6eb8-4752-e3fd-be10489e8473"
      },
      "source": [
        "for epoch in range(EPOCHS):\n",
        "    for images, labels in train_ds:\n",
        "        train_step(model, images, labels, loss_object, optimizer, train_loss, train_accuracy)\n",
        "\n",
        "    for test_images, test_labels in test_ds:\n",
        "        test_step(model, test_images, test_labels, loss_object, test_loss, test_accuracy)\n",
        "\n",
        "    template = 'Epoch {}, Loss: {}, Accuracy: {}, Test Loss: {}, Test Accuracy: {}'\n",
        "    print(template.format(\n",
        "          epoch + 1,\n",
        "          train_loss.result(),\n",
        "          train_accuracy.result() * 100,\n",
        "          test_loss.result(),\n",
        "          test_accuracy.result() * 100\n",
        "    ))"
      ],
      "execution_count": 8,
      "outputs": [
        {
          "output_type": "stream",
          "text": [
            "Epoch 1, Loss: 0.10976364463567734, Accuracy: 96.6433334350586, Test Loss: 0.048773523420095444, Test Accuracy: 98.45999908447266\n",
            "Epoch 2, Loss: 0.07689350098371506, Accuracy: 97.63833618164062, Test Loss: 0.04366962984204292, Test Accuracy: 98.63500213623047\n",
            "Epoch 3, Loss: 0.06253419816493988, Accuracy: 98.08499908447266, Test Loss: 0.040633589029312134, Test Accuracy: 98.73999786376953\n",
            "Epoch 4, Loss: 0.053558167070150375, Accuracy: 98.36458587646484, Test Loss: 0.03976321965456009, Test Accuracy: 98.75749969482422\n",
            "Epoch 5, Loss: 0.0477285236120224, Accuracy: 98.53600311279297, Test Loss: 0.038772184401750565, Test Accuracy: 98.82599639892578\n",
            "Epoch 6, Loss: 0.04318998381495476, Accuracy: 98.67333221435547, Test Loss: 0.0380406491458416, Test Accuracy: 98.86666870117188\n",
            "Epoch 7, Loss: 0.03951335698366165, Accuracy: 98.78881072998047, Test Loss: 0.036775730550289154, Test Accuracy: 98.92713928222656\n",
            "Epoch 8, Loss: 0.03685711324214935, Accuracy: 98.87354278564453, Test Loss: 0.03655810281634331, Test Accuracy: 98.9312515258789\n",
            "Epoch 9, Loss: 0.034488920122385025, Accuracy: 98.94537353515625, Test Loss: 0.03624211996793747, Test Accuracy: 98.95555114746094\n",
            "Epoch 10, Loss: 0.03259750083088875, Accuracy: 99.00616455078125, Test Loss: 0.035525593906641006, Test Accuracy: 98.96699523925781\n"
          ],
          "name": "stdout"
        }
      ]
    },
    {
      "cell_type": "code",
      "metadata": {
        "id": "-XqsKvyXSFa9",
        "colab_type": "code",
        "colab": {
          "base_uri": "https://localhost:8080/",
          "height": 545
        },
        "outputId": "88f0562a-7b95-424b-c330-6863553d31bc"
      },
      "source": [
        "model.summary()"
      ],
      "execution_count": 9,
      "outputs": [
        {
          "output_type": "stream",
          "text": [
            "Model: \"conv_net\"\n",
            "_________________________________________________________________\n",
            "Layer (type)                 Output Shape              Param #   \n",
            "=================================================================\n",
            "conv2d (Conv2D)              multiple                  160       \n",
            "_________________________________________________________________\n",
            "conv2d_1 (Conv2D)            multiple                  2320      \n",
            "_________________________________________________________________\n",
            "max_pooling2d (MaxPooling2D) multiple                  0         \n",
            "_________________________________________________________________\n",
            "conv2d_2 (Conv2D)            multiple                  4640      \n",
            "_________________________________________________________________\n",
            "conv2d_3 (Conv2D)            multiple                  9248      \n",
            "_________________________________________________________________\n",
            "max_pooling2d_1 (MaxPooling2 multiple                  0         \n",
            "_________________________________________________________________\n",
            "conv2d_4 (Conv2D)            multiple                  18496     \n",
            "_________________________________________________________________\n",
            "conv2d_5 (Conv2D)            multiple                  36928     \n",
            "_________________________________________________________________\n",
            "flatten (Flatten)            multiple                  0         \n",
            "_________________________________________________________________\n",
            "dense (Dense)                multiple                  6424576   \n",
            "_________________________________________________________________\n",
            "dense_1 (Dense)              multiple                  20490     \n",
            "=================================================================\n",
            "Total params: 6,516,858\n",
            "Trainable params: 6,516,858\n",
            "Non-trainable params: 0\n",
            "_________________________________________________________________\n"
          ],
          "name": "stdout"
        }
      ]
    }
  ]
}
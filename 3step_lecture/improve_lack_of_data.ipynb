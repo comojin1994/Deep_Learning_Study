{
  "nbformat": 4,
  "nbformat_minor": 0,
  "metadata": {
    "colab": {
      "name": "improve_lack_of_data.ipynb",
      "provenance": [],
      "authorship_tag": "ABX9TyPgbfpzx3bYG3w1T318x3ku",
      "include_colab_link": true
    },
    "kernelspec": {
      "name": "python3",
      "display_name": "Python 3"
    },
    "accelerator": "GPU"
  },
  "cells": [
    {
      "cell_type": "markdown",
      "metadata": {
        "id": "view-in-github",
        "colab_type": "text"
      },
      "source": [
        "<a href=\"https://colab.research.google.com/github/comojin1994/Deep_Learning_Study/blob/master/3step_lecture/improve_lack_of_data.ipynb\" target=\"_parent\"><img src=\"https://colab.research.google.com/assets/colab-badge.svg\" alt=\"Open In Colab\"/></a>"
      ]
    },
    {
      "cell_type": "code",
      "metadata": {
        "id": "Cdkj8mF8t6dq",
        "colab_type": "code",
        "colab": {
          "base_uri": "https://localhost:8080/",
          "height": 142
        },
        "outputId": "addfb775-2316-4e58-a89d-b8037a6a54a7"
      },
      "source": [
        "%tensorflow_version 2.x\n",
        "import tensorflow as tf\n",
        "import numpy as np\n",
        "import matplotlib.pyplot as plt\n",
        "import random\n",
        "from imblearn.over_sampling import BorderlineSMOTE\n",
        "%matplotlib inline\n",
        "tf.__version__"
      ],
      "execution_count": 1,
      "outputs": [
        {
          "output_type": "stream",
          "text": [
            "TensorFlow 2.x selected.\n"
          ],
          "name": "stdout"
        },
        {
          "output_type": "stream",
          "text": [
            "/usr/local/lib/python3.6/dist-packages/sklearn/externals/six.py:31: FutureWarning: The module is deprecated in version 0.21 and will be removed in version 0.23 since we've dropped support for Python 2.7. Please rely on the official version of six (https://pypi.org/project/six/).\n",
            "  \"(https://pypi.org/project/six/).\", FutureWarning)\n",
            "/usr/local/lib/python3.6/dist-packages/sklearn/utils/deprecation.py:144: FutureWarning: The sklearn.neighbors.base module is  deprecated in version 0.22 and will be removed in version 0.24. The corresponding classes / functions should instead be imported from sklearn.neighbors. Anything that cannot be imported from sklearn.neighbors is now part of the private API.\n",
            "  warnings.warn(message, FutureWarning)\n"
          ],
          "name": "stderr"
        },
        {
          "output_type": "execute_result",
          "data": {
            "text/plain": [
              "'2.1.0'"
            ]
          },
          "metadata": {
            "tags": []
          },
          "execution_count": 1
        }
      ]
    },
    {
      "cell_type": "markdown",
      "metadata": {
        "id": "_Fm1AZ7FuQyR",
        "colab_type": "text"
      },
      "source": [
        "### Hyperparameter"
      ]
    },
    {
      "cell_type": "code",
      "metadata": {
        "id": "j1Yva9Q5ubDk",
        "colab_type": "code",
        "colab": {}
      },
      "source": [
        "EPOCHS = 100"
      ],
      "execution_count": 0,
      "outputs": []
    },
    {
      "cell_type": "markdown",
      "metadata": {
        "id": "QzWRU7D1ub-z",
        "colab_type": "text"
      },
      "source": [
        "### Model"
      ]
    },
    {
      "cell_type": "code",
      "metadata": {
        "id": "W0uUf44Luf2x",
        "colab_type": "code",
        "colab": {}
      },
      "source": [
        "class MyModel(tf.keras.Model):\n",
        "    def __init__(self):\n",
        "        super(MyModel, self).__init__()\n",
        "        self.flatten = tf.keras.layers.Flatten()\n",
        "        self.dense1 = tf.keras.layers.Dense(1024, activation='relu')\n",
        "        self.dense2 = tf.keras.layers.Dense(1, activation='sigmoid')\n",
        "\n",
        "    def call(self, x, training=False, mask=None):\n",
        "        x = self.flatten(x)\n",
        "        x = self.dense1(x)\n",
        "        return self.dense2(x)"
      ],
      "execution_count": 0,
      "outputs": []
    },
    {
      "cell_type": "markdown",
      "metadata": {
        "id": "Yhv-tCOFu2o7",
        "colab_type": "text"
      },
      "source": [
        "### Load Data(imbalance)"
      ]
    },
    {
      "cell_type": "code",
      "metadata": {
        "id": "6NLgKz7bu5qh",
        "colab_type": "code",
        "colab": {
          "base_uri": "https://localhost:8080/",
          "height": 52
        },
        "outputId": "4a64ff33-1295-40bb-b325-6e2b153f7026"
      },
      "source": [
        "cifar10 = tf.keras.datasets.cifar10 # 32x32x3\n",
        "\n",
        "(x_train, y_train), (x_test, y_test) = cifar10.load_data()\n",
        "x_train, x_test = x_train / 255.0, x_test / 255.0\n",
        "\n",
        "# TODO: 학습 데이터를 Imbalanced small dataset으로 변형하기\n",
        "x_train_small = list()\n",
        "y_train_small = list()\n",
        "for x, y in zip(x_train, y_train):\n",
        "    if (y == 0 and random.randint(0, 100) < 10) or y == 1:\n",
        "        x_train_small.append(x[:])\n",
        "        y_train_small.append(y)\n",
        "\n",
        "x_test_small = list()\n",
        "y_test_small = list()\n",
        "for x, y in zip(x_test, y_test):\n",
        "    if y == 0 or y == 1:\n",
        "        x_test_small.append(x[:])\n",
        "        y_test_small.append(y)\n",
        "\n",
        "x_train = np.stack(x_train_small, axis=0)\n",
        "y_train = np.stack(y_train_small, axis=0)\n",
        "\n",
        "x_test = np.stack(x_test_small, axis=0)\n",
        "y_test = np.stack(y_test_small, axis=0)\n",
        "\n",
        "train_ds = tf.data.Dataset.from_tensor_slices((x_train, y_train)).shuffle(10000).batch(32).prefetch(2048)\n",
        "test_ds = tf.data.Dataset.from_tensor_slices((x_test, y_test)).batch(32).prefetch(2048)"
      ],
      "execution_count": 4,
      "outputs": [
        {
          "output_type": "stream",
          "text": [
            "Downloading data from https://www.cs.toronto.edu/~kriz/cifar-10-python.tar.gz\n",
            "170500096/170498071 [==============================] - 4s 0us/step\n"
          ],
          "name": "stdout"
        }
      ]
    },
    {
      "cell_type": "markdown",
      "metadata": {
        "id": "bdKUxRR4wraE",
        "colab_type": "text"
      },
      "source": [
        "### Training with imbalance data"
      ]
    },
    {
      "cell_type": "code",
      "metadata": {
        "id": "uoNPOCMVwumk",
        "colab_type": "code",
        "colab": {}
      },
      "source": [
        "model = MyModel()\n",
        "\n",
        "loss_object = 'binary_crossentropy'\n",
        "optimizer = tf.keras.optimizers.Adam()\n",
        "metrics = ['accuracy',\n",
        "           tf.keras.metrics.Precision(name='precision'),\n",
        "           tf.keras.metrics.Recall(name='recall')]\n",
        "model.compile(optimizer=optimizer, loss=loss_object, metrics=metrics)"
      ],
      "execution_count": 0,
      "outputs": []
    },
    {
      "cell_type": "code",
      "metadata": {
        "id": "b235F-P5w_Iw",
        "colab_type": "code",
        "colab": {
          "base_uri": "https://localhost:8080/",
          "height": 1000
        },
        "outputId": "4e182962-d004-4172-c329-73ab3bff52fe"
      },
      "source": [
        "history = model.fit(train_ds,\n",
        "                    epochs=EPOCHS,\n",
        "                    validation_data=test_ds)"
      ],
      "execution_count": 8,
      "outputs": [
        {
          "output_type": "stream",
          "text": [
            "Train for 172 steps, validate for 63 steps\n",
            "Epoch 1/100\n",
            "172/172 [==============================] - 3s 19ms/step - loss: 0.4653 - accuracy: 0.9032 - precision: 0.9187 - recall: 0.9804 - val_loss: 0.7737 - val_accuracy: 0.6030 - val_precision: 0.5582 - val_recall: 0.9880\n",
            "Epoch 2/100\n",
            "172/172 [==============================] - 1s 6ms/step - loss: 0.2531 - accuracy: 0.9152 - precision: 0.9263 - recall: 0.9852 - val_loss: 0.6172 - val_accuracy: 0.7035 - val_precision: 0.6326 - val_recall: 0.9710\n",
            "Epoch 3/100\n",
            "172/172 [==============================] - 1s 6ms/step - loss: 0.2302 - accuracy: 0.9205 - precision: 0.9323 - recall: 0.9840 - val_loss: 0.7496 - val_accuracy: 0.6355 - val_precision: 0.5796 - val_recall: 0.9870\n",
            "Epoch 4/100\n",
            "172/172 [==============================] - 1s 6ms/step - loss: 0.2207 - accuracy: 0.9209 - precision: 0.9345 - recall: 0.9818 - val_loss: 0.7180 - val_accuracy: 0.6605 - val_precision: 0.5967 - val_recall: 0.9900\n",
            "Epoch 5/100\n",
            "172/172 [==============================] - 1s 6ms/step - loss: 0.2075 - accuracy: 0.9274 - precision: 0.9398 - recall: 0.9832 - val_loss: 0.5481 - val_accuracy: 0.7490 - val_precision: 0.6732 - val_recall: 0.9680\n",
            "Epoch 6/100\n",
            "172/172 [==============================] - 1s 6ms/step - loss: 0.1969 - accuracy: 0.9296 - precision: 0.9430 - recall: 0.9820 - val_loss: 0.8430 - val_accuracy: 0.6385 - val_precision: 0.5814 - val_recall: 0.9890\n",
            "Epoch 7/100\n",
            "172/172 [==============================] - 1s 6ms/step - loss: 0.2018 - accuracy: 0.9291 - precision: 0.9417 - recall: 0.9828 - val_loss: 1.1498 - val_accuracy: 0.5720 - val_precision: 0.5390 - val_recall: 0.9940\n",
            "Epoch 8/100\n",
            "172/172 [==============================] - 1s 6ms/step - loss: 0.1929 - accuracy: 0.9294 - precision: 0.9438 - recall: 0.9808 - val_loss: 0.9238 - val_accuracy: 0.6430 - val_precision: 0.5842 - val_recall: 0.9920\n",
            "Epoch 9/100\n",
            "172/172 [==============================] - 1s 6ms/step - loss: 0.1787 - accuracy: 0.9365 - precision: 0.9485 - recall: 0.9836 - val_loss: 0.5285 - val_accuracy: 0.7810 - val_precision: 0.7060 - val_recall: 0.9630\n",
            "Epoch 10/100\n",
            "172/172 [==============================] - 1s 6ms/step - loss: 0.1735 - accuracy: 0.9365 - precision: 0.9490 - recall: 0.9830 - val_loss: 0.7632 - val_accuracy: 0.6990 - val_precision: 0.6269 - val_recall: 0.9830\n",
            "Epoch 11/100\n",
            "172/172 [==============================] - 1s 6ms/step - loss: 0.1650 - accuracy: 0.9367 - precision: 0.9508 - recall: 0.9812 - val_loss: 0.4643 - val_accuracy: 0.8155 - val_precision: 0.7459 - val_recall: 0.9570\n",
            "Epoch 12/100\n",
            "172/172 [==============================] - 1s 6ms/step - loss: 0.1668 - accuracy: 0.9376 - precision: 0.9500 - recall: 0.9832 - val_loss: 0.4439 - val_accuracy: 0.8175 - val_precision: 0.7526 - val_recall: 0.9460\n",
            "Epoch 13/100\n",
            "172/172 [==============================] - 1s 6ms/step - loss: 0.1588 - accuracy: 0.9392 - precision: 0.9534 - recall: 0.9812 - val_loss: 0.4410 - val_accuracy: 0.8250 - val_precision: 0.7604 - val_recall: 0.9490\n",
            "Epoch 14/100\n",
            "172/172 [==============================] - 1s 6ms/step - loss: 0.1614 - accuracy: 0.9422 - precision: 0.9553 - recall: 0.9824 - val_loss: 0.5977 - val_accuracy: 0.7690 - val_precision: 0.6908 - val_recall: 0.9740\n",
            "Epoch 15/100\n",
            "172/172 [==============================] - 1s 6ms/step - loss: 0.1473 - accuracy: 0.9454 - precision: 0.9576 - recall: 0.9836 - val_loss: 0.5173 - val_accuracy: 0.8040 - val_precision: 0.7275 - val_recall: 0.9720\n",
            "Epoch 16/100\n",
            "172/172 [==============================] - 1s 6ms/step - loss: 0.1474 - accuracy: 0.9432 - precision: 0.9580 - recall: 0.9806 - val_loss: 0.7019 - val_accuracy: 0.7445 - val_precision: 0.6642 - val_recall: 0.9890\n",
            "Epoch 17/100\n",
            "172/172 [==============================] - 1s 6ms/step - loss: 0.1349 - accuracy: 0.9498 - precision: 0.9599 - recall: 0.9860 - val_loss: 0.7886 - val_accuracy: 0.7205 - val_precision: 0.6435 - val_recall: 0.9890\n",
            "Epoch 18/100\n",
            "172/172 [==============================] - 1s 6ms/step - loss: 0.1324 - accuracy: 0.9491 - precision: 0.9608 - recall: 0.9842 - val_loss: 0.4582 - val_accuracy: 0.8270 - val_precision: 0.7604 - val_recall: 0.9550\n",
            "Epoch 19/100\n",
            "172/172 [==============================] - 1s 6ms/step - loss: 0.1285 - accuracy: 0.9487 - precision: 0.9613 - recall: 0.9832 - val_loss: 0.4670 - val_accuracy: 0.8310 - val_precision: 0.7602 - val_recall: 0.9670\n",
            "Epoch 20/100\n",
            "172/172 [==============================] - 1s 6ms/step - loss: 0.1308 - accuracy: 0.9485 - precision: 0.9627 - recall: 0.9814 - val_loss: 0.9136 - val_accuracy: 0.6925 - val_precision: 0.6202 - val_recall: 0.9930\n",
            "Epoch 21/100\n",
            "172/172 [==============================] - 1s 6ms/step - loss: 0.1253 - accuracy: 0.9525 - precision: 0.9631 - recall: 0.9856 - val_loss: 1.2480 - val_accuracy: 0.6315 - val_precision: 0.5763 - val_recall: 0.9930\n",
            "Epoch 22/100\n",
            "172/172 [==============================] - 1s 6ms/step - loss: 0.1228 - accuracy: 0.9509 - precision: 0.9632 - recall: 0.9836 - val_loss: 1.0009 - val_accuracy: 0.6800 - val_precision: 0.6112 - val_recall: 0.9890\n",
            "Epoch 23/100\n",
            "172/172 [==============================] - 1s 6ms/step - loss: 0.1177 - accuracy: 0.9538 - precision: 0.9655 - recall: 0.9844 - val_loss: 0.5204 - val_accuracy: 0.8220 - val_precision: 0.7500 - val_recall: 0.9660\n",
            "Epoch 24/100\n",
            "172/172 [==============================] - 1s 6ms/step - loss: 0.1115 - accuracy: 0.9565 - precision: 0.9670 - recall: 0.9858 - val_loss: 0.5300 - val_accuracy: 0.8195 - val_precision: 0.7456 - val_recall: 0.9700\n",
            "Epoch 25/100\n",
            "172/172 [==============================] - 1s 6ms/step - loss: 0.1145 - accuracy: 0.9549 - precision: 0.9668 - recall: 0.9842 - val_loss: 0.7392 - val_accuracy: 0.7500 - val_precision: 0.6703 - val_recall: 0.9840\n",
            "Epoch 26/100\n",
            "172/172 [==============================] - 1s 6ms/step - loss: 0.1054 - accuracy: 0.9607 - precision: 0.9712 - recall: 0.9860 - val_loss: 0.6814 - val_accuracy: 0.7920 - val_precision: 0.7122 - val_recall: 0.9800\n",
            "Epoch 27/100\n",
            "172/172 [==============================] - 1s 6ms/step - loss: 0.0996 - accuracy: 0.9618 - precision: 0.9718 - recall: 0.9866 - val_loss: 0.6041 - val_accuracy: 0.8000 - val_precision: 0.7212 - val_recall: 0.9780\n",
            "Epoch 28/100\n",
            "172/172 [==============================] - 1s 6ms/step - loss: 0.1014 - accuracy: 0.9605 - precision: 0.9718 - recall: 0.9852 - val_loss: 0.6138 - val_accuracy: 0.8050 - val_precision: 0.7269 - val_recall: 0.9770\n",
            "Epoch 29/100\n",
            "172/172 [==============================] - 1s 6ms/step - loss: 0.0929 - accuracy: 0.9636 - precision: 0.9721 - recall: 0.9884 - val_loss: 0.8727 - val_accuracy: 0.7335 - val_precision: 0.6554 - val_recall: 0.9850\n",
            "Epoch 30/100\n",
            "172/172 [==============================] - 1s 6ms/step - loss: 0.1053 - accuracy: 0.9598 - precision: 0.9716 - recall: 0.9846 - val_loss: 0.6108 - val_accuracy: 0.7975 - val_precision: 0.7196 - val_recall: 0.9750\n",
            "Epoch 31/100\n",
            "172/172 [==============================] - 1s 6ms/step - loss: 0.0945 - accuracy: 0.9642 - precision: 0.9741 - recall: 0.9868 - val_loss: 0.7703 - val_accuracy: 0.7715 - val_precision: 0.6911 - val_recall: 0.9820\n",
            "Epoch 32/100\n",
            "172/172 [==============================] - 1s 6ms/step - loss: 0.0920 - accuracy: 0.9643 - precision: 0.9740 - recall: 0.9872 - val_loss: 0.6542 - val_accuracy: 0.7945 - val_precision: 0.7154 - val_recall: 0.9780\n",
            "Epoch 33/100\n",
            "172/172 [==============================] - 1s 6ms/step - loss: 0.0858 - accuracy: 0.9656 - precision: 0.9757 - recall: 0.9868 - val_loss: 0.5801 - val_accuracy: 0.8235 - val_precision: 0.7494 - val_recall: 0.9720\n",
            "Epoch 34/100\n",
            "172/172 [==============================] - 1s 6ms/step - loss: 0.0923 - accuracy: 0.9618 - precision: 0.9711 - recall: 0.9874 - val_loss: 0.6144 - val_accuracy: 0.8145 - val_precision: 0.7410 - val_recall: 0.9670\n",
            "Epoch 35/100\n",
            "172/172 [==============================] - 1s 6ms/step - loss: 0.0861 - accuracy: 0.9647 - precision: 0.9747 - recall: 0.9868 - val_loss: 0.7525 - val_accuracy: 0.7805 - val_precision: 0.7008 - val_recall: 0.9790\n",
            "Epoch 36/100\n",
            "172/172 [==============================] - 1s 6ms/step - loss: 0.0844 - accuracy: 0.9665 - precision: 0.9757 - recall: 0.9878 - val_loss: 0.7239 - val_accuracy: 0.7905 - val_precision: 0.7104 - val_recall: 0.9810\n",
            "Epoch 37/100\n",
            "172/172 [==============================] - 1s 6ms/step - loss: 0.0875 - accuracy: 0.9678 - precision: 0.9776 - recall: 0.9872 - val_loss: 0.4921 - val_accuracy: 0.8385 - val_precision: 0.7781 - val_recall: 0.9470\n",
            "Epoch 38/100\n",
            "172/172 [==============================] - 1s 6ms/step - loss: 0.0834 - accuracy: 0.9669 - precision: 0.9768 - recall: 0.9870 - val_loss: 0.6604 - val_accuracy: 0.8030 - val_precision: 0.7231 - val_recall: 0.9820\n",
            "Epoch 39/100\n",
            "172/172 [==============================] - 1s 6ms/step - loss: 0.0772 - accuracy: 0.9718 - precision: 0.9796 - recall: 0.9896 - val_loss: 0.5592 - val_accuracy: 0.8345 - val_precision: 0.7674 - val_recall: 0.9600\n",
            "Epoch 40/100\n",
            "172/172 [==============================] - 1s 6ms/step - loss: 0.0766 - accuracy: 0.9700 - precision: 0.9794 - recall: 0.9878 - val_loss: 0.4470 - val_accuracy: 0.8545 - val_precision: 0.8085 - val_recall: 0.9290\n",
            "Epoch 41/100\n",
            "172/172 [==============================] - 1s 6ms/step - loss: 0.0692 - accuracy: 0.9736 - precision: 0.9804 - recall: 0.9908 - val_loss: 0.5596 - val_accuracy: 0.8365 - val_precision: 0.7686 - val_recall: 0.9630\n",
            "Epoch 42/100\n",
            "172/172 [==============================] - 1s 6ms/step - loss: 0.0658 - accuracy: 0.9738 - precision: 0.9810 - recall: 0.9904 - val_loss: 0.7045 - val_accuracy: 0.8150 - val_precision: 0.7383 - val_recall: 0.9760\n",
            "Epoch 43/100\n",
            "172/172 [==============================] - 1s 6ms/step - loss: 0.0630 - accuracy: 0.9747 - precision: 0.9823 - recall: 0.9900 - val_loss: 0.7949 - val_accuracy: 0.7975 - val_precision: 0.7199 - val_recall: 0.9740\n",
            "Epoch 44/100\n",
            "172/172 [==============================] - 1s 6ms/step - loss: 0.0767 - accuracy: 0.9703 - precision: 0.9813 - recall: 0.9862 - val_loss: 0.4361 - val_accuracy: 0.8590 - val_precision: 0.8194 - val_recall: 0.9210\n",
            "Epoch 45/100\n",
            "172/172 [==============================] - 1s 6ms/step - loss: 0.0702 - accuracy: 0.9727 - precision: 0.9823 - recall: 0.9878 - val_loss: 1.3750 - val_accuracy: 0.6965 - val_precision: 0.6235 - val_recall: 0.9920\n",
            "Epoch 46/100\n",
            "172/172 [==============================] - 1s 6ms/step - loss: 0.0657 - accuracy: 0.9747 - precision: 0.9825 - recall: 0.9898 - val_loss: 1.0396 - val_accuracy: 0.7545 - val_precision: 0.6742 - val_recall: 0.9850\n",
            "Epoch 47/100\n",
            "172/172 [==============================] - 1s 6ms/step - loss: 0.0572 - accuracy: 0.9796 - precision: 0.9853 - recall: 0.9924 - val_loss: 0.6686 - val_accuracy: 0.8310 - val_precision: 0.7610 - val_recall: 0.9650\n",
            "Epoch 48/100\n",
            "172/172 [==============================] - 1s 6ms/step - loss: 0.0665 - accuracy: 0.9713 - precision: 0.9800 - recall: 0.9886 - val_loss: 0.6141 - val_accuracy: 0.8390 - val_precision: 0.7747 - val_recall: 0.9560\n",
            "Epoch 49/100\n",
            "172/172 [==============================] - 1s 6ms/step - loss: 0.0631 - accuracy: 0.9773 - precision: 0.9847 - recall: 0.9904 - val_loss: 0.6571 - val_accuracy: 0.8155 - val_precision: 0.7448 - val_recall: 0.9600\n",
            "Epoch 50/100\n",
            "172/172 [==============================] - 1s 6ms/step - loss: 0.0591 - accuracy: 0.9767 - precision: 0.9820 - recall: 0.9926 - val_loss: 0.6621 - val_accuracy: 0.8350 - val_precision: 0.7650 - val_recall: 0.9670\n",
            "Epoch 51/100\n",
            "172/172 [==============================] - 1s 6ms/step - loss: 0.0522 - accuracy: 0.9802 - precision: 0.9857 - recall: 0.9926 - val_loss: 0.7268 - val_accuracy: 0.8205 - val_precision: 0.7486 - val_recall: 0.9650\n",
            "Epoch 52/100\n",
            "172/172 [==============================] - 1s 6ms/step - loss: 0.0490 - accuracy: 0.9818 - precision: 0.9869 - recall: 0.9932 - val_loss: 0.7053 - val_accuracy: 0.8270 - val_precision: 0.7608 - val_recall: 0.9540\n",
            "Epoch 53/100\n",
            "172/172 [==============================] - 1s 6ms/step - loss: 0.0521 - accuracy: 0.9796 - precision: 0.9863 - recall: 0.9914 - val_loss: 1.4586 - val_accuracy: 0.7230 - val_precision: 0.6450 - val_recall: 0.9920\n",
            "Epoch 54/100\n",
            "172/172 [==============================] - 1s 6ms/step - loss: 0.0598 - accuracy: 0.9756 - precision: 0.9837 - recall: 0.9896 - val_loss: 0.8955 - val_accuracy: 0.7855 - val_precision: 0.7076 - val_recall: 0.9730\n",
            "Epoch 55/100\n",
            "172/172 [==============================] - 1s 6ms/step - loss: 0.0461 - accuracy: 0.9807 - precision: 0.9873 - recall: 0.9916 - val_loss: 0.6849 - val_accuracy: 0.8375 - val_precision: 0.7685 - val_recall: 0.9660\n",
            "Epoch 56/100\n",
            "172/172 [==============================] - 1s 6ms/step - loss: 0.0552 - accuracy: 0.9804 - precision: 0.9876 - recall: 0.9908 - val_loss: 0.7066 - val_accuracy: 0.8280 - val_precision: 0.7559 - val_recall: 0.9690\n",
            "Epoch 57/100\n",
            "172/172 [==============================] - 1s 6ms/step - loss: 0.0481 - accuracy: 0.9811 - precision: 0.9867 - recall: 0.9926 - val_loss: 0.7494 - val_accuracy: 0.8200 - val_precision: 0.7500 - val_recall: 0.9600\n",
            "Epoch 58/100\n",
            "172/172 [==============================] - 1s 6ms/step - loss: 0.0436 - accuracy: 0.9827 - precision: 0.9888 - recall: 0.9922 - val_loss: 1.0603 - val_accuracy: 0.7860 - val_precision: 0.7061 - val_recall: 0.9800\n",
            "Epoch 59/100\n",
            "172/172 [==============================] - 1s 6ms/step - loss: 0.0429 - accuracy: 0.9845 - precision: 0.9904 - recall: 0.9926 - val_loss: 0.8651 - val_accuracy: 0.8090 - val_precision: 0.7348 - val_recall: 0.9670\n",
            "Epoch 60/100\n",
            "172/172 [==============================] - 1s 6ms/step - loss: 0.0587 - accuracy: 0.9784 - precision: 0.9853 - recall: 0.9910 - val_loss: 0.7858 - val_accuracy: 0.8210 - val_precision: 0.7485 - val_recall: 0.9670\n",
            "Epoch 61/100\n",
            "172/172 [==============================] - 1s 6ms/step - loss: 0.0390 - accuracy: 0.9845 - precision: 0.9898 - recall: 0.9932 - val_loss: 0.7811 - val_accuracy: 0.8360 - val_precision: 0.7662 - val_recall: 0.9670\n",
            "Epoch 62/100\n",
            "172/172 [==============================] - 1s 6ms/step - loss: 0.0349 - accuracy: 0.9885 - precision: 0.9920 - recall: 0.9954 - val_loss: 0.6776 - val_accuracy: 0.8405 - val_precision: 0.7807 - val_recall: 0.9470\n",
            "Epoch 63/100\n",
            "172/172 [==============================] - 1s 6ms/step - loss: 0.0501 - accuracy: 0.9825 - precision: 0.9886 - recall: 0.9922 - val_loss: 0.9426 - val_accuracy: 0.8080 - val_precision: 0.7312 - val_recall: 0.9740\n",
            "Epoch 64/100\n",
            "172/172 [==============================] - 1s 6ms/step - loss: 0.0325 - accuracy: 0.9891 - precision: 0.9924 - recall: 0.9956 - val_loss: 0.6163 - val_accuracy: 0.8480 - val_precision: 0.8058 - val_recall: 0.9170\n",
            "Epoch 65/100\n",
            "172/172 [==============================] - 1s 6ms/step - loss: 0.0337 - accuracy: 0.9880 - precision: 0.9928 - recall: 0.9940 - val_loss: 0.9211 - val_accuracy: 0.8160 - val_precision: 0.7394 - val_recall: 0.9760\n",
            "Epoch 66/100\n",
            "172/172 [==============================] - 1s 6ms/step - loss: 0.0323 - accuracy: 0.9889 - precision: 0.9922 - recall: 0.9956 - val_loss: 0.9798 - val_accuracy: 0.8150 - val_precision: 0.7390 - val_recall: 0.9740\n",
            "Epoch 67/100\n",
            "172/172 [==============================] - 1s 6ms/step - loss: 0.0569 - accuracy: 0.9778 - precision: 0.9861 - recall: 0.9896 - val_loss: 0.7293 - val_accuracy: 0.8290 - val_precision: 0.7599 - val_recall: 0.9620\n",
            "Epoch 68/100\n",
            "172/172 [==============================] - 1s 6ms/step - loss: 0.0369 - accuracy: 0.9862 - precision: 0.9902 - recall: 0.9946 - val_loss: 0.6962 - val_accuracy: 0.8525 - val_precision: 0.7945 - val_recall: 0.9510\n",
            "Epoch 69/100\n",
            "172/172 [==============================] - 1s 6ms/step - loss: 0.0410 - accuracy: 0.9829 - precision: 0.9894 - recall: 0.9918 - val_loss: 0.8432 - val_accuracy: 0.8240 - val_precision: 0.7516 - val_recall: 0.9680\n",
            "Epoch 70/100\n",
            "172/172 [==============================] - 1s 6ms/step - loss: 0.0314 - accuracy: 0.9893 - precision: 0.9930 - recall: 0.9952 - val_loss: 1.1263 - val_accuracy: 0.7850 - val_precision: 0.7080 - val_recall: 0.9700\n",
            "Epoch 71/100\n",
            "172/172 [==============================] - 1s 6ms/step - loss: 0.0426 - accuracy: 0.9858 - precision: 0.9914 - recall: 0.9930 - val_loss: 1.0698 - val_accuracy: 0.7970 - val_precision: 0.7174 - val_recall: 0.9800\n",
            "Epoch 72/100\n",
            "172/172 [==============================] - 1s 6ms/step - loss: 0.0296 - accuracy: 0.9896 - precision: 0.9930 - recall: 0.9956 - val_loss: 1.1002 - val_accuracy: 0.8050 - val_precision: 0.7276 - val_recall: 0.9750\n",
            "Epoch 73/100\n",
            "172/172 [==============================] - 1s 6ms/step - loss: 0.0302 - accuracy: 0.9902 - precision: 0.9946 - recall: 0.9946 - val_loss: 1.1458 - val_accuracy: 0.7915 - val_precision: 0.7132 - val_recall: 0.9750\n",
            "Epoch 74/100\n",
            "172/172 [==============================] - 1s 6ms/step - loss: 0.0246 - accuracy: 0.9916 - precision: 0.9948 - recall: 0.9960 - val_loss: 0.9691 - val_accuracy: 0.8100 - val_precision: 0.7352 - val_recall: 0.9690\n",
            "Epoch 75/100\n",
            "172/172 [==============================] - 1s 6ms/step - loss: 0.0356 - accuracy: 0.9882 - precision: 0.9924 - recall: 0.9946 - val_loss: 0.8544 - val_accuracy: 0.8365 - val_precision: 0.7690 - val_recall: 0.9620\n",
            "Epoch 76/100\n",
            "172/172 [==============================] - 1s 6ms/step - loss: 0.0236 - accuracy: 0.9904 - precision: 0.9942 - recall: 0.9952 - val_loss: 1.0821 - val_accuracy: 0.8165 - val_precision: 0.7403 - val_recall: 0.9750\n",
            "Epoch 77/100\n",
            "172/172 [==============================] - 1s 6ms/step - loss: 0.0320 - accuracy: 0.9865 - precision: 0.9926 - recall: 0.9926 - val_loss: 0.9611 - val_accuracy: 0.8245 - val_precision: 0.7521 - val_recall: 0.9680\n",
            "Epoch 78/100\n",
            "172/172 [==============================] - 1s 6ms/step - loss: 0.0282 - accuracy: 0.9896 - precision: 0.9938 - recall: 0.9948 - val_loss: 1.0211 - val_accuracy: 0.8195 - val_precision: 0.7452 - val_recall: 0.9710\n",
            "Epoch 79/100\n",
            "172/172 [==============================] - 1s 6ms/step - loss: 0.0220 - accuracy: 0.9916 - precision: 0.9942 - recall: 0.9966 - val_loss: 0.9357 - val_accuracy: 0.8415 - val_precision: 0.7721 - val_recall: 0.9690\n",
            "Epoch 80/100\n",
            "172/172 [==============================] - 1s 6ms/step - loss: 0.0290 - accuracy: 0.9902 - precision: 0.9938 - recall: 0.9954 - val_loss: 0.8678 - val_accuracy: 0.8405 - val_precision: 0.7780 - val_recall: 0.9530\n",
            "Epoch 81/100\n",
            "172/172 [==============================] - 1s 6ms/step - loss: 0.0344 - accuracy: 0.9878 - precision: 0.9918 - recall: 0.9948 - val_loss: 1.1414 - val_accuracy: 0.8040 - val_precision: 0.7282 - val_recall: 0.9700\n",
            "Epoch 82/100\n",
            "172/172 [==============================] - 1s 6ms/step - loss: 0.0294 - accuracy: 0.9885 - precision: 0.9934 - recall: 0.9940 - val_loss: 1.2082 - val_accuracy: 0.7960 - val_precision: 0.7183 - val_recall: 0.9740\n",
            "Epoch 83/100\n",
            "172/172 [==============================] - 1s 6ms/step - loss: 0.0397 - accuracy: 0.9856 - precision: 0.9910 - recall: 0.9932 - val_loss: 1.0273 - val_accuracy: 0.8335 - val_precision: 0.7632 - val_recall: 0.9670\n",
            "Epoch 84/100\n",
            "172/172 [==============================] - 1s 6ms/step - loss: 0.0199 - accuracy: 0.9938 - precision: 0.9960 - recall: 0.9972 - val_loss: 1.2479 - val_accuracy: 0.8070 - val_precision: 0.7291 - val_recall: 0.9770\n",
            "Epoch 85/100\n",
            "172/172 [==============================] - 1s 6ms/step - loss: 0.0161 - accuracy: 0.9945 - precision: 0.9970 - recall: 0.9970 - val_loss: 1.2002 - val_accuracy: 0.8060 - val_precision: 0.7315 - val_recall: 0.9670\n",
            "Epoch 86/100\n",
            "172/172 [==============================] - 1s 6ms/step - loss: 0.0267 - accuracy: 0.9896 - precision: 0.9932 - recall: 0.9954 - val_loss: 1.0205 - val_accuracy: 0.8265 - val_precision: 0.7565 - val_recall: 0.9630\n",
            "Epoch 87/100\n",
            "172/172 [==============================] - 1s 6ms/step - loss: 0.0348 - accuracy: 0.9865 - precision: 0.9916 - recall: 0.9936 - val_loss: 0.6333 - val_accuracy: 0.8490 - val_precision: 0.8415 - val_recall: 0.8600\n",
            "Epoch 88/100\n",
            "172/172 [==============================] - 1s 6ms/step - loss: 0.0329 - accuracy: 0.9887 - precision: 0.9930 - recall: 0.9946 - val_loss: 1.4825 - val_accuracy: 0.7805 - val_precision: 0.6996 - val_recall: 0.9830\n",
            "Epoch 89/100\n",
            "172/172 [==============================] - 1s 6ms/step - loss: 0.0225 - accuracy: 0.9920 - precision: 0.9952 - recall: 0.9960 - val_loss: 0.8364 - val_accuracy: 0.8440 - val_precision: 0.8050 - val_recall: 0.9080\n",
            "Epoch 90/100\n",
            "172/172 [==============================] - 1s 6ms/step - loss: 0.0266 - accuracy: 0.9896 - precision: 0.9938 - recall: 0.9948 - val_loss: 1.2953 - val_accuracy: 0.8005 - val_precision: 0.7221 - val_recall: 0.9770\n",
            "Epoch 91/100\n",
            "172/172 [==============================] - 1s 6ms/step - loss: 0.0200 - accuracy: 0.9925 - precision: 0.9948 - recall: 0.9970 - val_loss: 1.0782 - val_accuracy: 0.8185 - val_precision: 0.7452 - val_recall: 0.9680\n",
            "Epoch 92/100\n",
            "172/172 [==============================] - 1s 6ms/step - loss: 0.0147 - accuracy: 0.9949 - precision: 0.9964 - recall: 0.9980 - val_loss: 1.2667 - val_accuracy: 0.8065 - val_precision: 0.7306 - val_recall: 0.9710\n",
            "Epoch 93/100\n",
            "172/172 [==============================] - 1s 6ms/step - loss: 0.0105 - accuracy: 0.9975 - precision: 0.9990 - recall: 0.9982 - val_loss: 1.1699 - val_accuracy: 0.8245 - val_precision: 0.7533 - val_recall: 0.9650\n",
            "Epoch 94/100\n",
            "172/172 [==============================] - 1s 6ms/step - loss: 0.0332 - accuracy: 0.9873 - precision: 0.9918 - recall: 0.9942 - val_loss: 1.5412 - val_accuracy: 0.7820 - val_precision: 0.7029 - val_recall: 0.9770\n",
            "Epoch 95/100\n",
            "172/172 [==============================] - 1s 6ms/step - loss: 0.0226 - accuracy: 0.9922 - precision: 0.9954 - recall: 0.9960 - val_loss: 1.0015 - val_accuracy: 0.8365 - val_precision: 0.7738 - val_recall: 0.9510\n",
            "Epoch 96/100\n",
            "172/172 [==============================] - 1s 6ms/step - loss: 0.0655 - accuracy: 0.9785 - precision: 0.9882 - recall: 0.9882 - val_loss: 1.2685 - val_accuracy: 0.7925 - val_precision: 0.7159 - val_recall: 0.9700\n",
            "Epoch 97/100\n",
            "172/172 [==============================] - 1s 6ms/step - loss: 0.0440 - accuracy: 0.9838 - precision: 0.9904 - recall: 0.9918 - val_loss: 0.8089 - val_accuracy: 0.8510 - val_precision: 0.7995 - val_recall: 0.9370\n",
            "Epoch 98/100\n",
            "172/172 [==============================] - 1s 6ms/step - loss: 0.0275 - accuracy: 0.9904 - precision: 0.9942 - recall: 0.9952 - val_loss: 1.9624 - val_accuracy: 0.7445 - val_precision: 0.6642 - val_recall: 0.9890\n",
            "Epoch 99/100\n",
            "172/172 [==============================] - 1s 6ms/step - loss: 0.0162 - accuracy: 0.9944 - precision: 0.9960 - recall: 0.9978 - val_loss: 0.9219 - val_accuracy: 0.8440 - val_precision: 0.7871 - val_recall: 0.9430\n",
            "Epoch 100/100\n",
            "172/172 [==============================] - 1s 6ms/step - loss: 0.0158 - accuracy: 0.9953 - precision: 0.9974 - recall: 0.9974 - val_loss: 1.3793 - val_accuracy: 0.7950 - val_precision: 0.7172 - val_recall: 0.9740\n"
          ],
          "name": "stdout"
        }
      ]
    },
    {
      "cell_type": "code",
      "metadata": {
        "id": "NupMM3EzzPWZ",
        "colab_type": "code",
        "colab": {
          "base_uri": "https://localhost:8080/",
          "height": 322
        },
        "outputId": "47cb3e15-63d9-4792-bfcf-7394bb18935f"
      },
      "source": [
        "plt.figure(figsize=(10, 5))\n",
        "plt.subplot(121)\n",
        "plt.scatter(history.history['precision'], history.history['recall'])\n",
        "\n",
        "plt.subplot(122)\n",
        "plt.scatter(history.history['val_precision'], history.history['val_recall'])\n",
        "plt.show()"
      ],
      "execution_count": 16,
      "outputs": [
        {
          "output_type": "display_data",
          "data": {
            "image/png": "[encoded data removed]",
            "text/plain": [
              "<Figure size 720x360 with 2 Axes>"
            ]
          },
          "metadata": {
            "tags": []
          }
        }
      ]
    },
    {
      "cell_type": "markdown",
      "metadata": {
        "id": "M46OobHJ0SoT",
        "colab_type": "text"
      },
      "source": [
        "### BorderlineSMOTE"
      ]
    },
    {
      "cell_type": "code",
      "metadata": {
        "id": "l94rfFAo0VAI",
        "colab_type": "code",
        "colab": {
          "base_uri": "https://localhost:8080/",
          "height": 178
        },
        "outputId": "473ba62b-4e86-4fea-91c9-e8cecac50165"
      },
      "source": [
        "x_train = x_train.reshape((x_train.shape[0], x_train.shape[1] * x_train.shape[2] * x_train.shape[3])).astype(np.float32)\n",
        "x_test = x_test.reshape((x_test.shape[0], x_test.shape[1] * x_test.shape[2] * x_test.shape[3])).astype(np.float32)\n",
        "\n",
        "smote = BorderlineSMOTE()\n",
        "x_train, y_train = smote.fit_resample(x_train, y_train)\n",
        "\n",
        "train_ds = tf.data.Dataset.from_tensor_slices((x_train, y_train)).shuffle(10000).batch(32).prefetch(2048)\n",
        "test_ds = tf.data.Dataset.from_tensor_slices((x_test, y_test)).batch(32).prefetch(2048)"
      ],
      "execution_count": 18,
      "outputs": [
        {
          "output_type": "stream",
          "text": [
            "/usr/local/lib/python3.6/dist-packages/sklearn/utils/validation.py:760: DataConversionWarning: A column-vector y was passed when a 1d array was expected. Please change the shape of y to (n_samples, ), for example using ravel().\n",
            "  y = column_or_1d(y, warn=True)\n",
            "/usr/local/lib/python3.6/dist-packages/sklearn/utils/deprecation.py:87: FutureWarning: Function safe_indexing is deprecated; safe_indexing is deprecated in version 0.22 and will be removed in version 0.24.\n",
            "  warnings.warn(msg, category=FutureWarning)\n",
            "/usr/local/lib/python3.6/dist-packages/sklearn/utils/deprecation.py:87: FutureWarning: Function safe_indexing is deprecated; safe_indexing is deprecated in version 0.22 and will be removed in version 0.24.\n",
            "  warnings.warn(msg, category=FutureWarning)\n",
            "/usr/local/lib/python3.6/dist-packages/sklearn/utils/deprecation.py:87: FutureWarning: Function safe_indexing is deprecated; safe_indexing is deprecated in version 0.22 and will be removed in version 0.24.\n",
            "  warnings.warn(msg, category=FutureWarning)\n"
          ],
          "name": "stderr"
        }
      ]
    },
    {
      "cell_type": "code",
      "metadata": {
        "id": "wmUKgop70sn0",
        "colab_type": "code",
        "colab": {}
      },
      "source": [
        "model = MyModel()\n",
        "loss_object = 'binary_crossentropy'\n",
        "optimizer = tf.keras.optimizers.Adam()\n",
        "metrics = ['accuracy',\n",
        "           tf.keras.metrics.Precision(name='precision'),\n",
        "           tf.keras.metrics.Recall(name='recall')]\n",
        "model.compile(optimizer=optimizer, loss=loss_object, metrics=metrics)"
      ],
      "execution_count": 0,
      "outputs": []
    },
    {
      "cell_type": "code",
      "metadata": {
        "id": "FQHATnNp1K_P",
        "colab_type": "code",
        "colab": {
          "base_uri": "https://localhost:8080/",
          "height": 1000
        },
        "outputId": "98dc9a99-a9bf-4cf4-beca-c67ec0470ffa"
      },
      "source": [
        "history = model.fit(train_ds,\n",
        "                    epochs=EPOCHS,\n",
        "                    validation_data=test_ds)"
      ],
      "execution_count": 20,
      "outputs": [
        {
          "output_type": "stream",
          "text": [
            "Train for 313 steps, validate for 63 steps\n",
            "Epoch 1/100\n",
            "313/313 [==============================] - 2s 7ms/step - loss: 0.6332 - accuracy: 0.7343 - precision: 0.7495 - recall: 0.7038 - val_loss: 0.4618 - val_accuracy: 0.7875 - val_precision: 0.7762 - val_recall: 0.8080\n",
            "Epoch 2/100\n",
            "313/313 [==============================] - 2s 5ms/step - loss: 0.3744 - accuracy: 0.8446 - precision: 0.8782 - recall: 0.8002 - val_loss: 0.4066 - val_accuracy: 0.8230 - val_precision: 0.8094 - val_recall: 0.8450\n",
            "Epoch 3/100\n",
            "313/313 [==============================] - 2s 5ms/step - loss: 0.3185 - accuracy: 0.8722 - precision: 0.8985 - recall: 0.8392 - val_loss: 0.9271 - val_accuracy: 0.6415 - val_precision: 0.5853 - val_recall: 0.9710\n",
            "Epoch 4/100\n",
            "313/313 [==============================] - 2s 5ms/step - loss: 0.2524 - accuracy: 0.9048 - precision: 0.9343 - recall: 0.8708 - val_loss: 0.5595 - val_accuracy: 0.7875 - val_precision: 0.7203 - val_recall: 0.9400\n",
            "Epoch 5/100\n",
            "313/313 [==============================] - 2s 5ms/step - loss: 0.2010 - accuracy: 0.9314 - precision: 0.9582 - recall: 0.9022 - val_loss: 0.4373 - val_accuracy: 0.8315 - val_precision: 0.8478 - val_recall: 0.8080\n",
            "Epoch 6/100\n",
            "313/313 [==============================] - 2s 5ms/step - loss: 0.1833 - accuracy: 0.9387 - precision: 0.9594 - recall: 0.9162 - val_loss: 0.4309 - val_accuracy: 0.8350 - val_precision: 0.8215 - val_recall: 0.8560\n",
            "Epoch 7/100\n",
            "313/313 [==============================] - 2s 5ms/step - loss: 0.1861 - accuracy: 0.9379 - precision: 0.9570 - recall: 0.9170 - val_loss: 0.7494 - val_accuracy: 0.7605 - val_precision: 0.6857 - val_recall: 0.9620\n",
            "Epoch 8/100\n",
            "313/313 [==============================] - 2s 5ms/step - loss: 0.1454 - accuracy: 0.9554 - precision: 0.9703 - recall: 0.9396 - val_loss: 0.4841 - val_accuracy: 0.8205 - val_precision: 0.7890 - val_recall: 0.8750\n",
            "Epoch 9/100\n",
            "313/313 [==============================] - 2s 5ms/step - loss: 0.1303 - accuracy: 0.9608 - precision: 0.9766 - recall: 0.9442 - val_loss: 0.4740 - val_accuracy: 0.8370 - val_precision: 0.8075 - val_recall: 0.8850\n",
            "Epoch 10/100\n",
            "313/313 [==============================] - 2s 5ms/step - loss: 0.1265 - accuracy: 0.9614 - precision: 0.9743 - recall: 0.9478 - val_loss: 0.6292 - val_accuracy: 0.8080 - val_precision: 0.7433 - val_recall: 0.9410\n",
            "Epoch 11/100\n",
            "313/313 [==============================] - 2s 5ms/step - loss: 0.1225 - accuracy: 0.9640 - precision: 0.9776 - recall: 0.9498 - val_loss: 0.7388 - val_accuracy: 0.7835 - val_precision: 0.7108 - val_recall: 0.9560\n",
            "Epoch 12/100\n",
            "313/313 [==============================] - 2s 5ms/step - loss: 0.1171 - accuracy: 0.9642 - precision: 0.9737 - recall: 0.9542 - val_loss: 0.6527 - val_accuracy: 0.8130 - val_precision: 0.7465 - val_recall: 0.9480\n",
            "Epoch 13/100\n",
            "313/313 [==============================] - 2s 5ms/step - loss: 0.1048 - accuracy: 0.9688 - precision: 0.9790 - recall: 0.9582 - val_loss: 0.7147 - val_accuracy: 0.8180 - val_precision: 0.7465 - val_recall: 0.9630\n",
            "Epoch 14/100\n",
            "313/313 [==============================] - 2s 5ms/step - loss: 0.0973 - accuracy: 0.9709 - precision: 0.9810 - recall: 0.9604 - val_loss: 0.6139 - val_accuracy: 0.8270 - val_precision: 0.7725 - val_recall: 0.9270\n",
            "Epoch 15/100\n",
            "313/313 [==============================] - 2s 5ms/step - loss: 0.0999 - accuracy: 0.9691 - precision: 0.9801 - recall: 0.9576 - val_loss: 0.5900 - val_accuracy: 0.8365 - val_precision: 0.7830 - val_recall: 0.9310\n",
            "Epoch 16/100\n",
            "313/313 [==============================] - 2s 5ms/step - loss: 0.0946 - accuracy: 0.9711 - precision: 0.9814 - recall: 0.9604 - val_loss: 0.8257 - val_accuracy: 0.7925 - val_precision: 0.7194 - val_recall: 0.9590\n",
            "Epoch 17/100\n",
            "313/313 [==============================] - 2s 5ms/step - loss: 0.0881 - accuracy: 0.9746 - precision: 0.9841 - recall: 0.9648 - val_loss: 1.3541 - val_accuracy: 0.7080 - val_precision: 0.6337 - val_recall: 0.9860\n",
            "Epoch 18/100\n",
            "313/313 [==============================] - 2s 5ms/step - loss: 0.0859 - accuracy: 0.9724 - precision: 0.9801 - recall: 0.9644 - val_loss: 0.5840 - val_accuracy: 0.8405 - val_precision: 0.7958 - val_recall: 0.9160\n",
            "Epoch 19/100\n",
            "313/313 [==============================] - 2s 5ms/step - loss: 0.0725 - accuracy: 0.9779 - precision: 0.9854 - recall: 0.9702 - val_loss: 1.0341 - val_accuracy: 0.7690 - val_precision: 0.6908 - val_recall: 0.9740\n",
            "Epoch 20/100\n",
            "313/313 [==============================] - 2s 5ms/step - loss: 0.0656 - accuracy: 0.9814 - precision: 0.9878 - recall: 0.9748 - val_loss: 0.6863 - val_accuracy: 0.8340 - val_precision: 0.7685 - val_recall: 0.9560\n",
            "Epoch 21/100\n",
            "313/313 [==============================] - 2s 5ms/step - loss: 0.0652 - accuracy: 0.9801 - precision: 0.9862 - recall: 0.9738 - val_loss: 0.7345 - val_accuracy: 0.8255 - val_precision: 0.7619 - val_recall: 0.9470\n",
            "Epoch 22/100\n",
            "313/313 [==============================] - 2s 5ms/step - loss: 0.0703 - accuracy: 0.9785 - precision: 0.9840 - recall: 0.9728 - val_loss: 0.6731 - val_accuracy: 0.8350 - val_precision: 0.7755 - val_recall: 0.9430\n",
            "Epoch 23/100\n",
            "313/313 [==============================] - 2s 5ms/step - loss: 0.0758 - accuracy: 0.9750 - precision: 0.9814 - recall: 0.9684 - val_loss: 0.8202 - val_accuracy: 0.8215 - val_precision: 0.7506 - val_recall: 0.9630\n",
            "Epoch 24/100\n",
            "313/313 [==============================] - 2s 5ms/step - loss: 0.0532 - accuracy: 0.9840 - precision: 0.9887 - recall: 0.9792 - val_loss: 1.1452 - val_accuracy: 0.7720 - val_precision: 0.6937 - val_recall: 0.9740\n",
            "Epoch 25/100\n",
            "313/313 [==============================] - 2s 5ms/step - loss: 0.0604 - accuracy: 0.9796 - precision: 0.9850 - recall: 0.9740 - val_loss: 0.6858 - val_accuracy: 0.8375 - val_precision: 0.7829 - val_recall: 0.9340\n",
            "Epoch 26/100\n",
            "313/313 [==============================] - 2s 5ms/step - loss: 0.0450 - accuracy: 0.9867 - precision: 0.9891 - recall: 0.9842 - val_loss: 0.7826 - val_accuracy: 0.8360 - val_precision: 0.7732 - val_recall: 0.9510\n",
            "Epoch 27/100\n",
            "313/313 [==============================] - 2s 5ms/step - loss: 0.0465 - accuracy: 0.9845 - precision: 0.9881 - recall: 0.9808 - val_loss: 0.6570 - val_accuracy: 0.8480 - val_precision: 0.8053 - val_recall: 0.9180\n",
            "Epoch 28/100\n",
            "313/313 [==============================] - 2s 5ms/step - loss: 0.0431 - accuracy: 0.9872 - precision: 0.9905 - recall: 0.9838 - val_loss: 0.6964 - val_accuracy: 0.8425 - val_precision: 0.7945 - val_recall: 0.9240\n",
            "Epoch 29/100\n",
            "313/313 [==============================] - 2s 5ms/step - loss: 0.0432 - accuracy: 0.9858 - precision: 0.9899 - recall: 0.9816 - val_loss: 0.7875 - val_accuracy: 0.8405 - val_precision: 0.7802 - val_recall: 0.9480\n",
            "Epoch 30/100\n",
            "313/313 [==============================] - 2s 5ms/step - loss: 0.0563 - accuracy: 0.9802 - precision: 0.9858 - recall: 0.9744 - val_loss: 1.0845 - val_accuracy: 0.7885 - val_precision: 0.7110 - val_recall: 0.9720\n",
            "Epoch 31/100\n",
            "313/313 [==============================] - 2s 5ms/step - loss: 0.0448 - accuracy: 0.9859 - precision: 0.9899 - recall: 0.9818 - val_loss: 0.7986 - val_accuracy: 0.8380 - val_precision: 0.7735 - val_recall: 0.9560\n",
            "Epoch 32/100\n",
            "313/313 [==============================] - 2s 5ms/step - loss: 0.0316 - accuracy: 0.9906 - precision: 0.9942 - recall: 0.9870 - val_loss: 1.1748 - val_accuracy: 0.8095 - val_precision: 0.7318 - val_recall: 0.9770\n",
            "Epoch 33/100\n",
            "313/313 [==============================] - 2s 5ms/step - loss: 0.0352 - accuracy: 0.9895 - precision: 0.9920 - recall: 0.9870 - val_loss: 1.0986 - val_accuracy: 0.8065 - val_precision: 0.7324 - val_recall: 0.9660\n",
            "Epoch 34/100\n",
            "313/313 [==============================] - 2s 5ms/step - loss: 0.0381 - accuracy: 0.9888 - precision: 0.9914 - recall: 0.9862 - val_loss: 0.8607 - val_accuracy: 0.8395 - val_precision: 0.7758 - val_recall: 0.9550\n",
            "Epoch 35/100\n",
            "313/313 [==============================] - 2s 5ms/step - loss: 0.0312 - accuracy: 0.9902 - precision: 0.9928 - recall: 0.9876 - val_loss: 0.8050 - val_accuracy: 0.8425 - val_precision: 0.7842 - val_recall: 0.9450\n",
            "Epoch 36/100\n",
            "313/313 [==============================] - 2s 5ms/step - loss: 0.0363 - accuracy: 0.9882 - precision: 0.9915 - recall: 0.9848 - val_loss: 0.7478 - val_accuracy: 0.8410 - val_precision: 0.8007 - val_recall: 0.9080\n",
            "Epoch 37/100\n",
            "313/313 [==============================] - 2s 5ms/step - loss: 0.0297 - accuracy: 0.9904 - precision: 0.9924 - recall: 0.9884 - val_loss: 1.0518 - val_accuracy: 0.8235 - val_precision: 0.7521 - val_recall: 0.9650\n",
            "Epoch 38/100\n",
            "313/313 [==============================] - 2s 5ms/step - loss: 0.0310 - accuracy: 0.9895 - precision: 0.9922 - recall: 0.9868 - val_loss: 1.0702 - val_accuracy: 0.8235 - val_precision: 0.7533 - val_recall: 0.9620\n",
            "Epoch 39/100\n",
            "313/313 [==============================] - 2s 5ms/step - loss: 0.0256 - accuracy: 0.9909 - precision: 0.9926 - recall: 0.9892 - val_loss: 1.1914 - val_accuracy: 0.8100 - val_precision: 0.7356 - val_recall: 0.9680\n",
            "Epoch 40/100\n",
            "313/313 [==============================] - 2s 5ms/step - loss: 0.0230 - accuracy: 0.9926 - precision: 0.9946 - recall: 0.9906 - val_loss: 1.1356 - val_accuracy: 0.8205 - val_precision: 0.7506 - val_recall: 0.9600\n",
            "Epoch 41/100\n",
            "313/313 [==============================] - 2s 5ms/step - loss: 0.0312 - accuracy: 0.9907 - precision: 0.9932 - recall: 0.9882 - val_loss: 1.7331 - val_accuracy: 0.7470 - val_precision: 0.6671 - val_recall: 0.9860\n",
            "Epoch 42/100\n",
            "313/313 [==============================] - 2s 5ms/step - loss: 0.0311 - accuracy: 0.9897 - precision: 0.9918 - recall: 0.9876 - val_loss: 0.9779 - val_accuracy: 0.8345 - val_precision: 0.7767 - val_recall: 0.9390\n",
            "Epoch 43/100\n",
            "313/313 [==============================] - 2s 5ms/step - loss: 0.0327 - accuracy: 0.9901 - precision: 0.9924 - recall: 0.9878 - val_loss: 1.1443 - val_accuracy: 0.8085 - val_precision: 0.7390 - val_recall: 0.9540\n",
            "Epoch 44/100\n",
            "313/313 [==============================] - 2s 5ms/step - loss: 0.0269 - accuracy: 0.9918 - precision: 0.9940 - recall: 0.9896 - val_loss: 1.0626 - val_accuracy: 0.8295 - val_precision: 0.7634 - val_recall: 0.9550\n",
            "Epoch 45/100\n",
            "313/313 [==============================] - 2s 5ms/step - loss: 0.0201 - accuracy: 0.9931 - precision: 0.9948 - recall: 0.9914 - val_loss: 1.0772 - val_accuracy: 0.8235 - val_precision: 0.7561 - val_recall: 0.9550\n",
            "Epoch 46/100\n",
            "313/313 [==============================] - 2s 5ms/step - loss: 0.0304 - accuracy: 0.9886 - precision: 0.9912 - recall: 0.9860 - val_loss: 1.2921 - val_accuracy: 0.8230 - val_precision: 0.7496 - val_recall: 0.9700\n",
            "Epoch 47/100\n",
            "313/313 [==============================] - 2s 5ms/step - loss: 0.0311 - accuracy: 0.9886 - precision: 0.9898 - recall: 0.9874 - val_loss: 1.1383 - val_accuracy: 0.8290 - val_precision: 0.7591 - val_recall: 0.9640\n",
            "Epoch 48/100\n",
            "313/313 [==============================] - 2s 5ms/step - loss: 0.0225 - accuracy: 0.9933 - precision: 0.9954 - recall: 0.9912 - val_loss: 1.2452 - val_accuracy: 0.8080 - val_precision: 0.7384 - val_recall: 0.9540\n",
            "Epoch 49/100\n",
            "313/313 [==============================] - 2s 5ms/step - loss: 0.0180 - accuracy: 0.9944 - precision: 0.9948 - recall: 0.9940 - val_loss: 1.1422 - val_accuracy: 0.8170 - val_precision: 0.7484 - val_recall: 0.9550\n",
            "Epoch 50/100\n",
            "313/313 [==============================] - 2s 5ms/step - loss: 0.0215 - accuracy: 0.9932 - precision: 0.9954 - recall: 0.9910 - val_loss: 1.0295 - val_accuracy: 0.8375 - val_precision: 0.7810 - val_recall: 0.9380\n",
            "Epoch 51/100\n",
            "313/313 [==============================] - 2s 5ms/step - loss: 0.0214 - accuracy: 0.9928 - precision: 0.9936 - recall: 0.9920 - val_loss: 0.9151 - val_accuracy: 0.8500 - val_precision: 0.8086 - val_recall: 0.9170\n",
            "Epoch 52/100\n",
            "313/313 [==============================] - 2s 5ms/step - loss: 0.0206 - accuracy: 0.9930 - precision: 0.9950 - recall: 0.9910 - val_loss: 1.5009 - val_accuracy: 0.8065 - val_precision: 0.7296 - val_recall: 0.9740\n",
            "Epoch 53/100\n",
            "313/313 [==============================] - 2s 5ms/step - loss: 0.0276 - accuracy: 0.9911 - precision: 0.9918 - recall: 0.9904 - val_loss: 1.2526 - val_accuracy: 0.8320 - val_precision: 0.7610 - val_recall: 0.9680\n",
            "Epoch 54/100\n",
            "313/313 [==============================] - 2s 5ms/step - loss: 0.0179 - accuracy: 0.9943 - precision: 0.9954 - recall: 0.9932 - val_loss: 0.9885 - val_accuracy: 0.8450 - val_precision: 0.7880 - val_recall: 0.9440\n",
            "Epoch 55/100\n",
            "313/313 [==============================] - 2s 5ms/step - loss: 0.0306 - accuracy: 0.9896 - precision: 0.9922 - recall: 0.9870 - val_loss: 1.4811 - val_accuracy: 0.8030 - val_precision: 0.7278 - val_recall: 0.9680\n",
            "Epoch 56/100\n",
            "313/313 [==============================] - 2s 5ms/step - loss: 0.0210 - accuracy: 0.9935 - precision: 0.9948 - recall: 0.9922 - val_loss: 1.5786 - val_accuracy: 0.8075 - val_precision: 0.7293 - val_recall: 0.9780\n",
            "Epoch 57/100\n",
            "313/313 [==============================] - 2s 5ms/step - loss: 0.0146 - accuracy: 0.9954 - precision: 0.9972 - recall: 0.9936 - val_loss: 1.4944 - val_accuracy: 0.8090 - val_precision: 0.7334 - val_recall: 0.9710\n",
            "Epoch 58/100\n",
            "313/313 [==============================] - 2s 5ms/step - loss: 0.0159 - accuracy: 0.9946 - precision: 0.9956 - recall: 0.9936 - val_loss: 1.0877 - val_accuracy: 0.8430 - val_precision: 0.7816 - val_recall: 0.9520\n",
            "Epoch 59/100\n",
            "313/313 [==============================] - 2s 5ms/step - loss: 0.0430 - accuracy: 0.9848 - precision: 0.9871 - recall: 0.9824 - val_loss: 0.9852 - val_accuracy: 0.8450 - val_precision: 0.7939 - val_recall: 0.9320\n",
            "Epoch 60/100\n",
            "313/313 [==============================] - 2s 5ms/step - loss: 0.0253 - accuracy: 0.9918 - precision: 0.9936 - recall: 0.9900 - val_loss: 1.6413 - val_accuracy: 0.7930 - val_precision: 0.7161 - val_recall: 0.9710\n",
            "Epoch 61/100\n",
            "313/313 [==============================] - 2s 5ms/step - loss: 0.0093 - accuracy: 0.9971 - precision: 0.9984 - recall: 0.9958 - val_loss: 1.6252 - val_accuracy: 0.8130 - val_precision: 0.7378 - val_recall: 0.9710\n",
            "Epoch 62/100\n",
            "313/313 [==============================] - 2s 5ms/step - loss: 0.0148 - accuracy: 0.9949 - precision: 0.9956 - recall: 0.9942 - val_loss: 1.8037 - val_accuracy: 0.7885 - val_precision: 0.7095 - val_recall: 0.9770\n",
            "Epoch 63/100\n",
            "313/313 [==============================] - 2s 5ms/step - loss: 0.0150 - accuracy: 0.9941 - precision: 0.9946 - recall: 0.9936 - val_loss: 0.9443 - val_accuracy: 0.8500 - val_precision: 0.8235 - val_recall: 0.8910\n",
            "Epoch 64/100\n",
            "313/313 [==============================] - 2s 5ms/step - loss: 0.0135 - accuracy: 0.9958 - precision: 0.9962 - recall: 0.9954 - val_loss: 1.6131 - val_accuracy: 0.8035 - val_precision: 0.7270 - val_recall: 0.9720\n",
            "Epoch 65/100\n",
            "313/313 [==============================] - 2s 5ms/step - loss: 0.0144 - accuracy: 0.9961 - precision: 0.9968 - recall: 0.9954 - val_loss: 2.2216 - val_accuracy: 0.7635 - val_precision: 0.6839 - val_recall: 0.9800\n",
            "Epoch 66/100\n",
            "313/313 [==============================] - 2s 5ms/step - loss: 0.0187 - accuracy: 0.9949 - precision: 0.9960 - recall: 0.9938 - val_loss: 1.4865 - val_accuracy: 0.8135 - val_precision: 0.7399 - val_recall: 0.9670\n",
            "Epoch 67/100\n",
            "313/313 [==============================] - 2s 5ms/step - loss: 0.0177 - accuracy: 0.9940 - precision: 0.9954 - recall: 0.9926 - val_loss: 1.0655 - val_accuracy: 0.8500 - val_precision: 0.7956 - val_recall: 0.9420\n",
            "Epoch 68/100\n",
            "313/313 [==============================] - 2s 5ms/step - loss: 0.0465 - accuracy: 0.9857 - precision: 0.9883 - recall: 0.9830 - val_loss: 1.6358 - val_accuracy: 0.8060 - val_precision: 0.7294 - val_recall: 0.9730\n",
            "Epoch 69/100\n",
            "313/313 [==============================] - 2s 5ms/step - loss: 0.0086 - accuracy: 0.9971 - precision: 0.9976 - recall: 0.9966 - val_loss: 1.5008 - val_accuracy: 0.8235 - val_precision: 0.7518 - val_recall: 0.9660\n",
            "Epoch 70/100\n",
            "313/313 [==============================] - 2s 5ms/step - loss: 0.0083 - accuracy: 0.9979 - precision: 0.9984 - recall: 0.9974 - val_loss: 1.1569 - val_accuracy: 0.8455 - val_precision: 0.7858 - val_recall: 0.9500\n",
            "Epoch 71/100\n",
            "313/313 [==============================] - 2s 5ms/step - loss: 0.0061 - accuracy: 0.9981 - precision: 0.9986 - recall: 0.9976 - val_loss: 1.2553 - val_accuracy: 0.8380 - val_precision: 0.7757 - val_recall: 0.9510\n",
            "Epoch 72/100\n",
            "313/313 [==============================] - 2s 5ms/step - loss: 0.0274 - accuracy: 0.9903 - precision: 0.9920 - recall: 0.9886 - val_loss: 1.2921 - val_accuracy: 0.8250 - val_precision: 0.7608 - val_recall: 0.9480\n",
            "Epoch 73/100\n",
            "313/313 [==============================] - 2s 5ms/step - loss: 0.0106 - accuracy: 0.9967 - precision: 0.9976 - recall: 0.9958 - val_loss: 1.4164 - val_accuracy: 0.8285 - val_precision: 0.7589 - val_recall: 0.9630\n",
            "Epoch 74/100\n",
            "313/313 [==============================] - 2s 5ms/step - loss: 0.0142 - accuracy: 0.9955 - precision: 0.9958 - recall: 0.9952 - val_loss: 1.5942 - val_accuracy: 0.8135 - val_precision: 0.7395 - val_recall: 0.9680\n",
            "Epoch 75/100\n",
            "313/313 [==============================] - 2s 5ms/step - loss: 0.0196 - accuracy: 0.9930 - precision: 0.9938 - recall: 0.9922 - val_loss: 1.0565 - val_accuracy: 0.8430 - val_precision: 0.8085 - val_recall: 0.8990\n",
            "Epoch 76/100\n",
            "313/313 [==============================] - 2s 5ms/step - loss: 0.0114 - accuracy: 0.9963 - precision: 0.9976 - recall: 0.9950 - val_loss: 1.6551 - val_accuracy: 0.8170 - val_precision: 0.7438 - val_recall: 0.9670\n",
            "Epoch 77/100\n",
            "313/313 [==============================] - 2s 5ms/step - loss: 0.0050 - accuracy: 0.9985 - precision: 0.9986 - recall: 0.9984 - val_loss: 1.8474 - val_accuracy: 0.8095 - val_precision: 0.7318 - val_recall: 0.9770\n",
            "Epoch 78/100\n",
            "313/313 [==============================] - 2s 5ms/step - loss: 0.0055 - accuracy: 0.9984 - precision: 0.9994 - recall: 0.9974 - val_loss: 1.5160 - val_accuracy: 0.8235 - val_precision: 0.7518 - val_recall: 0.9660\n",
            "Epoch 79/100\n",
            "313/313 [==============================] - 2s 5ms/step - loss: 0.0031 - accuracy: 0.9995 - precision: 0.9996 - recall: 0.9994 - val_loss: 2.2857 - val_accuracy: 0.7795 - val_precision: 0.6984 - val_recall: 0.9840\n",
            "Epoch 80/100\n",
            "313/313 [==============================] - 2s 5ms/step - loss: 0.0178 - accuracy: 0.9941 - precision: 0.9956 - recall: 0.9926 - val_loss: 1.2975 - val_accuracy: 0.8425 - val_precision: 0.7805 - val_recall: 0.9530\n",
            "Epoch 81/100\n",
            "313/313 [==============================] - 2s 5ms/step - loss: 0.0199 - accuracy: 0.9938 - precision: 0.9948 - recall: 0.9928 - val_loss: 1.8831 - val_accuracy: 0.8125 - val_precision: 0.7355 - val_recall: 0.9760\n",
            "Epoch 82/100\n",
            "313/313 [==============================] - 2s 5ms/step - loss: 0.0066 - accuracy: 0.9980 - precision: 0.9982 - recall: 0.9978 - val_loss: 1.7390 - val_accuracy: 0.8185 - val_precision: 0.7437 - val_recall: 0.9720\n",
            "Epoch 83/100\n",
            "313/313 [==============================] - 2s 5ms/step - loss: 0.0036 - accuracy: 0.9991 - precision: 0.9996 - recall: 0.9986 - val_loss: 1.5980 - val_accuracy: 0.8250 - val_precision: 0.7555 - val_recall: 0.9610\n",
            "Epoch 84/100\n",
            "313/313 [==============================] - 2s 5ms/step - loss: 0.0380 - accuracy: 0.9876 - precision: 0.9903 - recall: 0.9848 - val_loss: 1.0826 - val_accuracy: 0.8380 - val_precision: 0.7996 - val_recall: 0.9020\n",
            "Epoch 85/100\n",
            "313/313 [==============================] - 2s 5ms/step - loss: 0.0191 - accuracy: 0.9939 - precision: 0.9946 - recall: 0.9932 - val_loss: 1.1337 - val_accuracy: 0.8430 - val_precision: 0.7942 - val_recall: 0.9260\n",
            "Epoch 86/100\n",
            "313/313 [==============================] - 2s 5ms/step - loss: 0.0128 - accuracy: 0.9959 - precision: 0.9968 - recall: 0.9950 - val_loss: 2.4393 - val_accuracy: 0.7795 - val_precision: 0.6978 - val_recall: 0.9860\n",
            "Epoch 87/100\n",
            "313/313 [==============================] - 2s 5ms/step - loss: 0.0651 - accuracy: 0.9780 - precision: 0.9809 - recall: 0.9750 - val_loss: 1.5663 - val_accuracy: 0.8065 - val_precision: 0.7317 - val_recall: 0.9680\n",
            "Epoch 88/100\n",
            "313/313 [==============================] - 2s 5ms/step - loss: 0.0173 - accuracy: 0.9945 - precision: 0.9960 - recall: 0.9930 - val_loss: 1.6892 - val_accuracy: 0.8075 - val_precision: 0.7335 - val_recall: 0.9660\n",
            "Epoch 89/100\n",
            "313/313 [==============================] - 2s 5ms/step - loss: 0.0087 - accuracy: 0.9975 - precision: 0.9988 - recall: 0.9962 - val_loss: 2.0869 - val_accuracy: 0.7945 - val_precision: 0.7148 - val_recall: 0.9800\n",
            "Epoch 90/100\n",
            "313/313 [==============================] - 2s 5ms/step - loss: 0.0033 - accuracy: 0.9990 - precision: 0.9994 - recall: 0.9986 - val_loss: 1.5661 - val_accuracy: 0.8280 - val_precision: 0.7579 - val_recall: 0.9640\n",
            "Epoch 91/100\n",
            "313/313 [==============================] - 2s 5ms/step - loss: 0.0031 - accuracy: 0.9995 - precision: 0.9998 - recall: 0.9992 - val_loss: 1.7644 - val_accuracy: 0.8135 - val_precision: 0.7373 - val_recall: 0.9740\n",
            "Epoch 92/100\n",
            "313/313 [==============================] - 2s 5ms/step - loss: 0.0089 - accuracy: 0.9971 - precision: 0.9976 - recall: 0.9966 - val_loss: 1.5453 - val_accuracy: 0.8125 - val_precision: 0.7440 - val_recall: 0.9530\n",
            "Epoch 93/100\n",
            "313/313 [==============================] - 2s 5ms/step - loss: 0.0167 - accuracy: 0.9941 - precision: 0.9952 - recall: 0.9930 - val_loss: 1.9576 - val_accuracy: 0.7900 - val_precision: 0.7123 - val_recall: 0.9730\n",
            "Epoch 94/100\n",
            "313/313 [==============================] - 2s 5ms/step - loss: 0.0114 - accuracy: 0.9968 - precision: 0.9972 - recall: 0.9964 - val_loss: 1.7145 - val_accuracy: 0.8165 - val_precision: 0.7436 - val_recall: 0.9660\n",
            "Epoch 95/100\n",
            "313/313 [==============================] - 2s 5ms/step - loss: 0.0150 - accuracy: 0.9949 - precision: 0.9954 - recall: 0.9944 - val_loss: 1.7745 - val_accuracy: 0.8170 - val_precision: 0.7424 - val_recall: 0.9710\n",
            "Epoch 96/100\n",
            "313/313 [==============================] - 2s 5ms/step - loss: 0.0040 - accuracy: 0.9989 - precision: 0.9990 - recall: 0.9988 - val_loss: 2.2451 - val_accuracy: 0.7855 - val_precision: 0.7052 - val_recall: 0.9810\n",
            "Epoch 97/100\n",
            "313/313 [==============================] - 2s 5ms/step - loss: 0.0107 - accuracy: 0.9963 - precision: 0.9972 - recall: 0.9954 - val_loss: 1.4612 - val_accuracy: 0.8260 - val_precision: 0.7604 - val_recall: 0.9520\n",
            "Epoch 98/100\n",
            "313/313 [==============================] - 2s 5ms/step - loss: 0.0077 - accuracy: 0.9976 - precision: 0.9978 - recall: 0.9974 - val_loss: 1.9382 - val_accuracy: 0.7975 - val_precision: 0.7218 - val_recall: 0.9680\n",
            "Epoch 99/100\n",
            "313/313 [==============================] - 2s 5ms/step - loss: 0.0351 - accuracy: 0.9891 - precision: 0.9920 - recall: 0.9862 - val_loss: 2.5664 - val_accuracy: 0.7545 - val_precision: 0.6747 - val_recall: 0.9830\n",
            "Epoch 100/100\n",
            "313/313 [==============================] - 2s 5ms/step - loss: 0.0145 - accuracy: 0.9952 - precision: 0.9960 - recall: 0.9944 - val_loss: 0.9332 - val_accuracy: 0.8500 - val_precision: 0.8211 - val_recall: 0.8950\n"
          ],
          "name": "stdout"
        }
      ]
    }
  ]
}
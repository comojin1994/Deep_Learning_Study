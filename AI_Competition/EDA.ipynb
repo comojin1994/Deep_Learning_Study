{
  "nbformat": 4,
  "nbformat_minor": 0,
  "metadata": {
    "kernelspec": {
      "display_name": "py3.6tor1.4",
      "language": "python",
      "name": "py3.6tor1.4"
    },
    "language_info": {
      "codemirror_mode": {
        "name": "ipython",
        "version": 3
      },
      "file_extension": ".py",
      "mimetype": "text/x-python",
      "name": "python",
      "nbconvert_exporter": "python",
      "pygments_lexer": "ipython3",
      "version": "3.6.10"
    },
    "colab": {
      "name": "EDA.ipynb",
      "provenance": [],
      "include_colab_link": true
    }
  },
  "cells": [
    {
      "cell_type": "markdown",
      "metadata": {
        "id": "view-in-github",
        "colab_type": "text"
      },
      "source": [
        "<a href=\"https://colab.research.google.com/github/comojin1994/Deep_Learning_Study/blob/master/AI_Competition/EDA.ipynb\" target=\"_parent\"><img src=\"https://colab.research.google.com/assets/colab-badge.svg\" alt=\"Open In Colab\"/></a>"
      ]
    },
    {
      "cell_type": "code",
      "metadata": {
        "id": "6dwJRsrMcQ4o",
        "colab_type": "code",
        "colab": {}
      },
      "source": [
        "import numpy as np\n",
        "import pandas as pd\n",
        "import os\n",
        "import matplotlib.pyplot as plt\n",
        "import PIL\n",
        "from PIL import Image, ImageDraw\n",
        "import xml.etree.ElementTree as elemTree\n",
        "import cv2\n",
        "import torch\n",
        "import random\n",
        "%matplotlib inline"
      ],
      "execution_count": null,
      "outputs": []
    },
    {
      "cell_type": "code",
      "metadata": {
        "id": "CPkLDyl3cQ4s",
        "colab_type": "code",
        "colab": {}
      },
      "source": [
        "def seed_everything(seed):\n",
        "    random.seed(seed)\n",
        "    os.environ['PYTHONHASHSEED'] = str(seed)\n",
        "    np.random.seed(seed)\n",
        "    torch.manual_seed(seed)\n",
        "    torch.cuda.manual_seed(seed)\n",
        "    torch.backends.cudnn.dterministic = True\n",
        "    torch.backends.cudnn.benchmark = True\n",
        "\n",
        "SEED = 42\n",
        "seed_everything(SEED)"
      ],
      "execution_count": null,
      "outputs": []
    },
    {
      "cell_type": "code",
      "metadata": {
        "id": "1e1A5pwncQ4v",
        "colab_type": "code",
        "colab": {}
      },
      "source": [
        "os.getcwd()"
      ],
      "execution_count": null,
      "outputs": []
    },
    {
      "cell_type": "code",
      "metadata": {
        "id": "0QrHOY8YcQ4y",
        "colab_type": "code",
        "colab": {}
      },
      "source": [
        "os.listdir(f'../../../datasets/objstrgzip/07_object_detection/07_object_detection')"
      ],
      "execution_count": null,
      "outputs": []
    },
    {
      "cell_type": "code",
      "metadata": {
        "id": "igWTrJGOcQ40",
        "colab_type": "code",
        "colab": {}
      },
      "source": [
        "BASE_DIR = f'../../../datasets/objstrgzip/07_object_detection/07_object_detection'\n",
        "train_dir = f'{BASE_DIR}/train/'\n",
        "val_dir = f'{BASE_DIR}/val/'\n",
        "test_dir = f'{BASE_DIR}/test/'"
      ],
      "execution_count": null,
      "outputs": []
    },
    {
      "cell_type": "code",
      "metadata": {
        "id": "Vn2G04RHcQ43",
        "colab_type": "code",
        "colab": {}
      },
      "source": [
        "train_df = elemTree.parse(f'{BASE_DIR}/train/train.xml')\n",
        "root = train_df.getroot()"
      ],
      "execution_count": null,
      "outputs": []
    },
    {
      "cell_type": "code",
      "metadata": {
        "id": "N6Txz9JLcQ45",
        "colab_type": "code",
        "colab": {}
      },
      "source": [
        "sample_image = root.find('image')\n",
        "print(sample_image.attrib)\n",
        "for box in iter(sample_image.findall('box')):\n",
        "    print(box.attrib)"
      ],
      "execution_count": null,
      "outputs": []
    },
    {
      "cell_type": "code",
      "metadata": {
        "id": "lfQL8rZfcQ47",
        "colab_type": "code",
        "colab": {}
      },
      "source": [
        "img = cv2.imread(os.path.join(train_dir, sample_image.attrib['name']))\n",
        "plt.imshow(img)\n",
        "plt.show()"
      ],
      "execution_count": null,
      "outputs": []
    },
    {
      "cell_type": "code",
      "metadata": {
        "id": "4vOoEI0qcQ4-",
        "colab_type": "code",
        "colab": {}
      },
      "source": [
        "def change_type(x):\n",
        "    return int(float(x))\n",
        "\n",
        "for box in iter(sample_image.findall('box')):\n",
        "    x = (change_type(box.attrib['xtl']), change_type(box.attrib['ytl']))\n",
        "    y = (change_type(box.attrib['xbr']), change_type(box.attrib['ybr']))\n",
        "    cv2.rectangle(img, x, y, (255, 0, 0), 4)\n",
        "plt.imshow(img)\n",
        "plt.show()"
      ],
      "execution_count": null,
      "outputs": []
    },
    {
      "cell_type": "code",
      "metadata": {
        "id": "uNecBFlRcQ5A",
        "colab_type": "code",
        "colab": {}
      },
      "source": [
        "img_name, height, width, label, x1, y1, x2, y2= [], [], [], [], [], [], [], []\n",
        "box_w, box_h, area = [], [], []\n",
        "for info in root.findall('image'):\n",
        "    for box in info.findall('box'):\n",
        "        img_name.append(info.attrib['name'])\n",
        "        height.append(int(info.attrib['height']))\n",
        "        width.append(int(info.attrib['width']))\n",
        "        label.append(box.attrib['label'])\n",
        "        x1.append(change_type(box.attrib['xtl']))\n",
        "        y1.append(change_type(box.attrib['ytl']))\n",
        "        x2.append(change_type(box.attrib['xbr']))\n",
        "        y2.append(change_type(box.attrib['ybr']))\n",
        "        box_w.append(change_type(box.attrib['xbr']) - change_type(box.attrib['xtl']))\n",
        "        box_h.append(change_type(box.attrib['ybr']) - change_type(box.attrib['ytl']))\n",
        "        bw = change_type(box.attrib['xbr']) - change_type(box.attrib['xtl'])\n",
        "        bh = change_type(box.attrib['ybr']) - change_type(box.attrib['ytl'])\n",
        "        area.append(bw * bh)\n",
        "\n",
        "image_info = pd.DataFrame({'name': img_name, 'height': np.array(height),\n",
        "                           'width': np.array(width), 'label': np.array(label),\n",
        "                          'x1': np.array(x1), 'y1': np.array(y1),\n",
        "                          'x2': np.array(x2), 'y2': np.array(y2),\n",
        "                          'box_w': np.array(box_w), 'box_h': np.array(box_h),\n",
        "                          'area': np.array(area)})"
      ],
      "execution_count": null,
      "outputs": []
    },
    {
      "cell_type": "code",
      "metadata": {
        "id": "BINti4dDcQ5B",
        "colab_type": "code",
        "colab": {}
      },
      "source": [
        "image_info.head()"
      ],
      "execution_count": null,
      "outputs": []
    },
    {
      "cell_type": "code",
      "metadata": {
        "id": "HK2UM5oCcQ5D",
        "colab_type": "code",
        "colab": {}
      },
      "source": [
        "image_info.dtypes"
      ],
      "execution_count": null,
      "outputs": []
    },
    {
      "cell_type": "code",
      "metadata": {
        "id": "Sn75O-uFcQ5F",
        "colab_type": "code",
        "colab": {}
      },
      "source": [
        "image_info.groupby('label').size()"
      ],
      "execution_count": null,
      "outputs": []
    },
    {
      "cell_type": "code",
      "metadata": {
        "id": "pA7A_mDGcQ5H",
        "colab_type": "code",
        "colab": {}
      },
      "source": [
        "pd.DataFrame(image_info[['box_w', 'box_h']]).boxplot()\n",
        "plt.show()"
      ],
      "execution_count": null,
      "outputs": []
    },
    {
      "cell_type": "code",
      "metadata": {
        "id": "NEg9Q27kcQ5K",
        "colab_type": "code",
        "colab": {}
      },
      "source": [
        "image_info[image_info['box_w'] == max(image_info['box_w'])]"
      ],
      "execution_count": null,
      "outputs": []
    },
    {
      "cell_type": "code",
      "metadata": {
        "id": "mTPsjf-mcQ5M",
        "colab_type": "code",
        "colab": {}
      },
      "source": [
        "img = cv2.imread(f'{train_dir}/MP_SEL_026237.jpg')\n",
        "sample_image2 = image_info[image_info['name']=='MP_SEL_026237.jpg'].loc[:, ['x1', 'y1', 'x2', 'y2']]\n",
        "\n",
        "for x1, y1, x2, y2 in np.array(sample_image2):\n",
        "    x = (x1, y1)\n",
        "    y = (x2, y2)\n",
        "    cv2.rectangle(img, x, y, (255, 0, 0), 4)\n",
        "plt.imshow(img)\n",
        "plt.show()"
      ],
      "execution_count": null,
      "outputs": []
    }
  ]
}
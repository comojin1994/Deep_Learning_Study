{
  "nbformat": 4,
  "nbformat_minor": 0,
  "metadata": {
    "colab": {
      "name": "Tutorial.ipynb",
      "provenance": [],
      "mount_file_id": "10PPeTT5qawDJoQmYmW-Utb1CCAdeExLB",
      "authorship_tag": "ABX9TyP6m0qMEIF2KPvZKshdbwrl",
      "include_colab_link": true
    },
    "kernelspec": {
      "name": "python3",
      "display_name": "Python 3"
    },
    "accelerator": "GPU"
  },
  "cells": [
    {
      "cell_type": "markdown",
      "metadata": {
        "id": "view-in-github",
        "colab_type": "text"
      },
      "source": [
        "<a href=\"https://colab.research.google.com/github/comojin1994/Deep_Learning_Study/blob/master/Kaggle/Global_Wheat_Detection/Tutorial.ipynb\" target=\"_parent\"><img src=\"https://colab.research.google.com/assets/colab-badge.svg\" alt=\"Open In Colab\"/></a>"
      ]
    },
    {
      "cell_type": "markdown",
      "metadata": {
        "id": "W6ppFpt4eE9I",
        "colab_type": "text"
      },
      "source": [
        "### Mount"
      ]
    },
    {
      "cell_type": "code",
      "metadata": {
        "id": "KSRrTn4feGNo",
        "colab_type": "code",
        "outputId": "c947600e-7da0-44b2-c4fb-c96aa46a2252",
        "colab": {
          "base_uri": "https://localhost:8080/",
          "height": 34
        }
      },
      "source": [
        "%cd drive/My Drive/Deep_learning/Kaggle/Global_Wheat_Detection"
      ],
      "execution_count": 0,
      "outputs": [
        {
          "output_type": "stream",
          "text": [
            "/content/drive/My Drive/Deep_learning/Kaggle/Global_Wheat_Detection\n"
          ],
          "name": "stdout"
        }
      ]
    },
    {
      "cell_type": "markdown",
      "metadata": {
        "id": "Ji_ezsiIcVHW",
        "colab_type": "text"
      },
      "source": [
        "## Imports and Load Data"
      ]
    },
    {
      "cell_type": "code",
      "metadata": {
        "id": "ukdE7T4nai2j",
        "colab_type": "code",
        "colab": {}
      },
      "source": [
        "import pandas as pd\n",
        "import numpy as np\n",
        "import matplotlib.pyplot as plt\n",
        "import cv2\n",
        "import os\n",
        "from tqdm import tqdm, trange\n",
        "from sklearn.model_selection import train_test_split\n",
        "import sklearn.metrics"
      ],
      "execution_count": 0,
      "outputs": []
    },
    {
      "cell_type": "code",
      "metadata": {
        "id": "OdS9NCPybFr6",
        "colab_type": "code",
        "colab": {}
      },
      "source": [
        "import tensorflow as tf\n",
        "from tensorflow.keras.callbacks import Callback, ModelCheckpoint"
      ],
      "execution_count": 0,
      "outputs": []
    },
    {
      "cell_type": "code",
      "metadata": {
        "id": "02pBYEGXbVJf",
        "colab_type": "code",
        "colab": {}
      },
      "source": [
        "import warnings\n",
        "warnings.filterwarnings('ignore')"
      ],
      "execution_count": 0,
      "outputs": []
    },
    {
      "cell_type": "code",
      "metadata": {
        "id": "uDQWDt3gbaqO",
        "colab_type": "code",
        "colab": {}
      },
      "source": [
        "class config:\n",
        "  epochs = 1\n",
        "  batch_size = 1\n",
        "  num_classes = 3\n",
        "  IMAGE_PATH = './data/train/'\n",
        "  lr = 1e-4\n",
        "  seed = 42"
      ],
      "execution_count": 0,
      "outputs": []
    },
    {
      "cell_type": "code",
      "metadata": {
        "id": "Z25E3mD7cH50",
        "colab_type": "code",
        "colab": {}
      },
      "source": [
        "import random\n",
        "def seed_everything(seed):\n",
        "  random.seed(seed)\n",
        "  os.environ['PYTHONASHSEED'] = str(seed)\n",
        "  np.random.seed(seed)\n",
        "\n",
        "seed_everything(config.seed)"
      ],
      "execution_count": 0,
      "outputs": []
    },
    {
      "cell_type": "code",
      "metadata": {
        "id": "lCLXcvtFeuC5",
        "colab_type": "code",
        "colab": {}
      },
      "source": [
        "df = pd.read_csv('./data/train.csv')\n",
        "train_df = os.listdir(config.IMAGE_PATH)\n",
        "print(len(train_df))\n",
        "train_df, val_df = train_test_split(train_df, random_state=config.seed, test_size=0.2)\n",
        "print(len(train_df), len(val_df))\n",
        "\n",
        "bad_imgs = []\n",
        "for id in train_df:\n",
        "  if len(df[df['image_df'] == id[:-4]]) == 0:\n",
        "    bad_imgs.append(id)\n",
        "\n",
        "for im in bad_imgs:\n",
        "  train_df.remove(im)\n",
        "print(len(train_df), len(val_df))"
      ],
      "execution_count": 0,
      "outputs": []
    }
  ]
}
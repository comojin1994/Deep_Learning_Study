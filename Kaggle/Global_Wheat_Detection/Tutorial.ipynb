{
  "nbformat": 4,
  "nbformat_minor": 0,
  "metadata": {
    "kernelspec": {
      "display_name": "py3.6ten2.1",
      "language": "python",
      "name": "py3.6ten2.1"
    },
    "language_info": {
      "codemirror_mode": {
        "name": "ipython",
        "version": 3
      },
      "file_extension": ".py",
      "mimetype": "text/x-python",
      "name": "python",
      "nbconvert_exporter": "python",
      "pygments_lexer": "ipython3",
      "version": "3.6.10"
    },
    "colab": {
      "name": "Tutorial.ipynb",
      "provenance": [],
      "include_colab_link": true
    }
  },
  "cells": [
    {
      "cell_type": "markdown",
      "metadata": {
        "id": "view-in-github",
        "colab_type": "text"
      },
      "source": [
        "<a href=\"https://colab.research.google.com/github/comojin1994/Deep_Learning_Study/blob/master/Kaggle/Global_Wheat_Detection/Tutorial.ipynb\" target=\"_parent\"><img src=\"https://colab.research.google.com/assets/colab-badge.svg\" alt=\"Open In Colab\"/></a>"
      ]
    },
    {
      "cell_type": "markdown",
      "metadata": {
        "id": "eHDvQgZ2Jlik",
        "colab_type": "text"
      },
      "source": [
        "## Imports and Load Data"
      ]
    },
    {
      "cell_type": "code",
      "metadata": {
        "id": "kUovGbXqJlil",
        "colab_type": "code",
        "colab": {}
      },
      "source": [
        "import pandas as pd\n",
        "import numpy as np\n",
        "import matplotlib.pyplot as plt\n",
        "import cv2\n",
        "import os\n",
        "from math import floor\n",
        "from tqdm import tqdm, trange\n",
        "from sklearn.model_selection import train_test_split\n",
        "import sklearn.metrics"
      ],
      "execution_count": 0,
      "outputs": []
    },
    {
      "cell_type": "code",
      "metadata": {
        "id": "dvU4sK_nJlio",
        "colab_type": "code",
        "colab": {}
      },
      "source": [
        "import tensorflow as tf\n",
        "from tensorflow.keras.callbacks import Callback, ModelCheckpoint"
      ],
      "execution_count": 0,
      "outputs": []
    },
    {
      "cell_type": "code",
      "metadata": {
        "id": "Q9vTWSbBJliq",
        "colab_type": "code",
        "colab": {}
      },
      "source": [
        "import warnings\n",
        "warnings.filterwarnings('ignore')"
      ],
      "execution_count": 0,
      "outputs": []
    },
    {
      "cell_type": "code",
      "metadata": {
        "id": "oSaO67QwJlis",
        "colab_type": "code",
        "colab": {}
      },
      "source": [
        "class config:\n",
        "    epochs=1\n",
        "    batch_size=1\n",
        "    num_classes=3\n",
        "    IMAGE_PATH='./data/train/'\n",
        "    lr=1e-4\n",
        "    seed=42"
      ],
      "execution_count": 0,
      "outputs": []
    },
    {
      "cell_type": "code",
      "metadata": {
        "id": "_QAmftboJliu",
        "colab_type": "code",
        "colab": {}
      },
      "source": [
        "import random\n",
        "def seed_everything(seed):\n",
        "    random.seed(seed)\n",
        "    os.environ['PYTHONHASHSEED']=str(seed)\n",
        "    np.random.seed(seed)\n",
        "\n",
        "seed_everything(config.seed)"
      ],
      "execution_count": 0,
      "outputs": []
    },
    {
      "cell_type": "code",
      "metadata": {
        "id": "Fp3XGGNYJliw",
        "colab_type": "code",
        "colab": {},
        "outputId": "679cf16d-ac14-49cc-db1b-2b74a81d9d6b"
      },
      "source": [
        "df = pd.read_csv('./data/train.csv')\n",
        "train_df = os.listdir(config.IMAGE_PATH)\n",
        "print(len(train_df))\n",
        "train_df, val_df = train_test_split(train_df, random_state=config.seed, test_size=0.2) # test_size 조정\n",
        "print(len(train_df), len(val_df))\n",
        "\n",
        "# Remove empty images from training\n",
        "# 안지우는게 날것 같음\n",
        "bad_imgs = []\n",
        "for id in train_df:\n",
        "    if len(df[df['image_id'] == id[:-4]]) == 0:\n",
        "        bad_imgs.append(id)\n",
        "        \n",
        "for im in bad_imgs:\n",
        "    train_df.remove(im)\n",
        "print(len(train_df), len(val_df))"
      ],
      "execution_count": 0,
      "outputs": [
        {
          "output_type": "stream",
          "text": [
            "3422\n",
            "2737 685\n",
            "2697 685\n"
          ],
          "name": "stdout"
        }
      ]
    },
    {
      "cell_type": "markdown",
      "metadata": {
        "id": "mpNxbqUSJliz",
        "colab_type": "text"
      },
      "source": [
        "## Utils "
      ]
    },
    {
      "cell_type": "code",
      "metadata": {
        "id": "MD1SraiKJliz",
        "colab_type": "code",
        "colab": {}
      },
      "source": [
        "def normalize_image(image):\n",
        "  mean = [0.40789655, 0.44719303, 0.47026116]\n",
        "  std = [0.2886383, 0.27408165, 0.27809834]\n",
        "  return ((np.float32(image) / 255.) - mean) / std\n",
        "\n",
        "from math import floor\n",
        "\n",
        "def get_boxes(bbox):\n",
        "  boxes = []\n",
        "  for box in bbox:\n",
        "    box = box[1:-1].split(',')\n",
        "    box = [float(b) for b in box]\n",
        "    box = [int(b) for b in box]\n",
        "    boxes.append(box)\n",
        "\n",
        "  boxes = np.array(boxes, dtype=np.int32)\n",
        "  return boxes\n",
        "\n",
        "def heatmap(bbox):\n",
        "    def get_coords(bbox):\n",
        "      xs,ys,w,h=[],[],[],[]\n",
        "      for box in bbox:\n",
        "        box = box[1:-1].split(',')\n",
        "        box = [float(b) for b in box]\n",
        "        box = [int(b) for b in box]\n",
        "\n",
        "        x1, y1, width, height = box\n",
        "        xs.append(x1+width//2)\n",
        "        ys.append(y1+height//2)\n",
        "        w.append(width)\n",
        "        h.append(height)\n",
        "      \n",
        "      return xs, ys, w, h\n",
        "    \n",
        "    def get_heatmap(p_x, p_y):\n",
        "        X1 = np.linspace(1, 1024, 1024)\n",
        "        Y1 = np.linspace(1, 1024, 1024)\n",
        "        [X, Y] = np.meshgrid(X1, Y1)\n",
        "        X = X - floor(p_x)\n",
        "        Y = Y - floor(p_y)\n",
        "        D2 = X * X + Y * Y\n",
        "        sigma_ = 10\n",
        "        E2 = 2.0 * sigma_ ** 2\n",
        "        Exponent = D2 / E2\n",
        "        heatmap = np.exp(-Exponent)\n",
        "        heatmap = heatmap[:, :, np.newaxis]\n",
        "        return heatmap\n",
        "\n",
        "    coors = []\n",
        "    size = 20\n",
        "    y_ = size\n",
        "    while y_ > -size - 1:\n",
        "      x_ = -size\n",
        "      while x_ < size + 1:\n",
        "        coors.append([x_, y_])\n",
        "        x_ += 1\n",
        "      y_ -= 1\n",
        "\n",
        "    u, v, w, h = get_coords(bbox)\n",
        "    \n",
        "    if len(bbox) == 0:\n",
        "      u = np.array([512])\n",
        "      v = np.array([512])\n",
        "      w = np.array([10])\n",
        "      h = np.array([10])\n",
        "    \n",
        "    hm = np.zeros((1024,1024,1))\n",
        "    width = np.zeros((1024,1024,1))\n",
        "    height = np.zeros((1024,1024,1))\n",
        "    for i in range(len(u)):\n",
        "      for coor in coors:\n",
        "        try:\n",
        "          width[int(v[i])+coor[0], int(u[i])+coor[1]] = w[i] / 256\n",
        "          height[int(v[i])+coor[0], int(u[i])+coor[1]] = h[i] / 256\n",
        "        except:\n",
        "          pass\n",
        "      heatmap = get_heatmap(u[i], v[i])\n",
        "      hm[:,:] = np.maximum(hm[:,:],heatmap[:,:])\n",
        "      \n",
        "    hm = cv2.resize(hm, (256,256))[:,:,None]\n",
        "    width = cv2.resize(width, (256,256))[:,:,None]\n",
        "    height = cv2.resize(height, (256,256))[:,:,None]\n",
        "    return hm, width, height"
      ],
      "execution_count": 0,
      "outputs": []
    },
    {
      "cell_type": "markdown",
      "metadata": {
        "id": "jdpOQL4MJli2",
        "colab_type": "text"
      },
      "source": [
        "## Dataset"
      ]
    },
    {
      "cell_type": "code",
      "metadata": {
        "id": "dIruAJwIJli2",
        "colab_type": "code",
        "colab": {}
      },
      "source": [
        "class DataGenerator(tf.keras.utils.Sequence):\n",
        "    'Generates data for Keras'\n",
        "    def __init__(self, list_IDs, df, target_df=None, mode='fit',\n",
        "                 base_path=config.IMAGE_PATH, image_paths=None,\n",
        "                 batch_size=4, dim=(128, 128), n_channels=3,\n",
        "                 n_classes=3, random_state=config.seed, shuffle=True):\n",
        "        self.dim = dim\n",
        "        self.batch_size = batch_size\n",
        "        self.df = df\n",
        "        self.mode = mode\n",
        "        self.base_path = base_path\n",
        "        self.target_df = target_df\n",
        "        self.list_IDs = list_IDs\n",
        "        self.n_channels = n_channels\n",
        "        self.n_classes = n_classes\n",
        "        self.shuffle = shuffle\n",
        "        self.random_state = random_state\n",
        "        self.image_paths = image_paths\n",
        "        \n",
        "        self.on_epoch_end()\n",
        "\n",
        "    def __len__(self):\n",
        "        'Denotes the number of batches per epoch'\n",
        "        return int(np.floor(len(self.list_IDs) / self.batch_size))\n",
        "    \n",
        "    def __getitem__(self, index):\n",
        "        'Generate one batch of data'\n",
        "        # Generate indexes of the batch\n",
        "        indexes = self.indexes[index*self.batch_size:(index+1)*self.batch_size]\n",
        "\n",
        "        # Find list of IDs\n",
        "        list_IDs_batch = [self.list_IDs[k] for k in indexes]\n",
        "        \n",
        "        X = self.__generate_X(list_IDs_batch)\n",
        "        \n",
        "        if self.mode == 'fit':\n",
        "            y = self.__generate_y(list_IDs_batch)\n",
        "            return X, y\n",
        "        \n",
        "        elif self.mode == 'predict':\n",
        "            return X\n",
        "\n",
        "        else:\n",
        "            raise AttributeError('The mode parameter should be set to \"fit\" or \"predict\".')\n",
        "        \n",
        "    def on_epoch_end(self):\n",
        "        'Updates indexes after each epoch'\n",
        "        self.indexes = np.arange(len(self.list_IDs))\n",
        "        if self.shuffle == True:\n",
        "            np.random.seed(self.random_state)\n",
        "            np.random.shuffle(self.indexes)\n",
        "            \n",
        "    def __generate_X(self, list_IDs_batch):\n",
        "        'Generates data containing batch_size samples'\n",
        "        X = []\n",
        "        \n",
        "        for i, ID in enumerate(list_IDs_batch):\n",
        "            im_name = self.image_paths[ID]\n",
        "            img_path = f\"{self.base_path}{im_name}\"\n",
        "            img = self.__load_rgb(img_path)\n",
        "            \n",
        "            X.append(img)\n",
        "\n",
        "        X = np.array(X)\n",
        "        return X\n",
        "    \n",
        "    def __generate_y(self, list_IDs_batch):\n",
        "        y1 = []\n",
        "        y2 = []\n",
        "        for i, ID in enumerate(list_IDs_batch):\n",
        "            image_id = self.image_paths[ID][:-4]\n",
        "            bbox = self.df[self.df['image_id']==image_id]['bbox']\n",
        "            mask, width, height = heatmap(bbox)\n",
        "            y1.append(np.concatenate([mask,width,height], axis=-1))\n",
        "            y2.append(mask)\n",
        "        \n",
        "        y1 = np.array(y1)\n",
        "        y2 = np.array(y2)\n",
        "        return [y1,y2]\n",
        "    \n",
        "    def __load_grayscale(self, img_path):\n",
        "        img = cv2.imread(img_path, cv2.IMREAD_GRAYSCALE)\n",
        "        img = img.astype(np.float32) / 255.\n",
        "        img = np.expand_dims(img, axis=-1)\n",
        "\n",
        "        return img\n",
        "    \n",
        "    def __load_rgb(self, img_path):\n",
        "        img = cv2.cvtColor(cv2.imread(img_path), cv2.COLOR_BGR2RGB)\n",
        "\n",
        "        img = normalize_image(img)\n",
        "        return img"
      ],
      "execution_count": 0,
      "outputs": []
    },
    {
      "cell_type": "code",
      "metadata": {
        "id": "nc4R6-WrJli4",
        "colab_type": "code",
        "colab": {},
        "outputId": "b59eb0f3-14eb-45ac-c91e-99d4ce15e1b6"
      },
      "source": [
        "train_gen = DataGenerator(\n",
        "    list(range(len(train_df))),\n",
        "    df=df,\n",
        "    target_df=df,\n",
        "    batch_size=config.batch_size,\n",
        "    dim=(1024, 1024),\n",
        "    n_classes=config.num_classes,\n",
        "    image_paths=train_df,\n",
        "    shuffle=True\n",
        ")\n",
        "\n",
        "img, regr = train_gen.__getitem__(1)\n",
        "hm = regr[1][0][:,:,0]\n",
        "width = regr[0][0][:,:,1]\n",
        "height = regr[0][0][:,:,2]\n",
        "\n",
        "img = cv2.resize(img[0], (256,256))\n",
        "\n",
        "nrow, ncol = 3, 1\n",
        "fig, axes = plt.subplots(nrow, ncol, figsize=(20, 20))\n",
        "axes = axes.flatten()\n",
        "\n",
        "for i, ax in enumerate(axes):\n",
        "    if i == 0:\n",
        "        ax.imshow(img)\n",
        "        ax.imshow(hm, alpha=0.5)\n",
        "    elif i == 1:\n",
        "        ax.imshow(img)\n",
        "        ax.imshow(width, alpha=0.5)\n",
        "    else:\n",
        "        ax.imshow(img)\n",
        "        ax.imshow(height, alpha=0.5)"
      ],
      "execution_count": 0,
      "outputs": [
        {
          "output_type": "stream",
          "text": [
            "Clipping input data to the valid range for imshow with RGB data ([0..1] for floats or [0..255] for integers).\n",
            "Clipping input data to the valid range for imshow with RGB data ([0..1] for floats or [0..255] for integers).\n",
            "Clipping input data to the valid range for imshow with RGB data ([0..1] for floats or [0..255] for integers).\n"
          ],
          "name": "stderr"
        },
        {
          "output_type": "display_data",
          "data": {
            "image/png": "[encoded data removed]",
            "text/plain": [
              "<Figure size 1440x1440 with 3 Axes>"
            ]
          },
          "metadata": {
            "tags": [],
            "needs_background": "light"
          }
        }
      ]
    },
    {
      "cell_type": "markdown",
      "metadata": {
        "id": "EHMrpq0UJli6",
        "colab_type": "text"
      },
      "source": [
        "## Centernet Model "
      ]
    },
    {
      "cell_type": "code",
      "metadata": {
        "id": "s4KU5rrFJli6",
        "colab_type": "code",
        "colab": {}
      },
      "source": [
        "import tensorflow.keras.backend as K\n",
        "from tensorflow.keras.layers import Dense, Activation, Input, Conv2D, BatchNormalization, Add, UpSampling2D, ZeroPadding2D, Lambda, Concatenate, Dropout, SpatialDropout2D\n",
        "from tensorflow.keras.models import Sequential, Model\n",
        "from tensorflow.keras.utils import get_file"
      ],
      "execution_count": 0,
      "outputs": []
    },
    {
      "cell_type": "code",
      "metadata": {
        "id": "bYhBe-CCJli8",
        "colab_type": "code",
        "colab": {}
      },
      "source": [
        "# weights_path = get_file('centernet.hdf5',\n",
        "#                           'https://github.com/see--/keras-centernet/releases/download/0.1.0/ctdet_coco_hg.hdf5',\n",
        "#                           cache_subdir='./weights/', \n",
        "#                           file_hash='ce01e92f75b533e3ff8e396c76d55d97ff3ec27e99b1bdac1d7b0d6dcf5d90eb')"
      ],
      "execution_count": 0,
      "outputs": []
    },
    {
      "cell_type": "code",
      "metadata": {
        "id": "XUEOsmQAJli-",
        "colab_type": "code",
        "colab": {}
      },
      "source": [
        "def HourglassNetwork(heads, num_stacks, cnv_dim=256, inres=(512, 512), \n",
        "                     weights_path='./weights/centernet.hdf5', dims=[256, 384, 384, 384, 512]):\n",
        "    input_layer = Input(shape=(inres[0], inres[1], 3), name='HGInput')\n",
        "    inter = pre(input_layer, cnv_dim)\n",
        "    prev_inter = None\n",
        "    outputs = []\n",
        "    for i in range(num_stacks):\n",
        "        prev_inter = inter\n",
        "        _heads, inter = hourglass_module(heads, inter, cnv_dim, i, dims)\n",
        "        if i == 1:\n",
        "            if _heads is not None:\n",
        "                outputs.extend(_heads)\n",
        "        if i < num_stacks - 1:\n",
        "            inter_ = Conv2D(cnv_dim, 1, use_bias=False, name='inter_.%d.0' % i)(prev_inter)\n",
        "            inter_ = BatchNormalization(epsilon=1e-5, name='inter_.%d.1' % i)(inter_)\n",
        "            \n",
        "            cnv_ = Conv2D(cnv_dim, 1, use_bias=False, name='cnv_.%d.0' % i)(inter)\n",
        "            cnv_ = BatchNormalization(epsilon=1e-5, name='cnv_.%d.1' % i)(cnv_)\n",
        "            \n",
        "            inter = Add(name='inters.%d.inters.add' % i)([inter_, cnv_])\n",
        "            inter = Activation('relu', name='inters.%d.inters.relu' % i)(inter)\n",
        "            inter = residual(inter, cnv_dim, 'inters.%d' % i)\n",
        "    \n",
        "    model = Model(inputs=input_layer, outputs=outputs)\n",
        "    \n",
        "    print('Loading weights...')\n",
        "    model.load_weights(weights_path, by_name=True)\n",
        "    print('Done!')\n",
        "    \n",
        "    return model\n",
        "\n",
        "def hourglass_module(heads, bottom, cnv_dim, hgid, dims):\n",
        "    lfs = left_features(bottom, hgid, dims)\n",
        "\n",
        "    rf1 = right_features(lfs, hgid, dims)\n",
        "    rf1 = convolution(rf1, 3, cnv_dim, name='cnvs.%d' % hgid)\n",
        "\n",
        "    if heads is not None:\n",
        "        heads = create_heads(heads, rf1, hgid)\n",
        "    return heads, rf1\n",
        "\n",
        "def convolution(_x, k, out_dim, name, stride=1):\n",
        "    padding = (k - 1) // 2\n",
        "    _x = ZeroPadding2D(padding=padding, name=name + '.pad')(_x)\n",
        "    _x = Conv2D(out_dim, k, strides=stride, use_bias=False, name=name + '.conv')(_x)\n",
        "    _x = BatchNormalization(epsilon=1e-5, name=name + '.bn')(_x)\n",
        "    _x = Activation('relu', name=name + '.relu')(_x)\n",
        "    return _x\n",
        "\n",
        "def residual(_x, out_dim, name, stride=1):\n",
        "    shortcut = _x\n",
        "    num_channels = K.int_shape(shortcut)[-1]\n",
        "    _x = ZeroPadding2D(padding=1, name=name + '.pad1')(_x)\n",
        "    _x = Conv2D(out_dim, 3, strides=stride, use_bias=False, name=name + '.conv1')(_x)\n",
        "    _x = BatchNormalization(epsilon=1e-5, name=name + '.bn1')(_x)\n",
        "    _x = Activation('relu', name=name + '.relu1')(_x)\n",
        "\n",
        "    _x = Conv2D(out_dim, 3, padding='same', use_bias=False, name=name + '.conv2')(_x)\n",
        "    _x = BatchNormalization(epsilon=1e-5, name=name + '.bn2')(_x)\n",
        "\n",
        "    if num_channels != out_dim or stride != 1:\n",
        "        shortcut = Conv2D(out_dim, 1, strides=stride, use_bias=False, name=name + '.shortcut.0')(\n",
        "            shortcut)\n",
        "        shortcut = BatchNormalization(epsilon=1e-5, name=name + '.shortcut.1')(shortcut)\n",
        "\n",
        "    _x = Add(name=name + '.add')([_x, shortcut])\n",
        "    _x = Activation('relu', name=name + '.relu')(_x)\n",
        "    return _x\n",
        "\n",
        "def pre(_x, num_channels):\n",
        "    _x = convolution(_x, 7, 128, name='pre.0', stride=2)\n",
        "    _x = residual(_x, num_channels, name='pre.1', stride=2)\n",
        "    return _x\n",
        "\n",
        "def left_features(bottom, hgid, dims):\n",
        "    features = [bottom]\n",
        "    for kk, nh in enumerate(dims):\n",
        "        pow_str = ''\n",
        "        for _ in range(kk):\n",
        "            pow_str += '.center'\n",
        "        _x = residual(features[-1], nh, name='kps.%d%s.down.0' % (hgid, pow_str), stride=[2, 2])\n",
        "        _x = residual(_x, nh, name='kps.%d%s.down.1' % (hgid, pow_str))\n",
        "        features.append(_x)\n",
        "    return features\n",
        "\n",
        "def connect_left_right(left, right, num_channels, num_channels_next, name):\n",
        "    left = residual(left, num_channels_next, name=name + 'skip.0')\n",
        "    left = residual(left, num_channels_next, name=name + 'skip.1')\n",
        "\n",
        "    out = residual(right, num_channels, name=name + 'out.0')\n",
        "    out = residual(out, num_channels_next, name=name + 'out.1')\n",
        "    out = UpSampling2D(name=name + 'out.upsampleNN')(out)\n",
        "    out = Add(name=name + 'out.add')([left, out])\n",
        "    return out\n",
        "\n",
        "def bottleneck_layer(_x, num_channels, hgid):\n",
        "    pow_str = 'center.' * 5\n",
        "    _x = residual(_x, num_channels, name='kps.%d.%s0' % (hgid, pow_str))\n",
        "    _x = residual(_x, num_channels, name='kps.%d.%s1' % (hgid, pow_str))\n",
        "    _x = residual(_x, num_channels, name='kps.%d.%s2' % (hgid, pow_str))\n",
        "    _x = residual(_x, num_channels, name='kps.%d.%s3' % (hgid, pow_str))\n",
        "    return _x\n",
        "\n",
        "def right_features(leftfeatures, hgid, dims):\n",
        "    rf = bottleneck_layer(leftfeatures[-1], dims[-1], hgid)\n",
        "    for kk in reversed(range(len(dims))):\n",
        "        pow_str = ''\n",
        "        for _ in range(kk):\n",
        "            pow_str += 'center.'\n",
        "        rf = connect_left_right(leftfeatures[kk], rf, dims[kk], dims[max(kk - 1, 0)], name='kps.%d.%s' % (hgid, pow_str))\n",
        "    return rf\n",
        "\n",
        "def create_heads(heads, rf1, hgid):\n",
        "    _heads = []\n",
        "    for head in heads:\n",
        "        num_channels = heads[head]\n",
        "        _x = Conv2D(256, 3, use_bias=True, padding='same', name=head + '.%d.0.conv' % hgid)(rf1)\n",
        "        _x = Activation('relu', name=head + '.%d.0.relu' % hgid)(_x)\n",
        "        _x = Conv2D(num_channels, 1, use_bias=True, name=head + '.%d.1' % hgid)(_x)\n",
        "        _heads.append(_x)\n",
        "    return _heads"
      ],
      "execution_count": 0,
      "outputs": []
    },
    {
      "cell_type": "code",
      "metadata": {
        "id": "3IaPdZr_JljA",
        "colab_type": "code",
        "colab": {},
        "outputId": "e27636b5-662a-4848-ac7a-7c11f3b20ef8"
      },
      "source": [
        "kwargs = {\n",
        "    'num_stacks': 2,\n",
        "    'cnv_dim': 256,\n",
        "    'inres': (1024, 1024),\n",
        "}\n",
        "\n",
        "heads = {\n",
        "    'regr': 2,\n",
        "    'confidence': 1\n",
        "}\n",
        "\n",
        "model = HourglassNetwork(heads=heads, **kwargs)"
      ],
      "execution_count": 0,
      "outputs": [
        {
          "output_type": "stream",
          "text": [
            "Loading weights...\n",
            "Done!\n"
          ],
          "name": "stdout"
        }
      ]
    },
    {
      "cell_type": "markdown",
      "metadata": {
        "id": "rYMViaDpJljC",
        "colab_type": "text"
      },
      "source": [
        "## Compile Model"
      ]
    },
    {
      "cell_type": "code",
      "metadata": {
        "id": "OHcHAXAsJljC",
        "colab_type": "code",
        "colab": {}
      },
      "source": [
        "from tensorflow.keras.losses import mean_squared_error\n",
        "from tensorflow.keras.optimizers import Adam\n",
        "\n",
        "alpha = .25\n",
        "gamma = 2\n",
        "def focal_loss_with_logits(logits, targets, alpha, gamma, y_pred):\n",
        "    weight_a = alpha * (1 - y_pred) ** gamma * targets\n",
        "    weight_b = (1 - alpha) * y_pred ** gamma * (1 - targets)\n",
        "    \n",
        "    return (tf.math.log1p(tf.exp(-tf.abs(logits))) + tf.nn.relu(-logits)) * (weight_a + weight_b) + logits * weight_b\n",
        "\n",
        "def focal_loss(y_true, y_pred):\n",
        "    y_pred = tf.clip_by_value(y_pred, K.epsilon(), 1 - K.epsilon())\n",
        "    logits = tf.math.log(y_pred / (1 - y_pred))\n",
        "    \n",
        "    loss = focal_loss_with_logits(logits=logits, targets=y_true, alpha=alpha, gamma=gamma, y_pred=y_pred)\n",
        "    return tf.reduce_mean(loss)\n",
        "\n",
        "def criterion(y_true, y_pred):\n",
        "    mask = y_true[:,:,:, 0][:,:,:,np.newaxis]\n",
        "    regr = y_true[:,:,:, 1:]\n",
        "    \n",
        "    regr_loss = mean_squared_error(regr, y_pred)\n",
        "    loss = regr_loss\n",
        "    \n",
        "    return loss\n",
        "\n",
        "def criterion2(y_true, y_pred):\n",
        "    mask = y_true[:,:,:, 0][:,:,:,np.newaxis]\n",
        "    prediction = y_pred\n",
        "    \n",
        "    pred_mask = tf.sigmoid(prediction[:,:,:, 0])[:,:,:,np.newaxis]\n",
        "    mask_loss = focal_loss(mask, pred_mask)\n",
        "    mask_loss = tf.reduce_mean(mask_loss)\n",
        "    \n",
        "    loss = mask_loss\n",
        "    return loss\n",
        "\n",
        "optimizer = Adam(lr=config.lr)\n",
        "model.compile(optimizer=optimizer, loss=[criterion, criterion2], loss_weights=[5, 1])"
      ],
      "execution_count": 0,
      "outputs": []
    },
    {
      "cell_type": "markdown",
      "metadata": {
        "id": "iFJVf02GJljE",
        "colab_type": "text"
      },
      "source": [
        "## Decoder "
      ]
    },
    {
      "cell_type": "code",
      "metadata": {
        "id": "IW7smpkoJljE",
        "colab_type": "code",
        "colab": {}
      },
      "source": [
        "def _nms(heat, kernel=3):\n",
        "    hmax = K.pool2d(heat, (kernel, kernel), padding='same', pool_mode='max')\n",
        "    keep = K.cast(K.equal(hmax, heat), K.floatx())\n",
        "    return heat * keep\n",
        "\n",
        "def decode_ddd(regr_, hm_, k, output_stride):\n",
        "    hm = K.sigmoid(K.expand_dims(hm_[:,:,:,0]))\n",
        "    regr = regr_\n",
        "    hm = _nms(hm)\n",
        "    hm_shape = K.shape(hm)\n",
        "    regr_shape = K.shape(regr)\n",
        "    batch, width, cat = hm_shape[0], hm_shape[2], hm_shape[3]\n",
        "    \n",
        "    hm_flat = K.reshape(hm, (batch, -1))\n",
        "    regr_flat = K.reshape(regr, (regr_shape[0], -1, regr_shape[-1]))\n",
        "    \n",
        "    def _process_sample(args):\n",
        "        _hm, _regr = args\n",
        "        _scores, _inds = tf.math.top_k(_hm, k=k, sorted=True)\n",
        "        _classes = K.cast(_inds % cat, 'float32')\n",
        "        _inds = K.cast(_inds / cat, 'int32')\n",
        "        _xs = K.cast(_inds % width, 'float32')\n",
        "        _ys = K.cast(K.cast(_inds / width, 'int32'), 'float32')\n",
        "        _xs *= output_stride\n",
        "        _ys *= output_stride\n",
        "        \n",
        "        _regr = K.gather(_regr, _inds)\n",
        "        \n",
        "        _width = _regr[:, 0] * 256\n",
        "        _height = _regr[:, 1] * 256\n",
        "        \n",
        "        _detection = K.stack([_xs, _ys, _scores, _classes, _width, _height], -1)\n",
        "        return _detection\n",
        "    \n",
        "    detections = K.map_fn(_process_sample, [hm_flat, regr_flat], dtype=K.floatx())\n",
        "    return detections\n",
        "\n",
        "def add_decoder(model, k=125, output_stride=4):\n",
        "    def _decode(args):\n",
        "        _regr, _hm = args\n",
        "        return decode_ddd(_regr, _hm, k=k, output_stride=output_stride)\n",
        "    \n",
        "    output = Lambda(_decode)(*[model.outputs])\n",
        "    model = Model(model.input, output)\n",
        "    return model"
      ],
      "execution_count": 0,
      "outputs": []
    },
    {
      "cell_type": "markdown",
      "metadata": {
        "id": "yGzeL3E7JljG",
        "colab_type": "text"
      },
      "source": [
        "## IOU / Precision Utils "
      ]
    },
    {
      "cell_type": "code",
      "metadata": {
        "id": "d-ZhjS7AJljG",
        "colab_type": "code",
        "colab": {}
      },
      "source": [
        ""
      ],
      "execution_count": 0,
      "outputs": []
    },
    {
      "cell_type": "markdown",
      "metadata": {
        "id": "S36ioFCoJljI",
        "colab_type": "text"
      },
      "source": [
        "## MAP"
      ]
    },
    {
      "cell_type": "code",
      "metadata": {
        "id": "fJzION0DJljJ",
        "colab_type": "code",
        "colab": {}
      },
      "source": [
        ""
      ],
      "execution_count": 0,
      "outputs": []
    },
    {
      "cell_type": "markdown",
      "metadata": {
        "id": "4L1OB4EnJljK",
        "colab_type": "text"
      },
      "source": [
        "## Training "
      ]
    },
    {
      "cell_type": "code",
      "metadata": {
        "id": "lYGg6ROAJljL",
        "colab_type": "code",
        "colab": {}
      },
      "source": [
        ""
      ],
      "execution_count": 0,
      "outputs": []
    },
    {
      "cell_type": "markdown",
      "metadata": {
        "id": "SPlbOfcDJljM",
        "colab_type": "text"
      },
      "source": [
        "## Testing "
      ]
    },
    {
      "cell_type": "code",
      "metadata": {
        "id": "4OipSyvUJljP",
        "colab_type": "code",
        "colab": {}
      },
      "source": [
        ""
      ],
      "execution_count": 0,
      "outputs": []
    }
  ]
}
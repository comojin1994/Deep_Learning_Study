{
 "cells": [
  {
   "cell_type": "markdown",
   "metadata": {},
   "source": [
    "### 제목\n",
    "\n",
    "# Hello World\n",
    "\n",
    "## Hello World\n",
    "\n",
    "### Hello World\n",
    "\n",
    "#### Hello World"
   ]
  },
  {
   "cell_type": "markdown",
   "metadata": {},
   "source": [
    "### 볼드체 & 이텔릭체\n",
    "**python** in really *cool*\n",
    "\n",
    "### 순서 없는 리스트\n",
    "- python\n",
    " - pandas\n",
    "   - dataframe\n",
    "   - analysis\n",
    " - numpy\n",
    "- java\n",
    "- c++\n",
    "- golang"
   ]
  },
  {
   "cell_type": "markdown",
   "metadata": {},
   "source": [
    "### 순서형 리스트\n",
    "\n",
    "1. python\n",
    "2. jabe\n",
    "3. c++\n",
    "\n",
    "### 인용\n",
    "> python is cool\n",
    "\n",
    "### 수식\n",
    "$y = 3x$\n",
    "\n",
    "### 코드\n",
    "```python\n",
    "a = 10\n",
    "print(a)\n",
    "```\n",
    "\n",
    "### 링크\n",
    "\n",
    "[마크다운 참고자료](https://eungbean.github.io/2018/06/11/How-to-use-markdown/)"
   ]
  }
 ],
 "metadata": {
  "kernelspec": {
   "display_name": "Python 3",
   "language": "python",
   "name": "python3"
  },
  "language_info": {
   "codemirror_mode": {
    "name": "ipython",
    "version": 3
   },
   "file_extension": ".py",
   "mimetype": "text/x-python",
   "name": "python",
   "nbconvert_exporter": "python",
   "pygments_lexer": "ipython3",
   "version": "3.7.4"
  }
 },
 "nbformat": 4,
 "nbformat_minor": 2
}

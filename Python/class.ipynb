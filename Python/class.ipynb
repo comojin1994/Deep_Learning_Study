{
 "cells": [
  {
   "cell_type": "markdown",
   "metadata": {},
   "source": [
    "### 학습목표\n",
    " 1. 클래스와 오브젝트에 대한 이해"
   ]
  },
  {
   "cell_type": "markdown",
   "metadata": {},
   "source": [
    "#### **class란?**\n",
    " + 실세계의 것을 모델링하여 속성(attribute)와 동작(method)를 갖는 데이터 타입\n",
    " + python에서의 string, int, list, dict.. 모두가 다 클래스로 존재\n",
    " + 예를들어 학생이라는 클래스를 만든다면, 학생을 나타내는 속성과 학생이 행하는 행동을 함께 정의 할 수 있음\n",
    " + 따라서, 다루고자 하는 데이터(변수) 와 데이터를 다루는 연산(함수)를 하나로 캡슐화(encapsulation)하여 클래스로 표현\n",
    " + 모델링에서 중요시 하는 속성에 따라 클래스의 속성과 행동이 각각 달라짐"
   ]
  },
  {
   "cell_type": "code",
   "execution_count": null,
   "metadata": {},
   "outputs": [],
   "source": []
  },
  {
   "cell_type": "markdown",
   "metadata": {},
   "source": [
    "#### **object 란?**\n",
    " - 클래스로 생성되어 구체화된 객체(인스턴스)\n",
    " - 파이썬의 모든 것(int, str, list..etc)은 객체(인스턴스)\n",
    " - 실제로 class가 인스턴스화 되어 메모리에 상주하는 상태를 의미\n",
    " - class가 빵틀이라면, object는 실제로 빵틀로 찍어낸 빵이라고 비유 가능\n"
   ]
  },
  {
   "cell_type": "code",
   "execution_count": null,
   "metadata": {},
   "outputs": [],
   "source": []
  },
  {
   "cell_type": "markdown",
   "metadata": {},
   "source": [
    "#### **class 선언하기**\n",
    "  - 객체를 생성하기 위해선 객체의 모체가 되는 class를 미리 선언해야 함 "
   ]
  },
  {
   "cell_type": "code",
   "execution_count": null,
   "metadata": {},
   "outputs": [],
   "source": []
  },
  {
   "cell_type": "markdown",
   "metadata": {},
   "source": [
    "#### __init__(self)\n",
    " + 생성자, 클래스 인스턴스가 생성될 때 호출됨\n",
    " + self인자는 항상 첫번째에 오며 자기 자신을 가리킴\n",
    " + 이름이 꼭 self일 필요는 없지만, 관례적으로 self로 사용\n",
    " \n",
    " + 생성자에서는 해당 클래스가 다루는 데이터를 정의\n",
    "   - 이 데이터를 멤버 변수(member variable) 또는 속성(attribute)라고 함"
   ]
  },
  {
   "cell_type": "code",
   "execution_count": 5,
   "metadata": {},
   "outputs": [
    {
     "name": "stdout",
     "output_type": "stream",
     "text": [
      "<__main__.Person object at 0x000001E92A18CCC8> is generated\n",
      "<__main__.Person object at 0x000001E92A18CF08> is generated\n",
      "arron 20\n"
     ]
    }
   ],
   "source": [
    "class Person:\n",
    "    def __init__(self):\n",
    "        print(self, 'is generated' )\n",
    "        self.name = 'Kate'\n",
    "        self.age = 10\n",
    "        \n",
    "p1 = Person()\n",
    "p2 = Person()\n",
    "\n",
    "p1.name = 'arron'\n",
    "p1.age = 20\n",
    "\n",
    "print(p1.name, p1.age)"
   ]
  },
  {
   "cell_type": "code",
   "execution_count": 10,
   "metadata": {},
   "outputs": [
    {
     "name": "stdout",
     "output_type": "stream",
     "text": [
      "Bob 30\n",
      "Kate 20\n",
      "Aaron 10\n"
     ]
    }
   ],
   "source": [
    "class Person:\n",
    "    def __init__(self, name, age=10):\n",
    "#         print(self, 'is generated')\n",
    "        self.name = name\n",
    "        self.age = age\n",
    "\n",
    "p1 = Person('Bob', 30)\n",
    "p2 = Person('Kate', 20)\n",
    "p3 = Person('Aaron')\n",
    "\n",
    "print(p1.name, p1.age)\n",
    "print(p2.name, p2.age)\n",
    "print(p3.name, p3.age)"
   ]
  },
  {
   "cell_type": "markdown",
   "metadata": {},
   "source": [
    "#### **mehtod 정의**\n",
    " + 멤버함수라고도 하며, 해당 클래스의 object에서만 호출가능\n",
    " + 메쏘드는 객체 레벨에서 호출되며, 해당 객체의 속성에 대한 연산을 행함\n",
    " + {obj}.{method}() 형태로 호출됨"
   ]
  },
  {
   "cell_type": "markdown",
   "metadata": {},
   "source": [
    "**ex**\n",
    ">```python\n",
    "a = list()\n",
    "a.append(0)\n",
    "s = 'test'\n",
    "s.split()\n",
    "```"
   ]
  },
  {
   "cell_type": "code",
   "execution_count": 18,
   "metadata": {},
   "outputs": [
    {
     "name": "stdout",
     "output_type": "stream",
     "text": [
      "current value is 0\n",
      "current value is 3\n",
      "------------------------------\n",
      "current value is 0\n",
      "current value is 2\n",
      "current value is 0\n"
     ]
    }
   ],
   "source": [
    "# 1. 숫자를 하나 증가\n",
    "# 2. 숫자를 0으로 초기화\n",
    "class Counter:\n",
    "    def __init__(self):\n",
    "        self.num = 0\n",
    "        \n",
    "    def print_current_value(self):\n",
    "        print('current value is', self.num)\n",
    "        \n",
    "    def increment(self):\n",
    "        self.num += 1\n",
    "    \n",
    "    def reset(self):\n",
    "        self.num = 0\n",
    "    \n",
    "c1 = Counter()\n",
    "c1.print_current_value()\n",
    "c1.increment()\n",
    "c1.increment()\n",
    "c1.increment()\n",
    "c1.print_current_value()\n",
    "\n",
    "print('-'*30)\n",
    "c2 = Counter()\n",
    "c2.print_current_value()\n",
    "c2.increment()\n",
    "c2.increment()\n",
    "c2.print_current_value()\n",
    "c2.reset()\n",
    "c2.print_current_value()"
   ]
  },
  {
   "cell_type": "markdown",
   "metadata": {},
   "source": [
    " #### **Class Inheritance (상속)**\n",
    "  - 기존에 정의해둔 클래스의 기능을 그대로 물려받을 수 있다.\n",
    "  - 기존 클래스에 기능 일부를 추가하거나, 변경하여 새로운 클래스를 정의한다.\n",
    "  - 코드를 재사용할 수 있게된다.\n",
    "  - 상속 받고자 하는 대상인 기존 클래스는 (Parent, Super, Base class 라고 부른다.)\n",
    "  - 상속 받는 새로운 클래스는(Child, Sub, Derived class 라고 부른다.)\n",
    "  - 의미적으로 is-a관계를 갖는다"
   ]
  },
  {
   "cell_type": "code",
   "execution_count": 23,
   "metadata": {},
   "outputs": [
    {
     "name": "stdout",
     "output_type": "stream",
     "text": [
      "Bob eats BBQ\n",
      "Bob sleeps for 30 minutes\n",
      "Bob works for 60 minutes\n"
     ]
    }
   ],
   "source": [
    "class Person:\n",
    "    def __init__(self, name, age):\n",
    "        self.name = name\n",
    "        self.age = age\n",
    "    \n",
    "    def eat(self, food):\n",
    "        print('%s eats %s' % (self.name, food))\n",
    "    \n",
    "    def sleep(self, minute):\n",
    "        print('%s sleeps for %d minutes' % (self.name, minute))\n",
    "    \n",
    "    def work(self, minute):\n",
    "        print('%s works for %d minutes' % (self.name, minute))\n",
    "    \n",
    "class Student(Person):\n",
    "    def __init__(self, name, age):\n",
    "        self.name = name\n",
    "        self.age = age\n",
    "\n",
    "class Employee(Person):\n",
    "    def __init__(self, name, age):\n",
    "        self.name = name\n",
    "        self.age = age\n",
    "\n",
    "bob = Student('Bob', 25)\n",
    "bob.eat('BBQ')\n",
    "bob.sleep(30)\n",
    "bob.work(60)\n",
    "    "
   ]
  },
  {
   "cell_type": "markdown",
   "metadata": {},
   "source": [
    "#### **method override**\n",
    " - 부모 클래스의 method를 재정의(override)\n",
    " - 하위 클래스(자식 클래스) 의 인스턴스로 호출시, 재정의된 메소드가 호출됨"
   ]
  },
  {
   "cell_type": "code",
   "execution_count": 27,
   "metadata": {},
   "outputs": [
    {
     "name": "stdout",
     "output_type": "stream",
     "text": [
      "Bob eats BBQ\n",
      "Bob sleeps for 30 minutes\n",
      "Bob works for 60 minutes\n",
      "------------------------------\n",
      "Bob eats BBQ\n",
      "Bob sleeps for 30 minutes\n",
      "Bob studies for 60 minutes\n",
      "------------------------------\n",
      "Bob eats BBQ\n",
      "Bob sleeps for 30 minutes\n",
      "Bob works_ for 60 minutes\n"
     ]
    }
   ],
   "source": [
    "class Person:\n",
    "    def __init__(self, name, age):\n",
    "        self.name = name\n",
    "        self.age = age\n",
    "    \n",
    "    def eat(self, food):\n",
    "        print('%s eats %s' % (self.name, food))\n",
    "    \n",
    "    def sleep(self, minute):\n",
    "        print('%s sleeps for %d minutes' % (self.name, minute))\n",
    "    \n",
    "    def work(self, minute):\n",
    "        print('%s works for %d minutes' % (self.name, minute))\n",
    "    \n",
    "class Student(Person):\n",
    "    def __init__(self, name, age):\n",
    "        self.name = name\n",
    "        self.age = age\n",
    "        \n",
    "    # method 재정의 overriding\n",
    "    def work(self, minute):\n",
    "        print('%s studies for %d minutes' % (self.name, minute))\n",
    "\n",
    "class Employee(Person):\n",
    "    def __init__(self, name, age):\n",
    "        self.name = name\n",
    "        self.age = age\n",
    "        \n",
    "    # method 재정의 overriding\n",
    "    def work(self, minute):\n",
    "        print('%s works_ for %d minutes' % (self.name, minute))\n",
    "        \n",
    "bob = Person('Bob', 25)\n",
    "bob.eat('BBQ')\n",
    "bob.sleep(30)\n",
    "bob.work(60)\n",
    "print('-'*30)\n",
    "bob = Student('Bob', 25)\n",
    "bob.eat('BBQ')\n",
    "bob.sleep(30)\n",
    "bob.work(60)\n",
    "print('-'*30)\n",
    "bob = Employee('Bob', 25)\n",
    "bob.eat('BBQ')\n",
    "bob.sleep(30)\n",
    "bob.work(60)"
   ]
  },
  {
   "cell_type": "markdown",
   "metadata": {},
   "source": [
    "#### super \n",
    " - 하위클래스(자식 클래스)에서 부모클래스의 method를 호출할 때 사용"
   ]
  },
  {
   "cell_type": "code",
   "execution_count": 28,
   "metadata": {},
   "outputs": [
    {
     "name": "stdout",
     "output_type": "stream",
     "text": [
      "Bob eats BBQ\n",
      "Bob sleeps for 30 minutes\n",
      "Bob ready to work for 60 minutes\n",
      "------------------------------\n",
      "Bob eats BBQ\n",
      "Bob sleeps for 30 minutes\n",
      "Bob ready to work for 60 minutes\n",
      "Bob studies for 60 minutes\n",
      "------------------------------\n",
      "Bob eats BBQ\n",
      "Bob sleeps for 30 minutes\n",
      "Bob ready to work for 60 minutes\n",
      "Bob works_ for 60 minutes\n"
     ]
    }
   ],
   "source": [
    "class Person:\n",
    "    def __init__(self, name, age):\n",
    "        self.name = name\n",
    "        self.age = age\n",
    "    \n",
    "    def eat(self, food):\n",
    "        print('%s eats %s' % (self.name, food))\n",
    "    \n",
    "    def sleep(self, minute):\n",
    "        print('%s sleeps for %d minutes' % (self.name, minute))\n",
    "    \n",
    "    def work(self, minute):\n",
    "        print('%s ready to work for %d minutes' % (self.name, minute))\n",
    "    \n",
    "class Student(Person):\n",
    "    def __init__(self, name, age):\n",
    "        self.name = name\n",
    "        self.age = age\n",
    "        \n",
    "    # method 재정의 overriding\n",
    "    def work(self, minute):\n",
    "        # suepr\n",
    "        super().work(minute)\n",
    "        print('%s studies for %d minutes' % (self.name, minute))\n",
    "\n",
    "class Employee(Person):\n",
    "    def __init__(self, name, age):\n",
    "        self.name = name\n",
    "        self.age = age\n",
    "        \n",
    "    # method 재정의 overriding\n",
    "    def work(self, minute):\n",
    "        # suepr\n",
    "        super().work(minute)\n",
    "        print('%s works_ for %d minutes' % (self.name, minute))\n",
    "        \n",
    "bob = Person('Bob', 25)\n",
    "bob.eat('BBQ')\n",
    "bob.sleep(30)\n",
    "bob.work(60)\n",
    "print('-'*30)\n",
    "bob = Student('Bob', 25)\n",
    "bob.eat('BBQ')\n",
    "bob.sleep(30)\n",
    "bob.work(60)\n",
    "print('-'*30)\n",
    "bob = Employee('Bob', 25)\n",
    "bob.eat('BBQ')\n",
    "bob.sleep(30)\n",
    "bob.work(60)"
   ]
  },
  {
   "cell_type": "markdown",
   "metadata": {},
   "source": [
    "#### **self**\n",
    " - 파이썬의 method는 항상 첫번째 인자로 self를 전달\n",
    " - self는 현재 해당 메쏘드가 호출되는 객체 자신을 가리킴\n",
    " - C++/C#, Java의 this에 해당\n",
    " - 역시, 이름이 self일 필요는 없으나, 위치는 항상 맨 처음의 parameter이며 관례적으로 self로 사용"
   ]
  },
  {
   "cell_type": "code",
   "execution_count": 8,
   "metadata": {},
   "outputs": [
    {
     "name": "stdout",
     "output_type": "stream",
     "text": [
      "self:  <__main__.Person object at 0x000001D78A7ECA88>\n",
      "self:  <__main__.Person object at 0x000001D78A7ECAC8>\n",
      "<__main__.Person object at 0x000001D78A7ECA88>\n",
      "<__main__.Person object at 0x000001D78A7ECAC8>\n",
      "self:  <__main__.Person object at 0x000001D78A7ECA88>\n",
      "Aaron is sleep\n",
      "self:  <__main__.Person object at 0x000001D78A7ECAC8>\n",
      "Bob is sleep\n"
     ]
    }
   ],
   "source": [
    "class Person:\n",
    "    def __init__(self, name, age):\n",
    "        print('self: ' , self)\n",
    "        self.name = name\n",
    "        self.age = age\n",
    "        \n",
    "    def sleep(self):\n",
    "        print('self: ', self)\n",
    "        print(self.name, 'is sleep')\n",
    "        \n",
    "a = Person('Aaron', 20)\n",
    "b = Person('Bob', 30)\n",
    "\n",
    "print(a)\n",
    "print(b)\n",
    "\n",
    "a.sleep()\n",
    "# a.sleep(a)와 같다.\n",
    "# self는 python class의 첫번째 파라미터\n",
    "b.sleep()"
   ]
  },
  {
   "cell_type": "markdown",
   "metadata": {},
   "source": [
    "#### **method type**\n",
    " - instance method - 객체로 호출\n",
    "   - 메쏘드는 객체 레벨로 호출 되기 때문에, 해당 메쏘드를 호출한 객체에만 영향을 미침\n",
    " - class method    - class로 호출\n",
    "       - 클래스 메쏘드의 경우, 클래스 레벨로 호출되기 때문에, 클래스 멤버 변수만 변경 가능\n",
    "       \n",
    "기능을 하나로 묶고 싶은데 내부적으로 self를 유지할 필요가 없는 경우\n"
   ]
  },
  {
   "cell_type": "code",
   "execution_count": 21,
   "metadata": {},
   "outputs": [
    {
     "data": {
      "text/plain": [
       "200"
      ]
     },
     "execution_count": 21,
     "metadata": {},
     "output_type": "execute_result"
    }
   ],
   "source": [
    "class Math:\n",
    "    @staticmethod\n",
    "    def add(a, b):\n",
    "        return a + b\n",
    "    \n",
    "    @staticmethod\n",
    "    def multiply(a, b):\n",
    "        return a * b\n",
    "    \n",
    "# m = Math()\n",
    "Math.add(10, 20)\n",
    "Math.multiply(10, 20)"
   ]
  },
  {
   "cell_type": "markdown",
   "metadata": {},
   "source": [
    "#### **special method**\n",
    " - __로 시작 __로 끝나는 특수 함수\n",
    " - 해당 메쏘드들을 구현하면, 커스텀 객체에 여러가지 파이썬 내장 함수나 연산자를 적용 가능\n",
    " - 오버라이딩 가능한 함수 목록은 아래 링크에서 참조 \n",
    "   - https://docs.python.org/3/reference/datamodel.html"
   ]
  },
  {
   "cell_type": "markdown",
   "metadata": {},
   "source": [
    "**Point**\n",
    "- 2차원 좌표평면 각 점 $(x, y)$\n",
    "- 연산\n",
    "- 두점의 덧셈, 뺄셈 $(1, 2) + (3, 4) = (4, 6)$\n",
    "- 한점과 숫자의 곱셈 $(1, 2) * 3 = (3. 6)$\n",
    "- 그 점의 길이 $(0, 0)$ 부터의 거리\n",
    "- $x, y$ 값 가져오기\n",
    "- 출력하기"
   ]
  },
  {
   "cell_type": "code",
   "execution_count": 52,
   "metadata": {},
   "outputs": [
    {
     "name": "stdout",
     "output_type": "stream",
     "text": [
      "[1, 2, 3, 4]\n",
      "------------------------------\n",
      "(3, 4)\n",
      "(2, 7)\n",
      "------------------------------\n",
      "(5, 11)\n",
      "------------------------------\n",
      "(1, -3)\n",
      "------------------------------\n",
      "(9, 12)\n",
      "------------------------------\n",
      "25\n",
      "3 4\n"
     ]
    }
   ],
   "source": [
    "class Point:\n",
    "    def __init__(self, x, y):\n",
    "        self.x = x\n",
    "        self.y = y    \n",
    "\n",
    "# 출력\n",
    "#     def print_pt(self):\n",
    "#         print('(%d, %d)' % (self.x ,self.y))    \n",
    "\n",
    "    def __str__(self):\n",
    "        return '(%d, %d)' % (self.x ,self.y)\n",
    "    \n",
    "# 덧셈\n",
    "#     def add(self, pt):\n",
    "#         new_x = self.x + pt.x\n",
    "#         new_y = self.y + pt.y\n",
    "#         return Point(new_x, new_y)\n",
    "    def __add__(self, pt):\n",
    "        new_x = self.x + pt.x\n",
    "        new_y = self.y + pt.y\n",
    "        return Point(new_x, new_y)\n",
    "    \n",
    "# 뺄셈\n",
    "    def __sub__(self, pt):\n",
    "        new_x = self.x - pt.x\n",
    "        new_y = self.y - pt.y\n",
    "        return Point(new_x, new_y)\n",
    "\n",
    "# 곱셈\n",
    "#     def multiply(self, factor):\n",
    "#         return Point(self.x * factor, self.y * factor)\n",
    "\n",
    "    def __mul__(self, factor):\n",
    "        return Point(self.x * factor, self.y * factor)\n",
    "\n",
    "# 길이\n",
    "#     def length(self):\n",
    "#         return self.x ** 2 + self.y ** 2\n",
    "    def __len__(self):\n",
    "        return self.x ** 2 + self.y ** 2\n",
    "\n",
    "# 점 가져오기\n",
    "# p1[0] -> x\n",
    "# p1[1] -> y\n",
    "#     def get_x(self):\n",
    "#         return self.x\n",
    "    \n",
    "#     def get_y(self):\n",
    "#         return self.y\n",
    "    def __getitem__(self, index):\n",
    "        if index == 0:\n",
    "            return self.x\n",
    "        elif index == 1:\n",
    "            return self.y\n",
    "        else:\n",
    "            return -1\n",
    "    \n",
    "p1 = Point(3, 4)\n",
    "p2 = Point(2, 7)\n",
    "\n",
    "# 이걸 이용하고 싶다는것이 목적\n",
    "print([1,2,3,4])\n",
    "print('-'*30)\n",
    "print(p1)\n",
    "print(p2)\n",
    "\n",
    "# p1.print_pt()\n",
    "# p2.print_pt()\n",
    "print('-'*30)\n",
    "# p3 = p1.add(p2)\n",
    "p3 = p1 + p2\n",
    "print(p3)\n",
    "\n",
    "print('-'*30)\n",
    "p4 = p1 - p2\n",
    "print(p4)\n",
    "\n",
    "print('-'*30)\n",
    "# p5 = p1.multiply(3)\n",
    "p5 = p1 * 3\n",
    "print(p5)\n",
    "\n",
    "print('-'*30)\n",
    "# print(p1.length())\n",
    "print(len(p1))\n",
    "\n",
    "# print(p1.get_x())\n",
    "# print(p1.get_y())\n",
    "\n",
    "print(p1[0], p1[1])"
   ]
  },
  {
   "cell_type": "markdown",
   "metadata": {},
   "source": [
    "#### 연습문제)\n",
    " - 복소수 클래스를 정의 해봅시다.\n",
    " - 덧셈, 뺄셈, 곱셈 연산자 지원\n",
    " - 길이 (복소수의 크기) 지원 \n",
    " - 복소수 출력 '1 + 4j'와 같이 표현\n",
    " - 비교 연산 ==, != 지원\n",
    " - >=, <= , <, > 연산 지원\n",
    " - 절대값 지원\n"
   ]
  },
  {
   "cell_type": "code",
   "execution_count": 34,
   "metadata": {},
   "outputs": [
    {
     "name": "stdout",
     "output_type": "stream",
     "text": [
      "1 + 2j\n",
      "2 + 3j\n",
      "3 + 5j\n",
      "-4 + 7j\n",
      "2\n",
      "False\n",
      "True\n"
     ]
    }
   ],
   "source": [
    "class Complex:\n",
    "    def __init__(self, real, image):\n",
    "        self.real = real\n",
    "        self.image = image\n",
    "    \n",
    "    def __str__(self):\n",
    "        return '%d + %dj' % (self.real, self.image)\n",
    "    \n",
    "    def __add__(self, num):\n",
    "        real = self.real + num.real\n",
    "        image = self.image + num.image\n",
    "        return Complex(real, image)\n",
    "    \n",
    "    def __sub__(self, num):\n",
    "        real = self.real - num.real\n",
    "        image = self.iamge - num.image\n",
    "        return Complex(real, image)\n",
    "    \n",
    "    def __mul__(self, num):\n",
    "        real = (self.real * num.real) - (self.image * num.image)\n",
    "        image = (self.real * num.image) + (self.image * num.real)\n",
    "        return Complex(real, image)\n",
    "    \n",
    "    def __len__(self):\n",
    "        return int((self.real**2 + self.image**2) ** (1/2))\n",
    "    \n",
    "    def __eq__(self, num):\n",
    "        return self.real == num.real and self.image == num.image\n",
    "    \n",
    "    def __ne__(self, num):\n",
    "        return not (self.real == num.real and self.image == num.image)\n",
    "    \n",
    "n1 = Complex(1, 2)\n",
    "n2 = Complex(2, 3)\n",
    "\n",
    "n3 = n1 + n2\n",
    "n4 = n1 * n2\n",
    "\n",
    "print(n1)\n",
    "print(n2)\n",
    "print(n3)\n",
    "print(n4)\n",
    "print(len(n1))\n",
    "print(n1 == n2)\n",
    "print(n1 != n2)"
   ]
  }
 ],
 "metadata": {
  "kernelspec": {
   "display_name": "Python 3",
   "language": "python",
   "name": "python3"
  },
  "language_info": {
   "codemirror_mode": {
    "name": "ipython",
    "version": 3
   },
   "file_extension": ".py",
   "mimetype": "text/x-python",
   "name": "python",
   "nbconvert_exporter": "python",
   "pygments_lexer": "ipython3",
   "version": "3.7.4"
  }
 },
 "nbformat": 4,
 "nbformat_minor": 1
}

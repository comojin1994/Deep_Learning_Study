{
  "nbformat": 4,
  "nbformat_minor": 0,
  "metadata": {
    "colab": {
      "name": "Remind_image_01.ipynb",
      "provenance": [],
      "collapsed_sections": [],
      "authorship_tag": "ABX9TyOJxV8pRCk0qUzfuPdLduPa",
      "include_colab_link": true
    },
    "kernelspec": {
      "name": "python3",
      "display_name": "Python 3"
    },
    "accelerator": "GPU"
  },
  "cells": [
    {
      "cell_type": "markdown",
      "metadata": {
        "id": "view-in-github",
        "colab_type": "text"
      },
      "source": [
        "<a href=\"https://colab.research.google.com/github/comojin1994/Deep_Learning_Study/blob/master/Tensorflow/Remind/Remind_image_01.ipynb\" target=\"_parent\"><img src=\"https://colab.research.google.com/assets/colab-badge.svg\" alt=\"Open In Colab\"/></a>"
      ]
    },
    {
      "cell_type": "code",
      "metadata": {
        "id": "pscmo39raOko",
        "colab_type": "code",
        "outputId": "3dc34bdc-7e31-441e-f99b-09496a3bb38f",
        "colab": {
          "base_uri": "https://localhost:8080/",
          "height": 649
        }
      },
      "source": [
        "!pip install tensorflow-gpu==2.0.0"
      ],
      "execution_count": 0,
      "outputs": [
        {
          "output_type": "stream",
          "text": [
            "Requirement already satisfied: tensorflow-gpu==2.0.0 in /usr/local/lib/python3.6/dist-packages (2.0.0)\n",
            "Requirement already satisfied: grpcio>=1.8.6 in /usr/local/lib/python3.6/dist-packages (from tensorflow-gpu==2.0.0) (1.27.1)\n",
            "Requirement already satisfied: tensorboard<2.1.0,>=2.0.0 in /usr/local/lib/python3.6/dist-packages (from tensorflow-gpu==2.0.0) (2.0.2)\n",
            "Requirement already satisfied: gast==0.2.2 in /usr/local/lib/python3.6/dist-packages (from tensorflow-gpu==2.0.0) (0.2.2)\n",
            "Requirement already satisfied: protobuf>=3.6.1 in /usr/local/lib/python3.6/dist-packages (from tensorflow-gpu==2.0.0) (3.10.0)\n",
            "Requirement already satisfied: six>=1.10.0 in /usr/local/lib/python3.6/dist-packages (from tensorflow-gpu==2.0.0) (1.12.0)\n",
            "Requirement already satisfied: opt-einsum>=2.3.2 in /usr/local/lib/python3.6/dist-packages (from tensorflow-gpu==2.0.0) (3.1.0)\n",
            "Requirement already satisfied: astor>=0.6.0 in /usr/local/lib/python3.6/dist-packages (from tensorflow-gpu==2.0.0) (0.8.1)\n",
            "Requirement already satisfied: numpy<2.0,>=1.16.0 in /usr/local/lib/python3.6/dist-packages (from tensorflow-gpu==2.0.0) (1.17.5)\n",
            "Requirement already satisfied: keras-preprocessing>=1.0.5 in /usr/local/lib/python3.6/dist-packages (from tensorflow-gpu==2.0.0) (1.1.0)\n",
            "Requirement already satisfied: google-pasta>=0.1.6 in /usr/local/lib/python3.6/dist-packages (from tensorflow-gpu==2.0.0) (0.1.8)\n",
            "Requirement already satisfied: keras-applications>=1.0.8 in /usr/local/lib/python3.6/dist-packages (from tensorflow-gpu==2.0.0) (1.0.8)\n",
            "Requirement already satisfied: absl-py>=0.7.0 in /usr/local/lib/python3.6/dist-packages (from tensorflow-gpu==2.0.0) (0.9.0)\n",
            "Requirement already satisfied: wheel>=0.26 in /usr/local/lib/python3.6/dist-packages (from tensorflow-gpu==2.0.0) (0.34.2)\n",
            "Requirement already satisfied: wrapt>=1.11.1 in /usr/local/lib/python3.6/dist-packages (from tensorflow-gpu==2.0.0) (1.11.2)\n",
            "Requirement already satisfied: tensorflow-estimator<2.1.0,>=2.0.0 in /usr/local/lib/python3.6/dist-packages (from tensorflow-gpu==2.0.0) (2.0.1)\n",
            "Requirement already satisfied: termcolor>=1.1.0 in /usr/local/lib/python3.6/dist-packages (from tensorflow-gpu==2.0.0) (1.1.0)\n",
            "Requirement already satisfied: google-auth-oauthlib<0.5,>=0.4.1 in /usr/local/lib/python3.6/dist-packages (from tensorboard<2.1.0,>=2.0.0->tensorflow-gpu==2.0.0) (0.4.1)\n",
            "Requirement already satisfied: setuptools>=41.0.0 in /usr/local/lib/python3.6/dist-packages (from tensorboard<2.1.0,>=2.0.0->tensorflow-gpu==2.0.0) (45.1.0)\n",
            "Requirement already satisfied: werkzeug>=0.11.15 in /usr/local/lib/python3.6/dist-packages (from tensorboard<2.1.0,>=2.0.0->tensorflow-gpu==2.0.0) (1.0.0)\n",
            "Requirement already satisfied: requests<3,>=2.21.0 in /usr/local/lib/python3.6/dist-packages (from tensorboard<2.1.0,>=2.0.0->tensorflow-gpu==2.0.0) (2.21.0)\n",
            "Requirement already satisfied: google-auth<2,>=1.6.3 in /usr/local/lib/python3.6/dist-packages (from tensorboard<2.1.0,>=2.0.0->tensorflow-gpu==2.0.0) (1.7.2)\n",
            "Requirement already satisfied: markdown>=2.6.8 in /usr/local/lib/python3.6/dist-packages (from tensorboard<2.1.0,>=2.0.0->tensorflow-gpu==2.0.0) (3.2.1)\n",
            "Requirement already satisfied: h5py in /usr/local/lib/python3.6/dist-packages (from keras-applications>=1.0.8->tensorflow-gpu==2.0.0) (2.8.0)\n",
            "Requirement already satisfied: requests-oauthlib>=0.7.0 in /usr/local/lib/python3.6/dist-packages (from google-auth-oauthlib<0.5,>=0.4.1->tensorboard<2.1.0,>=2.0.0->tensorflow-gpu==2.0.0) (1.3.0)\n",
            "Requirement already satisfied: certifi>=2017.4.17 in /usr/local/lib/python3.6/dist-packages (from requests<3,>=2.21.0->tensorboard<2.1.0,>=2.0.0->tensorflow-gpu==2.0.0) (2019.11.28)\n",
            "Requirement already satisfied: chardet<3.1.0,>=3.0.2 in /usr/local/lib/python3.6/dist-packages (from requests<3,>=2.21.0->tensorboard<2.1.0,>=2.0.0->tensorflow-gpu==2.0.0) (3.0.4)\n",
            "Requirement already satisfied: urllib3<1.25,>=1.21.1 in /usr/local/lib/python3.6/dist-packages (from requests<3,>=2.21.0->tensorboard<2.1.0,>=2.0.0->tensorflow-gpu==2.0.0) (1.24.3)\n",
            "Requirement already satisfied: idna<2.9,>=2.5 in /usr/local/lib/python3.6/dist-packages (from requests<3,>=2.21.0->tensorboard<2.1.0,>=2.0.0->tensorflow-gpu==2.0.0) (2.8)\n",
            "Requirement already satisfied: rsa<4.1,>=3.1.4 in /usr/local/lib/python3.6/dist-packages (from google-auth<2,>=1.6.3->tensorboard<2.1.0,>=2.0.0->tensorflow-gpu==2.0.0) (4.0)\n",
            "Requirement already satisfied: pyasn1-modules>=0.2.1 in /usr/local/lib/python3.6/dist-packages (from google-auth<2,>=1.6.3->tensorboard<2.1.0,>=2.0.0->tensorflow-gpu==2.0.0) (0.2.8)\n",
            "Requirement already satisfied: cachetools<3.2,>=2.0.0 in /usr/local/lib/python3.6/dist-packages (from google-auth<2,>=1.6.3->tensorboard<2.1.0,>=2.0.0->tensorflow-gpu==2.0.0) (3.1.1)\n",
            "Requirement already satisfied: oauthlib>=3.0.0 in /usr/local/lib/python3.6/dist-packages (from requests-oauthlib>=0.7.0->google-auth-oauthlib<0.5,>=0.4.1->tensorboard<2.1.0,>=2.0.0->tensorflow-gpu==2.0.0) (3.1.0)\n",
            "Requirement already satisfied: pyasn1>=0.1.3 in /usr/local/lib/python3.6/dist-packages (from rsa<4.1,>=3.1.4->google-auth<2,>=1.6.3->tensorboard<2.1.0,>=2.0.0->tensorflow-gpu==2.0.0) (0.4.8)\n"
          ],
          "name": "stdout"
        }
      ]
    },
    {
      "cell_type": "code",
      "metadata": {
        "id": "pOCNzTcWaXRs",
        "colab_type": "code",
        "outputId": "d03e5ee6-bc15-47f7-8669-aa614825a4c4",
        "colab": {
          "base_uri": "https://localhost:8080/",
          "height": 34
        }
      },
      "source": [
        "import tensorflow as tf\n",
        "import numpy as np\n",
        "print(tf.__version__)\n",
        "from tensorflow.keras import layers, datasets\n",
        "from tensorflow.keras.utils import to_categorical\n",
        "from tensorflow.keras.preprocessing.image import ImageDataGenerator\n",
        "import os\n",
        "from glob import glob\n",
        "import matplotlib.pyplot as plt\n",
        "%matplotlib inline"
      ],
      "execution_count": 0,
      "outputs": [
        {
          "output_type": "stream",
          "text": [
            "2.0.0\n"
          ],
          "name": "stdout"
        }
      ]
    },
    {
      "cell_type": "code",
      "metadata": {
        "id": "4wR9Tt0fa6M0",
        "colab_type": "code",
        "colab": {}
      },
      "source": [
        "# Hyperparameter\n",
        "num_epochs = 10\n",
        "batch_size = 32\n",
        "learning_rate = 0.001\n",
        "dropout_rate = 0.25\n",
        "input_shape = (28, 28, 1)\n",
        "num_classess = 10\n",
        "\n",
        "loss_ftn = tf.keras.losses.sparse_categorical_crossentropy\n",
        "# loss_ftn = tf.keras.losses.categorical_crossentropy\n",
        "metrics = ['accuracy']\n",
        "optm = tf.keras.optimizers.Adam(learning_rate)"
      ],
      "execution_count": 0,
      "outputs": []
    },
    {
      "cell_type": "code",
      "metadata": {
        "id": "hnnKLlarbTam",
        "colab_type": "code",
        "outputId": "b0d21e45-6434-444f-ee78-60ebd7c2cc5d",
        "colab": {
          "base_uri": "https://localhost:8080/",
          "height": 665
        }
      },
      "source": [
        "# Model\n",
        "inputs = layers.Input(input_shape)\n",
        "net = layers.Conv2D(32, 3, 1, 'SAME', activation='relu')(inputs)\n",
        "net = layers.Conv2D(32, 3, 1, 'SAME', activation='relu')(net)\n",
        "net = layers.MaxPool2D(2)(net)\n",
        "net = layers.Dropout(dropout_rate)(net)\n",
        "net = layers.Conv2D(64, 3, 1, 'SAME', activation='relu')(net)\n",
        "net = layers.Conv2D(64, 3, 1, 'SAME', activation='relu')(net)\n",
        "net = layers.MaxPool2D(2)(net)\n",
        "net = layers.Dropout(dropout_rate)(net)\n",
        "net = layers.Flatten()(net)\n",
        "net = layers.Dense(512)(net)\n",
        "net = layers.Activation('relu')(net)\n",
        "net = layers.Dense(10)(net)\n",
        "net = layers.Activation('softmax')(net)\n",
        "\n",
        "model = tf.keras.Model(inputs=inputs, outputs=net, name='Basic_CNN')\n",
        "model.compile(optimizer=optm, loss=loss_ftn, metrics=metrics)\n",
        "model.summary()"
      ],
      "execution_count": 0,
      "outputs": [
        {
          "output_type": "stream",
          "text": [
            "Model: \"Basic_CNN\"\n",
            "_________________________________________________________________\n",
            "Layer (type)                 Output Shape              Param #   \n",
            "=================================================================\n",
            "input_2 (InputLayer)         [(None, 28, 28, 1)]       0         \n",
            "_________________________________________________________________\n",
            "conv2d_4 (Conv2D)            (None, 28, 28, 32)        320       \n",
            "_________________________________________________________________\n",
            "conv2d_5 (Conv2D)            (None, 28, 28, 32)        9248      \n",
            "_________________________________________________________________\n",
            "max_pooling2d_2 (MaxPooling2 (None, 14, 14, 32)        0         \n",
            "_________________________________________________________________\n",
            "dropout_2 (Dropout)          (None, 14, 14, 32)        0         \n",
            "_________________________________________________________________\n",
            "conv2d_6 (Conv2D)            (None, 14, 14, 64)        18496     \n",
            "_________________________________________________________________\n",
            "conv2d_7 (Conv2D)            (None, 14, 14, 64)        36928     \n",
            "_________________________________________________________________\n",
            "max_pooling2d_3 (MaxPooling2 (None, 7, 7, 64)          0         \n",
            "_________________________________________________________________\n",
            "dropout_3 (Dropout)          (None, 7, 7, 64)          0         \n",
            "_________________________________________________________________\n",
            "flatten_1 (Flatten)          (None, 3136)              0         \n",
            "_________________________________________________________________\n",
            "dense_2 (Dense)              (None, 512)               1606144   \n",
            "_________________________________________________________________\n",
            "activation_2 (Activation)    (None, 512)               0         \n",
            "_________________________________________________________________\n",
            "dense_3 (Dense)              (None, 10)                5130      \n",
            "_________________________________________________________________\n",
            "activation_3 (Activation)    (None, 10)                0         \n",
            "=================================================================\n",
            "Total params: 1,676,266\n",
            "Trainable params: 1,676,266\n",
            "Non-trainable params: 0\n",
            "_________________________________________________________________\n"
          ],
          "name": "stdout"
        }
      ]
    },
    {
      "cell_type": "code",
      "metadata": {
        "id": "qWo76Jm4cMXk",
        "colab_type": "code",
        "colab": {}
      },
      "source": [
        "(train_x, train_y), (test_x, test_y) = datasets.mnist.load_data()\n",
        "train_x = train_x[..., tf.newaxis]\n",
        "test_x = test_x[..., tf.newaxis]\n",
        "# train_y = to_categorical(train_y, num_classess)\n",
        "# test_y = to_categorical(test_y, num_classess)"
      ],
      "execution_count": 0,
      "outputs": []
    },
    {
      "cell_type": "code",
      "metadata": {
        "id": "iDrgA3a6c6uS",
        "colab_type": "code",
        "outputId": "305b7eb2-3b4f-4138-dd8f-2c43016c74b4",
        "colab": {
          "base_uri": "https://localhost:8080/",
          "height": 35
        }
      },
      "source": [
        "train_x.shape, test_x.shape, train_y.shape, test_y.shape"
      ],
      "execution_count": 0,
      "outputs": [
        {
          "output_type": "execute_result",
          "data": {
            "text/plain": [
              "((60000, 28, 28, 1), (10000, 28, 28, 1), (60000,), (10000,))"
            ]
          },
          "metadata": {
            "tags": []
          },
          "execution_count": 32
        }
      ]
    },
    {
      "cell_type": "code",
      "metadata": {
        "id": "kYPNsavLc9lY",
        "colab_type": "code",
        "colab": {}
      },
      "source": [
        "\n",
        "train_datagen = ImageDataGenerator(\n",
        "    rescale = 1./255.,\n",
        "    width_shift_range=0.3,\n",
        "    zoom_range=0.2,\n",
        "    horizontal_flip=True\n",
        ")\n",
        "\n",
        "test_datagen = ImageDataGenerator(rescale=1./255.)"
      ],
      "execution_count": 0,
      "outputs": []
    },
    {
      "cell_type": "code",
      "metadata": {
        "id": "SI3mTenMjHVB",
        "colab_type": "code",
        "outputId": "7cd4fa52-4249-44b8-f5d0-e4a1df193c04",
        "colab": {
          "base_uri": "https://localhost:8080/",
          "height": 197
        }
      },
      "source": [
        "'''\n",
        "cnt = 0\n",
        "for batch in train_datagen.flow(train_x, train_y, batch_size=batch_size):\n",
        "  print(len(batch))\n",
        "  cnt += 1\n",
        "  if cnt == 10: break\n",
        "'''"
      ],
      "execution_count": 0,
      "outputs": [
        {
          "output_type": "stream",
          "text": [
            "2\n",
            "2\n",
            "2\n",
            "2\n",
            "2\n",
            "2\n",
            "2\n",
            "2\n",
            "2\n",
            "2\n"
          ],
          "name": "stdout"
        }
      ]
    },
    {
      "cell_type": "code",
      "metadata": {
        "id": "CpVvggmWkpOG",
        "colab_type": "code",
        "colab": {}
      },
      "source": [
        "train_generator = train_datagen.flow(train_x, train_y, batch_size=batch_size)\n",
        "test_generator = test_datagen.flow(test_x, test_y, batch_size=batch_size)"
      ],
      "execution_count": 0,
      "outputs": []
    },
    {
      "cell_type": "code",
      "metadata": {
        "id": "CJj6DnROdicd",
        "colab_type": "code",
        "outputId": "142d2bd8-39a1-4c26-956e-67bce9af6c88",
        "colab": {
          "base_uri": "https://localhost:8080/",
          "height": 415
        }
      },
      "source": [
        "hist = model.fit(\n",
        "    train_generator,\n",
        "    steps_per_epoch=len(train_generator),\n",
        "    epochs=num_epochs,\n",
        "    validation_data=test_generator,\n",
        "    validation_steps=len(test_generator),)"
      ],
      "execution_count": 0,
      "outputs": [
        {
          "output_type": "stream",
          "text": [
            "Train for 1875 steps, validate for 313 steps\n",
            "Epoch 1/10\n",
            "1875/1875 [==============================] - 23s 12ms/step - loss: 0.3259 - accuracy: 0.8951 - val_loss: 0.1013 - val_accuracy: 0.9680\n",
            "Epoch 2/10\n",
            "1875/1875 [==============================] - 23s 12ms/step - loss: 0.1293 - accuracy: 0.9601 - val_loss: 0.0599 - val_accuracy: 0.9808\n",
            "Epoch 3/10\n",
            "1875/1875 [==============================] - 22s 12ms/step - loss: 0.1039 - accuracy: 0.9668 - val_loss: 0.0690 - val_accuracy: 0.9782\n",
            "Epoch 4/10\n",
            "1875/1875 [==============================] - 23s 12ms/step - loss: 0.0919 - accuracy: 0.9712 - val_loss: 0.0795 - val_accuracy: 0.9753\n",
            "Epoch 5/10\n",
            "1875/1875 [==============================] - 22s 12ms/step - loss: 0.0844 - accuracy: 0.9734 - val_loss: 0.0454 - val_accuracy: 0.9836\n",
            "Epoch 6/10\n",
            "1875/1875 [==============================] - 22s 12ms/step - loss: 0.0795 - accuracy: 0.9750 - val_loss: 0.0397 - val_accuracy: 0.9862\n",
            "Epoch 7/10\n",
            "1875/1875 [==============================] - 23s 12ms/step - loss: 0.0747 - accuracy: 0.9758 - val_loss: 0.0417 - val_accuracy: 0.9867\n",
            "Epoch 8/10\n",
            "1875/1875 [==============================] - 22s 12ms/step - loss: 0.0697 - accuracy: 0.9772 - val_loss: 0.0388 - val_accuracy: 0.9877\n",
            "Epoch 9/10\n",
            "1875/1875 [==============================] - 22s 12ms/step - loss: 0.0661 - accuracy: 0.9791 - val_loss: 0.0455 - val_accuracy: 0.9852\n",
            "Epoch 10/10\n",
            "1875/1875 [==============================] - 23s 12ms/step - loss: 0.0650 - accuracy: 0.9791 - val_loss: 0.0450 - val_accuracy: 0.9868\n"
          ],
          "name": "stdout"
        }
      ]
    },
    {
      "cell_type": "code",
      "metadata": {
        "id": "89pkZdY0tj6Y",
        "colab_type": "code",
        "outputId": "2712aab4-f762-4d75-f5ad-1346cb596bcb",
        "colab": {
          "base_uri": "https://localhost:8080/",
          "height": 737
        }
      },
      "source": [
        "hist.history"
      ],
      "execution_count": 0,
      "outputs": [
        {
          "output_type": "execute_result",
          "data": {
            "text/plain": [
              "{'accuracy': [0.8950667,\n",
              "  0.9600833,\n",
              "  0.96676666,\n",
              "  0.9711667,\n",
              "  0.9734167,\n",
              "  0.97495,\n",
              "  0.9758,\n",
              "  0.97715,\n",
              "  0.97908336,\n",
              "  0.9791],\n",
              " 'loss': [0.3259428605894248,\n",
              "  0.1292954805529366,\n",
              "  0.10391663152578597,\n",
              "  0.09188552777403966,\n",
              "  0.08441707810928735,\n",
              "  0.07952851173030212,\n",
              "  0.07469919977509416,\n",
              "  0.06967088371325905,\n",
              "  0.06610877854904004,\n",
              "  0.06504429949360589],\n",
              " 'val_accuracy': [0.968,\n",
              "  0.9808,\n",
              "  0.9782,\n",
              "  0.9753,\n",
              "  0.9836,\n",
              "  0.9862,\n",
              "  0.9867,\n",
              "  0.9877,\n",
              "  0.9852,\n",
              "  0.9868],\n",
              " 'val_loss': [0.10128218160061457,\n",
              "  0.05985340558484527,\n",
              "  0.06902396215698278,\n",
              "  0.07953756334039828,\n",
              "  0.04542062554144696,\n",
              "  0.03970937117587957,\n",
              "  0.04173805356498424,\n",
              "  0.0388486457776571,\n",
              "  0.045496324966542614,\n",
              "  0.044971120049849676]}"
            ]
          },
          "metadata": {
            "tags": []
          },
          "execution_count": 36
        }
      ]
    },
    {
      "cell_type": "code",
      "metadata": {
        "id": "0umI9PKjv1jR",
        "colab_type": "code",
        "outputId": "a3ebf73d-2bf9-47a7-8a7e-2b626bef2023",
        "colab": {
          "base_uri": "https://localhost:8080/",
          "height": 281
        }
      },
      "source": [
        "pred = model.predict(tf.cast(test_x[0:1,:,:,:], dtype=tf.float32))\n",
        "pred = tf.argmax(pred, axis=1)\n",
        "pred\n",
        "\n",
        "plt.title(pred.numpy()[0])\n",
        "plt.imshow(test_x[0, :, :, 0], 'gray')\n",
        "plt.show()"
      ],
      "execution_count": 0,
      "outputs": [
        {
          "output_type": "display_data",
          "data": {
            "image/png": "[encoded data removed]",
            "text/plain": [
              "<Figure size 432x288 with 1 Axes>"
            ]
          },
          "metadata": {
            "tags": []
          }
        }
      ]
    }
  ]
}
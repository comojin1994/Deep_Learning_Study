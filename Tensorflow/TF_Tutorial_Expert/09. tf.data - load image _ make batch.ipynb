{
 "cells": [
  {
   "cell_type": "code",
   "execution_count": 1,
   "metadata": {},
   "outputs": [],
   "source": [
    "import os \n",
    "from glob import glob\n",
    "\n",
    "import numpy as np\n",
    "import tensorflow as tf\n",
    "\n",
    "import matplotlib.pyplot as plt\n",
    "%matplotlib inline"
   ]
  },
  {
   "cell_type": "code",
   "execution_count": 2,
   "metadata": {},
   "outputs": [
    {
     "data": {
      "text/plain": [
       "'C:\\\\Users\\\\LG\\\\Deep_Learning_Study\\\\Tensorflow\\\\dataset\\\\cifar\\\\train\\\\0_frog.png'"
      ]
     },
     "execution_count": 2,
     "metadata": {},
     "output_type": "execute_result"
    }
   ],
   "source": [
    "data_paths = glob(r'C:\\Users\\LG\\Deep_Learning_Study\\Tensorflow\\dataset\\cifar\\train\\*.png')\n",
    "data_paths[0]"
   ]
  },
  {
   "cell_type": "code",
   "execution_count": 3,
   "metadata": {},
   "outputs": [
    {
     "data": {
      "text/plain": [
       "'C:\\\\Users\\\\LG\\\\Deep_Learning_Study\\\\Tensorflow\\\\dataset\\\\cifar\\\\train\\\\0_frog.png'"
      ]
     },
     "execution_count": 3,
     "metadata": {},
     "output_type": "execute_result"
    }
   ],
   "source": [
    "path = data_paths[0]\n",
    "path"
   ]
  },
  {
   "cell_type": "code",
   "execution_count": 4,
   "metadata": {},
   "outputs": [],
   "source": [
    "gfile = tf.io.read_file(path)\n",
    "image = tf.io.decode_image(gfile)"
   ]
  },
  {
   "cell_type": "code",
   "execution_count": 5,
   "metadata": {},
   "outputs": [
    {
     "data": {
      "text/plain": [
       "TensorShape([32, 32, 3])"
      ]
     },
     "execution_count": 5,
     "metadata": {},
     "output_type": "execute_result"
    }
   ],
   "source": [
    "image.shape"
   ]
  },
  {
   "cell_type": "code",
   "execution_count": 6,
   "metadata": {},
   "outputs": [
    {
     "data": {
      "image/png": "[encoded data removed]",
      "text/plain": [
       "<Figure size 432x288 with 1 Axes>"
      ]
     },
     "metadata": {
      "needs_background": "light"
     },
     "output_type": "display_data"
    }
   ],
   "source": [
    "plt.imshow(image)\n",
    "plt.show()"
   ]
  },
  {
   "cell_type": "markdown",
   "metadata": {},
   "source": [
    "# tf.data"
   ]
  },
  {
   "cell_type": "code",
   "execution_count": 7,
   "metadata": {},
   "outputs": [
    {
     "data": {
      "text/plain": [
       "['C:\\\\Users\\\\LG\\\\Deep_Learning_Study\\\\Tensorflow\\\\dataset\\\\cifar\\\\train\\\\0_frog.png',\n",
       " 'C:\\\\Users\\\\LG\\\\Deep_Learning_Study\\\\Tensorflow\\\\dataset\\\\cifar\\\\train\\\\10000_automobile.png',\n",
       " 'C:\\\\Users\\\\LG\\\\Deep_Learning_Study\\\\Tensorflow\\\\dataset\\\\cifar\\\\train\\\\10001_frog.png',\n",
       " 'C:\\\\Users\\\\LG\\\\Deep_Learning_Study\\\\Tensorflow\\\\dataset\\\\cifar\\\\train\\\\10002_frog.png',\n",
       " 'C:\\\\Users\\\\LG\\\\Deep_Learning_Study\\\\Tensorflow\\\\dataset\\\\cifar\\\\train\\\\10003_ship.png',\n",
       " 'C:\\\\Users\\\\LG\\\\Deep_Learning_Study\\\\Tensorflow\\\\dataset\\\\cifar\\\\train\\\\10004_ship.png',\n",
       " 'C:\\\\Users\\\\LG\\\\Deep_Learning_Study\\\\Tensorflow\\\\dataset\\\\cifar\\\\train\\\\10005_cat.png',\n",
       " 'C:\\\\Users\\\\LG\\\\Deep_Learning_Study\\\\Tensorflow\\\\dataset\\\\cifar\\\\train\\\\10006_deer.png',\n",
       " 'C:\\\\Users\\\\LG\\\\Deep_Learning_Study\\\\Tensorflow\\\\dataset\\\\cifar\\\\train\\\\10007_frog.png',\n",
       " 'C:\\\\Users\\\\LG\\\\Deep_Learning_Study\\\\Tensorflow\\\\dataset\\\\cifar\\\\train\\\\10008_airplane.png']"
      ]
     },
     "execution_count": 7,
     "metadata": {},
     "output_type": "execute_result"
    }
   ],
   "source": [
    "train_paths = glob(r'C:\\Users\\LG\\Deep_Learning_Study\\Tensorflow\\dataset\\cifar\\train\\*.png')\n",
    "train_paths[:10]"
   ]
  },
  {
   "cell_type": "code",
   "execution_count": 8,
   "metadata": {},
   "outputs": [],
   "source": [
    "def read_image(path):\n",
    "    gfile = tf.io.read_file(path)\n",
    "    image = tf.io.decode_image(gfile, dtype=tf.float32)\n",
    "    return image"
   ]
  },
  {
   "cell_type": "code",
   "execution_count": 9,
   "metadata": {},
   "outputs": [],
   "source": [
    "AUTOTUNE = tf.data.experimental.AUTOTUNE"
   ]
  },
  {
   "cell_type": "code",
   "execution_count": 10,
   "metadata": {},
   "outputs": [],
   "source": [
    "dataset = tf.data.Dataset.from_tensor_slices(train_paths)\n",
    "dataset = dataset.map(read_image, num_parallel_calls=AUTOTUNE)"
   ]
  },
  {
   "cell_type": "code",
   "execution_count": 11,
   "metadata": {},
   "outputs": [
    {
     "data": {
      "text/plain": [
       "TensorShape([32, 32, 3])"
      ]
     },
     "execution_count": 11,
     "metadata": {},
     "output_type": "execute_result"
    }
   ],
   "source": [
    "tf_image = next(iter(dataset))\n",
    "tf_image.shape"
   ]
  },
  {
   "cell_type": "code",
   "execution_count": 12,
   "metadata": {},
   "outputs": [
    {
     "data": {
      "image/png": "[encoded data removed]",
      "text/plain": [
       "<Figure size 432x288 with 1 Axes>"
      ]
     },
     "metadata": {
      "needs_background": "light"
     },
     "output_type": "display_data"
    }
   ],
   "source": [
    "plt.imshow(tf_image)\n",
    "plt.show()"
   ]
  },
  {
   "cell_type": "markdown",
   "metadata": {},
   "source": [
    "## Batch로 묶기"
   ]
  },
  {
   "cell_type": "code",
   "execution_count": 13,
   "metadata": {},
   "outputs": [],
   "source": [
    "batch_size = 8"
   ]
  },
  {
   "cell_type": "code",
   "execution_count": 14,
   "metadata": {},
   "outputs": [],
   "source": [
    "dataset = tf.data.Dataset.from_tensor_slices(train_paths)\n",
    "dataset = dataset.map(read_image)\n",
    "dataset = dataset.batch(batch_size)"
   ]
  },
  {
   "cell_type": "code",
   "execution_count": 15,
   "metadata": {},
   "outputs": [
    {
     "data": {
      "text/plain": [
       "TensorShape([8, 32, 32, 3])"
      ]
     },
     "execution_count": 15,
     "metadata": {},
     "output_type": "execute_result"
    }
   ],
   "source": [
    "tf_images = next(iter(dataset))\n",
    "tf_images.shape"
   ]
  },
  {
   "cell_type": "code",
   "execution_count": 16,
   "metadata": {},
   "outputs": [
    {
     "data": {
      "image/png": "[encoded data removed]",
      "text/plain": [
       "<Figure size 432x288 with 1 Axes>"
      ]
     },
     "metadata": {
      "needs_background": "light"
     },
     "output_type": "display_data"
    }
   ],
   "source": [
    "plt.imshow(tf_images[0])\n",
    "plt.show()"
   ]
  },
  {
   "cell_type": "markdown",
   "metadata": {},
   "source": [
    "## Shuffle 하기"
   ]
  },
  {
   "cell_type": "code",
   "execution_count": 17,
   "metadata": {},
   "outputs": [],
   "source": [
    "dataset = tf.data.Dataset.from_tensor_slices(train_paths)\n",
    "dataset = dataset.map(read_image, num_parallel_calls=AUTOTUNE)\n",
    "dataset = dataset.batch(4)\n",
    "dataset = dataset.shuffle(buffer_size=len(train_paths))\n",
    "dataset = dataset.repeat()"
   ]
  },
  {
   "cell_type": "code",
   "execution_count": 18,
   "metadata": {},
   "outputs": [
    {
     "data": {
      "image/png": "[encoded data removed]",
      "text/plain": [
       "<Figure size 432x288 with 1 Axes>"
      ]
     },
     "metadata": {
      "needs_background": "light"
     },
     "output_type": "display_data"
    }
   ],
   "source": [
    "tf_images = next(iter(dataset))\n",
    "plt.imshow(tf_images[0])\n",
    "plt.show()"
   ]
  },
  {
   "cell_type": "markdown",
   "metadata": {},
   "source": [
    "## Label하고 같이 넣기 "
   ]
  },
  {
   "cell_type": "code",
   "execution_count": 19,
   "metadata": {},
   "outputs": [
    {
     "data": {
      "text/plain": [
       "'C:\\\\Users\\\\LG\\\\Deep_Learning_Study\\\\Tensorflow\\\\dataset\\\\cifar\\\\train\\\\0_frog.png'"
      ]
     },
     "execution_count": 19,
     "metadata": {},
     "output_type": "execute_result"
    }
   ],
   "source": [
    "path = train_paths[0]\n",
    "path"
   ]
  },
  {
   "cell_type": "code",
   "execution_count": 20,
   "metadata": {},
   "outputs": [
    {
     "data": {
      "text/plain": [
       "'frog'"
      ]
     },
     "execution_count": 20,
     "metadata": {},
     "output_type": "execute_result"
    }
   ],
   "source": [
    "os.path.basename(path).replace('.png', '').split('_')[-1]"
   ]
  },
  {
   "cell_type": "code",
   "execution_count": 21,
   "metadata": {},
   "outputs": [],
   "source": [
    "def get_label(path):\n",
    "    return os.path.basename(path).replace('.png', '').split('_')[-1]"
   ]
  },
  {
   "cell_type": "code",
   "execution_count": 22,
   "metadata": {},
   "outputs": [
    {
     "data": {
      "text/plain": [
       "('C:\\\\Users\\\\LG\\\\Deep_Learning_Study\\\\Tensorflow\\\\dataset\\\\cifar\\\\train\\\\0_frog.png',\n",
       " 'frog')"
      ]
     },
     "execution_count": 22,
     "metadata": {},
     "output_type": "execute_result"
    }
   ],
   "source": [
    "path, get_label(path)"
   ]
  },
  {
   "cell_type": "code",
   "execution_count": 23,
   "metadata": {},
   "outputs": [
    {
     "data": {
      "text/plain": [
       "['frog', 'automobile', 'frog', 'frog', 'ship']"
      ]
     },
     "execution_count": 23,
     "metadata": {},
     "output_type": "execute_result"
    }
   ],
   "source": [
    "train_labels = [get_label(path) for path in train_paths]\n",
    "train_labels[:5]"
   ]
  },
  {
   "cell_type": "code",
   "execution_count": 24,
   "metadata": {},
   "outputs": [
    {
     "data": {
      "text/plain": [
       "array(['airplane', 'automobile', 'bird', 'cat', 'deer', 'dog', 'frog',\n",
       "       'horse', 'ship', 'truck'], dtype='<U10')"
      ]
     },
     "execution_count": 24,
     "metadata": {},
     "output_type": "execute_result"
    }
   ],
   "source": [
    "class_names = np.unique(train_labels)\n",
    "class_names"
   ]
  },
  {
   "cell_type": "code",
   "execution_count": 25,
   "metadata": {},
   "outputs": [
    {
     "data": {
      "text/plain": [
       "array([False, False, False, False, False, False,  True, False, False,\n",
       "       False])"
      ]
     },
     "execution_count": 25,
     "metadata": {},
     "output_type": "execute_result"
    }
   ],
   "source": [
    "'frog' == class_names"
   ]
  },
  {
   "cell_type": "code",
   "execution_count": 26,
   "metadata": {},
   "outputs": [
    {
     "data": {
      "text/plain": [
       "array([0, 0, 0, 0, 0, 0, 1, 0, 0, 0], dtype=uint8)"
      ]
     },
     "execution_count": 26,
     "metadata": {},
     "output_type": "execute_result"
    }
   ],
   "source": [
    "onehot_encoding = np.array('frog' == class_names, np.uint8)\n",
    "onehot_encoding"
   ]
  },
  {
   "cell_type": "code",
   "execution_count": 27,
   "metadata": {},
   "outputs": [],
   "source": [
    "def onehot_encoding(label):\n",
    "    return np.array(label == class_names, np.uint8)"
   ]
  },
  {
   "cell_type": "code",
   "execution_count": 28,
   "metadata": {},
   "outputs": [],
   "source": [
    "def load_data(path, label):\n",
    "    gfile = tf.io.read_file(path)\n",
    "    image = tf.io.decode_image(gfile, dtype=tf.float32)\n",
    "    return image, label"
   ]
  },
  {
   "cell_type": "code",
   "execution_count": 29,
   "metadata": {},
   "outputs": [
    {
     "data": {
      "text/plain": [
       "[array([0, 0, 0, 0, 0, 0, 1, 0, 0, 0], dtype=uint8),\n",
       " array([0, 1, 0, 0, 0, 0, 0, 0, 0, 0], dtype=uint8),\n",
       " array([0, 0, 0, 0, 0, 0, 1, 0, 0, 0], dtype=uint8),\n",
       " array([0, 0, 0, 0, 0, 0, 1, 0, 0, 0], dtype=uint8),\n",
       " array([0, 0, 0, 0, 0, 0, 0, 0, 1, 0], dtype=uint8)]"
      ]
     },
     "execution_count": 29,
     "metadata": {},
     "output_type": "execute_result"
    }
   ],
   "source": [
    "labels = [onehot_encoding(cls_name) for cls_name in train_labels]\n",
    "labels[:5]"
   ]
  },
  {
   "cell_type": "code",
   "execution_count": 30,
   "metadata": {
    "scrolled": false
   },
   "outputs": [],
   "source": [
    "dataset = tf.data.Dataset.from_tensor_slices((train_paths, labels))\n",
    "dataset = dataset.map(load_data, num_parallel_calls=AUTOTUNE)\n",
    "dataset = dataset.batch(4)\n",
    "dataset = dataset.shuffle(buffer_size=len(train_paths))\n",
    "dataset = dataset.repeat()"
   ]
  },
  {
   "cell_type": "code",
   "execution_count": 31,
   "metadata": {},
   "outputs": [],
   "source": [
    "image, label = next(iter(dataset))"
   ]
  },
  {
   "cell_type": "code",
   "execution_count": 32,
   "metadata": {},
   "outputs": [
    {
     "data": {
      "text/plain": [
       "(TensorShape([4, 32, 32, 3]), TensorShape([4, 10]))"
      ]
     },
     "execution_count": 32,
     "metadata": {},
     "output_type": "execute_result"
    }
   ],
   "source": [
    "image.shape, label.shape"
   ]
  },
  {
   "cell_type": "code",
   "execution_count": 33,
   "metadata": {},
   "outputs": [
    {
     "data": {
      "text/plain": [
       "array([0, 0, 0, 0, 0, 1, 0, 0, 0, 0])"
      ]
     },
     "execution_count": 33,
     "metadata": {},
     "output_type": "execute_result"
    }
   ],
   "source": [
    "np.array(label[0])"
   ]
  },
  {
   "cell_type": "code",
   "execution_count": 34,
   "metadata": {
    "scrolled": false
   },
   "outputs": [
    {
     "name": "stderr",
     "output_type": "stream",
     "text": [
      "C:\\Users\\LG\\Anaconda3\\envs\\py3.6ten2.0\\lib\\site-packages\\matplotlib\\text.py:1150: FutureWarning: elementwise comparison failed; returning scalar instead, but in the future will perform elementwise comparison\n",
      "  if s != self._text:\n"
     ]
    },
    {
     "data": {
      "image/png": "[encoded data removed]",
      "text/plain": [
       "<Figure size 432x288 with 1 Axes>"
      ]
     },
     "metadata": {
      "needs_background": "light"
     },
     "output_type": "display_data"
    }
   ],
   "source": [
    "plt.title(np.array(label[0]))\n",
    "plt.imshow(np.array(image[0]))\n",
    "plt.show()"
   ]
  },
  {
   "cell_type": "markdown",
   "metadata": {},
   "source": [
    "tf.py_function()"
   ]
  },
  {
   "cell_type": "markdown",
   "metadata": {},
   "source": [
    "## tensorflow 함수로 label 얻기"
   ]
  },
  {
   "cell_type": "code",
   "execution_count": 35,
   "metadata": {},
   "outputs": [
    {
     "data": {
      "text/plain": [
       "'C:\\\\Users\\\\LG\\\\Deep_Learning_Study\\\\Tensorflow\\\\dataset\\\\cifar\\\\train\\\\0_frog.png'"
      ]
     },
     "execution_count": 35,
     "metadata": {},
     "output_type": "execute_result"
    }
   ],
   "source": [
    "path"
   ]
  },
  {
   "cell_type": "code",
   "execution_count": 36,
   "metadata": {},
   "outputs": [
    {
     "data": {
      "text/plain": [
       "<tf.Tensor: id=552, shape=(), dtype=string, numpy=b'frog'>"
      ]
     },
     "execution_count": 36,
     "metadata": {},
     "output_type": "execute_result"
    }
   ],
   "source": [
    "fname = tf.strings.split(path, '_')[-1]\n",
    "lbl_name = tf.strings.regex_replace(fname, '.png', '')\n",
    "lbl_name"
   ]
  },
  {
   "cell_type": "code",
   "execution_count": 37,
   "metadata": {},
   "outputs": [
    {
     "data": {
      "text/plain": [
       "<tf.Tensor: id=554, shape=(10,), dtype=bool, numpy=\n",
       "array([False, False, False, False, False, False,  True, False, False,\n",
       "       False])>"
      ]
     },
     "execution_count": 37,
     "metadata": {},
     "output_type": "execute_result"
    }
   ],
   "source": [
    "lbl_name == class_names"
   ]
  },
  {
   "cell_type": "code",
   "execution_count": 38,
   "metadata": {},
   "outputs": [
    {
     "data": {
      "text/plain": [
       "<tf.Tensor: id=557, shape=(10,), dtype=uint8, numpy=array([0, 0, 0, 0, 0, 0, 1, 0, 0, 0], dtype=uint8)>"
      ]
     },
     "execution_count": 38,
     "metadata": {},
     "output_type": "execute_result"
    }
   ],
   "source": [
    "onehot = tf.cast(lbl_name == class_names, tf.uint8)\n",
    "onehot"
   ]
  },
  {
   "cell_type": "code",
   "execution_count": 39,
   "metadata": {},
   "outputs": [],
   "source": [
    "def get_label(path):\n",
    "    fname = tf.strings.split(path, '_')[-1]\n",
    "    lbl_name = tf.strings.regex_replace(fname, '.png', '')\n",
    "    onehot = tf.cast(lbl_name == class_names, tf.uint8)\n",
    "    return onehot"
   ]
  },
  {
   "cell_type": "code",
   "execution_count": 40,
   "metadata": {},
   "outputs": [],
   "source": [
    "def load_image_label(path):\n",
    "    # read image\n",
    "    gfile = tf.io.read_file(path)\n",
    "    image = tf.io.decode_image(gfile, dtype=tf.float32)\n",
    "    # get label\n",
    "    label = get_label(path)\n",
    "    return image, label"
   ]
  },
  {
   "cell_type": "code",
   "execution_count": 41,
   "metadata": {},
   "outputs": [],
   "source": [
    "dataset = tf.data.Dataset.from_tensor_slices(train_paths)\n",
    "dataset = dataset.map(load_image_label, num_parallel_calls=AUTOTUNE)\n",
    "dataset = dataset.batch(4)\n",
    "dataset = dataset.shuffle(buffer_size=len(train_paths))\n",
    "dataset = dataset.repeat()"
   ]
  },
  {
   "cell_type": "code",
   "execution_count": 42,
   "metadata": {},
   "outputs": [],
   "source": [
    "image, label = next(iter(dataset))"
   ]
  },
  {
   "cell_type": "code",
   "execution_count": 44,
   "metadata": {},
   "outputs": [
    {
     "data": {
      "text/plain": [
       "(TensorShape([4, 32, 32, 3]), TensorShape([4, 10]))"
      ]
     },
     "execution_count": 44,
     "metadata": {},
     "output_type": "execute_result"
    }
   ],
   "source": [
    "image.shape, label.shape"
   ]
  },
  {
   "cell_type": "code",
   "execution_count": 43,
   "metadata": {},
   "outputs": [
    {
     "data": {
      "image/png": "[encoded data removed]",
      "text/plain": [
       "<Figure size 432x288 with 1 Axes>"
      ]
     },
     "metadata": {
      "needs_background": "light"
     },
     "output_type": "display_data"
    }
   ],
   "source": [
    "plt.title(np.array(label[0]))\n",
    "plt.imshow(image[0])\n",
    "plt.show()"
   ]
  },
  {
   "cell_type": "markdown",
   "metadata": {},
   "source": [
    "---"
   ]
  },
  {
   "cell_type": "code",
   "execution_count": 45,
   "metadata": {
    "collapsed": true
   },
   "outputs": [
    {
     "data": {
      "text/plain": [
       "['C:\\\\Users\\\\LG\\\\Deep_Learning_Study\\\\Tensorflow\\\\dataset\\\\cifar\\\\train\\\\0_frog.png',\n",
       " 'C:\\\\Users\\\\LG\\\\Deep_Learning_Study\\\\Tensorflow\\\\dataset\\\\cifar\\\\train\\\\10000_automobile.png',\n",
       " 'C:\\\\Users\\\\LG\\\\Deep_Learning_Study\\\\Tensorflow\\\\dataset\\\\cifar\\\\train\\\\10001_frog.png',\n",
       " 'C:\\\\Users\\\\LG\\\\Deep_Learning_Study\\\\Tensorflow\\\\dataset\\\\cifar\\\\train\\\\10002_frog.png',\n",
       " 'C:\\\\Users\\\\LG\\\\Deep_Learning_Study\\\\Tensorflow\\\\dataset\\\\cifar\\\\train\\\\10003_ship.png',\n",
       " 'C:\\\\Users\\\\LG\\\\Deep_Learning_Study\\\\Tensorflow\\\\dataset\\\\cifar\\\\train\\\\10004_ship.png',\n",
       " 'C:\\\\Users\\\\LG\\\\Deep_Learning_Study\\\\Tensorflow\\\\dataset\\\\cifar\\\\train\\\\10005_cat.png',\n",
       " 'C:\\\\Users\\\\LG\\\\Deep_Learning_Study\\\\Tensorflow\\\\dataset\\\\cifar\\\\train\\\\10006_deer.png',\n",
       " 'C:\\\\Users\\\\LG\\\\Deep_Learning_Study\\\\Tensorflow\\\\dataset\\\\cifar\\\\train\\\\10007_frog.png',\n",
       " 'C:\\\\Users\\\\LG\\\\Deep_Learning_Study\\\\Tensorflow\\\\dataset\\\\cifar\\\\train\\\\10008_airplane.png',\n",
       " 'C:\\\\Users\\\\LG\\\\Deep_Learning_Study\\\\Tensorflow\\\\dataset\\\\cifar\\\\train\\\\10009_frog.png',\n",
       " 'C:\\\\Users\\\\LG\\\\Deep_Learning_Study\\\\Tensorflow\\\\dataset\\\\cifar\\\\train\\\\1000_truck.png',\n",
       " 'C:\\\\Users\\\\LG\\\\Deep_Learning_Study\\\\Tensorflow\\\\dataset\\\\cifar\\\\train\\\\10010_airplane.png',\n",
       " 'C:\\\\Users\\\\LG\\\\Deep_Learning_Study\\\\Tensorflow\\\\dataset\\\\cifar\\\\train\\\\10011_cat.png',\n",
       " 'C:\\\\Users\\\\LG\\\\Deep_Learning_Study\\\\Tensorflow\\\\dataset\\\\cifar\\\\train\\\\10012_frog.png',\n",
       " 'C:\\\\Users\\\\LG\\\\Deep_Learning_Study\\\\Tensorflow\\\\dataset\\\\cifar\\\\train\\\\10013_frog.png',\n",
       " 'C:\\\\Users\\\\LG\\\\Deep_Learning_Study\\\\Tensorflow\\\\dataset\\\\cifar\\\\train\\\\10014_dog.png',\n",
       " 'C:\\\\Users\\\\LG\\\\Deep_Learning_Study\\\\Tensorflow\\\\dataset\\\\cifar\\\\train\\\\10015_deer.png',\n",
       " 'C:\\\\Users\\\\LG\\\\Deep_Learning_Study\\\\Tensorflow\\\\dataset\\\\cifar\\\\train\\\\10016_ship.png',\n",
       " 'C:\\\\Users\\\\LG\\\\Deep_Learning_Study\\\\Tensorflow\\\\dataset\\\\cifar\\\\train\\\\10017_cat.png',\n",
       " 'C:\\\\Users\\\\LG\\\\Deep_Learning_Study\\\\Tensorflow\\\\dataset\\\\cifar\\\\train\\\\10018_bird.png',\n",
       " 'C:\\\\Users\\\\LG\\\\Deep_Learning_Study\\\\Tensorflow\\\\dataset\\\\cifar\\\\train\\\\10019_frog.png',\n",
       " 'C:\\\\Users\\\\LG\\\\Deep_Learning_Study\\\\Tensorflow\\\\dataset\\\\cifar\\\\train\\\\1001_deer.png',\n",
       " 'C:\\\\Users\\\\LG\\\\Deep_Learning_Study\\\\Tensorflow\\\\dataset\\\\cifar\\\\train\\\\10020_airplane.png',\n",
       " 'C:\\\\Users\\\\LG\\\\Deep_Learning_Study\\\\Tensorflow\\\\dataset\\\\cifar\\\\train\\\\10021_cat.png',\n",
       " 'C:\\\\Users\\\\LG\\\\Deep_Learning_Study\\\\Tensorflow\\\\dataset\\\\cifar\\\\train\\\\10022_automobile.png',\n",
       " 'C:\\\\Users\\\\LG\\\\Deep_Learning_Study\\\\Tensorflow\\\\dataset\\\\cifar\\\\train\\\\10023_deer.png',\n",
       " 'C:\\\\Users\\\\LG\\\\Deep_Learning_Study\\\\Tensorflow\\\\dataset\\\\cifar\\\\train\\\\10024_airplane.png',\n",
       " 'C:\\\\Users\\\\LG\\\\Deep_Learning_Study\\\\Tensorflow\\\\dataset\\\\cifar\\\\train\\\\10025_frog.png',\n",
       " 'C:\\\\Users\\\\LG\\\\Deep_Learning_Study\\\\Tensorflow\\\\dataset\\\\cifar\\\\train\\\\10026_frog.png',\n",
       " 'C:\\\\Users\\\\LG\\\\Deep_Learning_Study\\\\Tensorflow\\\\dataset\\\\cifar\\\\train\\\\10027_bird.png',\n",
       " 'C:\\\\Users\\\\LG\\\\Deep_Learning_Study\\\\Tensorflow\\\\dataset\\\\cifar\\\\train\\\\10028_horse.png',\n",
       " 'C:\\\\Users\\\\LG\\\\Deep_Learning_Study\\\\Tensorflow\\\\dataset\\\\cifar\\\\train\\\\10029_frog.png',\n",
       " 'C:\\\\Users\\\\LG\\\\Deep_Learning_Study\\\\Tensorflow\\\\dataset\\\\cifar\\\\train\\\\1002_cat.png',\n",
       " 'C:\\\\Users\\\\LG\\\\Deep_Learning_Study\\\\Tensorflow\\\\dataset\\\\cifar\\\\train\\\\10030_truck.png',\n",
       " 'C:\\\\Users\\\\LG\\\\Deep_Learning_Study\\\\Tensorflow\\\\dataset\\\\cifar\\\\train\\\\10031_airplane.png',\n",
       " 'C:\\\\Users\\\\LG\\\\Deep_Learning_Study\\\\Tensorflow\\\\dataset\\\\cifar\\\\train\\\\10032_deer.png',\n",
       " 'C:\\\\Users\\\\LG\\\\Deep_Learning_Study\\\\Tensorflow\\\\dataset\\\\cifar\\\\train\\\\10033_dog.png',\n",
       " 'C:\\\\Users\\\\LG\\\\Deep_Learning_Study\\\\Tensorflow\\\\dataset\\\\cifar\\\\train\\\\10034_horse.png',\n",
       " 'C:\\\\Users\\\\LG\\\\Deep_Learning_Study\\\\Tensorflow\\\\dataset\\\\cifar\\\\train\\\\10035_automobile.png',\n",
       " 'C:\\\\Users\\\\LG\\\\Deep_Learning_Study\\\\Tensorflow\\\\dataset\\\\cifar\\\\train\\\\10036_frog.png',\n",
       " 'C:\\\\Users\\\\LG\\\\Deep_Learning_Study\\\\Tensorflow\\\\dataset\\\\cifar\\\\train\\\\10037_horse.png',\n",
       " 'C:\\\\Users\\\\LG\\\\Deep_Learning_Study\\\\Tensorflow\\\\dataset\\\\cifar\\\\train\\\\10038_truck.png',\n",
       " 'C:\\\\Users\\\\LG\\\\Deep_Learning_Study\\\\Tensorflow\\\\dataset\\\\cifar\\\\train\\\\10039_automobile.png',\n",
       " 'C:\\\\Users\\\\LG\\\\Deep_Learning_Study\\\\Tensorflow\\\\dataset\\\\cifar\\\\train\\\\1003_bird.png',\n",
       " 'C:\\\\Users\\\\LG\\\\Deep_Learning_Study\\\\Tensorflow\\\\dataset\\\\cifar\\\\train\\\\10040_horse.png',\n",
       " 'C:\\\\Users\\\\LG\\\\Deep_Learning_Study\\\\Tensorflow\\\\dataset\\\\cifar\\\\train\\\\10041_horse.png',\n",
       " 'C:\\\\Users\\\\LG\\\\Deep_Learning_Study\\\\Tensorflow\\\\dataset\\\\cifar\\\\train\\\\10042_ship.png',\n",
       " 'C:\\\\Users\\\\LG\\\\Deep_Learning_Study\\\\Tensorflow\\\\dataset\\\\cifar\\\\train\\\\10043_airplane.png',\n",
       " 'C:\\\\Users\\\\LG\\\\Deep_Learning_Study\\\\Tensorflow\\\\dataset\\\\cifar\\\\train\\\\10044_cat.png',\n",
       " 'C:\\\\Users\\\\LG\\\\Deep_Learning_Study\\\\Tensorflow\\\\dataset\\\\cifar\\\\train\\\\10045_horse.png',\n",
       " 'C:\\\\Users\\\\LG\\\\Deep_Learning_Study\\\\Tensorflow\\\\dataset\\\\cifar\\\\train\\\\10046_deer.png',\n",
       " 'C:\\\\Users\\\\LG\\\\Deep_Learning_Study\\\\Tensorflow\\\\dataset\\\\cifar\\\\train\\\\10047_horse.png',\n",
       " 'C:\\\\Users\\\\LG\\\\Deep_Learning_Study\\\\Tensorflow\\\\dataset\\\\cifar\\\\train\\\\10048_cat.png',\n",
       " 'C:\\\\Users\\\\LG\\\\Deep_Learning_Study\\\\Tensorflow\\\\dataset\\\\cifar\\\\train\\\\10049_automobile.png',\n",
       " 'C:\\\\Users\\\\LG\\\\Deep_Learning_Study\\\\Tensorflow\\\\dataset\\\\cifar\\\\train\\\\1004_deer.png',\n",
       " 'C:\\\\Users\\\\LG\\\\Deep_Learning_Study\\\\Tensorflow\\\\dataset\\\\cifar\\\\train\\\\10050_airplane.png',\n",
       " 'C:\\\\Users\\\\LG\\\\Deep_Learning_Study\\\\Tensorflow\\\\dataset\\\\cifar\\\\train\\\\10051_deer.png',\n",
       " 'C:\\\\Users\\\\LG\\\\Deep_Learning_Study\\\\Tensorflow\\\\dataset\\\\cifar\\\\train\\\\10052_frog.png',\n",
       " 'C:\\\\Users\\\\LG\\\\Deep_Learning_Study\\\\Tensorflow\\\\dataset\\\\cifar\\\\train\\\\10053_frog.png',\n",
       " 'C:\\\\Users\\\\LG\\\\Deep_Learning_Study\\\\Tensorflow\\\\dataset\\\\cifar\\\\train\\\\10054_automobile.png',\n",
       " 'C:\\\\Users\\\\LG\\\\Deep_Learning_Study\\\\Tensorflow\\\\dataset\\\\cifar\\\\train\\\\10055_deer.png',\n",
       " 'C:\\\\Users\\\\LG\\\\Deep_Learning_Study\\\\Tensorflow\\\\dataset\\\\cifar\\\\train\\\\10056_truck.png',\n",
       " 'C:\\\\Users\\\\LG\\\\Deep_Learning_Study\\\\Tensorflow\\\\dataset\\\\cifar\\\\train\\\\10057_bird.png',\n",
       " 'C:\\\\Users\\\\LG\\\\Deep_Learning_Study\\\\Tensorflow\\\\dataset\\\\cifar\\\\train\\\\10058_frog.png',\n",
       " 'C:\\\\Users\\\\LG\\\\Deep_Learning_Study\\\\Tensorflow\\\\dataset\\\\cifar\\\\train\\\\10059_deer.png',\n",
       " 'C:\\\\Users\\\\LG\\\\Deep_Learning_Study\\\\Tensorflow\\\\dataset\\\\cifar\\\\train\\\\1005_deer.png',\n",
       " 'C:\\\\Users\\\\LG\\\\Deep_Learning_Study\\\\Tensorflow\\\\dataset\\\\cifar\\\\train\\\\10060_dog.png',\n",
       " 'C:\\\\Users\\\\LG\\\\Deep_Learning_Study\\\\Tensorflow\\\\dataset\\\\cifar\\\\train\\\\10061_airplane.png',\n",
       " 'C:\\\\Users\\\\LG\\\\Deep_Learning_Study\\\\Tensorflow\\\\dataset\\\\cifar\\\\train\\\\10062_deer.png',\n",
       " 'C:\\\\Users\\\\LG\\\\Deep_Learning_Study\\\\Tensorflow\\\\dataset\\\\cifar\\\\train\\\\10063_frog.png',\n",
       " 'C:\\\\Users\\\\LG\\\\Deep_Learning_Study\\\\Tensorflow\\\\dataset\\\\cifar\\\\train\\\\10064_airplane.png',\n",
       " 'C:\\\\Users\\\\LG\\\\Deep_Learning_Study\\\\Tensorflow\\\\dataset\\\\cifar\\\\train\\\\10065_ship.png',\n",
       " 'C:\\\\Users\\\\LG\\\\Deep_Learning_Study\\\\Tensorflow\\\\dataset\\\\cifar\\\\train\\\\10066_cat.png',\n",
       " 'C:\\\\Users\\\\LG\\\\Deep_Learning_Study\\\\Tensorflow\\\\dataset\\\\cifar\\\\train\\\\10067_deer.png',\n",
       " 'C:\\\\Users\\\\LG\\\\Deep_Learning_Study\\\\Tensorflow\\\\dataset\\\\cifar\\\\train\\\\10068_ship.png',\n",
       " 'C:\\\\Users\\\\LG\\\\Deep_Learning_Study\\\\Tensorflow\\\\dataset\\\\cifar\\\\train\\\\10069_ship.png',\n",
       " 'C:\\\\Users\\\\LG\\\\Deep_Learning_Study\\\\Tensorflow\\\\dataset\\\\cifar\\\\train\\\\1006_automobile.png',\n",
       " 'C:\\\\Users\\\\LG\\\\Deep_Learning_Study\\\\Tensorflow\\\\dataset\\\\cifar\\\\train\\\\10070_cat.png',\n",
       " 'C:\\\\Users\\\\LG\\\\Deep_Learning_Study\\\\Tensorflow\\\\dataset\\\\cifar\\\\train\\\\10071_truck.png',\n",
       " 'C:\\\\Users\\\\LG\\\\Deep_Learning_Study\\\\Tensorflow\\\\dataset\\\\cifar\\\\train\\\\10072_dog.png',\n",
       " 'C:\\\\Users\\\\LG\\\\Deep_Learning_Study\\\\Tensorflow\\\\dataset\\\\cifar\\\\train\\\\10073_horse.png',\n",
       " 'C:\\\\Users\\\\LG\\\\Deep_Learning_Study\\\\Tensorflow\\\\dataset\\\\cifar\\\\train\\\\10074_automobile.png',\n",
       " 'C:\\\\Users\\\\LG\\\\Deep_Learning_Study\\\\Tensorflow\\\\dataset\\\\cifar\\\\train\\\\10075_truck.png',\n",
       " 'C:\\\\Users\\\\LG\\\\Deep_Learning_Study\\\\Tensorflow\\\\dataset\\\\cifar\\\\train\\\\10076_deer.png',\n",
       " 'C:\\\\Users\\\\LG\\\\Deep_Learning_Study\\\\Tensorflow\\\\dataset\\\\cifar\\\\train\\\\10077_horse.png',\n",
       " 'C:\\\\Users\\\\LG\\\\Deep_Learning_Study\\\\Tensorflow\\\\dataset\\\\cifar\\\\train\\\\10078_truck.png',\n",
       " 'C:\\\\Users\\\\LG\\\\Deep_Learning_Study\\\\Tensorflow\\\\dataset\\\\cifar\\\\train\\\\10079_automobile.png',\n",
       " 'C:\\\\Users\\\\LG\\\\Deep_Learning_Study\\\\Tensorflow\\\\dataset\\\\cifar\\\\train\\\\1007_deer.png',\n",
       " 'C:\\\\Users\\\\LG\\\\Deep_Learning_Study\\\\Tensorflow\\\\dataset\\\\cifar\\\\train\\\\10080_truck.png',\n",
       " 'C:\\\\Users\\\\LG\\\\Deep_Learning_Study\\\\Tensorflow\\\\dataset\\\\cifar\\\\train\\\\10081_horse.png',\n",
       " 'C:\\\\Users\\\\LG\\\\Deep_Learning_Study\\\\Tensorflow\\\\dataset\\\\cifar\\\\train\\\\10082_dog.png',\n",
       " 'C:\\\\Users\\\\LG\\\\Deep_Learning_Study\\\\Tensorflow\\\\dataset\\\\cifar\\\\train\\\\10083_bird.png',\n",
       " 'C:\\\\Users\\\\LG\\\\Deep_Learning_Study\\\\Tensorflow\\\\dataset\\\\cifar\\\\train\\\\10084_horse.png',\n",
       " 'C:\\\\Users\\\\LG\\\\Deep_Learning_Study\\\\Tensorflow\\\\dataset\\\\cifar\\\\train\\\\10085_cat.png',\n",
       " 'C:\\\\Users\\\\LG\\\\Deep_Learning_Study\\\\Tensorflow\\\\dataset\\\\cifar\\\\train\\\\10086_deer.png',\n",
       " 'C:\\\\Users\\\\LG\\\\Deep_Learning_Study\\\\Tensorflow\\\\dataset\\\\cifar\\\\train\\\\10087_ship.png',\n",
       " 'C:\\\\Users\\\\LG\\\\Deep_Learning_Study\\\\Tensorflow\\\\dataset\\\\cifar\\\\train\\\\10088_ship.png',\n",
       " 'C:\\\\Users\\\\LG\\\\Deep_Learning_Study\\\\Tensorflow\\\\dataset\\\\cifar\\\\train\\\\10089_bird.png',\n",
       " 'C:\\\\Users\\\\LG\\\\Deep_Learning_Study\\\\Tensorflow\\\\dataset\\\\cifar\\\\train\\\\1008_bird.png',\n",
       " 'C:\\\\Users\\\\LG\\\\Deep_Learning_Study\\\\Tensorflow\\\\dataset\\\\cifar\\\\train\\\\10090_automobile.png',\n",
       " 'C:\\\\Users\\\\LG\\\\Deep_Learning_Study\\\\Tensorflow\\\\dataset\\\\cifar\\\\train\\\\10091_dog.png',\n",
       " 'C:\\\\Users\\\\LG\\\\Deep_Learning_Study\\\\Tensorflow\\\\dataset\\\\cifar\\\\train\\\\10092_truck.png',\n",
       " 'C:\\\\Users\\\\LG\\\\Deep_Learning_Study\\\\Tensorflow\\\\dataset\\\\cifar\\\\train\\\\10093_bird.png',\n",
       " 'C:\\\\Users\\\\LG\\\\Deep_Learning_Study\\\\Tensorflow\\\\dataset\\\\cifar\\\\train\\\\10094_horse.png',\n",
       " 'C:\\\\Users\\\\LG\\\\Deep_Learning_Study\\\\Tensorflow\\\\dataset\\\\cifar\\\\train\\\\10095_ship.png',\n",
       " 'C:\\\\Users\\\\LG\\\\Deep_Learning_Study\\\\Tensorflow\\\\dataset\\\\cifar\\\\train\\\\10096_ship.png',\n",
       " 'C:\\\\Users\\\\LG\\\\Deep_Learning_Study\\\\Tensorflow\\\\dataset\\\\cifar\\\\train\\\\10097_frog.png',\n",
       " 'C:\\\\Users\\\\LG\\\\Deep_Learning_Study\\\\Tensorflow\\\\dataset\\\\cifar\\\\train\\\\10098_ship.png',\n",
       " 'C:\\\\Users\\\\LG\\\\Deep_Learning_Study\\\\Tensorflow\\\\dataset\\\\cifar\\\\train\\\\10099_ship.png',\n",
       " 'C:\\\\Users\\\\LG\\\\Deep_Learning_Study\\\\Tensorflow\\\\dataset\\\\cifar\\\\train\\\\1009_bird.png',\n",
       " 'C:\\\\Users\\\\LG\\\\Deep_Learning_Study\\\\Tensorflow\\\\dataset\\\\cifar\\\\train\\\\100_ship.png',\n",
       " 'C:\\\\Users\\\\LG\\\\Deep_Learning_Study\\\\Tensorflow\\\\dataset\\\\cifar\\\\train\\\\10100_automobile.png',\n",
       " 'C:\\\\Users\\\\LG\\\\Deep_Learning_Study\\\\Tensorflow\\\\dataset\\\\cifar\\\\train\\\\10101_cat.png',\n",
       " 'C:\\\\Users\\\\LG\\\\Deep_Learning_Study\\\\Tensorflow\\\\dataset\\\\cifar\\\\train\\\\10102_ship.png',\n",
       " 'C:\\\\Users\\\\LG\\\\Deep_Learning_Study\\\\Tensorflow\\\\dataset\\\\cifar\\\\train\\\\10103_ship.png',\n",
       " 'C:\\\\Users\\\\LG\\\\Deep_Learning_Study\\\\Tensorflow\\\\dataset\\\\cifar\\\\train\\\\10104_dog.png',\n",
       " 'C:\\\\Users\\\\LG\\\\Deep_Learning_Study\\\\Tensorflow\\\\dataset\\\\cifar\\\\train\\\\10105_deer.png',\n",
       " 'C:\\\\Users\\\\LG\\\\Deep_Learning_Study\\\\Tensorflow\\\\dataset\\\\cifar\\\\train\\\\10106_horse.png',\n",
       " 'C:\\\\Users\\\\LG\\\\Deep_Learning_Study\\\\Tensorflow\\\\dataset\\\\cifar\\\\train\\\\10107_automobile.png',\n",
       " 'C:\\\\Users\\\\LG\\\\Deep_Learning_Study\\\\Tensorflow\\\\dataset\\\\cifar\\\\train\\\\10108_frog.png',\n",
       " 'C:\\\\Users\\\\LG\\\\Deep_Learning_Study\\\\Tensorflow\\\\dataset\\\\cifar\\\\train\\\\10109_frog.png',\n",
       " 'C:\\\\Users\\\\LG\\\\Deep_Learning_Study\\\\Tensorflow\\\\dataset\\\\cifar\\\\train\\\\1010_cat.png',\n",
       " 'C:\\\\Users\\\\LG\\\\Deep_Learning_Study\\\\Tensorflow\\\\dataset\\\\cifar\\\\train\\\\10110_automobile.png',\n",
       " 'C:\\\\Users\\\\LG\\\\Deep_Learning_Study\\\\Tensorflow\\\\dataset\\\\cifar\\\\train\\\\10111_frog.png',\n",
       " 'C:\\\\Users\\\\LG\\\\Deep_Learning_Study\\\\Tensorflow\\\\dataset\\\\cifar\\\\train\\\\10112_automobile.png',\n",
       " 'C:\\\\Users\\\\LG\\\\Deep_Learning_Study\\\\Tensorflow\\\\dataset\\\\cifar\\\\train\\\\10113_frog.png',\n",
       " 'C:\\\\Users\\\\LG\\\\Deep_Learning_Study\\\\Tensorflow\\\\dataset\\\\cifar\\\\train\\\\10114_horse.png',\n",
       " 'C:\\\\Users\\\\LG\\\\Deep_Learning_Study\\\\Tensorflow\\\\dataset\\\\cifar\\\\train\\\\10115_airplane.png',\n",
       " 'C:\\\\Users\\\\LG\\\\Deep_Learning_Study\\\\Tensorflow\\\\dataset\\\\cifar\\\\train\\\\10116_deer.png',\n",
       " 'C:\\\\Users\\\\LG\\\\Deep_Learning_Study\\\\Tensorflow\\\\dataset\\\\cifar\\\\train\\\\10117_frog.png',\n",
       " 'C:\\\\Users\\\\LG\\\\Deep_Learning_Study\\\\Tensorflow\\\\dataset\\\\cifar\\\\train\\\\10118_truck.png',\n",
       " 'C:\\\\Users\\\\LG\\\\Deep_Learning_Study\\\\Tensorflow\\\\dataset\\\\cifar\\\\train\\\\10119_dog.png',\n",
       " 'C:\\\\Users\\\\LG\\\\Deep_Learning_Study\\\\Tensorflow\\\\dataset\\\\cifar\\\\train\\\\1011_ship.png',\n",
       " 'C:\\\\Users\\\\LG\\\\Deep_Learning_Study\\\\Tensorflow\\\\dataset\\\\cifar\\\\train\\\\10120_ship.png',\n",
       " 'C:\\\\Users\\\\LG\\\\Deep_Learning_Study\\\\Tensorflow\\\\dataset\\\\cifar\\\\train\\\\10121_horse.png',\n",
       " 'C:\\\\Users\\\\LG\\\\Deep_Learning_Study\\\\Tensorflow\\\\dataset\\\\cifar\\\\train\\\\10122_automobile.png',\n",
       " 'C:\\\\Users\\\\LG\\\\Deep_Learning_Study\\\\Tensorflow\\\\dataset\\\\cifar\\\\train\\\\10123_truck.png',\n",
       " 'C:\\\\Users\\\\LG\\\\Deep_Learning_Study\\\\Tensorflow\\\\dataset\\\\cifar\\\\train\\\\10124_airplane.png',\n",
       " 'C:\\\\Users\\\\LG\\\\Deep_Learning_Study\\\\Tensorflow\\\\dataset\\\\cifar\\\\train\\\\10125_cat.png',\n",
       " 'C:\\\\Users\\\\LG\\\\Deep_Learning_Study\\\\Tensorflow\\\\dataset\\\\cifar\\\\train\\\\10126_cat.png',\n",
       " 'C:\\\\Users\\\\LG\\\\Deep_Learning_Study\\\\Tensorflow\\\\dataset\\\\cifar\\\\train\\\\10127_horse.png',\n",
       " 'C:\\\\Users\\\\LG\\\\Deep_Learning_Study\\\\Tensorflow\\\\dataset\\\\cifar\\\\train\\\\10128_frog.png',\n",
       " 'C:\\\\Users\\\\LG\\\\Deep_Learning_Study\\\\Tensorflow\\\\dataset\\\\cifar\\\\train\\\\10129_truck.png',\n",
       " 'C:\\\\Users\\\\LG\\\\Deep_Learning_Study\\\\Tensorflow\\\\dataset\\\\cifar\\\\train\\\\1012_airplane.png',\n",
       " 'C:\\\\Users\\\\LG\\\\Deep_Learning_Study\\\\Tensorflow\\\\dataset\\\\cifar\\\\train\\\\10130_airplane.png',\n",
       " 'C:\\\\Users\\\\LG\\\\Deep_Learning_Study\\\\Tensorflow\\\\dataset\\\\cifar\\\\train\\\\10131_deer.png',\n",
       " 'C:\\\\Users\\\\LG\\\\Deep_Learning_Study\\\\Tensorflow\\\\dataset\\\\cifar\\\\train\\\\10132_horse.png',\n",
       " 'C:\\\\Users\\\\LG\\\\Deep_Learning_Study\\\\Tensorflow\\\\dataset\\\\cifar\\\\train\\\\10133_automobile.png',\n",
       " 'C:\\\\Users\\\\LG\\\\Deep_Learning_Study\\\\Tensorflow\\\\dataset\\\\cifar\\\\train\\\\10134_deer.png',\n",
       " 'C:\\\\Users\\\\LG\\\\Deep_Learning_Study\\\\Tensorflow\\\\dataset\\\\cifar\\\\train\\\\10135_cat.png',\n",
       " 'C:\\\\Users\\\\LG\\\\Deep_Learning_Study\\\\Tensorflow\\\\dataset\\\\cifar\\\\train\\\\10136_deer.png',\n",
       " 'C:\\\\Users\\\\LG\\\\Deep_Learning_Study\\\\Tensorflow\\\\dataset\\\\cifar\\\\train\\\\10137_cat.png',\n",
       " 'C:\\\\Users\\\\LG\\\\Deep_Learning_Study\\\\Tensorflow\\\\dataset\\\\cifar\\\\train\\\\10138_truck.png',\n",
       " 'C:\\\\Users\\\\LG\\\\Deep_Learning_Study\\\\Tensorflow\\\\dataset\\\\cifar\\\\train\\\\10139_ship.png',\n",
       " 'C:\\\\Users\\\\LG\\\\Deep_Learning_Study\\\\Tensorflow\\\\dataset\\\\cifar\\\\train\\\\1013_frog.png',\n",
       " 'C:\\\\Users\\\\LG\\\\Deep_Learning_Study\\\\Tensorflow\\\\dataset\\\\cifar\\\\train\\\\10140_horse.png',\n",
       " 'C:\\\\Users\\\\LG\\\\Deep_Learning_Study\\\\Tensorflow\\\\dataset\\\\cifar\\\\train\\\\10141_airplane.png',\n",
       " 'C:\\\\Users\\\\LG\\\\Deep_Learning_Study\\\\Tensorflow\\\\dataset\\\\cifar\\\\train\\\\10142_ship.png',\n",
       " 'C:\\\\Users\\\\LG\\\\Deep_Learning_Study\\\\Tensorflow\\\\dataset\\\\cifar\\\\train\\\\10143_cat.png',\n",
       " 'C:\\\\Users\\\\LG\\\\Deep_Learning_Study\\\\Tensorflow\\\\dataset\\\\cifar\\\\train\\\\10144_truck.png',\n",
       " 'C:\\\\Users\\\\LG\\\\Deep_Learning_Study\\\\Tensorflow\\\\dataset\\\\cifar\\\\train\\\\10145_automobile.png',\n",
       " 'C:\\\\Users\\\\LG\\\\Deep_Learning_Study\\\\Tensorflow\\\\dataset\\\\cifar\\\\train\\\\10146_airplane.png',\n",
       " 'C:\\\\Users\\\\LG\\\\Deep_Learning_Study\\\\Tensorflow\\\\dataset\\\\cifar\\\\train\\\\10147_ship.png',\n",
       " 'C:\\\\Users\\\\LG\\\\Deep_Learning_Study\\\\Tensorflow\\\\dataset\\\\cifar\\\\train\\\\10148_airplane.png',\n",
       " 'C:\\\\Users\\\\LG\\\\Deep_Learning_Study\\\\Tensorflow\\\\dataset\\\\cifar\\\\train\\\\10149_truck.png',\n",
       " 'C:\\\\Users\\\\LG\\\\Deep_Learning_Study\\\\Tensorflow\\\\dataset\\\\cifar\\\\train\\\\1014_ship.png',\n",
       " 'C:\\\\Users\\\\LG\\\\Deep_Learning_Study\\\\Tensorflow\\\\dataset\\\\cifar\\\\train\\\\10150_deer.png',\n",
       " 'C:\\\\Users\\\\LG\\\\Deep_Learning_Study\\\\Tensorflow\\\\dataset\\\\cifar\\\\train\\\\10151_airplane.png',\n",
       " 'C:\\\\Users\\\\LG\\\\Deep_Learning_Study\\\\Tensorflow\\\\dataset\\\\cifar\\\\train\\\\10152_bird.png',\n",
       " 'C:\\\\Users\\\\LG\\\\Deep_Learning_Study\\\\Tensorflow\\\\dataset\\\\cifar\\\\train\\\\10153_automobile.png',\n",
       " 'C:\\\\Users\\\\LG\\\\Deep_Learning_Study\\\\Tensorflow\\\\dataset\\\\cifar\\\\train\\\\10154_deer.png',\n",
       " 'C:\\\\Users\\\\LG\\\\Deep_Learning_Study\\\\Tensorflow\\\\dataset\\\\cifar\\\\train\\\\10155_bird.png',\n",
       " 'C:\\\\Users\\\\LG\\\\Deep_Learning_Study\\\\Tensorflow\\\\dataset\\\\cifar\\\\train\\\\10156_horse.png',\n",
       " 'C:\\\\Users\\\\LG\\\\Deep_Learning_Study\\\\Tensorflow\\\\dataset\\\\cifar\\\\train\\\\10157_automobile.png',\n",
       " 'C:\\\\Users\\\\LG\\\\Deep_Learning_Study\\\\Tensorflow\\\\dataset\\\\cifar\\\\train\\\\10158_horse.png',\n",
       " 'C:\\\\Users\\\\LG\\\\Deep_Learning_Study\\\\Tensorflow\\\\dataset\\\\cifar\\\\train\\\\10159_airplane.png',\n",
       " 'C:\\\\Users\\\\LG\\\\Deep_Learning_Study\\\\Tensorflow\\\\dataset\\\\cifar\\\\train\\\\1015_dog.png',\n",
       " 'C:\\\\Users\\\\LG\\\\Deep_Learning_Study\\\\Tensorflow\\\\dataset\\\\cifar\\\\train\\\\10160_bird.png',\n",
       " 'C:\\\\Users\\\\LG\\\\Deep_Learning_Study\\\\Tensorflow\\\\dataset\\\\cifar\\\\train\\\\10161_truck.png',\n",
       " 'C:\\\\Users\\\\LG\\\\Deep_Learning_Study\\\\Tensorflow\\\\dataset\\\\cifar\\\\train\\\\10162_horse.png',\n",
       " 'C:\\\\Users\\\\LG\\\\Deep_Learning_Study\\\\Tensorflow\\\\dataset\\\\cifar\\\\train\\\\10163_truck.png',\n",
       " 'C:\\\\Users\\\\LG\\\\Deep_Learning_Study\\\\Tensorflow\\\\dataset\\\\cifar\\\\train\\\\10164_ship.png',\n",
       " 'C:\\\\Users\\\\LG\\\\Deep_Learning_Study\\\\Tensorflow\\\\dataset\\\\cifar\\\\train\\\\10165_frog.png',\n",
       " 'C:\\\\Users\\\\LG\\\\Deep_Learning_Study\\\\Tensorflow\\\\dataset\\\\cifar\\\\train\\\\10166_deer.png',\n",
       " 'C:\\\\Users\\\\LG\\\\Deep_Learning_Study\\\\Tensorflow\\\\dataset\\\\cifar\\\\train\\\\10167_deer.png',\n",
       " 'C:\\\\Users\\\\LG\\\\Deep_Learning_Study\\\\Tensorflow\\\\dataset\\\\cifar\\\\train\\\\10168_automobile.png',\n",
       " 'C:\\\\Users\\\\LG\\\\Deep_Learning_Study\\\\Tensorflow\\\\dataset\\\\cifar\\\\train\\\\10169_automobile.png',\n",
       " 'C:\\\\Users\\\\LG\\\\Deep_Learning_Study\\\\Tensorflow\\\\dataset\\\\cifar\\\\train\\\\1016_frog.png',\n",
       " 'C:\\\\Users\\\\LG\\\\Deep_Learning_Study\\\\Tensorflow\\\\dataset\\\\cifar\\\\train\\\\10170_horse.png',\n",
       " 'C:\\\\Users\\\\LG\\\\Deep_Learning_Study\\\\Tensorflow\\\\dataset\\\\cifar\\\\train\\\\10171_ship.png',\n",
       " 'C:\\\\Users\\\\LG\\\\Deep_Learning_Study\\\\Tensorflow\\\\dataset\\\\cifar\\\\train\\\\10172_ship.png',\n",
       " 'C:\\\\Users\\\\LG\\\\Deep_Learning_Study\\\\Tensorflow\\\\dataset\\\\cifar\\\\train\\\\10173_frog.png',\n",
       " 'C:\\\\Users\\\\LG\\\\Deep_Learning_Study\\\\Tensorflow\\\\dataset\\\\cifar\\\\train\\\\10174_deer.png',\n",
       " 'C:\\\\Users\\\\LG\\\\Deep_Learning_Study\\\\Tensorflow\\\\dataset\\\\cifar\\\\train\\\\10175_dog.png',\n",
       " 'C:\\\\Users\\\\LG\\\\Deep_Learning_Study\\\\Tensorflow\\\\dataset\\\\cifar\\\\train\\\\10176_frog.png',\n",
       " 'C:\\\\Users\\\\LG\\\\Deep_Learning_Study\\\\Tensorflow\\\\dataset\\\\cifar\\\\train\\\\10177_cat.png',\n",
       " 'C:\\\\Users\\\\LG\\\\Deep_Learning_Study\\\\Tensorflow\\\\dataset\\\\cifar\\\\train\\\\10178_truck.png',\n",
       " 'C:\\\\Users\\\\LG\\\\Deep_Learning_Study\\\\Tensorflow\\\\dataset\\\\cifar\\\\train\\\\10179_deer.png',\n",
       " 'C:\\\\Users\\\\LG\\\\Deep_Learning_Study\\\\Tensorflow\\\\dataset\\\\cifar\\\\train\\\\1017_frog.png',\n",
       " 'C:\\\\Users\\\\LG\\\\Deep_Learning_Study\\\\Tensorflow\\\\dataset\\\\cifar\\\\train\\\\10180_bird.png',\n",
       " 'C:\\\\Users\\\\LG\\\\Deep_Learning_Study\\\\Tensorflow\\\\dataset\\\\cifar\\\\train\\\\10181_dog.png',\n",
       " 'C:\\\\Users\\\\LG\\\\Deep_Learning_Study\\\\Tensorflow\\\\dataset\\\\cifar\\\\train\\\\10182_cat.png',\n",
       " 'C:\\\\Users\\\\LG\\\\Deep_Learning_Study\\\\Tensorflow\\\\dataset\\\\cifar\\\\train\\\\10183_frog.png',\n",
       " 'C:\\\\Users\\\\LG\\\\Deep_Learning_Study\\\\Tensorflow\\\\dataset\\\\cifar\\\\train\\\\10184_horse.png',\n",
       " 'C:\\\\Users\\\\LG\\\\Deep_Learning_Study\\\\Tensorflow\\\\dataset\\\\cifar\\\\train\\\\10185_horse.png',\n",
       " 'C:\\\\Users\\\\LG\\\\Deep_Learning_Study\\\\Tensorflow\\\\dataset\\\\cifar\\\\train\\\\10186_cat.png',\n",
       " 'C:\\\\Users\\\\LG\\\\Deep_Learning_Study\\\\Tensorflow\\\\dataset\\\\cifar\\\\train\\\\10187_truck.png',\n",
       " 'C:\\\\Users\\\\LG\\\\Deep_Learning_Study\\\\Tensorflow\\\\dataset\\\\cifar\\\\train\\\\10188_automobile.png',\n",
       " 'C:\\\\Users\\\\LG\\\\Deep_Learning_Study\\\\Tensorflow\\\\dataset\\\\cifar\\\\train\\\\10189_cat.png',\n",
       " 'C:\\\\Users\\\\LG\\\\Deep_Learning_Study\\\\Tensorflow\\\\dataset\\\\cifar\\\\train\\\\1018_deer.png',\n",
       " 'C:\\\\Users\\\\LG\\\\Deep_Learning_Study\\\\Tensorflow\\\\dataset\\\\cifar\\\\train\\\\10190_automobile.png',\n",
       " 'C:\\\\Users\\\\LG\\\\Deep_Learning_Study\\\\Tensorflow\\\\dataset\\\\cifar\\\\train\\\\10191_ship.png',\n",
       " 'C:\\\\Users\\\\LG\\\\Deep_Learning_Study\\\\Tensorflow\\\\dataset\\\\cifar\\\\train\\\\10192_cat.png',\n",
       " 'C:\\\\Users\\\\LG\\\\Deep_Learning_Study\\\\Tensorflow\\\\dataset\\\\cifar\\\\train\\\\10193_cat.png',\n",
       " 'C:\\\\Users\\\\LG\\\\Deep_Learning_Study\\\\Tensorflow\\\\dataset\\\\cifar\\\\train\\\\10194_dog.png',\n",
       " 'C:\\\\Users\\\\LG\\\\Deep_Learning_Study\\\\Tensorflow\\\\dataset\\\\cifar\\\\train\\\\10195_frog.png',\n",
       " 'C:\\\\Users\\\\LG\\\\Deep_Learning_Study\\\\Tensorflow\\\\dataset\\\\cifar\\\\train\\\\10196_deer.png',\n",
       " 'C:\\\\Users\\\\LG\\\\Deep_Learning_Study\\\\Tensorflow\\\\dataset\\\\cifar\\\\train\\\\10197_airplane.png',\n",
       " 'C:\\\\Users\\\\LG\\\\Deep_Learning_Study\\\\Tensorflow\\\\dataset\\\\cifar\\\\train\\\\10198_truck.png',\n",
       " 'C:\\\\Users\\\\LG\\\\Deep_Learning_Study\\\\Tensorflow\\\\dataset\\\\cifar\\\\train\\\\10199_frog.png',\n",
       " 'C:\\\\Users\\\\LG\\\\Deep_Learning_Study\\\\Tensorflow\\\\dataset\\\\cifar\\\\train\\\\1019_horse.png',\n",
       " 'C:\\\\Users\\\\LG\\\\Deep_Learning_Study\\\\Tensorflow\\\\dataset\\\\cifar\\\\train\\\\101_cat.png',\n",
       " 'C:\\\\Users\\\\LG\\\\Deep_Learning_Study\\\\Tensorflow\\\\dataset\\\\cifar\\\\train\\\\10200_frog.png',\n",
       " 'C:\\\\Users\\\\LG\\\\Deep_Learning_Study\\\\Tensorflow\\\\dataset\\\\cifar\\\\train\\\\10201_dog.png',\n",
       " 'C:\\\\Users\\\\LG\\\\Deep_Learning_Study\\\\Tensorflow\\\\dataset\\\\cifar\\\\train\\\\10202_airplane.png',\n",
       " 'C:\\\\Users\\\\LG\\\\Deep_Learning_Study\\\\Tensorflow\\\\dataset\\\\cifar\\\\train\\\\10203_frog.png',\n",
       " 'C:\\\\Users\\\\LG\\\\Deep_Learning_Study\\\\Tensorflow\\\\dataset\\\\cifar\\\\train\\\\10204_bird.png',\n",
       " 'C:\\\\Users\\\\LG\\\\Deep_Learning_Study\\\\Tensorflow\\\\dataset\\\\cifar\\\\train\\\\10205_airplane.png',\n",
       " 'C:\\\\Users\\\\LG\\\\Deep_Learning_Study\\\\Tensorflow\\\\dataset\\\\cifar\\\\train\\\\10206_dog.png',\n",
       " 'C:\\\\Users\\\\LG\\\\Deep_Learning_Study\\\\Tensorflow\\\\dataset\\\\cifar\\\\train\\\\10207_deer.png',\n",
       " 'C:\\\\Users\\\\LG\\\\Deep_Learning_Study\\\\Tensorflow\\\\dataset\\\\cifar\\\\train\\\\10208_truck.png',\n",
       " 'C:\\\\Users\\\\LG\\\\Deep_Learning_Study\\\\Tensorflow\\\\dataset\\\\cifar\\\\train\\\\10209_cat.png',\n",
       " 'C:\\\\Users\\\\LG\\\\Deep_Learning_Study\\\\Tensorflow\\\\dataset\\\\cifar\\\\train\\\\1020_automobile.png',\n",
       " 'C:\\\\Users\\\\LG\\\\Deep_Learning_Study\\\\Tensorflow\\\\dataset\\\\cifar\\\\train\\\\10210_deer.png',\n",
       " 'C:\\\\Users\\\\LG\\\\Deep_Learning_Study\\\\Tensorflow\\\\dataset\\\\cifar\\\\train\\\\10211_frog.png',\n",
       " 'C:\\\\Users\\\\LG\\\\Deep_Learning_Study\\\\Tensorflow\\\\dataset\\\\cifar\\\\train\\\\10212_airplane.png',\n",
       " 'C:\\\\Users\\\\LG\\\\Deep_Learning_Study\\\\Tensorflow\\\\dataset\\\\cifar\\\\train\\\\10213_frog.png',\n",
       " 'C:\\\\Users\\\\LG\\\\Deep_Learning_Study\\\\Tensorflow\\\\dataset\\\\cifar\\\\train\\\\10214_horse.png',\n",
       " 'C:\\\\Users\\\\LG\\\\Deep_Learning_Study\\\\Tensorflow\\\\dataset\\\\cifar\\\\train\\\\10215_airplane.png',\n",
       " 'C:\\\\Users\\\\LG\\\\Deep_Learning_Study\\\\Tensorflow\\\\dataset\\\\cifar\\\\train\\\\10216_horse.png',\n",
       " 'C:\\\\Users\\\\LG\\\\Deep_Learning_Study\\\\Tensorflow\\\\dataset\\\\cifar\\\\train\\\\10217_bird.png',\n",
       " 'C:\\\\Users\\\\LG\\\\Deep_Learning_Study\\\\Tensorflow\\\\dataset\\\\cifar\\\\train\\\\10218_frog.png',\n",
       " 'C:\\\\Users\\\\LG\\\\Deep_Learning_Study\\\\Tensorflow\\\\dataset\\\\cifar\\\\train\\\\10219_truck.png',\n",
       " 'C:\\\\Users\\\\LG\\\\Deep_Learning_Study\\\\Tensorflow\\\\dataset\\\\cifar\\\\train\\\\1021_automobile.png',\n",
       " 'C:\\\\Users\\\\LG\\\\Deep_Learning_Study\\\\Tensorflow\\\\dataset\\\\cifar\\\\train\\\\10220_frog.png',\n",
       " 'C:\\\\Users\\\\LG\\\\Deep_Learning_Study\\\\Tensorflow\\\\dataset\\\\cifar\\\\train\\\\10221_dog.png',\n",
       " 'C:\\\\Users\\\\LG\\\\Deep_Learning_Study\\\\Tensorflow\\\\dataset\\\\cifar\\\\train\\\\10222_deer.png',\n",
       " 'C:\\\\Users\\\\LG\\\\Deep_Learning_Study\\\\Tensorflow\\\\dataset\\\\cifar\\\\train\\\\10223_dog.png',\n",
       " 'C:\\\\Users\\\\LG\\\\Deep_Learning_Study\\\\Tensorflow\\\\dataset\\\\cifar\\\\train\\\\10224_deer.png',\n",
       " 'C:\\\\Users\\\\LG\\\\Deep_Learning_Study\\\\Tensorflow\\\\dataset\\\\cifar\\\\train\\\\10225_horse.png',\n",
       " 'C:\\\\Users\\\\LG\\\\Deep_Learning_Study\\\\Tensorflow\\\\dataset\\\\cifar\\\\train\\\\10226_horse.png',\n",
       " 'C:\\\\Users\\\\LG\\\\Deep_Learning_Study\\\\Tensorflow\\\\dataset\\\\cifar\\\\train\\\\10227_frog.png',\n",
       " 'C:\\\\Users\\\\LG\\\\Deep_Learning_Study\\\\Tensorflow\\\\dataset\\\\cifar\\\\train\\\\10228_ship.png',\n",
       " 'C:\\\\Users\\\\LG\\\\Deep_Learning_Study\\\\Tensorflow\\\\dataset\\\\cifar\\\\train\\\\10229_automobile.png',\n",
       " 'C:\\\\Users\\\\LG\\\\Deep_Learning_Study\\\\Tensorflow\\\\dataset\\\\cifar\\\\train\\\\1022_deer.png',\n",
       " 'C:\\\\Users\\\\LG\\\\Deep_Learning_Study\\\\Tensorflow\\\\dataset\\\\cifar\\\\train\\\\10230_dog.png',\n",
       " 'C:\\\\Users\\\\LG\\\\Deep_Learning_Study\\\\Tensorflow\\\\dataset\\\\cifar\\\\train\\\\10231_truck.png',\n",
       " 'C:\\\\Users\\\\LG\\\\Deep_Learning_Study\\\\Tensorflow\\\\dataset\\\\cifar\\\\train\\\\10232_horse.png',\n",
       " 'C:\\\\Users\\\\LG\\\\Deep_Learning_Study\\\\Tensorflow\\\\dataset\\\\cifar\\\\train\\\\10233_ship.png',\n",
       " 'C:\\\\Users\\\\LG\\\\Deep_Learning_Study\\\\Tensorflow\\\\dataset\\\\cifar\\\\train\\\\10234_ship.png',\n",
       " 'C:\\\\Users\\\\LG\\\\Deep_Learning_Study\\\\Tensorflow\\\\dataset\\\\cifar\\\\train\\\\10235_horse.png',\n",
       " 'C:\\\\Users\\\\LG\\\\Deep_Learning_Study\\\\Tensorflow\\\\dataset\\\\cifar\\\\train\\\\10236_automobile.png',\n",
       " 'C:\\\\Users\\\\LG\\\\Deep_Learning_Study\\\\Tensorflow\\\\dataset\\\\cifar\\\\train\\\\10237_deer.png',\n",
       " 'C:\\\\Users\\\\LG\\\\Deep_Learning_Study\\\\Tensorflow\\\\dataset\\\\cifar\\\\train\\\\10238_frog.png',\n",
       " 'C:\\\\Users\\\\LG\\\\Deep_Learning_Study\\\\Tensorflow\\\\dataset\\\\cifar\\\\train\\\\10239_deer.png',\n",
       " 'C:\\\\Users\\\\LG\\\\Deep_Learning_Study\\\\Tensorflow\\\\dataset\\\\cifar\\\\train\\\\1023_frog.png',\n",
       " 'C:\\\\Users\\\\LG\\\\Deep_Learning_Study\\\\Tensorflow\\\\dataset\\\\cifar\\\\train\\\\10240_bird.png',\n",
       " 'C:\\\\Users\\\\LG\\\\Deep_Learning_Study\\\\Tensorflow\\\\dataset\\\\cifar\\\\train\\\\10241_bird.png',\n",
       " 'C:\\\\Users\\\\LG\\\\Deep_Learning_Study\\\\Tensorflow\\\\dataset\\\\cifar\\\\train\\\\10242_dog.png',\n",
       " 'C:\\\\Users\\\\LG\\\\Deep_Learning_Study\\\\Tensorflow\\\\dataset\\\\cifar\\\\train\\\\10243_airplane.png',\n",
       " 'C:\\\\Users\\\\LG\\\\Deep_Learning_Study\\\\Tensorflow\\\\dataset\\\\cifar\\\\train\\\\10244_cat.png',\n",
       " 'C:\\\\Users\\\\LG\\\\Deep_Learning_Study\\\\Tensorflow\\\\dataset\\\\cifar\\\\train\\\\10245_ship.png',\n",
       " 'C:\\\\Users\\\\LG\\\\Deep_Learning_Study\\\\Tensorflow\\\\dataset\\\\cifar\\\\train\\\\10246_truck.png',\n",
       " 'C:\\\\Users\\\\LG\\\\Deep_Learning_Study\\\\Tensorflow\\\\dataset\\\\cifar\\\\train\\\\10247_deer.png',\n",
       " 'C:\\\\Users\\\\LG\\\\Deep_Learning_Study\\\\Tensorflow\\\\dataset\\\\cifar\\\\train\\\\10248_automobile.png',\n",
       " 'C:\\\\Users\\\\LG\\\\Deep_Learning_Study\\\\Tensorflow\\\\dataset\\\\cifar\\\\train\\\\10249_automobile.png',\n",
       " 'C:\\\\Users\\\\LG\\\\Deep_Learning_Study\\\\Tensorflow\\\\dataset\\\\cifar\\\\train\\\\1024_bird.png',\n",
       " 'C:\\\\Users\\\\LG\\\\Deep_Learning_Study\\\\Tensorflow\\\\dataset\\\\cifar\\\\train\\\\10250_deer.png',\n",
       " 'C:\\\\Users\\\\LG\\\\Deep_Learning_Study\\\\Tensorflow\\\\dataset\\\\cifar\\\\train\\\\10251_automobile.png',\n",
       " 'C:\\\\Users\\\\LG\\\\Deep_Learning_Study\\\\Tensorflow\\\\dataset\\\\cifar\\\\train\\\\10252_truck.png',\n",
       " 'C:\\\\Users\\\\LG\\\\Deep_Learning_Study\\\\Tensorflow\\\\dataset\\\\cifar\\\\train\\\\10253_frog.png',\n",
       " 'C:\\\\Users\\\\LG\\\\Deep_Learning_Study\\\\Tensorflow\\\\dataset\\\\cifar\\\\train\\\\10254_cat.png',\n",
       " 'C:\\\\Users\\\\LG\\\\Deep_Learning_Study\\\\Tensorflow\\\\dataset\\\\cifar\\\\train\\\\10255_cat.png',\n",
       " 'C:\\\\Users\\\\LG\\\\Deep_Learning_Study\\\\Tensorflow\\\\dataset\\\\cifar\\\\train\\\\10256_frog.png',\n",
       " 'C:\\\\Users\\\\LG\\\\Deep_Learning_Study\\\\Tensorflow\\\\dataset\\\\cifar\\\\train\\\\10257_truck.png',\n",
       " 'C:\\\\Users\\\\LG\\\\Deep_Learning_Study\\\\Tensorflow\\\\dataset\\\\cifar\\\\train\\\\10258_dog.png',\n",
       " 'C:\\\\Users\\\\LG\\\\Deep_Learning_Study\\\\Tensorflow\\\\dataset\\\\cifar\\\\train\\\\10259_horse.png',\n",
       " 'C:\\\\Users\\\\LG\\\\Deep_Learning_Study\\\\Tensorflow\\\\dataset\\\\cifar\\\\train\\\\1025_cat.png',\n",
       " 'C:\\\\Users\\\\LG\\\\Deep_Learning_Study\\\\Tensorflow\\\\dataset\\\\cifar\\\\train\\\\10260_frog.png',\n",
       " 'C:\\\\Users\\\\LG\\\\Deep_Learning_Study\\\\Tensorflow\\\\dataset\\\\cifar\\\\train\\\\10261_truck.png',\n",
       " 'C:\\\\Users\\\\LG\\\\Deep_Learning_Study\\\\Tensorflow\\\\dataset\\\\cifar\\\\train\\\\10262_deer.png',\n",
       " 'C:\\\\Users\\\\LG\\\\Deep_Learning_Study\\\\Tensorflow\\\\dataset\\\\cifar\\\\train\\\\10263_bird.png',\n",
       " 'C:\\\\Users\\\\LG\\\\Deep_Learning_Study\\\\Tensorflow\\\\dataset\\\\cifar\\\\train\\\\10264_deer.png',\n",
       " 'C:\\\\Users\\\\LG\\\\Deep_Learning_Study\\\\Tensorflow\\\\dataset\\\\cifar\\\\train\\\\10265_airplane.png',\n",
       " 'C:\\\\Users\\\\LG\\\\Deep_Learning_Study\\\\Tensorflow\\\\dataset\\\\cifar\\\\train\\\\10266_airplane.png',\n",
       " 'C:\\\\Users\\\\LG\\\\Deep_Learning_Study\\\\Tensorflow\\\\dataset\\\\cifar\\\\train\\\\10267_airplane.png',\n",
       " 'C:\\\\Users\\\\LG\\\\Deep_Learning_Study\\\\Tensorflow\\\\dataset\\\\cifar\\\\train\\\\10268_ship.png',\n",
       " 'C:\\\\Users\\\\LG\\\\Deep_Learning_Study\\\\Tensorflow\\\\dataset\\\\cifar\\\\train\\\\10269_horse.png',\n",
       " 'C:\\\\Users\\\\LG\\\\Deep_Learning_Study\\\\Tensorflow\\\\dataset\\\\cifar\\\\train\\\\1026_truck.png',\n",
       " 'C:\\\\Users\\\\LG\\\\Deep_Learning_Study\\\\Tensorflow\\\\dataset\\\\cifar\\\\train\\\\10270_dog.png',\n",
       " 'C:\\\\Users\\\\LG\\\\Deep_Learning_Study\\\\Tensorflow\\\\dataset\\\\cifar\\\\train\\\\10271_automobile.png',\n",
       " 'C:\\\\Users\\\\LG\\\\Deep_Learning_Study\\\\Tensorflow\\\\dataset\\\\cifar\\\\train\\\\10272_ship.png',\n",
       " 'C:\\\\Users\\\\LG\\\\Deep_Learning_Study\\\\Tensorflow\\\\dataset\\\\cifar\\\\train\\\\10273_frog.png',\n",
       " 'C:\\\\Users\\\\LG\\\\Deep_Learning_Study\\\\Tensorflow\\\\dataset\\\\cifar\\\\train\\\\10274_horse.png',\n",
       " 'C:\\\\Users\\\\LG\\\\Deep_Learning_Study\\\\Tensorflow\\\\dataset\\\\cifar\\\\train\\\\10275_airplane.png',\n",
       " 'C:\\\\Users\\\\LG\\\\Deep_Learning_Study\\\\Tensorflow\\\\dataset\\\\cifar\\\\train\\\\10276_automobile.png',\n",
       " 'C:\\\\Users\\\\LG\\\\Deep_Learning_Study\\\\Tensorflow\\\\dataset\\\\cifar\\\\train\\\\10277_horse.png',\n",
       " 'C:\\\\Users\\\\LG\\\\Deep_Learning_Study\\\\Tensorflow\\\\dataset\\\\cifar\\\\train\\\\10278_horse.png',\n",
       " 'C:\\\\Users\\\\LG\\\\Deep_Learning_Study\\\\Tensorflow\\\\dataset\\\\cifar\\\\train\\\\10279_ship.png',\n",
       " 'C:\\\\Users\\\\LG\\\\Deep_Learning_Study\\\\Tensorflow\\\\dataset\\\\cifar\\\\train\\\\1027_frog.png',\n",
       " 'C:\\\\Users\\\\LG\\\\Deep_Learning_Study\\\\Tensorflow\\\\dataset\\\\cifar\\\\train\\\\10280_bird.png',\n",
       " 'C:\\\\Users\\\\LG\\\\Deep_Learning_Study\\\\Tensorflow\\\\dataset\\\\cifar\\\\train\\\\10281_horse.png',\n",
       " 'C:\\\\Users\\\\LG\\\\Deep_Learning_Study\\\\Tensorflow\\\\dataset\\\\cifar\\\\train\\\\10282_deer.png',\n",
       " 'C:\\\\Users\\\\LG\\\\Deep_Learning_Study\\\\Tensorflow\\\\dataset\\\\cifar\\\\train\\\\10283_ship.png',\n",
       " 'C:\\\\Users\\\\LG\\\\Deep_Learning_Study\\\\Tensorflow\\\\dataset\\\\cifar\\\\train\\\\10284_ship.png',\n",
       " 'C:\\\\Users\\\\LG\\\\Deep_Learning_Study\\\\Tensorflow\\\\dataset\\\\cifar\\\\train\\\\10285_truck.png',\n",
       " 'C:\\\\Users\\\\LG\\\\Deep_Learning_Study\\\\Tensorflow\\\\dataset\\\\cifar\\\\train\\\\10286_ship.png',\n",
       " 'C:\\\\Users\\\\LG\\\\Deep_Learning_Study\\\\Tensorflow\\\\dataset\\\\cifar\\\\train\\\\10287_truck.png',\n",
       " 'C:\\\\Users\\\\LG\\\\Deep_Learning_Study\\\\Tensorflow\\\\dataset\\\\cifar\\\\train\\\\10288_ship.png',\n",
       " 'C:\\\\Users\\\\LG\\\\Deep_Learning_Study\\\\Tensorflow\\\\dataset\\\\cifar\\\\train\\\\10289_bird.png',\n",
       " 'C:\\\\Users\\\\LG\\\\Deep_Learning_Study\\\\Tensorflow\\\\dataset\\\\cifar\\\\train\\\\1028_truck.png',\n",
       " 'C:\\\\Users\\\\LG\\\\Deep_Learning_Study\\\\Tensorflow\\\\dataset\\\\cifar\\\\train\\\\10290_ship.png',\n",
       " 'C:\\\\Users\\\\LG\\\\Deep_Learning_Study\\\\Tensorflow\\\\dataset\\\\cifar\\\\train\\\\10291_truck.png',\n",
       " 'C:\\\\Users\\\\LG\\\\Deep_Learning_Study\\\\Tensorflow\\\\dataset\\\\cifar\\\\train\\\\10292_automobile.png',\n",
       " 'C:\\\\Users\\\\LG\\\\Deep_Learning_Study\\\\Tensorflow\\\\dataset\\\\cifar\\\\train\\\\10293_cat.png',\n",
       " 'C:\\\\Users\\\\LG\\\\Deep_Learning_Study\\\\Tensorflow\\\\dataset\\\\cifar\\\\train\\\\10294_dog.png',\n",
       " 'C:\\\\Users\\\\LG\\\\Deep_Learning_Study\\\\Tensorflow\\\\dataset\\\\cifar\\\\train\\\\10295_horse.png',\n",
       " 'C:\\\\Users\\\\LG\\\\Deep_Learning_Study\\\\Tensorflow\\\\dataset\\\\cifar\\\\train\\\\10296_deer.png',\n",
       " 'C:\\\\Users\\\\LG\\\\Deep_Learning_Study\\\\Tensorflow\\\\dataset\\\\cifar\\\\train\\\\10297_airplane.png',\n",
       " 'C:\\\\Users\\\\LG\\\\Deep_Learning_Study\\\\Tensorflow\\\\dataset\\\\cifar\\\\train\\\\10298_automobile.png',\n",
       " 'C:\\\\Users\\\\LG\\\\Deep_Learning_Study\\\\Tensorflow\\\\dataset\\\\cifar\\\\train\\\\10299_deer.png',\n",
       " 'C:\\\\Users\\\\LG\\\\Deep_Learning_Study\\\\Tensorflow\\\\dataset\\\\cifar\\\\train\\\\1029_automobile.png',\n",
       " 'C:\\\\Users\\\\LG\\\\Deep_Learning_Study\\\\Tensorflow\\\\dataset\\\\cifar\\\\train\\\\102_truck.png',\n",
       " 'C:\\\\Users\\\\LG\\\\Deep_Learning_Study\\\\Tensorflow\\\\dataset\\\\cifar\\\\train\\\\10300_deer.png',\n",
       " 'C:\\\\Users\\\\LG\\\\Deep_Learning_Study\\\\Tensorflow\\\\dataset\\\\cifar\\\\train\\\\10301_airplane.png',\n",
       " 'C:\\\\Users\\\\LG\\\\Deep_Learning_Study\\\\Tensorflow\\\\dataset\\\\cifar\\\\train\\\\10302_ship.png',\n",
       " 'C:\\\\Users\\\\LG\\\\Deep_Learning_Study\\\\Tensorflow\\\\dataset\\\\cifar\\\\train\\\\10303_deer.png',\n",
       " 'C:\\\\Users\\\\LG\\\\Deep_Learning_Study\\\\Tensorflow\\\\dataset\\\\cifar\\\\train\\\\10304_cat.png',\n",
       " 'C:\\\\Users\\\\LG\\\\Deep_Learning_Study\\\\Tensorflow\\\\dataset\\\\cifar\\\\train\\\\10305_horse.png',\n",
       " 'C:\\\\Users\\\\LG\\\\Deep_Learning_Study\\\\Tensorflow\\\\dataset\\\\cifar\\\\train\\\\10306_truck.png',\n",
       " 'C:\\\\Users\\\\LG\\\\Deep_Learning_Study\\\\Tensorflow\\\\dataset\\\\cifar\\\\train\\\\10307_horse.png',\n",
       " 'C:\\\\Users\\\\LG\\\\Deep_Learning_Study\\\\Tensorflow\\\\dataset\\\\cifar\\\\train\\\\10308_horse.png',\n",
       " 'C:\\\\Users\\\\LG\\\\Deep_Learning_Study\\\\Tensorflow\\\\dataset\\\\cifar\\\\train\\\\10309_truck.png',\n",
       " 'C:\\\\Users\\\\LG\\\\Deep_Learning_Study\\\\Tensorflow\\\\dataset\\\\cifar\\\\train\\\\1030_cat.png',\n",
       " 'C:\\\\Users\\\\LG\\\\Deep_Learning_Study\\\\Tensorflow\\\\dataset\\\\cifar\\\\train\\\\10310_cat.png',\n",
       " 'C:\\\\Users\\\\LG\\\\Deep_Learning_Study\\\\Tensorflow\\\\dataset\\\\cifar\\\\train\\\\10311_frog.png',\n",
       " 'C:\\\\Users\\\\LG\\\\Deep_Learning_Study\\\\Tensorflow\\\\dataset\\\\cifar\\\\train\\\\10312_truck.png',\n",
       " 'C:\\\\Users\\\\LG\\\\Deep_Learning_Study\\\\Tensorflow\\\\dataset\\\\cifar\\\\train\\\\10313_ship.png',\n",
       " 'C:\\\\Users\\\\LG\\\\Deep_Learning_Study\\\\Tensorflow\\\\dataset\\\\cifar\\\\train\\\\10314_automobile.png',\n",
       " 'C:\\\\Users\\\\LG\\\\Deep_Learning_Study\\\\Tensorflow\\\\dataset\\\\cifar\\\\train\\\\10315_dog.png',\n",
       " 'C:\\\\Users\\\\LG\\\\Deep_Learning_Study\\\\Tensorflow\\\\dataset\\\\cifar\\\\train\\\\10316_truck.png',\n",
       " 'C:\\\\Users\\\\LG\\\\Deep_Learning_Study\\\\Tensorflow\\\\dataset\\\\cifar\\\\train\\\\10317_ship.png',\n",
       " 'C:\\\\Users\\\\LG\\\\Deep_Learning_Study\\\\Tensorflow\\\\dataset\\\\cifar\\\\train\\\\10318_dog.png',\n",
       " 'C:\\\\Users\\\\LG\\\\Deep_Learning_Study\\\\Tensorflow\\\\dataset\\\\cifar\\\\train\\\\10319_dog.png',\n",
       " 'C:\\\\Users\\\\LG\\\\Deep_Learning_Study\\\\Tensorflow\\\\dataset\\\\cifar\\\\train\\\\1031_frog.png',\n",
       " 'C:\\\\Users\\\\LG\\\\Deep_Learning_Study\\\\Tensorflow\\\\dataset\\\\cifar\\\\train\\\\10320_cat.png',\n",
       " 'C:\\\\Users\\\\LG\\\\Deep_Learning_Study\\\\Tensorflow\\\\dataset\\\\cifar\\\\train\\\\10321_cat.png',\n",
       " 'C:\\\\Users\\\\LG\\\\Deep_Learning_Study\\\\Tensorflow\\\\dataset\\\\cifar\\\\train\\\\10322_cat.png',\n",
       " 'C:\\\\Users\\\\LG\\\\Deep_Learning_Study\\\\Tensorflow\\\\dataset\\\\cifar\\\\train\\\\10323_airplane.png',\n",
       " 'C:\\\\Users\\\\LG\\\\Deep_Learning_Study\\\\Tensorflow\\\\dataset\\\\cifar\\\\train\\\\10324_dog.png',\n",
       " 'C:\\\\Users\\\\LG\\\\Deep_Learning_Study\\\\Tensorflow\\\\dataset\\\\cifar\\\\train\\\\10325_automobile.png',\n",
       " 'C:\\\\Users\\\\LG\\\\Deep_Learning_Study\\\\Tensorflow\\\\dataset\\\\cifar\\\\train\\\\10326_airplane.png',\n",
       " 'C:\\\\Users\\\\LG\\\\Deep_Learning_Study\\\\Tensorflow\\\\dataset\\\\cifar\\\\train\\\\10327_frog.png',\n",
       " 'C:\\\\Users\\\\LG\\\\Deep_Learning_Study\\\\Tensorflow\\\\dataset\\\\cifar\\\\train\\\\10328_horse.png',\n",
       " 'C:\\\\Users\\\\LG\\\\Deep_Learning_Study\\\\Tensorflow\\\\dataset\\\\cifar\\\\train\\\\10329_cat.png',\n",
       " 'C:\\\\Users\\\\LG\\\\Deep_Learning_Study\\\\Tensorflow\\\\dataset\\\\cifar\\\\train\\\\1032_ship.png',\n",
       " 'C:\\\\Users\\\\LG\\\\Deep_Learning_Study\\\\Tensorflow\\\\dataset\\\\cifar\\\\train\\\\10330_airplane.png',\n",
       " 'C:\\\\Users\\\\LG\\\\Deep_Learning_Study\\\\Tensorflow\\\\dataset\\\\cifar\\\\train\\\\10331_truck.png',\n",
       " 'C:\\\\Users\\\\LG\\\\Deep_Learning_Study\\\\Tensorflow\\\\dataset\\\\cifar\\\\train\\\\10332_airplane.png',\n",
       " 'C:\\\\Users\\\\LG\\\\Deep_Learning_Study\\\\Tensorflow\\\\dataset\\\\cifar\\\\train\\\\10333_horse.png',\n",
       " 'C:\\\\Users\\\\LG\\\\Deep_Learning_Study\\\\Tensorflow\\\\dataset\\\\cifar\\\\train\\\\10334_airplane.png',\n",
       " 'C:\\\\Users\\\\LG\\\\Deep_Learning_Study\\\\Tensorflow\\\\dataset\\\\cifar\\\\train\\\\10335_deer.png',\n",
       " 'C:\\\\Users\\\\LG\\\\Deep_Learning_Study\\\\Tensorflow\\\\dataset\\\\cifar\\\\train\\\\10336_ship.png',\n",
       " 'C:\\\\Users\\\\LG\\\\Deep_Learning_Study\\\\Tensorflow\\\\dataset\\\\cifar\\\\train\\\\10337_ship.png',\n",
       " 'C:\\\\Users\\\\LG\\\\Deep_Learning_Study\\\\Tensorflow\\\\dataset\\\\cifar\\\\train\\\\10338_airplane.png',\n",
       " 'C:\\\\Users\\\\LG\\\\Deep_Learning_Study\\\\Tensorflow\\\\dataset\\\\cifar\\\\train\\\\10339_horse.png',\n",
       " 'C:\\\\Users\\\\LG\\\\Deep_Learning_Study\\\\Tensorflow\\\\dataset\\\\cifar\\\\train\\\\1033_dog.png',\n",
       " 'C:\\\\Users\\\\LG\\\\Deep_Learning_Study\\\\Tensorflow\\\\dataset\\\\cifar\\\\train\\\\10340_airplane.png',\n",
       " 'C:\\\\Users\\\\LG\\\\Deep_Learning_Study\\\\Tensorflow\\\\dataset\\\\cifar\\\\train\\\\10341_cat.png',\n",
       " 'C:\\\\Users\\\\LG\\\\Deep_Learning_Study\\\\Tensorflow\\\\dataset\\\\cifar\\\\train\\\\10342_truck.png',\n",
       " 'C:\\\\Users\\\\LG\\\\Deep_Learning_Study\\\\Tensorflow\\\\dataset\\\\cifar\\\\train\\\\10343_airplane.png',\n",
       " 'C:\\\\Users\\\\LG\\\\Deep_Learning_Study\\\\Tensorflow\\\\dataset\\\\cifar\\\\train\\\\10344_ship.png',\n",
       " 'C:\\\\Users\\\\LG\\\\Deep_Learning_Study\\\\Tensorflow\\\\dataset\\\\cifar\\\\train\\\\10345_frog.png',\n",
       " 'C:\\\\Users\\\\LG\\\\Deep_Learning_Study\\\\Tensorflow\\\\dataset\\\\cifar\\\\train\\\\10346_ship.png',\n",
       " 'C:\\\\Users\\\\LG\\\\Deep_Learning_Study\\\\Tensorflow\\\\dataset\\\\cifar\\\\train\\\\10347_horse.png',\n",
       " 'C:\\\\Users\\\\LG\\\\Deep_Learning_Study\\\\Tensorflow\\\\dataset\\\\cifar\\\\train\\\\10348_horse.png',\n",
       " 'C:\\\\Users\\\\LG\\\\Deep_Learning_Study\\\\Tensorflow\\\\dataset\\\\cifar\\\\train\\\\10349_frog.png',\n",
       " 'C:\\\\Users\\\\LG\\\\Deep_Learning_Study\\\\Tensorflow\\\\dataset\\\\cifar\\\\train\\\\1034_truck.png',\n",
       " 'C:\\\\Users\\\\LG\\\\Deep_Learning_Study\\\\Tensorflow\\\\dataset\\\\cifar\\\\train\\\\10350_deer.png',\n",
       " 'C:\\\\Users\\\\LG\\\\Deep_Learning_Study\\\\Tensorflow\\\\dataset\\\\cifar\\\\train\\\\10351_truck.png',\n",
       " 'C:\\\\Users\\\\LG\\\\Deep_Learning_Study\\\\Tensorflow\\\\dataset\\\\cifar\\\\train\\\\10352_automobile.png',\n",
       " 'C:\\\\Users\\\\LG\\\\Deep_Learning_Study\\\\Tensorflow\\\\dataset\\\\cifar\\\\train\\\\10353_airplane.png',\n",
       " 'C:\\\\Users\\\\LG\\\\Deep_Learning_Study\\\\Tensorflow\\\\dataset\\\\cifar\\\\train\\\\10354_ship.png',\n",
       " 'C:\\\\Users\\\\LG\\\\Deep_Learning_Study\\\\Tensorflow\\\\dataset\\\\cifar\\\\train\\\\10355_airplane.png',\n",
       " 'C:\\\\Users\\\\LG\\\\Deep_Learning_Study\\\\Tensorflow\\\\dataset\\\\cifar\\\\train\\\\10356_frog.png',\n",
       " 'C:\\\\Users\\\\LG\\\\Deep_Learning_Study\\\\Tensorflow\\\\dataset\\\\cifar\\\\train\\\\10357_frog.png',\n",
       " 'C:\\\\Users\\\\LG\\\\Deep_Learning_Study\\\\Tensorflow\\\\dataset\\\\cifar\\\\train\\\\10358_horse.png',\n",
       " 'C:\\\\Users\\\\LG\\\\Deep_Learning_Study\\\\Tensorflow\\\\dataset\\\\cifar\\\\train\\\\10359_automobile.png',\n",
       " 'C:\\\\Users\\\\LG\\\\Deep_Learning_Study\\\\Tensorflow\\\\dataset\\\\cifar\\\\train\\\\1035_frog.png',\n",
       " 'C:\\\\Users\\\\LG\\\\Deep_Learning_Study\\\\Tensorflow\\\\dataset\\\\cifar\\\\train\\\\10360_bird.png',\n",
       " 'C:\\\\Users\\\\LG\\\\Deep_Learning_Study\\\\Tensorflow\\\\dataset\\\\cifar\\\\train\\\\10361_ship.png',\n",
       " 'C:\\\\Users\\\\LG\\\\Deep_Learning_Study\\\\Tensorflow\\\\dataset\\\\cifar\\\\train\\\\10362_automobile.png',\n",
       " 'C:\\\\Users\\\\LG\\\\Deep_Learning_Study\\\\Tensorflow\\\\dataset\\\\cifar\\\\train\\\\10363_automobile.png',\n",
       " 'C:\\\\Users\\\\LG\\\\Deep_Learning_Study\\\\Tensorflow\\\\dataset\\\\cifar\\\\train\\\\10364_frog.png',\n",
       " 'C:\\\\Users\\\\LG\\\\Deep_Learning_Study\\\\Tensorflow\\\\dataset\\\\cifar\\\\train\\\\10365_airplane.png',\n",
       " 'C:\\\\Users\\\\LG\\\\Deep_Learning_Study\\\\Tensorflow\\\\dataset\\\\cifar\\\\train\\\\10366_dog.png',\n",
       " 'C:\\\\Users\\\\LG\\\\Deep_Learning_Study\\\\Tensorflow\\\\dataset\\\\cifar\\\\train\\\\10367_deer.png',\n",
       " 'C:\\\\Users\\\\LG\\\\Deep_Learning_Study\\\\Tensorflow\\\\dataset\\\\cifar\\\\train\\\\10368_horse.png',\n",
       " 'C:\\\\Users\\\\LG\\\\Deep_Learning_Study\\\\Tensorflow\\\\dataset\\\\cifar\\\\train\\\\10369_ship.png',\n",
       " 'C:\\\\Users\\\\LG\\\\Deep_Learning_Study\\\\Tensorflow\\\\dataset\\\\cifar\\\\train\\\\1036_ship.png',\n",
       " 'C:\\\\Users\\\\LG\\\\Deep_Learning_Study\\\\Tensorflow\\\\dataset\\\\cifar\\\\train\\\\10370_automobile.png',\n",
       " 'C:\\\\Users\\\\LG\\\\Deep_Learning_Study\\\\Tensorflow\\\\dataset\\\\cifar\\\\train\\\\10371_horse.png',\n",
       " 'C:\\\\Users\\\\LG\\\\Deep_Learning_Study\\\\Tensorflow\\\\dataset\\\\cifar\\\\train\\\\10372_deer.png',\n",
       " 'C:\\\\Users\\\\LG\\\\Deep_Learning_Study\\\\Tensorflow\\\\dataset\\\\cifar\\\\train\\\\10373_truck.png',\n",
       " 'C:\\\\Users\\\\LG\\\\Deep_Learning_Study\\\\Tensorflow\\\\dataset\\\\cifar\\\\train\\\\10374_frog.png',\n",
       " 'C:\\\\Users\\\\LG\\\\Deep_Learning_Study\\\\Tensorflow\\\\dataset\\\\cifar\\\\train\\\\10375_truck.png',\n",
       " 'C:\\\\Users\\\\LG\\\\Deep_Learning_Study\\\\Tensorflow\\\\dataset\\\\cifar\\\\train\\\\10376_ship.png',\n",
       " 'C:\\\\Users\\\\LG\\\\Deep_Learning_Study\\\\Tensorflow\\\\dataset\\\\cifar\\\\train\\\\10377_automobile.png',\n",
       " 'C:\\\\Users\\\\LG\\\\Deep_Learning_Study\\\\Tensorflow\\\\dataset\\\\cifar\\\\train\\\\10378_bird.png',\n",
       " 'C:\\\\Users\\\\LG\\\\Deep_Learning_Study\\\\Tensorflow\\\\dataset\\\\cifar\\\\train\\\\10379_frog.png',\n",
       " 'C:\\\\Users\\\\LG\\\\Deep_Learning_Study\\\\Tensorflow\\\\dataset\\\\cifar\\\\train\\\\1037_automobile.png',\n",
       " 'C:\\\\Users\\\\LG\\\\Deep_Learning_Study\\\\Tensorflow\\\\dataset\\\\cifar\\\\train\\\\10380_automobile.png',\n",
       " 'C:\\\\Users\\\\LG\\\\Deep_Learning_Study\\\\Tensorflow\\\\dataset\\\\cifar\\\\train\\\\10381_ship.png',\n",
       " 'C:\\\\Users\\\\LG\\\\Deep_Learning_Study\\\\Tensorflow\\\\dataset\\\\cifar\\\\train\\\\10382_dog.png',\n",
       " 'C:\\\\Users\\\\LG\\\\Deep_Learning_Study\\\\Tensorflow\\\\dataset\\\\cifar\\\\train\\\\10383_cat.png',\n",
       " 'C:\\\\Users\\\\LG\\\\Deep_Learning_Study\\\\Tensorflow\\\\dataset\\\\cifar\\\\train\\\\10384_horse.png',\n",
       " 'C:\\\\Users\\\\LG\\\\Deep_Learning_Study\\\\Tensorflow\\\\dataset\\\\cifar\\\\train\\\\10385_deer.png',\n",
       " 'C:\\\\Users\\\\LG\\\\Deep_Learning_Study\\\\Tensorflow\\\\dataset\\\\cifar\\\\train\\\\10386_horse.png',\n",
       " 'C:\\\\Users\\\\LG\\\\Deep_Learning_Study\\\\Tensorflow\\\\dataset\\\\cifar\\\\train\\\\10387_automobile.png',\n",
       " 'C:\\\\Users\\\\LG\\\\Deep_Learning_Study\\\\Tensorflow\\\\dataset\\\\cifar\\\\train\\\\10388_truck.png',\n",
       " 'C:\\\\Users\\\\LG\\\\Deep_Learning_Study\\\\Tensorflow\\\\dataset\\\\cifar\\\\train\\\\10389_bird.png',\n",
       " 'C:\\\\Users\\\\LG\\\\Deep_Learning_Study\\\\Tensorflow\\\\dataset\\\\cifar\\\\train\\\\1038_frog.png',\n",
       " 'C:\\\\Users\\\\LG\\\\Deep_Learning_Study\\\\Tensorflow\\\\dataset\\\\cifar\\\\train\\\\10390_truck.png',\n",
       " 'C:\\\\Users\\\\LG\\\\Deep_Learning_Study\\\\Tensorflow\\\\dataset\\\\cifar\\\\train\\\\10391_bird.png',\n",
       " 'C:\\\\Users\\\\LG\\\\Deep_Learning_Study\\\\Tensorflow\\\\dataset\\\\cifar\\\\train\\\\10392_deer.png',\n",
       " 'C:\\\\Users\\\\LG\\\\Deep_Learning_Study\\\\Tensorflow\\\\dataset\\\\cifar\\\\train\\\\10393_automobile.png',\n",
       " 'C:\\\\Users\\\\LG\\\\Deep_Learning_Study\\\\Tensorflow\\\\dataset\\\\cifar\\\\train\\\\10394_airplane.png',\n",
       " 'C:\\\\Users\\\\LG\\\\Deep_Learning_Study\\\\Tensorflow\\\\dataset\\\\cifar\\\\train\\\\10395_ship.png',\n",
       " 'C:\\\\Users\\\\LG\\\\Deep_Learning_Study\\\\Tensorflow\\\\dataset\\\\cifar\\\\train\\\\10396_bird.png',\n",
       " 'C:\\\\Users\\\\LG\\\\Deep_Learning_Study\\\\Tensorflow\\\\dataset\\\\cifar\\\\train\\\\10397_dog.png',\n",
       " 'C:\\\\Users\\\\LG\\\\Deep_Learning_Study\\\\Tensorflow\\\\dataset\\\\cifar\\\\train\\\\10398_bird.png',\n",
       " 'C:\\\\Users\\\\LG\\\\Deep_Learning_Study\\\\Tensorflow\\\\dataset\\\\cifar\\\\train\\\\10399_airplane.png',\n",
       " 'C:\\\\Users\\\\LG\\\\Deep_Learning_Study\\\\Tensorflow\\\\dataset\\\\cifar\\\\train\\\\1039_airplane.png',\n",
       " 'C:\\\\Users\\\\LG\\\\Deep_Learning_Study\\\\Tensorflow\\\\dataset\\\\cifar\\\\train\\\\103_frog.png',\n",
       " 'C:\\\\Users\\\\LG\\\\Deep_Learning_Study\\\\Tensorflow\\\\dataset\\\\cifar\\\\train\\\\10400_frog.png',\n",
       " 'C:\\\\Users\\\\LG\\\\Deep_Learning_Study\\\\Tensorflow\\\\dataset\\\\cifar\\\\train\\\\10401_airplane.png',\n",
       " 'C:\\\\Users\\\\LG\\\\Deep_Learning_Study\\\\Tensorflow\\\\dataset\\\\cifar\\\\train\\\\10402_ship.png',\n",
       " 'C:\\\\Users\\\\LG\\\\Deep_Learning_Study\\\\Tensorflow\\\\dataset\\\\cifar\\\\train\\\\10403_automobile.png',\n",
       " 'C:\\\\Users\\\\LG\\\\Deep_Learning_Study\\\\Tensorflow\\\\dataset\\\\cifar\\\\train\\\\10404_deer.png',\n",
       " 'C:\\\\Users\\\\LG\\\\Deep_Learning_Study\\\\Tensorflow\\\\dataset\\\\cifar\\\\train\\\\10405_truck.png',\n",
       " 'C:\\\\Users\\\\LG\\\\Deep_Learning_Study\\\\Tensorflow\\\\dataset\\\\cifar\\\\train\\\\10406_bird.png',\n",
       " 'C:\\\\Users\\\\LG\\\\Deep_Learning_Study\\\\Tensorflow\\\\dataset\\\\cifar\\\\train\\\\10407_dog.png',\n",
       " 'C:\\\\Users\\\\LG\\\\Deep_Learning_Study\\\\Tensorflow\\\\dataset\\\\cifar\\\\train\\\\10408_ship.png',\n",
       " 'C:\\\\Users\\\\LG\\\\Deep_Learning_Study\\\\Tensorflow\\\\dataset\\\\cifar\\\\train\\\\10409_bird.png',\n",
       " 'C:\\\\Users\\\\LG\\\\Deep_Learning_Study\\\\Tensorflow\\\\dataset\\\\cifar\\\\train\\\\1040_bird.png',\n",
       " 'C:\\\\Users\\\\LG\\\\Deep_Learning_Study\\\\Tensorflow\\\\dataset\\\\cifar\\\\train\\\\10410_dog.png',\n",
       " 'C:\\\\Users\\\\LG\\\\Deep_Learning_Study\\\\Tensorflow\\\\dataset\\\\cifar\\\\train\\\\10411_ship.png',\n",
       " 'C:\\\\Users\\\\LG\\\\Deep_Learning_Study\\\\Tensorflow\\\\dataset\\\\cifar\\\\train\\\\10412_bird.png',\n",
       " 'C:\\\\Users\\\\LG\\\\Deep_Learning_Study\\\\Tensorflow\\\\dataset\\\\cifar\\\\train\\\\10413_dog.png',\n",
       " 'C:\\\\Users\\\\LG\\\\Deep_Learning_Study\\\\Tensorflow\\\\dataset\\\\cifar\\\\train\\\\10414_cat.png',\n",
       " 'C:\\\\Users\\\\LG\\\\Deep_Learning_Study\\\\Tensorflow\\\\dataset\\\\cifar\\\\train\\\\10415_deer.png',\n",
       " 'C:\\\\Users\\\\LG\\\\Deep_Learning_Study\\\\Tensorflow\\\\dataset\\\\cifar\\\\train\\\\10416_ship.png',\n",
       " 'C:\\\\Users\\\\LG\\\\Deep_Learning_Study\\\\Tensorflow\\\\dataset\\\\cifar\\\\train\\\\10417_bird.png',\n",
       " 'C:\\\\Users\\\\LG\\\\Deep_Learning_Study\\\\Tensorflow\\\\dataset\\\\cifar\\\\train\\\\10418_cat.png',\n",
       " 'C:\\\\Users\\\\LG\\\\Deep_Learning_Study\\\\Tensorflow\\\\dataset\\\\cifar\\\\train\\\\10419_deer.png',\n",
       " 'C:\\\\Users\\\\LG\\\\Deep_Learning_Study\\\\Tensorflow\\\\dataset\\\\cifar\\\\train\\\\1041_cat.png',\n",
       " 'C:\\\\Users\\\\LG\\\\Deep_Learning_Study\\\\Tensorflow\\\\dataset\\\\cifar\\\\train\\\\10420_automobile.png',\n",
       " 'C:\\\\Users\\\\LG\\\\Deep_Learning_Study\\\\Tensorflow\\\\dataset\\\\cifar\\\\train\\\\10421_truck.png',\n",
       " 'C:\\\\Users\\\\LG\\\\Deep_Learning_Study\\\\Tensorflow\\\\dataset\\\\cifar\\\\train\\\\10422_horse.png',\n",
       " 'C:\\\\Users\\\\LG\\\\Deep_Learning_Study\\\\Tensorflow\\\\dataset\\\\cifar\\\\train\\\\10423_dog.png',\n",
       " 'C:\\\\Users\\\\LG\\\\Deep_Learning_Study\\\\Tensorflow\\\\dataset\\\\cifar\\\\train\\\\10424_dog.png',\n",
       " 'C:\\\\Users\\\\LG\\\\Deep_Learning_Study\\\\Tensorflow\\\\dataset\\\\cifar\\\\train\\\\10425_airplane.png',\n",
       " 'C:\\\\Users\\\\LG\\\\Deep_Learning_Study\\\\Tensorflow\\\\dataset\\\\cifar\\\\train\\\\10426_deer.png',\n",
       " 'C:\\\\Users\\\\LG\\\\Deep_Learning_Study\\\\Tensorflow\\\\dataset\\\\cifar\\\\train\\\\10427_cat.png',\n",
       " 'C:\\\\Users\\\\LG\\\\Deep_Learning_Study\\\\Tensorflow\\\\dataset\\\\cifar\\\\train\\\\10428_bird.png',\n",
       " 'C:\\\\Users\\\\LG\\\\Deep_Learning_Study\\\\Tensorflow\\\\dataset\\\\cifar\\\\train\\\\10429_dog.png',\n",
       " 'C:\\\\Users\\\\LG\\\\Deep_Learning_Study\\\\Tensorflow\\\\dataset\\\\cifar\\\\train\\\\1042_horse.png',\n",
       " 'C:\\\\Users\\\\LG\\\\Deep_Learning_Study\\\\Tensorflow\\\\dataset\\\\cifar\\\\train\\\\10430_cat.png',\n",
       " 'C:\\\\Users\\\\LG\\\\Deep_Learning_Study\\\\Tensorflow\\\\dataset\\\\cifar\\\\train\\\\10431_frog.png',\n",
       " 'C:\\\\Users\\\\LG\\\\Deep_Learning_Study\\\\Tensorflow\\\\dataset\\\\cifar\\\\train\\\\10432_dog.png',\n",
       " 'C:\\\\Users\\\\LG\\\\Deep_Learning_Study\\\\Tensorflow\\\\dataset\\\\cifar\\\\train\\\\10433_bird.png',\n",
       " 'C:\\\\Users\\\\LG\\\\Deep_Learning_Study\\\\Tensorflow\\\\dataset\\\\cifar\\\\train\\\\10434_ship.png',\n",
       " 'C:\\\\Users\\\\LG\\\\Deep_Learning_Study\\\\Tensorflow\\\\dataset\\\\cifar\\\\train\\\\10435_horse.png',\n",
       " 'C:\\\\Users\\\\LG\\\\Deep_Learning_Study\\\\Tensorflow\\\\dataset\\\\cifar\\\\train\\\\10436_bird.png',\n",
       " 'C:\\\\Users\\\\LG\\\\Deep_Learning_Study\\\\Tensorflow\\\\dataset\\\\cifar\\\\train\\\\10437_ship.png',\n",
       " 'C:\\\\Users\\\\LG\\\\Deep_Learning_Study\\\\Tensorflow\\\\dataset\\\\cifar\\\\train\\\\10438_bird.png',\n",
       " 'C:\\\\Users\\\\LG\\\\Deep_Learning_Study\\\\Tensorflow\\\\dataset\\\\cifar\\\\train\\\\10439_cat.png',\n",
       " 'C:\\\\Users\\\\LG\\\\Deep_Learning_Study\\\\Tensorflow\\\\dataset\\\\cifar\\\\train\\\\1043_truck.png',\n",
       " 'C:\\\\Users\\\\LG\\\\Deep_Learning_Study\\\\Tensorflow\\\\dataset\\\\cifar\\\\train\\\\10440_bird.png',\n",
       " 'C:\\\\Users\\\\LG\\\\Deep_Learning_Study\\\\Tensorflow\\\\dataset\\\\cifar\\\\train\\\\10441_cat.png',\n",
       " 'C:\\\\Users\\\\LG\\\\Deep_Learning_Study\\\\Tensorflow\\\\dataset\\\\cifar\\\\train\\\\10442_ship.png',\n",
       " 'C:\\\\Users\\\\LG\\\\Deep_Learning_Study\\\\Tensorflow\\\\dataset\\\\cifar\\\\train\\\\10443_ship.png',\n",
       " 'C:\\\\Users\\\\LG\\\\Deep_Learning_Study\\\\Tensorflow\\\\dataset\\\\cifar\\\\train\\\\10444_frog.png',\n",
       " 'C:\\\\Users\\\\LG\\\\Deep_Learning_Study\\\\Tensorflow\\\\dataset\\\\cifar\\\\train\\\\10445_ship.png',\n",
       " 'C:\\\\Users\\\\LG\\\\Deep_Learning_Study\\\\Tensorflow\\\\dataset\\\\cifar\\\\train\\\\10446_automobile.png',\n",
       " 'C:\\\\Users\\\\LG\\\\Deep_Learning_Study\\\\Tensorflow\\\\dataset\\\\cifar\\\\train\\\\10447_deer.png',\n",
       " 'C:\\\\Users\\\\LG\\\\Deep_Learning_Study\\\\Tensorflow\\\\dataset\\\\cifar\\\\train\\\\10448_truck.png',\n",
       " 'C:\\\\Users\\\\LG\\\\Deep_Learning_Study\\\\Tensorflow\\\\dataset\\\\cifar\\\\train\\\\10449_horse.png',\n",
       " 'C:\\\\Users\\\\LG\\\\Deep_Learning_Study\\\\Tensorflow\\\\dataset\\\\cifar\\\\train\\\\1044_airplane.png',\n",
       " 'C:\\\\Users\\\\LG\\\\Deep_Learning_Study\\\\Tensorflow\\\\dataset\\\\cifar\\\\train\\\\10450_automobile.png',\n",
       " 'C:\\\\Users\\\\LG\\\\Deep_Learning_Study\\\\Tensorflow\\\\dataset\\\\cifar\\\\train\\\\10451_deer.png',\n",
       " 'C:\\\\Users\\\\LG\\\\Deep_Learning_Study\\\\Tensorflow\\\\dataset\\\\cifar\\\\train\\\\10452_cat.png',\n",
       " 'C:\\\\Users\\\\LG\\\\Deep_Learning_Study\\\\Tensorflow\\\\dataset\\\\cifar\\\\train\\\\10453_automobile.png',\n",
       " 'C:\\\\Users\\\\LG\\\\Deep_Learning_Study\\\\Tensorflow\\\\dataset\\\\cifar\\\\train\\\\10454_cat.png',\n",
       " 'C:\\\\Users\\\\LG\\\\Deep_Learning_Study\\\\Tensorflow\\\\dataset\\\\cifar\\\\train\\\\10455_airplane.png',\n",
       " 'C:\\\\Users\\\\LG\\\\Deep_Learning_Study\\\\Tensorflow\\\\dataset\\\\cifar\\\\train\\\\10456_ship.png',\n",
       " 'C:\\\\Users\\\\LG\\\\Deep_Learning_Study\\\\Tensorflow\\\\dataset\\\\cifar\\\\train\\\\10457_bird.png',\n",
       " 'C:\\\\Users\\\\LG\\\\Deep_Learning_Study\\\\Tensorflow\\\\dataset\\\\cifar\\\\train\\\\10458_automobile.png',\n",
       " 'C:\\\\Users\\\\LG\\\\Deep_Learning_Study\\\\Tensorflow\\\\dataset\\\\cifar\\\\train\\\\10459_horse.png',\n",
       " 'C:\\\\Users\\\\LG\\\\Deep_Learning_Study\\\\Tensorflow\\\\dataset\\\\cifar\\\\train\\\\1045_truck.png',\n",
       " 'C:\\\\Users\\\\LG\\\\Deep_Learning_Study\\\\Tensorflow\\\\dataset\\\\cifar\\\\train\\\\10460_frog.png',\n",
       " 'C:\\\\Users\\\\LG\\\\Deep_Learning_Study\\\\Tensorflow\\\\dataset\\\\cifar\\\\train\\\\10461_bird.png',\n",
       " 'C:\\\\Users\\\\LG\\\\Deep_Learning_Study\\\\Tensorflow\\\\dataset\\\\cifar\\\\train\\\\10462_cat.png',\n",
       " 'C:\\\\Users\\\\LG\\\\Deep_Learning_Study\\\\Tensorflow\\\\dataset\\\\cifar\\\\train\\\\10463_cat.png',\n",
       " 'C:\\\\Users\\\\LG\\\\Deep_Learning_Study\\\\Tensorflow\\\\dataset\\\\cifar\\\\train\\\\10464_cat.png',\n",
       " 'C:\\\\Users\\\\LG\\\\Deep_Learning_Study\\\\Tensorflow\\\\dataset\\\\cifar\\\\train\\\\10465_horse.png',\n",
       " 'C:\\\\Users\\\\LG\\\\Deep_Learning_Study\\\\Tensorflow\\\\dataset\\\\cifar\\\\train\\\\10466_horse.png',\n",
       " 'C:\\\\Users\\\\LG\\\\Deep_Learning_Study\\\\Tensorflow\\\\dataset\\\\cifar\\\\train\\\\10467_truck.png',\n",
       " 'C:\\\\Users\\\\LG\\\\Deep_Learning_Study\\\\Tensorflow\\\\dataset\\\\cifar\\\\train\\\\10468_cat.png',\n",
       " 'C:\\\\Users\\\\LG\\\\Deep_Learning_Study\\\\Tensorflow\\\\dataset\\\\cifar\\\\train\\\\10469_bird.png',\n",
       " 'C:\\\\Users\\\\LG\\\\Deep_Learning_Study\\\\Tensorflow\\\\dataset\\\\cifar\\\\train\\\\1046_horse.png',\n",
       " 'C:\\\\Users\\\\LG\\\\Deep_Learning_Study\\\\Tensorflow\\\\dataset\\\\cifar\\\\train\\\\10470_airplane.png',\n",
       " 'C:\\\\Users\\\\LG\\\\Deep_Learning_Study\\\\Tensorflow\\\\dataset\\\\cifar\\\\train\\\\10471_dog.png',\n",
       " 'C:\\\\Users\\\\LG\\\\Deep_Learning_Study\\\\Tensorflow\\\\dataset\\\\cifar\\\\train\\\\10472_deer.png',\n",
       " 'C:\\\\Users\\\\LG\\\\Deep_Learning_Study\\\\Tensorflow\\\\dataset\\\\cifar\\\\train\\\\10473_truck.png',\n",
       " 'C:\\\\Users\\\\LG\\\\Deep_Learning_Study\\\\Tensorflow\\\\dataset\\\\cifar\\\\train\\\\10474_bird.png',\n",
       " 'C:\\\\Users\\\\LG\\\\Deep_Learning_Study\\\\Tensorflow\\\\dataset\\\\cifar\\\\train\\\\10475_ship.png',\n",
       " 'C:\\\\Users\\\\LG\\\\Deep_Learning_Study\\\\Tensorflow\\\\dataset\\\\cifar\\\\train\\\\10476_automobile.png',\n",
       " 'C:\\\\Users\\\\LG\\\\Deep_Learning_Study\\\\Tensorflow\\\\dataset\\\\cifar\\\\train\\\\10477_deer.png',\n",
       " 'C:\\\\Users\\\\LG\\\\Deep_Learning_Study\\\\Tensorflow\\\\dataset\\\\cifar\\\\train\\\\10478_deer.png',\n",
       " 'C:\\\\Users\\\\LG\\\\Deep_Learning_Study\\\\Tensorflow\\\\dataset\\\\cifar\\\\train\\\\10479_automobile.png',\n",
       " 'C:\\\\Users\\\\LG\\\\Deep_Learning_Study\\\\Tensorflow\\\\dataset\\\\cifar\\\\train\\\\1047_frog.png',\n",
       " 'C:\\\\Users\\\\LG\\\\Deep_Learning_Study\\\\Tensorflow\\\\dataset\\\\cifar\\\\train\\\\10480_bird.png',\n",
       " 'C:\\\\Users\\\\LG\\\\Deep_Learning_Study\\\\Tensorflow\\\\dataset\\\\cifar\\\\train\\\\10481_horse.png',\n",
       " 'C:\\\\Users\\\\LG\\\\Deep_Learning_Study\\\\Tensorflow\\\\dataset\\\\cifar\\\\train\\\\10482_dog.png',\n",
       " 'C:\\\\Users\\\\LG\\\\Deep_Learning_Study\\\\Tensorflow\\\\dataset\\\\cifar\\\\train\\\\10483_ship.png',\n",
       " 'C:\\\\Users\\\\LG\\\\Deep_Learning_Study\\\\Tensorflow\\\\dataset\\\\cifar\\\\train\\\\10484_dog.png',\n",
       " 'C:\\\\Users\\\\LG\\\\Deep_Learning_Study\\\\Tensorflow\\\\dataset\\\\cifar\\\\train\\\\10485_deer.png',\n",
       " 'C:\\\\Users\\\\LG\\\\Deep_Learning_Study\\\\Tensorflow\\\\dataset\\\\cifar\\\\train\\\\10486_airplane.png',\n",
       " 'C:\\\\Users\\\\LG\\\\Deep_Learning_Study\\\\Tensorflow\\\\dataset\\\\cifar\\\\train\\\\10487_airplane.png',\n",
       " 'C:\\\\Users\\\\LG\\\\Deep_Learning_Study\\\\Tensorflow\\\\dataset\\\\cifar\\\\train\\\\10488_cat.png',\n",
       " 'C:\\\\Users\\\\LG\\\\Deep_Learning_Study\\\\Tensorflow\\\\dataset\\\\cifar\\\\train\\\\10489_deer.png',\n",
       " 'C:\\\\Users\\\\LG\\\\Deep_Learning_Study\\\\Tensorflow\\\\dataset\\\\cifar\\\\train\\\\1048_cat.png',\n",
       " 'C:\\\\Users\\\\LG\\\\Deep_Learning_Study\\\\Tensorflow\\\\dataset\\\\cifar\\\\train\\\\10490_horse.png',\n",
       " 'C:\\\\Users\\\\LG\\\\Deep_Learning_Study\\\\Tensorflow\\\\dataset\\\\cifar\\\\train\\\\10491_automobile.png',\n",
       " 'C:\\\\Users\\\\LG\\\\Deep_Learning_Study\\\\Tensorflow\\\\dataset\\\\cifar\\\\train\\\\10492_cat.png',\n",
       " 'C:\\\\Users\\\\LG\\\\Deep_Learning_Study\\\\Tensorflow\\\\dataset\\\\cifar\\\\train\\\\10493_airplane.png',\n",
       " 'C:\\\\Users\\\\LG\\\\Deep_Learning_Study\\\\Tensorflow\\\\dataset\\\\cifar\\\\train\\\\10494_truck.png',\n",
       " 'C:\\\\Users\\\\LG\\\\Deep_Learning_Study\\\\Tensorflow\\\\dataset\\\\cifar\\\\train\\\\10495_automobile.png',\n",
       " 'C:\\\\Users\\\\LG\\\\Deep_Learning_Study\\\\Tensorflow\\\\dataset\\\\cifar\\\\train\\\\10496_horse.png',\n",
       " 'C:\\\\Users\\\\LG\\\\Deep_Learning_Study\\\\Tensorflow\\\\dataset\\\\cifar\\\\train\\\\10497_truck.png',\n",
       " 'C:\\\\Users\\\\LG\\\\Deep_Learning_Study\\\\Tensorflow\\\\dataset\\\\cifar\\\\train\\\\10498_bird.png',\n",
       " 'C:\\\\Users\\\\LG\\\\Deep_Learning_Study\\\\Tensorflow\\\\dataset\\\\cifar\\\\train\\\\10499_airplane.png',\n",
       " 'C:\\\\Users\\\\LG\\\\Deep_Learning_Study\\\\Tensorflow\\\\dataset\\\\cifar\\\\train\\\\1049_truck.png',\n",
       " 'C:\\\\Users\\\\LG\\\\Deep_Learning_Study\\\\Tensorflow\\\\dataset\\\\cifar\\\\train\\\\104_frog.png',\n",
       " 'C:\\\\Users\\\\LG\\\\Deep_Learning_Study\\\\Tensorflow\\\\dataset\\\\cifar\\\\train\\\\10500_deer.png',\n",
       " 'C:\\\\Users\\\\LG\\\\Deep_Learning_Study\\\\Tensorflow\\\\dataset\\\\cifar\\\\train\\\\10501_cat.png',\n",
       " 'C:\\\\Users\\\\LG\\\\Deep_Learning_Study\\\\Tensorflow\\\\dataset\\\\cifar\\\\train\\\\10502_horse.png',\n",
       " 'C:\\\\Users\\\\LG\\\\Deep_Learning_Study\\\\Tensorflow\\\\dataset\\\\cifar\\\\train\\\\10503_dog.png',\n",
       " 'C:\\\\Users\\\\LG\\\\Deep_Learning_Study\\\\Tensorflow\\\\dataset\\\\cifar\\\\train\\\\10504_truck.png',\n",
       " 'C:\\\\Users\\\\LG\\\\Deep_Learning_Study\\\\Tensorflow\\\\dataset\\\\cifar\\\\train\\\\10505_bird.png',\n",
       " 'C:\\\\Users\\\\LG\\\\Deep_Learning_Study\\\\Tensorflow\\\\dataset\\\\cifar\\\\train\\\\10506_cat.png',\n",
       " 'C:\\\\Users\\\\LG\\\\Deep_Learning_Study\\\\Tensorflow\\\\dataset\\\\cifar\\\\train\\\\10507_horse.png',\n",
       " 'C:\\\\Users\\\\LG\\\\Deep_Learning_Study\\\\Tensorflow\\\\dataset\\\\cifar\\\\train\\\\10508_cat.png',\n",
       " 'C:\\\\Users\\\\LG\\\\Deep_Learning_Study\\\\Tensorflow\\\\dataset\\\\cifar\\\\train\\\\10509_dog.png',\n",
       " 'C:\\\\Users\\\\LG\\\\Deep_Learning_Study\\\\Tensorflow\\\\dataset\\\\cifar\\\\train\\\\1050_bird.png',\n",
       " 'C:\\\\Users\\\\LG\\\\Deep_Learning_Study\\\\Tensorflow\\\\dataset\\\\cifar\\\\train\\\\10510_frog.png',\n",
       " 'C:\\\\Users\\\\LG\\\\Deep_Learning_Study\\\\Tensorflow\\\\dataset\\\\cifar\\\\train\\\\10511_ship.png',\n",
       " 'C:\\\\Users\\\\LG\\\\Deep_Learning_Study\\\\Tensorflow\\\\dataset\\\\cifar\\\\train\\\\10512_bird.png',\n",
       " 'C:\\\\Users\\\\LG\\\\Deep_Learning_Study\\\\Tensorflow\\\\dataset\\\\cifar\\\\train\\\\10513_airplane.png',\n",
       " 'C:\\\\Users\\\\LG\\\\Deep_Learning_Study\\\\Tensorflow\\\\dataset\\\\cifar\\\\train\\\\10514_dog.png',\n",
       " 'C:\\\\Users\\\\LG\\\\Deep_Learning_Study\\\\Tensorflow\\\\dataset\\\\cifar\\\\train\\\\10515_dog.png',\n",
       " 'C:\\\\Users\\\\LG\\\\Deep_Learning_Study\\\\Tensorflow\\\\dataset\\\\cifar\\\\train\\\\10516_airplane.png',\n",
       " 'C:\\\\Users\\\\LG\\\\Deep_Learning_Study\\\\Tensorflow\\\\dataset\\\\cifar\\\\train\\\\10517_frog.png',\n",
       " 'C:\\\\Users\\\\LG\\\\Deep_Learning_Study\\\\Tensorflow\\\\dataset\\\\cifar\\\\train\\\\10518_cat.png',\n",
       " 'C:\\\\Users\\\\LG\\\\Deep_Learning_Study\\\\Tensorflow\\\\dataset\\\\cifar\\\\train\\\\10519_deer.png',\n",
       " 'C:\\\\Users\\\\LG\\\\Deep_Learning_Study\\\\Tensorflow\\\\dataset\\\\cifar\\\\train\\\\1051_frog.png',\n",
       " 'C:\\\\Users\\\\LG\\\\Deep_Learning_Study\\\\Tensorflow\\\\dataset\\\\cifar\\\\train\\\\10520_truck.png',\n",
       " 'C:\\\\Users\\\\LG\\\\Deep_Learning_Study\\\\Tensorflow\\\\dataset\\\\cifar\\\\train\\\\10521_dog.png',\n",
       " 'C:\\\\Users\\\\LG\\\\Deep_Learning_Study\\\\Tensorflow\\\\dataset\\\\cifar\\\\train\\\\10522_automobile.png',\n",
       " 'C:\\\\Users\\\\LG\\\\Deep_Learning_Study\\\\Tensorflow\\\\dataset\\\\cifar\\\\train\\\\10523_truck.png',\n",
       " 'C:\\\\Users\\\\LG\\\\Deep_Learning_Study\\\\Tensorflow\\\\dataset\\\\cifar\\\\train\\\\10524_ship.png',\n",
       " 'C:\\\\Users\\\\LG\\\\Deep_Learning_Study\\\\Tensorflow\\\\dataset\\\\cifar\\\\train\\\\10525_deer.png',\n",
       " 'C:\\\\Users\\\\LG\\\\Deep_Learning_Study\\\\Tensorflow\\\\dataset\\\\cifar\\\\train\\\\10526_airplane.png',\n",
       " 'C:\\\\Users\\\\LG\\\\Deep_Learning_Study\\\\Tensorflow\\\\dataset\\\\cifar\\\\train\\\\10527_cat.png',\n",
       " 'C:\\\\Users\\\\LG\\\\Deep_Learning_Study\\\\Tensorflow\\\\dataset\\\\cifar\\\\train\\\\10528_horse.png',\n",
       " 'C:\\\\Users\\\\LG\\\\Deep_Learning_Study\\\\Tensorflow\\\\dataset\\\\cifar\\\\train\\\\10529_horse.png',\n",
       " 'C:\\\\Users\\\\LG\\\\Deep_Learning_Study\\\\Tensorflow\\\\dataset\\\\cifar\\\\train\\\\1052_automobile.png',\n",
       " 'C:\\\\Users\\\\LG\\\\Deep_Learning_Study\\\\Tensorflow\\\\dataset\\\\cifar\\\\train\\\\10530_ship.png',\n",
       " 'C:\\\\Users\\\\LG\\\\Deep_Learning_Study\\\\Tensorflow\\\\dataset\\\\cifar\\\\train\\\\10531_automobile.png',\n",
       " 'C:\\\\Users\\\\LG\\\\Deep_Learning_Study\\\\Tensorflow\\\\dataset\\\\cifar\\\\train\\\\10532_frog.png',\n",
       " 'C:\\\\Users\\\\LG\\\\Deep_Learning_Study\\\\Tensorflow\\\\dataset\\\\cifar\\\\train\\\\10533_truck.png',\n",
       " 'C:\\\\Users\\\\LG\\\\Deep_Learning_Study\\\\Tensorflow\\\\dataset\\\\cifar\\\\train\\\\10534_cat.png',\n",
       " 'C:\\\\Users\\\\LG\\\\Deep_Learning_Study\\\\Tensorflow\\\\dataset\\\\cifar\\\\train\\\\10535_automobile.png',\n",
       " 'C:\\\\Users\\\\LG\\\\Deep_Learning_Study\\\\Tensorflow\\\\dataset\\\\cifar\\\\train\\\\10536_deer.png',\n",
       " 'C:\\\\Users\\\\LG\\\\Deep_Learning_Study\\\\Tensorflow\\\\dataset\\\\cifar\\\\train\\\\10537_ship.png',\n",
       " 'C:\\\\Users\\\\LG\\\\Deep_Learning_Study\\\\Tensorflow\\\\dataset\\\\cifar\\\\train\\\\10538_horse.png',\n",
       " 'C:\\\\Users\\\\LG\\\\Deep_Learning_Study\\\\Tensorflow\\\\dataset\\\\cifar\\\\train\\\\10539_deer.png',\n",
       " 'C:\\\\Users\\\\LG\\\\Deep_Learning_Study\\\\Tensorflow\\\\dataset\\\\cifar\\\\train\\\\1053_frog.png',\n",
       " 'C:\\\\Users\\\\LG\\\\Deep_Learning_Study\\\\Tensorflow\\\\dataset\\\\cifar\\\\train\\\\10540_horse.png',\n",
       " 'C:\\\\Users\\\\LG\\\\Deep_Learning_Study\\\\Tensorflow\\\\dataset\\\\cifar\\\\train\\\\10541_dog.png',\n",
       " 'C:\\\\Users\\\\LG\\\\Deep_Learning_Study\\\\Tensorflow\\\\dataset\\\\cifar\\\\train\\\\10542_dog.png',\n",
       " 'C:\\\\Users\\\\LG\\\\Deep_Learning_Study\\\\Tensorflow\\\\dataset\\\\cifar\\\\train\\\\10543_ship.png',\n",
       " 'C:\\\\Users\\\\LG\\\\Deep_Learning_Study\\\\Tensorflow\\\\dataset\\\\cifar\\\\train\\\\10544_automobile.png',\n",
       " 'C:\\\\Users\\\\LG\\\\Deep_Learning_Study\\\\Tensorflow\\\\dataset\\\\cifar\\\\train\\\\10545_airplane.png',\n",
       " 'C:\\\\Users\\\\LG\\\\Deep_Learning_Study\\\\Tensorflow\\\\dataset\\\\cifar\\\\train\\\\10546_horse.png',\n",
       " 'C:\\\\Users\\\\LG\\\\Deep_Learning_Study\\\\Tensorflow\\\\dataset\\\\cifar\\\\train\\\\10547_horse.png',\n",
       " 'C:\\\\Users\\\\LG\\\\Deep_Learning_Study\\\\Tensorflow\\\\dataset\\\\cifar\\\\train\\\\10548_airplane.png',\n",
       " 'C:\\\\Users\\\\LG\\\\Deep_Learning_Study\\\\Tensorflow\\\\dataset\\\\cifar\\\\train\\\\10549_dog.png',\n",
       " 'C:\\\\Users\\\\LG\\\\Deep_Learning_Study\\\\Tensorflow\\\\dataset\\\\cifar\\\\train\\\\1054_horse.png',\n",
       " 'C:\\\\Users\\\\LG\\\\Deep_Learning_Study\\\\Tensorflow\\\\dataset\\\\cifar\\\\train\\\\10550_frog.png',\n",
       " 'C:\\\\Users\\\\LG\\\\Deep_Learning_Study\\\\Tensorflow\\\\dataset\\\\cifar\\\\train\\\\10551_frog.png',\n",
       " 'C:\\\\Users\\\\LG\\\\Deep_Learning_Study\\\\Tensorflow\\\\dataset\\\\cifar\\\\train\\\\10552_horse.png',\n",
       " 'C:\\\\Users\\\\LG\\\\Deep_Learning_Study\\\\Tensorflow\\\\dataset\\\\cifar\\\\train\\\\10553_airplane.png',\n",
       " 'C:\\\\Users\\\\LG\\\\Deep_Learning_Study\\\\Tensorflow\\\\dataset\\\\cifar\\\\train\\\\10554_frog.png',\n",
       " 'C:\\\\Users\\\\LG\\\\Deep_Learning_Study\\\\Tensorflow\\\\dataset\\\\cifar\\\\train\\\\10555_dog.png',\n",
       " 'C:\\\\Users\\\\LG\\\\Deep_Learning_Study\\\\Tensorflow\\\\dataset\\\\cifar\\\\train\\\\10556_dog.png',\n",
       " 'C:\\\\Users\\\\LG\\\\Deep_Learning_Study\\\\Tensorflow\\\\dataset\\\\cifar\\\\train\\\\10557_cat.png',\n",
       " 'C:\\\\Users\\\\LG\\\\Deep_Learning_Study\\\\Tensorflow\\\\dataset\\\\cifar\\\\train\\\\10558_cat.png',\n",
       " 'C:\\\\Users\\\\LG\\\\Deep_Learning_Study\\\\Tensorflow\\\\dataset\\\\cifar\\\\train\\\\10559_truck.png',\n",
       " 'C:\\\\Users\\\\LG\\\\Deep_Learning_Study\\\\Tensorflow\\\\dataset\\\\cifar\\\\train\\\\1055_cat.png',\n",
       " 'C:\\\\Users\\\\LG\\\\Deep_Learning_Study\\\\Tensorflow\\\\dataset\\\\cifar\\\\train\\\\10560_horse.png',\n",
       " 'C:\\\\Users\\\\LG\\\\Deep_Learning_Study\\\\Tensorflow\\\\dataset\\\\cifar\\\\train\\\\10561_deer.png',\n",
       " 'C:\\\\Users\\\\LG\\\\Deep_Learning_Study\\\\Tensorflow\\\\dataset\\\\cifar\\\\train\\\\10562_horse.png',\n",
       " 'C:\\\\Users\\\\LG\\\\Deep_Learning_Study\\\\Tensorflow\\\\dataset\\\\cifar\\\\train\\\\10563_frog.png',\n",
       " 'C:\\\\Users\\\\LG\\\\Deep_Learning_Study\\\\Tensorflow\\\\dataset\\\\cifar\\\\train\\\\10564_automobile.png',\n",
       " 'C:\\\\Users\\\\LG\\\\Deep_Learning_Study\\\\Tensorflow\\\\dataset\\\\cifar\\\\train\\\\10565_cat.png',\n",
       " 'C:\\\\Users\\\\LG\\\\Deep_Learning_Study\\\\Tensorflow\\\\dataset\\\\cifar\\\\train\\\\10566_dog.png',\n",
       " 'C:\\\\Users\\\\LG\\\\Deep_Learning_Study\\\\Tensorflow\\\\dataset\\\\cifar\\\\train\\\\10567_bird.png',\n",
       " 'C:\\\\Users\\\\LG\\\\Deep_Learning_Study\\\\Tensorflow\\\\dataset\\\\cifar\\\\train\\\\10568_automobile.png',\n",
       " 'C:\\\\Users\\\\LG\\\\Deep_Learning_Study\\\\Tensorflow\\\\dataset\\\\cifar\\\\train\\\\10569_automobile.png',\n",
       " 'C:\\\\Users\\\\LG\\\\Deep_Learning_Study\\\\Tensorflow\\\\dataset\\\\cifar\\\\train\\\\1056_ship.png',\n",
       " 'C:\\\\Users\\\\LG\\\\Deep_Learning_Study\\\\Tensorflow\\\\dataset\\\\cifar\\\\train\\\\10570_deer.png',\n",
       " 'C:\\\\Users\\\\LG\\\\Deep_Learning_Study\\\\Tensorflow\\\\dataset\\\\cifar\\\\train\\\\10571_automobile.png',\n",
       " 'C:\\\\Users\\\\LG\\\\Deep_Learning_Study\\\\Tensorflow\\\\dataset\\\\cifar\\\\train\\\\10572_ship.png',\n",
       " 'C:\\\\Users\\\\LG\\\\Deep_Learning_Study\\\\Tensorflow\\\\dataset\\\\cifar\\\\train\\\\10573_horse.png',\n",
       " 'C:\\\\Users\\\\LG\\\\Deep_Learning_Study\\\\Tensorflow\\\\dataset\\\\cifar\\\\train\\\\10574_airplane.png',\n",
       " 'C:\\\\Users\\\\LG\\\\Deep_Learning_Study\\\\Tensorflow\\\\dataset\\\\cifar\\\\train\\\\10575_cat.png',\n",
       " 'C:\\\\Users\\\\LG\\\\Deep_Learning_Study\\\\Tensorflow\\\\dataset\\\\cifar\\\\train\\\\10576_automobile.png',\n",
       " 'C:\\\\Users\\\\LG\\\\Deep_Learning_Study\\\\Tensorflow\\\\dataset\\\\cifar\\\\train\\\\10577_airplane.png',\n",
       " 'C:\\\\Users\\\\LG\\\\Deep_Learning_Study\\\\Tensorflow\\\\dataset\\\\cifar\\\\train\\\\10578_airplane.png',\n",
       " 'C:\\\\Users\\\\LG\\\\Deep_Learning_Study\\\\Tensorflow\\\\dataset\\\\cifar\\\\train\\\\10579_frog.png',\n",
       " 'C:\\\\Users\\\\LG\\\\Deep_Learning_Study\\\\Tensorflow\\\\dataset\\\\cifar\\\\train\\\\1057_cat.png',\n",
       " 'C:\\\\Users\\\\LG\\\\Deep_Learning_Study\\\\Tensorflow\\\\dataset\\\\cifar\\\\train\\\\10580_horse.png',\n",
       " 'C:\\\\Users\\\\LG\\\\Deep_Learning_Study\\\\Tensorflow\\\\dataset\\\\cifar\\\\train\\\\10581_truck.png',\n",
       " 'C:\\\\Users\\\\LG\\\\Deep_Learning_Study\\\\Tensorflow\\\\dataset\\\\cifar\\\\train\\\\10582_bird.png',\n",
       " 'C:\\\\Users\\\\LG\\\\Deep_Learning_Study\\\\Tensorflow\\\\dataset\\\\cifar\\\\train\\\\10583_horse.png',\n",
       " 'C:\\\\Users\\\\LG\\\\Deep_Learning_Study\\\\Tensorflow\\\\dataset\\\\cifar\\\\train\\\\10584_horse.png',\n",
       " 'C:\\\\Users\\\\LG\\\\Deep_Learning_Study\\\\Tensorflow\\\\dataset\\\\cifar\\\\train\\\\10585_ship.png',\n",
       " 'C:\\\\Users\\\\LG\\\\Deep_Learning_Study\\\\Tensorflow\\\\dataset\\\\cifar\\\\train\\\\10586_dog.png',\n",
       " 'C:\\\\Users\\\\LG\\\\Deep_Learning_Study\\\\Tensorflow\\\\dataset\\\\cifar\\\\train\\\\10587_cat.png',\n",
       " 'C:\\\\Users\\\\LG\\\\Deep_Learning_Study\\\\Tensorflow\\\\dataset\\\\cifar\\\\train\\\\10588_bird.png',\n",
       " 'C:\\\\Users\\\\LG\\\\Deep_Learning_Study\\\\Tensorflow\\\\dataset\\\\cifar\\\\train\\\\10589_airplane.png',\n",
       " 'C:\\\\Users\\\\LG\\\\Deep_Learning_Study\\\\Tensorflow\\\\dataset\\\\cifar\\\\train\\\\1058_ship.png',\n",
       " 'C:\\\\Users\\\\LG\\\\Deep_Learning_Study\\\\Tensorflow\\\\dataset\\\\cifar\\\\train\\\\10590_truck.png',\n",
       " 'C:\\\\Users\\\\LG\\\\Deep_Learning_Study\\\\Tensorflow\\\\dataset\\\\cifar\\\\train\\\\10591_bird.png',\n",
       " 'C:\\\\Users\\\\LG\\\\Deep_Learning_Study\\\\Tensorflow\\\\dataset\\\\cifar\\\\train\\\\10592_deer.png',\n",
       " 'C:\\\\Users\\\\LG\\\\Deep_Learning_Study\\\\Tensorflow\\\\dataset\\\\cifar\\\\train\\\\10593_deer.png',\n",
       " 'C:\\\\Users\\\\LG\\\\Deep_Learning_Study\\\\Tensorflow\\\\dataset\\\\cifar\\\\train\\\\10594_bird.png',\n",
       " 'C:\\\\Users\\\\LG\\\\Deep_Learning_Study\\\\Tensorflow\\\\dataset\\\\cifar\\\\train\\\\10595_cat.png',\n",
       " 'C:\\\\Users\\\\LG\\\\Deep_Learning_Study\\\\Tensorflow\\\\dataset\\\\cifar\\\\train\\\\10596_frog.png',\n",
       " 'C:\\\\Users\\\\LG\\\\Deep_Learning_Study\\\\Tensorflow\\\\dataset\\\\cifar\\\\train\\\\10597_dog.png',\n",
       " 'C:\\\\Users\\\\LG\\\\Deep_Learning_Study\\\\Tensorflow\\\\dataset\\\\cifar\\\\train\\\\10598_horse.png',\n",
       " 'C:\\\\Users\\\\LG\\\\Deep_Learning_Study\\\\Tensorflow\\\\dataset\\\\cifar\\\\train\\\\10599_dog.png',\n",
       " 'C:\\\\Users\\\\LG\\\\Deep_Learning_Study\\\\Tensorflow\\\\dataset\\\\cifar\\\\train\\\\1059_cat.png',\n",
       " 'C:\\\\Users\\\\LG\\\\Deep_Learning_Study\\\\Tensorflow\\\\dataset\\\\cifar\\\\train\\\\105_automobile.png',\n",
       " 'C:\\\\Users\\\\LG\\\\Deep_Learning_Study\\\\Tensorflow\\\\dataset\\\\cifar\\\\train\\\\10600_frog.png',\n",
       " 'C:\\\\Users\\\\LG\\\\Deep_Learning_Study\\\\Tensorflow\\\\dataset\\\\cifar\\\\train\\\\10601_airplane.png',\n",
       " 'C:\\\\Users\\\\LG\\\\Deep_Learning_Study\\\\Tensorflow\\\\dataset\\\\cifar\\\\train\\\\10602_horse.png',\n",
       " 'C:\\\\Users\\\\LG\\\\Deep_Learning_Study\\\\Tensorflow\\\\dataset\\\\cifar\\\\train\\\\10603_dog.png',\n",
       " 'C:\\\\Users\\\\LG\\\\Deep_Learning_Study\\\\Tensorflow\\\\dataset\\\\cifar\\\\train\\\\10604_deer.png',\n",
       " 'C:\\\\Users\\\\LG\\\\Deep_Learning_Study\\\\Tensorflow\\\\dataset\\\\cifar\\\\train\\\\10605_deer.png',\n",
       " 'C:\\\\Users\\\\LG\\\\Deep_Learning_Study\\\\Tensorflow\\\\dataset\\\\cifar\\\\train\\\\10606_ship.png',\n",
       " 'C:\\\\Users\\\\LG\\\\Deep_Learning_Study\\\\Tensorflow\\\\dataset\\\\cifar\\\\train\\\\10607_airplane.png',\n",
       " 'C:\\\\Users\\\\LG\\\\Deep_Learning_Study\\\\Tensorflow\\\\dataset\\\\cifar\\\\train\\\\10608_bird.png',\n",
       " 'C:\\\\Users\\\\LG\\\\Deep_Learning_Study\\\\Tensorflow\\\\dataset\\\\cifar\\\\train\\\\10609_deer.png',\n",
       " 'C:\\\\Users\\\\LG\\\\Deep_Learning_Study\\\\Tensorflow\\\\dataset\\\\cifar\\\\train\\\\1060_ship.png',\n",
       " 'C:\\\\Users\\\\LG\\\\Deep_Learning_Study\\\\Tensorflow\\\\dataset\\\\cifar\\\\train\\\\10610_ship.png',\n",
       " 'C:\\\\Users\\\\LG\\\\Deep_Learning_Study\\\\Tensorflow\\\\dataset\\\\cifar\\\\train\\\\10611_cat.png',\n",
       " 'C:\\\\Users\\\\LG\\\\Deep_Learning_Study\\\\Tensorflow\\\\dataset\\\\cifar\\\\train\\\\10612_bird.png',\n",
       " 'C:\\\\Users\\\\LG\\\\Deep_Learning_Study\\\\Tensorflow\\\\dataset\\\\cifar\\\\train\\\\10613_ship.png',\n",
       " 'C:\\\\Users\\\\LG\\\\Deep_Learning_Study\\\\Tensorflow\\\\dataset\\\\cifar\\\\train\\\\10614_automobile.png',\n",
       " 'C:\\\\Users\\\\LG\\\\Deep_Learning_Study\\\\Tensorflow\\\\dataset\\\\cifar\\\\train\\\\10615_deer.png',\n",
       " 'C:\\\\Users\\\\LG\\\\Deep_Learning_Study\\\\Tensorflow\\\\dataset\\\\cifar\\\\train\\\\10616_bird.png',\n",
       " 'C:\\\\Users\\\\LG\\\\Deep_Learning_Study\\\\Tensorflow\\\\dataset\\\\cifar\\\\train\\\\10617_airplane.png',\n",
       " 'C:\\\\Users\\\\LG\\\\Deep_Learning_Study\\\\Tensorflow\\\\dataset\\\\cifar\\\\train\\\\10618_cat.png',\n",
       " 'C:\\\\Users\\\\LG\\\\Deep_Learning_Study\\\\Tensorflow\\\\dataset\\\\cifar\\\\train\\\\10619_cat.png',\n",
       " 'C:\\\\Users\\\\LG\\\\Deep_Learning_Study\\\\Tensorflow\\\\dataset\\\\cifar\\\\train\\\\1061_dog.png',\n",
       " 'C:\\\\Users\\\\LG\\\\Deep_Learning_Study\\\\Tensorflow\\\\dataset\\\\cifar\\\\train\\\\10620_ship.png',\n",
       " 'C:\\\\Users\\\\LG\\\\Deep_Learning_Study\\\\Tensorflow\\\\dataset\\\\cifar\\\\train\\\\10621_horse.png',\n",
       " 'C:\\\\Users\\\\LG\\\\Deep_Learning_Study\\\\Tensorflow\\\\dataset\\\\cifar\\\\train\\\\10622_truck.png',\n",
       " 'C:\\\\Users\\\\LG\\\\Deep_Learning_Study\\\\Tensorflow\\\\dataset\\\\cifar\\\\train\\\\10623_horse.png',\n",
       " 'C:\\\\Users\\\\LG\\\\Deep_Learning_Study\\\\Tensorflow\\\\dataset\\\\cifar\\\\train\\\\10624_bird.png',\n",
       " 'C:\\\\Users\\\\LG\\\\Deep_Learning_Study\\\\Tensorflow\\\\dataset\\\\cifar\\\\train\\\\10625_ship.png',\n",
       " 'C:\\\\Users\\\\LG\\\\Deep_Learning_Study\\\\Tensorflow\\\\dataset\\\\cifar\\\\train\\\\10626_truck.png',\n",
       " 'C:\\\\Users\\\\LG\\\\Deep_Learning_Study\\\\Tensorflow\\\\dataset\\\\cifar\\\\train\\\\10627_automobile.png',\n",
       " 'C:\\\\Users\\\\LG\\\\Deep_Learning_Study\\\\Tensorflow\\\\dataset\\\\cifar\\\\train\\\\10628_bird.png',\n",
       " 'C:\\\\Users\\\\LG\\\\Deep_Learning_Study\\\\Tensorflow\\\\dataset\\\\cifar\\\\train\\\\10629_deer.png',\n",
       " 'C:\\\\Users\\\\LG\\\\Deep_Learning_Study\\\\Tensorflow\\\\dataset\\\\cifar\\\\train\\\\1062_truck.png',\n",
       " 'C:\\\\Users\\\\LG\\\\Deep_Learning_Study\\\\Tensorflow\\\\dataset\\\\cifar\\\\train\\\\10630_automobile.png',\n",
       " 'C:\\\\Users\\\\LG\\\\Deep_Learning_Study\\\\Tensorflow\\\\dataset\\\\cifar\\\\train\\\\10631_frog.png',\n",
       " 'C:\\\\Users\\\\LG\\\\Deep_Learning_Study\\\\Tensorflow\\\\dataset\\\\cifar\\\\train\\\\10632_dog.png',\n",
       " 'C:\\\\Users\\\\LG\\\\Deep_Learning_Study\\\\Tensorflow\\\\dataset\\\\cifar\\\\train\\\\10633_deer.png',\n",
       " 'C:\\\\Users\\\\LG\\\\Deep_Learning_Study\\\\Tensorflow\\\\dataset\\\\cifar\\\\train\\\\10634_cat.png',\n",
       " 'C:\\\\Users\\\\LG\\\\Deep_Learning_Study\\\\Tensorflow\\\\dataset\\\\cifar\\\\train\\\\10635_frog.png',\n",
       " 'C:\\\\Users\\\\LG\\\\Deep_Learning_Study\\\\Tensorflow\\\\dataset\\\\cifar\\\\train\\\\10636_frog.png',\n",
       " 'C:\\\\Users\\\\LG\\\\Deep_Learning_Study\\\\Tensorflow\\\\dataset\\\\cifar\\\\train\\\\10637_airplane.png',\n",
       " 'C:\\\\Users\\\\LG\\\\Deep_Learning_Study\\\\Tensorflow\\\\dataset\\\\cifar\\\\train\\\\10638_ship.png',\n",
       " 'C:\\\\Users\\\\LG\\\\Deep_Learning_Study\\\\Tensorflow\\\\dataset\\\\cifar\\\\train\\\\10639_ship.png',\n",
       " 'C:\\\\Users\\\\LG\\\\Deep_Learning_Study\\\\Tensorflow\\\\dataset\\\\cifar\\\\train\\\\1063_frog.png',\n",
       " 'C:\\\\Users\\\\LG\\\\Deep_Learning_Study\\\\Tensorflow\\\\dataset\\\\cifar\\\\train\\\\10640_deer.png',\n",
       " 'C:\\\\Users\\\\LG\\\\Deep_Learning_Study\\\\Tensorflow\\\\dataset\\\\cifar\\\\train\\\\10641_deer.png',\n",
       " 'C:\\\\Users\\\\LG\\\\Deep_Learning_Study\\\\Tensorflow\\\\dataset\\\\cifar\\\\train\\\\10642_automobile.png',\n",
       " 'C:\\\\Users\\\\LG\\\\Deep_Learning_Study\\\\Tensorflow\\\\dataset\\\\cifar\\\\train\\\\10643_horse.png',\n",
       " 'C:\\\\Users\\\\LG\\\\Deep_Learning_Study\\\\Tensorflow\\\\dataset\\\\cifar\\\\train\\\\10644_automobile.png',\n",
       " 'C:\\\\Users\\\\LG\\\\Deep_Learning_Study\\\\Tensorflow\\\\dataset\\\\cifar\\\\train\\\\10645_ship.png',\n",
       " 'C:\\\\Users\\\\LG\\\\Deep_Learning_Study\\\\Tensorflow\\\\dataset\\\\cifar\\\\train\\\\10646_ship.png',\n",
       " 'C:\\\\Users\\\\LG\\\\Deep_Learning_Study\\\\Tensorflow\\\\dataset\\\\cifar\\\\train\\\\10647_frog.png',\n",
       " 'C:\\\\Users\\\\LG\\\\Deep_Learning_Study\\\\Tensorflow\\\\dataset\\\\cifar\\\\train\\\\10648_automobile.png',\n",
       " 'C:\\\\Users\\\\LG\\\\Deep_Learning_Study\\\\Tensorflow\\\\dataset\\\\cifar\\\\train\\\\10649_frog.png',\n",
       " 'C:\\\\Users\\\\LG\\\\Deep_Learning_Study\\\\Tensorflow\\\\dataset\\\\cifar\\\\train\\\\1064_automobile.png',\n",
       " 'C:\\\\Users\\\\LG\\\\Deep_Learning_Study\\\\Tensorflow\\\\dataset\\\\cifar\\\\train\\\\10650_airplane.png',\n",
       " 'C:\\\\Users\\\\LG\\\\Deep_Learning_Study\\\\Tensorflow\\\\dataset\\\\cifar\\\\train\\\\10651_bird.png',\n",
       " 'C:\\\\Users\\\\LG\\\\Deep_Learning_Study\\\\Tensorflow\\\\dataset\\\\cifar\\\\train\\\\10652_automobile.png',\n",
       " 'C:\\\\Users\\\\LG\\\\Deep_Learning_Study\\\\Tensorflow\\\\dataset\\\\cifar\\\\train\\\\10653_cat.png',\n",
       " 'C:\\\\Users\\\\LG\\\\Deep_Learning_Study\\\\Tensorflow\\\\dataset\\\\cifar\\\\train\\\\10654_deer.png',\n",
       " 'C:\\\\Users\\\\LG\\\\Deep_Learning_Study\\\\Tensorflow\\\\dataset\\\\cifar\\\\train\\\\10655_automobile.png',\n",
       " 'C:\\\\Users\\\\LG\\\\Deep_Learning_Study\\\\Tensorflow\\\\dataset\\\\cifar\\\\train\\\\10656_airplane.png',\n",
       " 'C:\\\\Users\\\\LG\\\\Deep_Learning_Study\\\\Tensorflow\\\\dataset\\\\cifar\\\\train\\\\10657_dog.png',\n",
       " 'C:\\\\Users\\\\LG\\\\Deep_Learning_Study\\\\Tensorflow\\\\dataset\\\\cifar\\\\train\\\\10658_truck.png',\n",
       " 'C:\\\\Users\\\\LG\\\\Deep_Learning_Study\\\\Tensorflow\\\\dataset\\\\cifar\\\\train\\\\10659_truck.png',\n",
       " 'C:\\\\Users\\\\LG\\\\Deep_Learning_Study\\\\Tensorflow\\\\dataset\\\\cifar\\\\train\\\\1065_bird.png',\n",
       " 'C:\\\\Users\\\\LG\\\\Deep_Learning_Study\\\\Tensorflow\\\\dataset\\\\cifar\\\\train\\\\10660_bird.png',\n",
       " 'C:\\\\Users\\\\LG\\\\Deep_Learning_Study\\\\Tensorflow\\\\dataset\\\\cifar\\\\train\\\\10661_deer.png',\n",
       " 'C:\\\\Users\\\\LG\\\\Deep_Learning_Study\\\\Tensorflow\\\\dataset\\\\cifar\\\\train\\\\10662_truck.png',\n",
       " 'C:\\\\Users\\\\LG\\\\Deep_Learning_Study\\\\Tensorflow\\\\dataset\\\\cifar\\\\train\\\\10663_ship.png',\n",
       " 'C:\\\\Users\\\\LG\\\\Deep_Learning_Study\\\\Tensorflow\\\\dataset\\\\cifar\\\\train\\\\10664_ship.png',\n",
       " 'C:\\\\Users\\\\LG\\\\Deep_Learning_Study\\\\Tensorflow\\\\dataset\\\\cifar\\\\train\\\\10665_frog.png',\n",
       " 'C:\\\\Users\\\\LG\\\\Deep_Learning_Study\\\\Tensorflow\\\\dataset\\\\cifar\\\\train\\\\10666_horse.png',\n",
       " 'C:\\\\Users\\\\LG\\\\Deep_Learning_Study\\\\Tensorflow\\\\dataset\\\\cifar\\\\train\\\\10667_airplane.png',\n",
       " 'C:\\\\Users\\\\LG\\\\Deep_Learning_Study\\\\Tensorflow\\\\dataset\\\\cifar\\\\train\\\\10668_dog.png',\n",
       " 'C:\\\\Users\\\\LG\\\\Deep_Learning_Study\\\\Tensorflow\\\\dataset\\\\cifar\\\\train\\\\10669_dog.png',\n",
       " 'C:\\\\Users\\\\LG\\\\Deep_Learning_Study\\\\Tensorflow\\\\dataset\\\\cifar\\\\train\\\\1066_dog.png',\n",
       " 'C:\\\\Users\\\\LG\\\\Deep_Learning_Study\\\\Tensorflow\\\\dataset\\\\cifar\\\\train\\\\10670_dog.png',\n",
       " 'C:\\\\Users\\\\LG\\\\Deep_Learning_Study\\\\Tensorflow\\\\dataset\\\\cifar\\\\train\\\\10671_bird.png',\n",
       " 'C:\\\\Users\\\\LG\\\\Deep_Learning_Study\\\\Tensorflow\\\\dataset\\\\cifar\\\\train\\\\10672_horse.png',\n",
       " 'C:\\\\Users\\\\LG\\\\Deep_Learning_Study\\\\Tensorflow\\\\dataset\\\\cifar\\\\train\\\\10673_ship.png',\n",
       " 'C:\\\\Users\\\\LG\\\\Deep_Learning_Study\\\\Tensorflow\\\\dataset\\\\cifar\\\\train\\\\10674_airplane.png',\n",
       " 'C:\\\\Users\\\\LG\\\\Deep_Learning_Study\\\\Tensorflow\\\\dataset\\\\cifar\\\\train\\\\10675_airplane.png',\n",
       " 'C:\\\\Users\\\\LG\\\\Deep_Learning_Study\\\\Tensorflow\\\\dataset\\\\cifar\\\\train\\\\10676_frog.png',\n",
       " 'C:\\\\Users\\\\LG\\\\Deep_Learning_Study\\\\Tensorflow\\\\dataset\\\\cifar\\\\train\\\\10677_ship.png',\n",
       " 'C:\\\\Users\\\\LG\\\\Deep_Learning_Study\\\\Tensorflow\\\\dataset\\\\cifar\\\\train\\\\10678_automobile.png',\n",
       " 'C:\\\\Users\\\\LG\\\\Deep_Learning_Study\\\\Tensorflow\\\\dataset\\\\cifar\\\\train\\\\10679_automobile.png',\n",
       " 'C:\\\\Users\\\\LG\\\\Deep_Learning_Study\\\\Tensorflow\\\\dataset\\\\cifar\\\\train\\\\1067_bird.png',\n",
       " 'C:\\\\Users\\\\LG\\\\Deep_Learning_Study\\\\Tensorflow\\\\dataset\\\\cifar\\\\train\\\\10680_ship.png',\n",
       " 'C:\\\\Users\\\\LG\\\\Deep_Learning_Study\\\\Tensorflow\\\\dataset\\\\cifar\\\\train\\\\10681_airplane.png',\n",
       " 'C:\\\\Users\\\\LG\\\\Deep_Learning_Study\\\\Tensorflow\\\\dataset\\\\cifar\\\\train\\\\10682_ship.png',\n",
       " 'C:\\\\Users\\\\LG\\\\Deep_Learning_Study\\\\Tensorflow\\\\dataset\\\\cifar\\\\train\\\\10683_bird.png',\n",
       " 'C:\\\\Users\\\\LG\\\\Deep_Learning_Study\\\\Tensorflow\\\\dataset\\\\cifar\\\\train\\\\10684_horse.png',\n",
       " 'C:\\\\Users\\\\LG\\\\Deep_Learning_Study\\\\Tensorflow\\\\dataset\\\\cifar\\\\train\\\\10685_horse.png',\n",
       " 'C:\\\\Users\\\\LG\\\\Deep_Learning_Study\\\\Tensorflow\\\\dataset\\\\cifar\\\\train\\\\10686_airplane.png',\n",
       " 'C:\\\\Users\\\\LG\\\\Deep_Learning_Study\\\\Tensorflow\\\\dataset\\\\cifar\\\\train\\\\10687_horse.png',\n",
       " 'C:\\\\Users\\\\LG\\\\Deep_Learning_Study\\\\Tensorflow\\\\dataset\\\\cifar\\\\train\\\\10688_ship.png',\n",
       " 'C:\\\\Users\\\\LG\\\\Deep_Learning_Study\\\\Tensorflow\\\\dataset\\\\cifar\\\\train\\\\10689_airplane.png',\n",
       " 'C:\\\\Users\\\\LG\\\\Deep_Learning_Study\\\\Tensorflow\\\\dataset\\\\cifar\\\\train\\\\1068_automobile.png',\n",
       " 'C:\\\\Users\\\\LG\\\\Deep_Learning_Study\\\\Tensorflow\\\\dataset\\\\cifar\\\\train\\\\10690_airplane.png',\n",
       " 'C:\\\\Users\\\\LG\\\\Deep_Learning_Study\\\\Tensorflow\\\\dataset\\\\cifar\\\\train\\\\10691_dog.png',\n",
       " 'C:\\\\Users\\\\LG\\\\Deep_Learning_Study\\\\Tensorflow\\\\dataset\\\\cifar\\\\train\\\\10692_dog.png',\n",
       " 'C:\\\\Users\\\\LG\\\\Deep_Learning_Study\\\\Tensorflow\\\\dataset\\\\cifar\\\\train\\\\10693_automobile.png',\n",
       " 'C:\\\\Users\\\\LG\\\\Deep_Learning_Study\\\\Tensorflow\\\\dataset\\\\cifar\\\\train\\\\10694_deer.png',\n",
       " 'C:\\\\Users\\\\LG\\\\Deep_Learning_Study\\\\Tensorflow\\\\dataset\\\\cifar\\\\train\\\\10695_horse.png',\n",
       " 'C:\\\\Users\\\\LG\\\\Deep_Learning_Study\\\\Tensorflow\\\\dataset\\\\cifar\\\\train\\\\10696_dog.png',\n",
       " 'C:\\\\Users\\\\LG\\\\Deep_Learning_Study\\\\Tensorflow\\\\dataset\\\\cifar\\\\train\\\\10697_deer.png',\n",
       " 'C:\\\\Users\\\\LG\\\\Deep_Learning_Study\\\\Tensorflow\\\\dataset\\\\cifar\\\\train\\\\10698_truck.png',\n",
       " 'C:\\\\Users\\\\LG\\\\Deep_Learning_Study\\\\Tensorflow\\\\dataset\\\\cifar\\\\train\\\\10699_deer.png',\n",
       " 'C:\\\\Users\\\\LG\\\\Deep_Learning_Study\\\\Tensorflow\\\\dataset\\\\cifar\\\\train\\\\1069_deer.png',\n",
       " 'C:\\\\Users\\\\LG\\\\Deep_Learning_Study\\\\Tensorflow\\\\dataset\\\\cifar\\\\train\\\\106_ship.png',\n",
       " 'C:\\\\Users\\\\LG\\\\Deep_Learning_Study\\\\Tensorflow\\\\dataset\\\\cifar\\\\train\\\\10700_bird.png',\n",
       " 'C:\\\\Users\\\\LG\\\\Deep_Learning_Study\\\\Tensorflow\\\\dataset\\\\cifar\\\\train\\\\10701_deer.png',\n",
       " 'C:\\\\Users\\\\LG\\\\Deep_Learning_Study\\\\Tensorflow\\\\dataset\\\\cifar\\\\train\\\\10702_ship.png',\n",
       " 'C:\\\\Users\\\\LG\\\\Deep_Learning_Study\\\\Tensorflow\\\\dataset\\\\cifar\\\\train\\\\10703_dog.png',\n",
       " 'C:\\\\Users\\\\LG\\\\Deep_Learning_Study\\\\Tensorflow\\\\dataset\\\\cifar\\\\train\\\\10704_frog.png',\n",
       " 'C:\\\\Users\\\\LG\\\\Deep_Learning_Study\\\\Tensorflow\\\\dataset\\\\cifar\\\\train\\\\10705_cat.png',\n",
       " 'C:\\\\Users\\\\LG\\\\Deep_Learning_Study\\\\Tensorflow\\\\dataset\\\\cifar\\\\train\\\\10706_deer.png',\n",
       " 'C:\\\\Users\\\\LG\\\\Deep_Learning_Study\\\\Tensorflow\\\\dataset\\\\cifar\\\\train\\\\10707_deer.png',\n",
       " 'C:\\\\Users\\\\LG\\\\Deep_Learning_Study\\\\Tensorflow\\\\dataset\\\\cifar\\\\train\\\\10708_ship.png',\n",
       " 'C:\\\\Users\\\\LG\\\\Deep_Learning_Study\\\\Tensorflow\\\\dataset\\\\cifar\\\\train\\\\10709_dog.png',\n",
       " 'C:\\\\Users\\\\LG\\\\Deep_Learning_Study\\\\Tensorflow\\\\dataset\\\\cifar\\\\train\\\\1070_cat.png',\n",
       " 'C:\\\\Users\\\\LG\\\\Deep_Learning_Study\\\\Tensorflow\\\\dataset\\\\cifar\\\\train\\\\10710_dog.png',\n",
       " 'C:\\\\Users\\\\LG\\\\Deep_Learning_Study\\\\Tensorflow\\\\dataset\\\\cifar\\\\train\\\\10711_automobile.png',\n",
       " 'C:\\\\Users\\\\LG\\\\Deep_Learning_Study\\\\Tensorflow\\\\dataset\\\\cifar\\\\train\\\\10712_horse.png',\n",
       " 'C:\\\\Users\\\\LG\\\\Deep_Learning_Study\\\\Tensorflow\\\\dataset\\\\cifar\\\\train\\\\10713_airplane.png',\n",
       " 'C:\\\\Users\\\\LG\\\\Deep_Learning_Study\\\\Tensorflow\\\\dataset\\\\cifar\\\\train\\\\10714_automobile.png',\n",
       " 'C:\\\\Users\\\\LG\\\\Deep_Learning_Study\\\\Tensorflow\\\\dataset\\\\cifar\\\\train\\\\10715_dog.png',\n",
       " 'C:\\\\Users\\\\LG\\\\Deep_Learning_Study\\\\Tensorflow\\\\dataset\\\\cifar\\\\train\\\\10716_airplane.png',\n",
       " 'C:\\\\Users\\\\LG\\\\Deep_Learning_Study\\\\Tensorflow\\\\dataset\\\\cifar\\\\train\\\\10717_truck.png',\n",
       " 'C:\\\\Users\\\\LG\\\\Deep_Learning_Study\\\\Tensorflow\\\\dataset\\\\cifar\\\\train\\\\10718_frog.png',\n",
       " 'C:\\\\Users\\\\LG\\\\Deep_Learning_Study\\\\Tensorflow\\\\dataset\\\\cifar\\\\train\\\\10719_deer.png',\n",
       " 'C:\\\\Users\\\\LG\\\\Deep_Learning_Study\\\\Tensorflow\\\\dataset\\\\cifar\\\\train\\\\1071_horse.png',\n",
       " 'C:\\\\Users\\\\LG\\\\Deep_Learning_Study\\\\Tensorflow\\\\dataset\\\\cifar\\\\train\\\\10720_deer.png',\n",
       " 'C:\\\\Users\\\\LG\\\\Deep_Learning_Study\\\\Tensorflow\\\\dataset\\\\cifar\\\\train\\\\10721_ship.png',\n",
       " 'C:\\\\Users\\\\LG\\\\Deep_Learning_Study\\\\Tensorflow\\\\dataset\\\\cifar\\\\train\\\\10722_cat.png',\n",
       " 'C:\\\\Users\\\\LG\\\\Deep_Learning_Study\\\\Tensorflow\\\\dataset\\\\cifar\\\\train\\\\10723_truck.png',\n",
       " 'C:\\\\Users\\\\LG\\\\Deep_Learning_Study\\\\Tensorflow\\\\dataset\\\\cifar\\\\train\\\\10724_dog.png',\n",
       " 'C:\\\\Users\\\\LG\\\\Deep_Learning_Study\\\\Tensorflow\\\\dataset\\\\cifar\\\\train\\\\10725_bird.png',\n",
       " 'C:\\\\Users\\\\LG\\\\Deep_Learning_Study\\\\Tensorflow\\\\dataset\\\\cifar\\\\train\\\\10726_dog.png',\n",
       " 'C:\\\\Users\\\\LG\\\\Deep_Learning_Study\\\\Tensorflow\\\\dataset\\\\cifar\\\\train\\\\10727_horse.png',\n",
       " 'C:\\\\Users\\\\LG\\\\Deep_Learning_Study\\\\Tensorflow\\\\dataset\\\\cifar\\\\train\\\\10728_deer.png',\n",
       " 'C:\\\\Users\\\\LG\\\\Deep_Learning_Study\\\\Tensorflow\\\\dataset\\\\cifar\\\\train\\\\10729_airplane.png',\n",
       " 'C:\\\\Users\\\\LG\\\\Deep_Learning_Study\\\\Tensorflow\\\\dataset\\\\cifar\\\\train\\\\1072_dog.png',\n",
       " 'C:\\\\Users\\\\LG\\\\Deep_Learning_Study\\\\Tensorflow\\\\dataset\\\\cifar\\\\train\\\\10730_horse.png',\n",
       " 'C:\\\\Users\\\\LG\\\\Deep_Learning_Study\\\\Tensorflow\\\\dataset\\\\cifar\\\\train\\\\10731_cat.png',\n",
       " 'C:\\\\Users\\\\LG\\\\Deep_Learning_Study\\\\Tensorflow\\\\dataset\\\\cifar\\\\train\\\\10732_airplane.png',\n",
       " 'C:\\\\Users\\\\LG\\\\Deep_Learning_Study\\\\Tensorflow\\\\dataset\\\\cifar\\\\train\\\\10733_frog.png',\n",
       " 'C:\\\\Users\\\\LG\\\\Deep_Learning_Study\\\\Tensorflow\\\\dataset\\\\cifar\\\\train\\\\10734_horse.png',\n",
       " 'C:\\\\Users\\\\LG\\\\Deep_Learning_Study\\\\Tensorflow\\\\dataset\\\\cifar\\\\train\\\\10735_horse.png',\n",
       " 'C:\\\\Users\\\\LG\\\\Deep_Learning_Study\\\\Tensorflow\\\\dataset\\\\cifar\\\\train\\\\10736_deer.png',\n",
       " 'C:\\\\Users\\\\LG\\\\Deep_Learning_Study\\\\Tensorflow\\\\dataset\\\\cifar\\\\train\\\\10737_dog.png',\n",
       " 'C:\\\\Users\\\\LG\\\\Deep_Learning_Study\\\\Tensorflow\\\\dataset\\\\cifar\\\\train\\\\10738_frog.png',\n",
       " 'C:\\\\Users\\\\LG\\\\Deep_Learning_Study\\\\Tensorflow\\\\dataset\\\\cifar\\\\train\\\\10739_dog.png',\n",
       " 'C:\\\\Users\\\\LG\\\\Deep_Learning_Study\\\\Tensorflow\\\\dataset\\\\cifar\\\\train\\\\1073_truck.png',\n",
       " 'C:\\\\Users\\\\LG\\\\Deep_Learning_Study\\\\Tensorflow\\\\dataset\\\\cifar\\\\train\\\\10740_dog.png',\n",
       " 'C:\\\\Users\\\\LG\\\\Deep_Learning_Study\\\\Tensorflow\\\\dataset\\\\cifar\\\\train\\\\10741_airplane.png',\n",
       " 'C:\\\\Users\\\\LG\\\\Deep_Learning_Study\\\\Tensorflow\\\\dataset\\\\cifar\\\\train\\\\10742_bird.png',\n",
       " 'C:\\\\Users\\\\LG\\\\Deep_Learning_Study\\\\Tensorflow\\\\dataset\\\\cifar\\\\train\\\\10743_truck.png',\n",
       " 'C:\\\\Users\\\\LG\\\\Deep_Learning_Study\\\\Tensorflow\\\\dataset\\\\cifar\\\\train\\\\10744_dog.png',\n",
       " 'C:\\\\Users\\\\LG\\\\Deep_Learning_Study\\\\Tensorflow\\\\dataset\\\\cifar\\\\train\\\\10745_cat.png',\n",
       " 'C:\\\\Users\\\\LG\\\\Deep_Learning_Study\\\\Tensorflow\\\\dataset\\\\cifar\\\\train\\\\10746_cat.png',\n",
       " 'C:\\\\Users\\\\LG\\\\Deep_Learning_Study\\\\Tensorflow\\\\dataset\\\\cifar\\\\train\\\\10747_automobile.png',\n",
       " 'C:\\\\Users\\\\LG\\\\Deep_Learning_Study\\\\Tensorflow\\\\dataset\\\\cifar\\\\train\\\\10748_automobile.png',\n",
       " 'C:\\\\Users\\\\LG\\\\Deep_Learning_Study\\\\Tensorflow\\\\dataset\\\\cifar\\\\train\\\\10749_cat.png',\n",
       " 'C:\\\\Users\\\\LG\\\\Deep_Learning_Study\\\\Tensorflow\\\\dataset\\\\cifar\\\\train\\\\1074_cat.png',\n",
       " 'C:\\\\Users\\\\LG\\\\Deep_Learning_Study\\\\Tensorflow\\\\dataset\\\\cifar\\\\train\\\\10750_bird.png',\n",
       " 'C:\\\\Users\\\\LG\\\\Deep_Learning_Study\\\\Tensorflow\\\\dataset\\\\cifar\\\\train\\\\10751_truck.png',\n",
       " 'C:\\\\Users\\\\LG\\\\Deep_Learning_Study\\\\Tensorflow\\\\dataset\\\\cifar\\\\train\\\\10752_cat.png',\n",
       " 'C:\\\\Users\\\\LG\\\\Deep_Learning_Study\\\\Tensorflow\\\\dataset\\\\cifar\\\\train\\\\10753_cat.png',\n",
       " 'C:\\\\Users\\\\LG\\\\Deep_Learning_Study\\\\Tensorflow\\\\dataset\\\\cifar\\\\train\\\\10754_horse.png',\n",
       " 'C:\\\\Users\\\\LG\\\\Deep_Learning_Study\\\\Tensorflow\\\\dataset\\\\cifar\\\\train\\\\10755_automobile.png',\n",
       " 'C:\\\\Users\\\\LG\\\\Deep_Learning_Study\\\\Tensorflow\\\\dataset\\\\cifar\\\\train\\\\10756_bird.png',\n",
       " 'C:\\\\Users\\\\LG\\\\Deep_Learning_Study\\\\Tensorflow\\\\dataset\\\\cifar\\\\train\\\\10757_frog.png',\n",
       " 'C:\\\\Users\\\\LG\\\\Deep_Learning_Study\\\\Tensorflow\\\\dataset\\\\cifar\\\\train\\\\10758_dog.png',\n",
       " 'C:\\\\Users\\\\LG\\\\Deep_Learning_Study\\\\Tensorflow\\\\dataset\\\\cifar\\\\train\\\\10759_dog.png',\n",
       " 'C:\\\\Users\\\\LG\\\\Deep_Learning_Study\\\\Tensorflow\\\\dataset\\\\cifar\\\\train\\\\1075_truck.png',\n",
       " 'C:\\\\Users\\\\LG\\\\Deep_Learning_Study\\\\Tensorflow\\\\dataset\\\\cifar\\\\train\\\\10760_dog.png',\n",
       " 'C:\\\\Users\\\\LG\\\\Deep_Learning_Study\\\\Tensorflow\\\\dataset\\\\cifar\\\\train\\\\10761_airplane.png',\n",
       " 'C:\\\\Users\\\\LG\\\\Deep_Learning_Study\\\\Tensorflow\\\\dataset\\\\cifar\\\\train\\\\10762_truck.png',\n",
       " 'C:\\\\Users\\\\LG\\\\Deep_Learning_Study\\\\Tensorflow\\\\dataset\\\\cifar\\\\train\\\\10763_ship.png',\n",
       " 'C:\\\\Users\\\\LG\\\\Deep_Learning_Study\\\\Tensorflow\\\\dataset\\\\cifar\\\\train\\\\10764_airplane.png',\n",
       " 'C:\\\\Users\\\\LG\\\\Deep_Learning_Study\\\\Tensorflow\\\\dataset\\\\cifar\\\\train\\\\10765_deer.png',\n",
       " 'C:\\\\Users\\\\LG\\\\Deep_Learning_Study\\\\Tensorflow\\\\dataset\\\\cifar\\\\train\\\\10766_deer.png',\n",
       " 'C:\\\\Users\\\\LG\\\\Deep_Learning_Study\\\\Tensorflow\\\\dataset\\\\cifar\\\\train\\\\10767_bird.png',\n",
       " 'C:\\\\Users\\\\LG\\\\Deep_Learning_Study\\\\Tensorflow\\\\dataset\\\\cifar\\\\train\\\\10768_dog.png',\n",
       " 'C:\\\\Users\\\\LG\\\\Deep_Learning_Study\\\\Tensorflow\\\\dataset\\\\cifar\\\\train\\\\10769_truck.png',\n",
       " 'C:\\\\Users\\\\LG\\\\Deep_Learning_Study\\\\Tensorflow\\\\dataset\\\\cifar\\\\train\\\\1076_cat.png',\n",
       " 'C:\\\\Users\\\\LG\\\\Deep_Learning_Study\\\\Tensorflow\\\\dataset\\\\cifar\\\\train\\\\10770_cat.png',\n",
       " 'C:\\\\Users\\\\LG\\\\Deep_Learning_Study\\\\Tensorflow\\\\dataset\\\\cifar\\\\train\\\\10771_automobile.png',\n",
       " 'C:\\\\Users\\\\LG\\\\Deep_Learning_Study\\\\Tensorflow\\\\dataset\\\\cifar\\\\train\\\\10772_horse.png',\n",
       " 'C:\\\\Users\\\\LG\\\\Deep_Learning_Study\\\\Tensorflow\\\\dataset\\\\cifar\\\\train\\\\10773_ship.png',\n",
       " 'C:\\\\Users\\\\LG\\\\Deep_Learning_Study\\\\Tensorflow\\\\dataset\\\\cifar\\\\train\\\\10774_frog.png',\n",
       " 'C:\\\\Users\\\\LG\\\\Deep_Learning_Study\\\\Tensorflow\\\\dataset\\\\cifar\\\\train\\\\10775_ship.png',\n",
       " 'C:\\\\Users\\\\LG\\\\Deep_Learning_Study\\\\Tensorflow\\\\dataset\\\\cifar\\\\train\\\\10776_airplane.png',\n",
       " 'C:\\\\Users\\\\LG\\\\Deep_Learning_Study\\\\Tensorflow\\\\dataset\\\\cifar\\\\train\\\\10777_airplane.png',\n",
       " 'C:\\\\Users\\\\LG\\\\Deep_Learning_Study\\\\Tensorflow\\\\dataset\\\\cifar\\\\train\\\\10778_horse.png',\n",
       " 'C:\\\\Users\\\\LG\\\\Deep_Learning_Study\\\\Tensorflow\\\\dataset\\\\cifar\\\\train\\\\10779_horse.png',\n",
       " 'C:\\\\Users\\\\LG\\\\Deep_Learning_Study\\\\Tensorflow\\\\dataset\\\\cifar\\\\train\\\\1077_bird.png',\n",
       " 'C:\\\\Users\\\\LG\\\\Deep_Learning_Study\\\\Tensorflow\\\\dataset\\\\cifar\\\\train\\\\10780_dog.png',\n",
       " 'C:\\\\Users\\\\LG\\\\Deep_Learning_Study\\\\Tensorflow\\\\dataset\\\\cifar\\\\train\\\\10781_truck.png',\n",
       " 'C:\\\\Users\\\\LG\\\\Deep_Learning_Study\\\\Tensorflow\\\\dataset\\\\cifar\\\\train\\\\10782_airplane.png',\n",
       " 'C:\\\\Users\\\\LG\\\\Deep_Learning_Study\\\\Tensorflow\\\\dataset\\\\cifar\\\\train\\\\10783_frog.png',\n",
       " 'C:\\\\Users\\\\LG\\\\Deep_Learning_Study\\\\Tensorflow\\\\dataset\\\\cifar\\\\train\\\\10784_cat.png',\n",
       " 'C:\\\\Users\\\\LG\\\\Deep_Learning_Study\\\\Tensorflow\\\\dataset\\\\cifar\\\\train\\\\10785_ship.png',\n",
       " 'C:\\\\Users\\\\LG\\\\Deep_Learning_Study\\\\Tensorflow\\\\dataset\\\\cifar\\\\train\\\\10786_frog.png',\n",
       " 'C:\\\\Users\\\\LG\\\\Deep_Learning_Study\\\\Tensorflow\\\\dataset\\\\cifar\\\\train\\\\10787_airplane.png',\n",
       " 'C:\\\\Users\\\\LG\\\\Deep_Learning_Study\\\\Tensorflow\\\\dataset\\\\cifar\\\\train\\\\10788_cat.png',\n",
       " 'C:\\\\Users\\\\LG\\\\Deep_Learning_Study\\\\Tensorflow\\\\dataset\\\\cifar\\\\train\\\\10789_horse.png',\n",
       " 'C:\\\\Users\\\\LG\\\\Deep_Learning_Study\\\\Tensorflow\\\\dataset\\\\cifar\\\\train\\\\1078_truck.png',\n",
       " 'C:\\\\Users\\\\LG\\\\Deep_Learning_Study\\\\Tensorflow\\\\dataset\\\\cifar\\\\train\\\\10790_automobile.png',\n",
       " 'C:\\\\Users\\\\LG\\\\Deep_Learning_Study\\\\Tensorflow\\\\dataset\\\\cifar\\\\train\\\\10791_truck.png',\n",
       " 'C:\\\\Users\\\\LG\\\\Deep_Learning_Study\\\\Tensorflow\\\\dataset\\\\cifar\\\\train\\\\10792_frog.png',\n",
       " 'C:\\\\Users\\\\LG\\\\Deep_Learning_Study\\\\Tensorflow\\\\dataset\\\\cifar\\\\train\\\\10793_truck.png',\n",
       " 'C:\\\\Users\\\\LG\\\\Deep_Learning_Study\\\\Tensorflow\\\\dataset\\\\cifar\\\\train\\\\10794_frog.png',\n",
       " 'C:\\\\Users\\\\LG\\\\Deep_Learning_Study\\\\Tensorflow\\\\dataset\\\\cifar\\\\train\\\\10795_automobile.png',\n",
       " 'C:\\\\Users\\\\LG\\\\Deep_Learning_Study\\\\Tensorflow\\\\dataset\\\\cifar\\\\train\\\\10796_airplane.png',\n",
       " 'C:\\\\Users\\\\LG\\\\Deep_Learning_Study\\\\Tensorflow\\\\dataset\\\\cifar\\\\train\\\\10797_automobile.png',\n",
       " 'C:\\\\Users\\\\LG\\\\Deep_Learning_Study\\\\Tensorflow\\\\dataset\\\\cifar\\\\train\\\\10798_airplane.png',\n",
       " 'C:\\\\Users\\\\LG\\\\Deep_Learning_Study\\\\Tensorflow\\\\dataset\\\\cifar\\\\train\\\\10799_truck.png',\n",
       " 'C:\\\\Users\\\\LG\\\\Deep_Learning_Study\\\\Tensorflow\\\\dataset\\\\cifar\\\\train\\\\1079_automobile.png',\n",
       " 'C:\\\\Users\\\\LG\\\\Deep_Learning_Study\\\\Tensorflow\\\\dataset\\\\cifar\\\\train\\\\107_dog.png',\n",
       " 'C:\\\\Users\\\\LG\\\\Deep_Learning_Study\\\\Tensorflow\\\\dataset\\\\cifar\\\\train\\\\10800_dog.png',\n",
       " 'C:\\\\Users\\\\LG\\\\Deep_Learning_Study\\\\Tensorflow\\\\dataset\\\\cifar\\\\train\\\\10801_bird.png',\n",
       " 'C:\\\\Users\\\\LG\\\\Deep_Learning_Study\\\\Tensorflow\\\\dataset\\\\cifar\\\\train\\\\10802_bird.png',\n",
       " 'C:\\\\Users\\\\LG\\\\Deep_Learning_Study\\\\Tensorflow\\\\dataset\\\\cifar\\\\train\\\\10803_dog.png',\n",
       " 'C:\\\\Users\\\\LG\\\\Deep_Learning_Study\\\\Tensorflow\\\\dataset\\\\cifar\\\\train\\\\10804_airplane.png',\n",
       " 'C:\\\\Users\\\\LG\\\\Deep_Learning_Study\\\\Tensorflow\\\\dataset\\\\cifar\\\\train\\\\10805_ship.png',\n",
       " 'C:\\\\Users\\\\LG\\\\Deep_Learning_Study\\\\Tensorflow\\\\dataset\\\\cifar\\\\train\\\\10806_truck.png',\n",
       " 'C:\\\\Users\\\\LG\\\\Deep_Learning_Study\\\\Tensorflow\\\\dataset\\\\cifar\\\\train\\\\10807_bird.png',\n",
       " 'C:\\\\Users\\\\LG\\\\Deep_Learning_Study\\\\Tensorflow\\\\dataset\\\\cifar\\\\train\\\\10808_deer.png',\n",
       " 'C:\\\\Users\\\\LG\\\\Deep_Learning_Study\\\\Tensorflow\\\\dataset\\\\cifar\\\\train\\\\10809_cat.png',\n",
       " 'C:\\\\Users\\\\LG\\\\Deep_Learning_Study\\\\Tensorflow\\\\dataset\\\\cifar\\\\train\\\\1080_ship.png',\n",
       " 'C:\\\\Users\\\\LG\\\\Deep_Learning_Study\\\\Tensorflow\\\\dataset\\\\cifar\\\\train\\\\10810_ship.png',\n",
       " 'C:\\\\Users\\\\LG\\\\Deep_Learning_Study\\\\Tensorflow\\\\dataset\\\\cifar\\\\train\\\\10811_airplane.png',\n",
       " 'C:\\\\Users\\\\LG\\\\Deep_Learning_Study\\\\Tensorflow\\\\dataset\\\\cifar\\\\train\\\\10812_airplane.png',\n",
       " 'C:\\\\Users\\\\LG\\\\Deep_Learning_Study\\\\Tensorflow\\\\dataset\\\\cifar\\\\train\\\\10813_horse.png',\n",
       " 'C:\\\\Users\\\\LG\\\\Deep_Learning_Study\\\\Tensorflow\\\\dataset\\\\cifar\\\\train\\\\10814_cat.png',\n",
       " 'C:\\\\Users\\\\LG\\\\Deep_Learning_Study\\\\Tensorflow\\\\dataset\\\\cifar\\\\train\\\\10815_frog.png',\n",
       " 'C:\\\\Users\\\\LG\\\\Deep_Learning_Study\\\\Tensorflow\\\\dataset\\\\cifar\\\\train\\\\10816_horse.png',\n",
       " 'C:\\\\Users\\\\LG\\\\Deep_Learning_Study\\\\Tensorflow\\\\dataset\\\\cifar\\\\train\\\\10817_ship.png',\n",
       " 'C:\\\\Users\\\\LG\\\\Deep_Learning_Study\\\\Tensorflow\\\\dataset\\\\cifar\\\\train\\\\10818_horse.png',\n",
       " 'C:\\\\Users\\\\LG\\\\Deep_Learning_Study\\\\Tensorflow\\\\dataset\\\\cifar\\\\train\\\\10819_automobile.png',\n",
       " 'C:\\\\Users\\\\LG\\\\Deep_Learning_Study\\\\Tensorflow\\\\dataset\\\\cifar\\\\train\\\\1081_dog.png',\n",
       " 'C:\\\\Users\\\\LG\\\\Deep_Learning_Study\\\\Tensorflow\\\\dataset\\\\cifar\\\\train\\\\10820_dog.png',\n",
       " 'C:\\\\Users\\\\LG\\\\Deep_Learning_Study\\\\Tensorflow\\\\dataset\\\\cifar\\\\train\\\\10821_frog.png',\n",
       " 'C:\\\\Users\\\\LG\\\\Deep_Learning_Study\\\\Tensorflow\\\\dataset\\\\cifar\\\\train\\\\10822_ship.png',\n",
       " 'C:\\\\Users\\\\LG\\\\Deep_Learning_Study\\\\Tensorflow\\\\dataset\\\\cifar\\\\train\\\\10823_horse.png',\n",
       " 'C:\\\\Users\\\\LG\\\\Deep_Learning_Study\\\\Tensorflow\\\\dataset\\\\cifar\\\\train\\\\10824_automobile.png',\n",
       " 'C:\\\\Users\\\\LG\\\\Deep_Learning_Study\\\\Tensorflow\\\\dataset\\\\cifar\\\\train\\\\10825_cat.png',\n",
       " 'C:\\\\Users\\\\LG\\\\Deep_Learning_Study\\\\Tensorflow\\\\dataset\\\\cifar\\\\train\\\\10826_automobile.png',\n",
       " 'C:\\\\Users\\\\LG\\\\Deep_Learning_Study\\\\Tensorflow\\\\dataset\\\\cifar\\\\train\\\\10827_truck.png',\n",
       " 'C:\\\\Users\\\\LG\\\\Deep_Learning_Study\\\\Tensorflow\\\\dataset\\\\cifar\\\\train\\\\10828_frog.png',\n",
       " 'C:\\\\Users\\\\LG\\\\Deep_Learning_Study\\\\Tensorflow\\\\dataset\\\\cifar\\\\train\\\\10829_truck.png',\n",
       " 'C:\\\\Users\\\\LG\\\\Deep_Learning_Study\\\\Tensorflow\\\\dataset\\\\cifar\\\\train\\\\1082_truck.png',\n",
       " 'C:\\\\Users\\\\LG\\\\Deep_Learning_Study\\\\Tensorflow\\\\dataset\\\\cifar\\\\train\\\\10830_truck.png',\n",
       " 'C:\\\\Users\\\\LG\\\\Deep_Learning_Study\\\\Tensorflow\\\\dataset\\\\cifar\\\\train\\\\10831_dog.png',\n",
       " 'C:\\\\Users\\\\LG\\\\Deep_Learning_Study\\\\Tensorflow\\\\dataset\\\\cifar\\\\train\\\\10832_automobile.png',\n",
       " 'C:\\\\Users\\\\LG\\\\Deep_Learning_Study\\\\Tensorflow\\\\dataset\\\\cifar\\\\train\\\\10833_bird.png',\n",
       " 'C:\\\\Users\\\\LG\\\\Deep_Learning_Study\\\\Tensorflow\\\\dataset\\\\cifar\\\\train\\\\10834_deer.png',\n",
       " 'C:\\\\Users\\\\LG\\\\Deep_Learning_Study\\\\Tensorflow\\\\dataset\\\\cifar\\\\train\\\\10835_dog.png',\n",
       " 'C:\\\\Users\\\\LG\\\\Deep_Learning_Study\\\\Tensorflow\\\\dataset\\\\cifar\\\\train\\\\10836_ship.png',\n",
       " 'C:\\\\Users\\\\LG\\\\Deep_Learning_Study\\\\Tensorflow\\\\dataset\\\\cifar\\\\train\\\\10837_frog.png',\n",
       " 'C:\\\\Users\\\\LG\\\\Deep_Learning_Study\\\\Tensorflow\\\\dataset\\\\cifar\\\\train\\\\10838_deer.png',\n",
       " 'C:\\\\Users\\\\LG\\\\Deep_Learning_Study\\\\Tensorflow\\\\dataset\\\\cifar\\\\train\\\\10839_automobile.png',\n",
       " 'C:\\\\Users\\\\LG\\\\Deep_Learning_Study\\\\Tensorflow\\\\dataset\\\\cifar\\\\train\\\\1083_horse.png',\n",
       " 'C:\\\\Users\\\\LG\\\\Deep_Learning_Study\\\\Tensorflow\\\\dataset\\\\cifar\\\\train\\\\10840_ship.png',\n",
       " 'C:\\\\Users\\\\LG\\\\Deep_Learning_Study\\\\Tensorflow\\\\dataset\\\\cifar\\\\train\\\\10841_frog.png',\n",
       " 'C:\\\\Users\\\\LG\\\\Deep_Learning_Study\\\\Tensorflow\\\\dataset\\\\cifar\\\\train\\\\10842_bird.png',\n",
       " 'C:\\\\Users\\\\LG\\\\Deep_Learning_Study\\\\Tensorflow\\\\dataset\\\\cifar\\\\train\\\\10843_cat.png',\n",
       " 'C:\\\\Users\\\\LG\\\\Deep_Learning_Study\\\\Tensorflow\\\\dataset\\\\cifar\\\\train\\\\10844_dog.png',\n",
       " 'C:\\\\Users\\\\LG\\\\Deep_Learning_Study\\\\Tensorflow\\\\dataset\\\\cifar\\\\train\\\\10845_truck.png',\n",
       " 'C:\\\\Users\\\\LG\\\\Deep_Learning_Study\\\\Tensorflow\\\\dataset\\\\cifar\\\\train\\\\10846_automobile.png',\n",
       " 'C:\\\\Users\\\\LG\\\\Deep_Learning_Study\\\\Tensorflow\\\\dataset\\\\cifar\\\\train\\\\10847_airplane.png',\n",
       " 'C:\\\\Users\\\\LG\\\\Deep_Learning_Study\\\\Tensorflow\\\\dataset\\\\cifar\\\\train\\\\10848_ship.png',\n",
       " 'C:\\\\Users\\\\LG\\\\Deep_Learning_Study\\\\Tensorflow\\\\dataset\\\\cifar\\\\train\\\\10849_deer.png',\n",
       " 'C:\\\\Users\\\\LG\\\\Deep_Learning_Study\\\\Tensorflow\\\\dataset\\\\cifar\\\\train\\\\1084_bird.png',\n",
       " 'C:\\\\Users\\\\LG\\\\Deep_Learning_Study\\\\Tensorflow\\\\dataset\\\\cifar\\\\train\\\\10850_truck.png',\n",
       " 'C:\\\\Users\\\\LG\\\\Deep_Learning_Study\\\\Tensorflow\\\\dataset\\\\cifar\\\\train\\\\10851_deer.png',\n",
       " 'C:\\\\Users\\\\LG\\\\Deep_Learning_Study\\\\Tensorflow\\\\dataset\\\\cifar\\\\train\\\\10852_horse.png',\n",
       " 'C:\\\\Users\\\\LG\\\\Deep_Learning_Study\\\\Tensorflow\\\\dataset\\\\cifar\\\\train\\\\10853_truck.png',\n",
       " 'C:\\\\Users\\\\LG\\\\Deep_Learning_Study\\\\Tensorflow\\\\dataset\\\\cifar\\\\train\\\\10854_cat.png',\n",
       " 'C:\\\\Users\\\\LG\\\\Deep_Learning_Study\\\\Tensorflow\\\\dataset\\\\cifar\\\\train\\\\10855_airplane.png',\n",
       " 'C:\\\\Users\\\\LG\\\\Deep_Learning_Study\\\\Tensorflow\\\\dataset\\\\cifar\\\\train\\\\10856_ship.png',\n",
       " 'C:\\\\Users\\\\LG\\\\Deep_Learning_Study\\\\Tensorflow\\\\dataset\\\\cifar\\\\train\\\\10857_cat.png',\n",
       " 'C:\\\\Users\\\\LG\\\\Deep_Learning_Study\\\\Tensorflow\\\\dataset\\\\cifar\\\\train\\\\10858_horse.png',\n",
       " 'C:\\\\Users\\\\LG\\\\Deep_Learning_Study\\\\Tensorflow\\\\dataset\\\\cifar\\\\train\\\\10859_truck.png',\n",
       " 'C:\\\\Users\\\\LG\\\\Deep_Learning_Study\\\\Tensorflow\\\\dataset\\\\cifar\\\\train\\\\1085_frog.png',\n",
       " 'C:\\\\Users\\\\LG\\\\Deep_Learning_Study\\\\Tensorflow\\\\dataset\\\\cifar\\\\train\\\\10860_bird.png',\n",
       " 'C:\\\\Users\\\\LG\\\\Deep_Learning_Study\\\\Tensorflow\\\\dataset\\\\cifar\\\\train\\\\10861_deer.png',\n",
       " 'C:\\\\Users\\\\LG\\\\Deep_Learning_Study\\\\Tensorflow\\\\dataset\\\\cifar\\\\train\\\\10862_dog.png',\n",
       " 'C:\\\\Users\\\\LG\\\\Deep_Learning_Study\\\\Tensorflow\\\\dataset\\\\cifar\\\\train\\\\10863_dog.png',\n",
       " 'C:\\\\Users\\\\LG\\\\Deep_Learning_Study\\\\Tensorflow\\\\dataset\\\\cifar\\\\train\\\\10864_ship.png',\n",
       " 'C:\\\\Users\\\\LG\\\\Deep_Learning_Study\\\\Tensorflow\\\\dataset\\\\cifar\\\\train\\\\10865_deer.png',\n",
       " 'C:\\\\Users\\\\LG\\\\Deep_Learning_Study\\\\Tensorflow\\\\dataset\\\\cifar\\\\train\\\\10866_bird.png',\n",
       " 'C:\\\\Users\\\\LG\\\\Deep_Learning_Study\\\\Tensorflow\\\\dataset\\\\cifar\\\\train\\\\10867_airplane.png',\n",
       " 'C:\\\\Users\\\\LG\\\\Deep_Learning_Study\\\\Tensorflow\\\\dataset\\\\cifar\\\\train\\\\10868_automobile.png',\n",
       " 'C:\\\\Users\\\\LG\\\\Deep_Learning_Study\\\\Tensorflow\\\\dataset\\\\cifar\\\\train\\\\10869_cat.png',\n",
       " 'C:\\\\Users\\\\LG\\\\Deep_Learning_Study\\\\Tensorflow\\\\dataset\\\\cifar\\\\train\\\\1086_airplane.png',\n",
       " 'C:\\\\Users\\\\LG\\\\Deep_Learning_Study\\\\Tensorflow\\\\dataset\\\\cifar\\\\train\\\\10870_cat.png',\n",
       " 'C:\\\\Users\\\\LG\\\\Deep_Learning_Study\\\\Tensorflow\\\\dataset\\\\cifar\\\\train\\\\10871_horse.png',\n",
       " 'C:\\\\Users\\\\LG\\\\Deep_Learning_Study\\\\Tensorflow\\\\dataset\\\\cifar\\\\train\\\\10872_airplane.png',\n",
       " 'C:\\\\Users\\\\LG\\\\Deep_Learning_Study\\\\Tensorflow\\\\dataset\\\\cifar\\\\train\\\\10873_horse.png',\n",
       " 'C:\\\\Users\\\\LG\\\\Deep_Learning_Study\\\\Tensorflow\\\\dataset\\\\cifar\\\\train\\\\10874_horse.png',\n",
       " 'C:\\\\Users\\\\LG\\\\Deep_Learning_Study\\\\Tensorflow\\\\dataset\\\\cifar\\\\train\\\\10875_deer.png',\n",
       " 'C:\\\\Users\\\\LG\\\\Deep_Learning_Study\\\\Tensorflow\\\\dataset\\\\cifar\\\\train\\\\10876_ship.png',\n",
       " 'C:\\\\Users\\\\LG\\\\Deep_Learning_Study\\\\Tensorflow\\\\dataset\\\\cifar\\\\train\\\\10877_deer.png',\n",
       " 'C:\\\\Users\\\\LG\\\\Deep_Learning_Study\\\\Tensorflow\\\\dataset\\\\cifar\\\\train\\\\10878_dog.png',\n",
       " 'C:\\\\Users\\\\LG\\\\Deep_Learning_Study\\\\Tensorflow\\\\dataset\\\\cifar\\\\train\\\\10879_horse.png',\n",
       " 'C:\\\\Users\\\\LG\\\\Deep_Learning_Study\\\\Tensorflow\\\\dataset\\\\cifar\\\\train\\\\1087_ship.png',\n",
       " 'C:\\\\Users\\\\LG\\\\Deep_Learning_Study\\\\Tensorflow\\\\dataset\\\\cifar\\\\train\\\\10880_dog.png',\n",
       " 'C:\\\\Users\\\\LG\\\\Deep_Learning_Study\\\\Tensorflow\\\\dataset\\\\cifar\\\\train\\\\10881_truck.png',\n",
       " 'C:\\\\Users\\\\LG\\\\Deep_Learning_Study\\\\Tensorflow\\\\dataset\\\\cifar\\\\train\\\\10882_automobile.png',\n",
       " 'C:\\\\Users\\\\LG\\\\Deep_Learning_Study\\\\Tensorflow\\\\dataset\\\\cifar\\\\train\\\\10883_cat.png',\n",
       " 'C:\\\\Users\\\\LG\\\\Deep_Learning_Study\\\\Tensorflow\\\\dataset\\\\cifar\\\\train\\\\10884_horse.png',\n",
       " 'C:\\\\Users\\\\LG\\\\Deep_Learning_Study\\\\Tensorflow\\\\dataset\\\\cifar\\\\train\\\\10885_bird.png',\n",
       " 'C:\\\\Users\\\\LG\\\\Deep_Learning_Study\\\\Tensorflow\\\\dataset\\\\cifar\\\\train\\\\10886_horse.png',\n",
       " 'C:\\\\Users\\\\LG\\\\Deep_Learning_Study\\\\Tensorflow\\\\dataset\\\\cifar\\\\train\\\\10887_horse.png',\n",
       " 'C:\\\\Users\\\\LG\\\\Deep_Learning_Study\\\\Tensorflow\\\\dataset\\\\cifar\\\\train\\\\10888_deer.png',\n",
       " 'C:\\\\Users\\\\LG\\\\Deep_Learning_Study\\\\Tensorflow\\\\dataset\\\\cifar\\\\train\\\\10889_frog.png',\n",
       " 'C:\\\\Users\\\\LG\\\\Deep_Learning_Study\\\\Tensorflow\\\\dataset\\\\cifar\\\\train\\\\1088_dog.png',\n",
       " 'C:\\\\Users\\\\LG\\\\Deep_Learning_Study\\\\Tensorflow\\\\dataset\\\\cifar\\\\train\\\\10890_deer.png',\n",
       " 'C:\\\\Users\\\\LG\\\\Deep_Learning_Study\\\\Tensorflow\\\\dataset\\\\cifar\\\\train\\\\10891_horse.png',\n",
       " 'C:\\\\Users\\\\LG\\\\Deep_Learning_Study\\\\Tensorflow\\\\dataset\\\\cifar\\\\train\\\\10892_horse.png',\n",
       " 'C:\\\\Users\\\\LG\\\\Deep_Learning_Study\\\\Tensorflow\\\\dataset\\\\cifar\\\\train\\\\10893_airplane.png',\n",
       " 'C:\\\\Users\\\\LG\\\\Deep_Learning_Study\\\\Tensorflow\\\\dataset\\\\cifar\\\\train\\\\10894_truck.png',\n",
       " 'C:\\\\Users\\\\LG\\\\Deep_Learning_Study\\\\Tensorflow\\\\dataset\\\\cifar\\\\train\\\\10895_automobile.png',\n",
       " 'C:\\\\Users\\\\LG\\\\Deep_Learning_Study\\\\Tensorflow\\\\dataset\\\\cifar\\\\train\\\\10896_airplane.png',\n",
       " 'C:\\\\Users\\\\LG\\\\Deep_Learning_Study\\\\Tensorflow\\\\dataset\\\\cifar\\\\train\\\\10897_dog.png',\n",
       " 'C:\\\\Users\\\\LG\\\\Deep_Learning_Study\\\\Tensorflow\\\\dataset\\\\cifar\\\\train\\\\10898_bird.png',\n",
       " 'C:\\\\Users\\\\LG\\\\Deep_Learning_Study\\\\Tensorflow\\\\dataset\\\\cifar\\\\train\\\\10899_truck.png',\n",
       " 'C:\\\\Users\\\\LG\\\\Deep_Learning_Study\\\\Tensorflow\\\\dataset\\\\cifar\\\\train\\\\1089_horse.png',\n",
       " 'C:\\\\Users\\\\LG\\\\Deep_Learning_Study\\\\Tensorflow\\\\dataset\\\\cifar\\\\train\\\\108_bird.png',\n",
       " ...]"
      ]
     },
     "execution_count": 45,
     "metadata": {},
     "output_type": "execute_result"
    }
   ],
   "source": [
    "data_paths"
   ]
  },
  {
   "cell_type": "code",
   "execution_count": 49,
   "metadata": {},
   "outputs": [],
   "source": [
    "def get_label(path):\n",
    "    return path.split('_')[-1].replace('.png', '')\n",
    "\n",
    "train_labels = [get_label(path) for path in data_paths]\n",
    "\n",
    "class_names = np.unique(train_labels)"
   ]
  },
  {
   "cell_type": "code",
   "execution_count": 47,
   "metadata": {},
   "outputs": [],
   "source": [
    "def get_label(path):\n",
    "    fname = tf.string.split(path, '_')[-1]\n",
    "    cls_name = tf.strings.regex_replace(fname, '.png', '')\n",
    "    onehot_encoding = tf.cast(class_names == cls_name, tf.unit8)"
   ]
  },
  {
   "cell_type": "code",
   "execution_count": 48,
   "metadata": {},
   "outputs": [],
   "source": [
    "def read_image_labe(path):\n",
    "    # read image\n",
    "    gfile = tf.io.read_file(path)\n",
    "    image = tf.io.decode_image(gfile)\n",
    "    \n",
    "    # get label\n",
    "    label = get_label(path)\n",
    "    \n",
    "    return image, label"
   ]
  },
  {
   "cell_type": "code",
   "execution_count": null,
   "metadata": {},
   "outputs": [],
   "source": [
    "dataset = tf.data.Dataset.from_tensor_slices(data_paths)\n",
    "dataset = dataset.map(read_image_label)\n",
    "dataset = dataset.batch(batch_size)\n",
    "dataset = dataset.repeat()"
   ]
  }
 ],
 "metadata": {
  "kernelspec": {
   "display_name": "py3.6ten2.0",
   "language": "python",
   "name": "py3.6ten2.0"
  },
  "language_info": {
   "codemirror_mode": {
    "name": "ipython",
    "version": 3
   },
   "file_extension": ".py",
   "mimetype": "text/x-python",
   "name": "python",
   "nbconvert_exporter": "python",
   "pygments_lexer": "ipython3",
   "version": "3.6.10"
  }
 },
 "nbformat": 4,
 "nbformat_minor": 2
}

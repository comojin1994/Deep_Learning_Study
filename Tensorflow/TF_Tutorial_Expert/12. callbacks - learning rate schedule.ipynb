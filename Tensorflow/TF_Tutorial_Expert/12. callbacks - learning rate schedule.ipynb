{
 "cells": [
  {
   "cell_type": "markdown",
   "metadata": {},
   "source": [
    "# TensorFlow 2.0"
   ]
  },
  {
   "cell_type": "code",
   "execution_count": 1,
   "metadata": {},
   "outputs": [],
   "source": [
    "import os\n",
    "from glob import glob\n",
    "from datetime import datetime\n",
    "\n",
    "import numpy as np\n",
    "\n",
    "import tensorflow as tf\n",
    "from tensorflow.keras import layers\n",
    "\n",
    "from tensorflow.keras import datasets \n",
    "\n",
    "import matplotlib.pyplot as plt\n",
    "\n",
    "%matplotlib inline"
   ]
  },
  {
   "cell_type": "markdown",
   "metadata": {},
   "source": [
    "## Hyperparameter Tunning"
   ]
  },
  {
   "cell_type": "code",
   "execution_count": 2,
   "metadata": {},
   "outputs": [],
   "source": [
    "num_epochs = 20\n",
    "batch_size = 32\n",
    "\n",
    "learning_rate = 0.001\n",
    "\n",
    "dropout_rate = 0.5\n",
    "\n",
    "input_shape = (32, 32, 3)\n",
    "num_classes = 10"
   ]
  },
  {
   "cell_type": "markdown",
   "metadata": {},
   "source": [
    "## Build Model"
   ]
  },
  {
   "cell_type": "code",
   "execution_count": 3,
   "metadata": {},
   "outputs": [],
   "source": [
    "inputs = layers.Input(input_shape)\n",
    "\n",
    "net = layers.Conv2D(32, (3, 3), padding='SAME')(inputs)\n",
    "net = layers.Activation('relu')(net)\n",
    "net = layers.Conv2D(32, (3, 3), padding='SAME')(net)\n",
    "net = layers.Activation('relu')(net)\n",
    "net = layers.MaxPooling2D(pool_size=(2, 2))(net)\n",
    "net = layers.Dropout(dropout_rate)(net)\n",
    "\n",
    "net = layers.Conv2D(64, (3, 3), padding='SAME')(net)\n",
    "net = layers.Activation('relu')(net)\n",
    "net = layers.Conv2D(64, (3, 3), padding='SAME')(net)\n",
    "net = layers.Activation('relu')(net)\n",
    "net = layers.MaxPooling2D(pool_size=(2, 2))(net)\n",
    "net = layers.Dropout(dropout_rate)(net)\n",
    "\n",
    "net = layers.Flatten()(net)\n",
    "net = layers.Dense(512)(net)\n",
    "net = layers.Activation('relu')(net)\n",
    "net = layers.Dropout(dropout_rate)(net)\n",
    "net = layers.Dense(num_classes)(net)\n",
    "net = layers.Activation('softmax')(net)\n",
    "\n",
    "model = tf.keras.Model(inputs=inputs, outputs=net, name='Basic_CNN')"
   ]
  },
  {
   "cell_type": "code",
   "execution_count": 4,
   "metadata": {},
   "outputs": [],
   "source": [
    "# Model is the full model w/o custom layers\n",
    "model.compile(optimizer=tf.keras.optimizers.Adam(learning_rate),  # Optimization\n",
    "              loss='sparse_categorical_crossentropy',  # Loss Function \n",
    "              metrics=['accuracy'])  # Metrics / Accuracy"
   ]
  },
  {
   "cell_type": "markdown",
   "metadata": {},
   "source": [
    "# Data Preprocess"
   ]
  },
  {
   "cell_type": "code",
   "execution_count": 5,
   "metadata": {},
   "outputs": [],
   "source": [
    "train_paths = glob(r'C:\\Users\\LG\\Deep_Learning_Study\\Tensorflow\\dataset\\cifar\\train\\*.png')[:100]\n",
    "test_paths = glob(r'C:\\Users\\LG\\Deep_Learning_Study\\Tensorflow\\dataset\\cifar\\test\\*.png')[:100]"
   ]
  },
  {
   "cell_type": "code",
   "execution_count": 6,
   "metadata": {},
   "outputs": [],
   "source": [
    "def get_class_name(path):\n",
    "    return path.split('_')[-1].replace('.png', '')"
   ]
  },
  {
   "cell_type": "code",
   "execution_count": 7,
   "metadata": {},
   "outputs": [],
   "source": [
    "train_labels = [get_class_name(path) for path in train_paths]\n",
    "class_names = np.unique(train_labels)"
   ]
  },
  {
   "cell_type": "code",
   "execution_count": 8,
   "metadata": {},
   "outputs": [],
   "source": [
    "def get_label(path):\n",
    "    fname = tf.strings.split(path, '_')[-1]\n",
    "    lbl_name = tf.strings.regex_replace(fname, '.png', '')\n",
    "    onehot = tf.cast(lbl_name == class_names, tf.uint8)\n",
    "    return tf.argmax(onehot)  # 이번에는 onehot이 아닌 label 번호로"
   ]
  },
  {
   "cell_type": "code",
   "execution_count": 9,
   "metadata": {},
   "outputs": [],
   "source": [
    "def load_image_label(path):\n",
    "    gfile = tf.io.read_file(path)\n",
    "    image = tf.io.decode_image(gfile)\n",
    "    image = tf.cast(image, tf.float32) / 255.  # rescale\n",
    "    \n",
    "    label = get_label(path)\n",
    "    return image, label"
   ]
  },
  {
   "cell_type": "code",
   "execution_count": 10,
   "metadata": {},
   "outputs": [],
   "source": [
    "def image_preprocess(image, label):\n",
    "    image = tf.image.random_flip_up_down(image)\n",
    "    image = tf.image.random_flip_left_right(image)\n",
    "    return image, label"
   ]
  },
  {
   "cell_type": "code",
   "execution_count": 11,
   "metadata": {},
   "outputs": [],
   "source": [
    "AUTOTUNE = tf.data.experimental.AUTOTUNE"
   ]
  },
  {
   "cell_type": "code",
   "execution_count": 12,
   "metadata": {
    "scrolled": false
   },
   "outputs": [],
   "source": [
    "train_dataset = tf.data.Dataset.from_tensor_slices(train_paths)\n",
    "train_dataset = train_dataset.map(load_image_label, num_parallel_calls=AUTOTUNE)\n",
    "train_dataset = train_dataset.map(image_preprocess, num_parallel_calls=AUTOTUNE)\n",
    "train_dataset = train_dataset.batch(batch_size)\n",
    "train_dataset = train_dataset.shuffle(buffer_size=len(train_paths))\n",
    "train_dataset = train_dataset.repeat()"
   ]
  },
  {
   "cell_type": "code",
   "execution_count": 13,
   "metadata": {},
   "outputs": [],
   "source": [
    "test_dataset = tf.data.Dataset.from_tensor_slices(test_paths)\n",
    "test_dataset = test_dataset.map(load_image_label, num_parallel_calls=AUTOTUNE)\n",
    "test_dataset = test_dataset.batch(batch_size)\n",
    "test_dataset = test_dataset.repeat()"
   ]
  },
  {
   "cell_type": "markdown",
   "metadata": {},
   "source": [
    "# Learning Rate Scheduler"
   ]
  },
  {
   "cell_type": "code",
   "execution_count": 14,
   "metadata": {},
   "outputs": [],
   "source": [
    "import math"
   ]
  },
  {
   "cell_type": "code",
   "execution_count": 15,
   "metadata": {},
   "outputs": [],
   "source": [
    "def scheduler(epoch):\n",
    "    if epoch < 10:\n",
    "        return 0.001\n",
    "    else:\n",
    "        return 0.001 * math.exp(0.1 * (10 - epoch))"
   ]
  },
  {
   "cell_type": "code",
   "execution_count": 17,
   "metadata": {},
   "outputs": [
    {
     "name": "stdout",
     "output_type": "stream",
     "text": [
      "0.001\n",
      "0.0009048374180359595\n",
      "0.0008187307530779819\n",
      "0.0007408182206817179\n",
      "0.0006703200460356394\n",
      "0.0006065306597126335\n",
      "0.0005488116360940264\n",
      "0.0004965853037914095\n",
      "0.0004493289641172216\n",
      "0.00040656965974059914\n"
     ]
    }
   ],
   "source": [
    "for epoch in range(10, 20):\n",
    "    print(0.001 * math.exp(0.1 * (10 - epoch)))"
   ]
  },
  {
   "cell_type": "code",
   "execution_count": 18,
   "metadata": {},
   "outputs": [
    {
     "data": {
      "text/plain": [
       "100"
      ]
     },
     "execution_count": 18,
     "metadata": {},
     "output_type": "execute_result"
    }
   ],
   "source": [
    "lr_list = [0.001 * math.exp(0.1 * (10 - lr)) for lr in range(0, 100)]\n",
    "len(lr_list)"
   ]
  },
  {
   "cell_type": "code",
   "execution_count": 19,
   "metadata": {},
   "outputs": [
    {
     "data": {
      "image/png": "[encoded data removed]",
      "text/plain": [
       "<Figure size 432x288 with 1 Axes>"
      ]
     },
     "metadata": {
      "needs_background": "light"
     },
     "output_type": "display_data"
    }
   ],
   "source": [
    "plt.plot(lr_list)\n",
    "plt.show()"
   ]
  },
  {
   "cell_type": "markdown",
   "metadata": {},
   "source": [
    "**Another Example : customize**\n",
    "> ```python\n",
    "def scheduler(epoch):\n",
    "    if epoch > 10 and epoch < 20:\n",
    "        return 0.0001\n",
    "    elif epoch >= 20:\n",
    "        retun 0.00001\n",
    "```"
   ]
  },
  {
   "cell_type": "code",
   "execution_count": 25,
   "metadata": {},
   "outputs": [
    {
     "data": {
      "text/plain": [
       "<tensorflow.python.keras.callbacks.LearningRateScheduler at 0x1dbbd765f28>"
      ]
     },
     "execution_count": 25,
     "metadata": {},
     "output_type": "execute_result"
    }
   ],
   "source": [
    "tf.keras.callbacks.LearningRateScheduler(scheduler, verbose=1) # verbos=1이면 learning rate를 출력해줌"
   ]
  },
  {
   "cell_type": "code",
   "execution_count": 27,
   "metadata": {},
   "outputs": [],
   "source": [
    "learning_rate_scheduler = tf.keras.callbacks.LearningRateScheduler(scheduler, verbose=1)"
   ]
  },
  {
   "cell_type": "markdown",
   "metadata": {},
   "source": [
    "## Training"
   ]
  },
  {
   "cell_type": "code",
   "execution_count": 28,
   "metadata": {},
   "outputs": [
    {
     "name": "stdout",
     "output_type": "stream",
     "text": [
      "\n",
      "Epoch 00001: LearningRateScheduler reducing learning rate to 0.001.\n",
      "Epoch 1/20\n",
      "3/3 [==============================] - 1s 370ms/step - loss: 1.8026 - accuracy: 0.2647 - val_loss: 2.5496 - val_accuracy: 0.1979\n",
      "\n",
      "Epoch 00002: LearningRateScheduler reducing learning rate to 0.001.\n",
      "Epoch 2/20\n",
      "3/3 [==============================] - 1s 356ms/step - loss: 2.2230 - accuracy: 0.2396 - val_loss: 2.4317 - val_accuracy: 0.2188\n",
      "\n",
      "Epoch 00003: LearningRateScheduler reducing learning rate to 0.001.\n",
      "Epoch 3/20\n",
      "3/3 [==============================] - 1s 280ms/step - loss: 1.4849 - accuracy: 0.3750 - val_loss: 2.7199 - val_accuracy: 0.1562\n",
      "\n",
      "Epoch 00004: LearningRateScheduler reducing learning rate to 0.001.\n",
      "Epoch 4/20\n",
      "3/3 [==============================] - 1s 344ms/step - loss: 2.4885 - accuracy: 0.1458 - val_loss: 2.3292 - val_accuracy: 0.1771\n",
      "\n",
      "Epoch 00005: LearningRateScheduler reducing learning rate to 0.001.\n",
      "Epoch 5/20\n",
      "3/3 [==============================] - 1s 325ms/step - loss: 1.8560 - accuracy: 0.1912 - val_loss: 2.2602 - val_accuracy: 0.1979\n",
      "\n",
      "Epoch 00006: LearningRateScheduler reducing learning rate to 0.001.\n",
      "Epoch 6/20\n",
      "3/3 [==============================] - 1s 372ms/step - loss: 2.0707 - accuracy: 0.2188 - val_loss: 2.2301 - val_accuracy: 0.2083\n",
      "\n",
      "Epoch 00007: LearningRateScheduler reducing learning rate to 0.001.\n",
      "Epoch 7/20\n",
      "3/3 [==============================] - 1s 348ms/step - loss: 1.8152 - accuracy: 0.2941 - val_loss: 2.2122 - val_accuracy: 0.1979\n",
      "\n",
      "Epoch 00008: LearningRateScheduler reducing learning rate to 0.001.\n",
      "Epoch 8/20\n",
      "3/3 [==============================] - 1s 320ms/step - loss: 1.6704 - accuracy: 0.2941 - val_loss: 2.2738 - val_accuracy: 0.2083\n",
      "\n",
      "Epoch 00009: LearningRateScheduler reducing learning rate to 0.001.\n",
      "Epoch 9/20\n",
      "3/3 [==============================] - 1s 378ms/step - loss: 2.0783 - accuracy: 0.2500 - val_loss: 2.2963 - val_accuracy: 0.1979\n",
      "\n",
      "Epoch 00010: LearningRateScheduler reducing learning rate to 0.001.\n",
      "Epoch 10/20\n",
      "3/3 [==============================] - 1s 299ms/step - loss: 1.1683 - accuracy: 0.4250 - val_loss: 2.5930 - val_accuracy: 0.1771\n",
      "\n",
      "Epoch 00011: LearningRateScheduler reducing learning rate to 0.001.\n",
      "Epoch 11/20\n",
      "3/3 [==============================] - 1s 376ms/step - loss: 2.0243 - accuracy: 0.3542 - val_loss: 2.5796 - val_accuracy: 0.2188\n",
      "\n",
      "Epoch 00012: LearningRateScheduler reducing learning rate to 0.0009048374180359595.\n",
      "Epoch 12/20\n",
      "3/3 [==============================] - 1s 326ms/step - loss: 1.8202 - accuracy: 0.3235 - val_loss: 2.3615 - val_accuracy: 0.2396\n",
      "\n",
      "Epoch 00013: LearningRateScheduler reducing learning rate to 0.0008187307530779819.\n",
      "Epoch 13/20\n",
      "3/3 [==============================] - 1s 328ms/step - loss: 1.5497 - accuracy: 0.3529 - val_loss: 2.4972 - val_accuracy: 0.1458\n",
      "\n",
      "Epoch 00014: LearningRateScheduler reducing learning rate to 0.0007408182206817179.\n",
      "Epoch 14/20\n",
      "3/3 [==============================] - 1s 317ms/step - loss: 1.6367 - accuracy: 0.2647 - val_loss: 2.4335 - val_accuracy: 0.2292\n",
      "\n",
      "Epoch 00015: LearningRateScheduler reducing learning rate to 0.0006703200460356394.\n",
      "Epoch 15/20\n",
      "3/3 [==============================] - 1s 364ms/step - loss: 1.8975 - accuracy: 0.3125 - val_loss: 2.4971 - val_accuracy: 0.2500\n",
      "\n",
      "Epoch 00016: LearningRateScheduler reducing learning rate to 0.0006065306597126335.\n",
      "Epoch 16/20\n",
      "3/3 [==============================] - 1s 329ms/step - loss: 1.5659 - accuracy: 0.3382 - val_loss: 2.4903 - val_accuracy: 0.2500\n",
      "\n",
      "Epoch 00017: LearningRateScheduler reducing learning rate to 0.0005488116360940264.\n",
      "Epoch 17/20\n",
      "3/3 [==============================] - 1s 332ms/step - loss: 1.5345 - accuracy: 0.3235 - val_loss: 2.3863 - val_accuracy: 0.2083\n",
      "\n",
      "Epoch 00018: LearningRateScheduler reducing learning rate to 0.0004965853037914095.\n",
      "Epoch 18/20\n",
      "3/3 [==============================] - 1s 341ms/step - loss: 1.4398 - accuracy: 0.3529 - val_loss: 2.4770 - val_accuracy: 0.1979\n",
      "\n",
      "Epoch 00019: LearningRateScheduler reducing learning rate to 0.0004493289641172216.\n",
      "Epoch 19/20\n",
      "3/3 [==============================] - 1s 423ms/step - loss: 1.9430 - accuracy: 0.3229 - val_loss: 2.3885 - val_accuracy: 0.2604\n",
      "\n",
      "Epoch 00020: LearningRateScheduler reducing learning rate to 0.00040656965974059914.\n",
      "Epoch 20/20\n",
      "3/3 [==============================] - 1s 422ms/step - loss: 1.4055 - accuracy: 0.3676 - val_loss: 2.4265 - val_accuracy: 0.2292\n"
     ]
    },
    {
     "data": {
      "text/plain": [
       "<tensorflow.python.keras.callbacks.History at 0x1dbbc312160>"
      ]
     },
     "execution_count": 28,
     "metadata": {},
     "output_type": "execute_result"
    }
   ],
   "source": [
    "steps_per_epoch = len(train_paths) // batch_size\n",
    "validation_steps = len(test_paths) // batch_size\n",
    "\n",
    "model.fit_generator(\n",
    "    train_dataset,\n",
    "    steps_per_epoch=steps_per_epoch,\n",
    "    validation_data=test_dataset,\n",
    "    validation_steps=validation_steps,\n",
    "    epochs=num_epochs,\n",
    "    callbacks=[learning_rate_scheduler]\n",
    ")"
   ]
  },
  {
   "cell_type": "code",
   "execution_count": null,
   "metadata": {},
   "outputs": [],
   "source": []
  }
 ],
 "metadata": {
  "kernelspec": {
   "display_name": "py3.6ten2.0",
   "language": "python",
   "name": "py3.6ten2.0"
  },
  "language_info": {
   "codemirror_mode": {
    "name": "ipython",
    "version": 3
   },
   "file_extension": ".py",
   "mimetype": "text/x-python",
   "name": "python",
   "nbconvert_exporter": "python",
   "pygments_lexer": "ipython3",
   "version": "3.6.10"
  }
 },
 "nbformat": 4,
 "nbformat_minor": 2
}

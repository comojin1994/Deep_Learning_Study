{
 "cells": [
  {
   "cell_type": "markdown",
   "metadata": {},
   "source": [
    "# TensorFlow 2.0"
   ]
  },
  {
   "cell_type": "code",
   "execution_count": 1,
   "metadata": {},
   "outputs": [],
   "source": [
    "import os\n",
    "from glob import glob\n",
    "from datetime import datetime\n",
    "\n",
    "import numpy as np\n",
    "\n",
    "import tensorflow as tf\n",
    "from tensorflow.keras import layers\n",
    "\n",
    "from tensorflow.keras import datasets \n",
    "\n",
    "import matplotlib.pyplot as plt\n",
    "\n",
    "%matplotlib inline"
   ]
  },
  {
   "cell_type": "markdown",
   "metadata": {},
   "source": [
    "## Hyperparameter Tunning"
   ]
  },
  {
   "cell_type": "code",
   "execution_count": 2,
   "metadata": {},
   "outputs": [],
   "source": [
    "num_epochs = 20\n",
    "batch_size = 32\n",
    "\n",
    "learning_rate = 0.001\n",
    "\n",
    "dropout_rate = 0.5\n",
    "\n",
    "input_shape = (32, 32, 3)\n",
    "num_classes = 10"
   ]
  },
  {
   "cell_type": "markdown",
   "metadata": {},
   "source": [
    "## Build Model"
   ]
  },
  {
   "cell_type": "code",
   "execution_count": 3,
   "metadata": {},
   "outputs": [],
   "source": [
    "inputs = layers.Input(input_shape)\n",
    "\n",
    "net = layers.Conv2D(32, (3, 3), padding='SAME')(inputs)\n",
    "net = layers.Activation('relu')(net)\n",
    "net = layers.Conv2D(32, (3, 3), padding='SAME')(net)\n",
    "net = layers.Activation('relu')(net)\n",
    "net = layers.MaxPooling2D(pool_size=(2, 2))(net)\n",
    "net = layers.Dropout(dropout_rate)(net)\n",
    "\n",
    "net = layers.Conv2D(64, (3, 3), padding='SAME')(net)\n",
    "net = layers.Activation('relu')(net)\n",
    "net = layers.Conv2D(64, (3, 3), padding='SAME')(net)\n",
    "net = layers.Activation('relu')(net)\n",
    "net = layers.MaxPooling2D(pool_size=(2, 2))(net)\n",
    "net = layers.Dropout(dropout_rate)(net)\n",
    "\n",
    "net = layers.Flatten()(net)\n",
    "net = layers.Dense(512)(net)\n",
    "net = layers.Activation('relu')(net)\n",
    "net = layers.Dropout(dropout_rate)(net)\n",
    "net = layers.Dense(num_classes)(net)\n",
    "net = layers.Activation('softmax')(net)\n",
    "\n",
    "model = tf.keras.Model(inputs=inputs, outputs=net, name='Basic_CNN')"
   ]
  },
  {
   "cell_type": "code",
   "execution_count": 4,
   "metadata": {},
   "outputs": [],
   "source": [
    "# Model is the full model w/o custom layers\n",
    "model.compile(optimizer=tf.keras.optimizers.Adam(learning_rate),  # Optimization\n",
    "              loss='sparse_categorical_crossentropy',  # Loss Function \n",
    "              metrics=['accuracy'])  # Metrics / Accuracy"
   ]
  },
  {
   "cell_type": "markdown",
   "metadata": {},
   "source": [
    "# Data Preprocess"
   ]
  },
  {
   "cell_type": "code",
   "execution_count": 5,
   "metadata": {},
   "outputs": [],
   "source": [
    "train_paths = glob(r'C:\\Users\\LG\\Deep_Learning_Study\\Tensorflow\\dataset\\cifar\\train\\*.png')[:1000]\n",
    "test_paths = glob(r'C:\\Users\\LG\\Deep_Learning_Study\\Tensorflow\\dataset\\cifar\\test\\*.png')[:1000]"
   ]
  },
  {
   "cell_type": "code",
   "execution_count": 6,
   "metadata": {},
   "outputs": [
    {
     "data": {
      "text/plain": [
       "1000"
      ]
     },
     "execution_count": 6,
     "metadata": {},
     "output_type": "execute_result"
    }
   ],
   "source": [
    "len(train_paths)"
   ]
  },
  {
   "cell_type": "code",
   "execution_count": 7,
   "metadata": {},
   "outputs": [],
   "source": [
    "def get_class_name(path):\n",
    "    return path.split('_')[-1].replace('.png', '')"
   ]
  },
  {
   "cell_type": "code",
   "execution_count": 8,
   "metadata": {},
   "outputs": [],
   "source": [
    "train_labels = [get_class_name(path) for path in train_paths]\n",
    "class_names = np.unique(train_labels)"
   ]
  },
  {
   "cell_type": "code",
   "execution_count": 9,
   "metadata": {},
   "outputs": [],
   "source": [
    "def get_label(path):\n",
    "    fname = tf.strings.split(path, '_')[-1]\n",
    "    lbl_name = tf.strings.regex_replace(fname, '.png', '')\n",
    "    onehot = tf.cast(lbl_name == class_names, tf.uint8)\n",
    "    return tf.argmax(onehot)  # 이번에는 onehot이 아닌 label 번호로"
   ]
  },
  {
   "cell_type": "code",
   "execution_count": 10,
   "metadata": {},
   "outputs": [],
   "source": [
    "def load_image_label(path):\n",
    "    gfile = tf.io.read_file(path)\n",
    "    image = tf.io.decode_image(gfile)\n",
    "    image = tf.cast(image, tf.float32) / 255.  # rescale\n",
    "    \n",
    "    label = get_label(path)\n",
    "    return image, label"
   ]
  },
  {
   "cell_type": "code",
   "execution_count": 11,
   "metadata": {},
   "outputs": [],
   "source": [
    "def image_preprocess(image, label):\n",
    "    image = tf.image.random_flip_up_down(image)\n",
    "    image = tf.image.random_flip_left_right(image)\n",
    "    return image, label"
   ]
  },
  {
   "cell_type": "code",
   "execution_count": 12,
   "metadata": {},
   "outputs": [],
   "source": [
    "AUTOTUNE = tf.data.experimental.AUTOTUNE"
   ]
  },
  {
   "cell_type": "code",
   "execution_count": 13,
   "metadata": {
    "scrolled": false
   },
   "outputs": [],
   "source": [
    "train_dataset = tf.data.Dataset.from_tensor_slices(train_paths)\n",
    "train_dataset = train_dataset.map(load_image_label, num_parallel_calls=AUTOTUNE)\n",
    "train_dataset = train_dataset.map(image_preprocess, num_parallel_calls=AUTOTUNE)\n",
    "train_dataset = train_dataset.batch(batch_size)\n",
    "train_dataset = train_dataset.shuffle(buffer_size=len(train_paths))\n",
    "train_dataset = train_dataset.repeat()"
   ]
  },
  {
   "cell_type": "code",
   "execution_count": 14,
   "metadata": {},
   "outputs": [],
   "source": [
    "test_dataset = tf.data.Dataset.from_tensor_slices(test_paths)\n",
    "test_dataset = test_dataset.map(load_image_label, num_parallel_calls=AUTOTUNE)\n",
    "test_dataset = test_dataset.batch(batch_size)\n",
    "test_dataset = test_dataset.repeat()"
   ]
  },
  {
   "cell_type": "markdown",
   "metadata": {},
   "source": [
    "# Checkpoint"
   ]
  },
  {
   "cell_type": "code",
   "execution_count": 16,
   "metadata": {},
   "outputs": [],
   "source": [
    "save_path = 'checkpoints'"
   ]
  },
  {
   "cell_type": "code",
   "execution_count": 21,
   "metadata": {},
   "outputs": [],
   "source": [
    "checkpoint = tf.keras.callbacks.ModelCheckpoint(save_path, monitor='val_accuracy', verbose=1, save_best_only=True)\n",
    "# mode=min 으로 하면 monitor을 loss로 했을 경우"
   ]
  },
  {
   "cell_type": "markdown",
   "metadata": {},
   "source": [
    "## Training"
   ]
  },
  {
   "cell_type": "code",
   "execution_count": 20,
   "metadata": {},
   "outputs": [
    {
     "name": "stdout",
     "output_type": "stream",
     "text": [
      "Epoch 1/20\n",
      "30/31 [============================>.] - ETA: 0s - loss: 2.3173 - accuracy: 0.0983\n",
      "Epoch 00001: val_accuracy improved from -inf to 0.08972, saving model to checkpoints\n",
      "WARNING:tensorflow:From C:\\Users\\LG\\Anaconda3\\envs\\py3.6ten2.0\\lib\\site-packages\\tensorflow_core\\python\\ops\\resource_variable_ops.py:1781: calling BaseResourceVariable.__init__ (from tensorflow.python.ops.resource_variable_ops) with constraint is deprecated and will be removed in a future version.\n",
      "Instructions for updating:\n",
      "If using Keras pass *_constraint arguments to layers.\n",
      "INFO:tensorflow:Assets written to: checkpoints\\assets\n",
      "31/31 [==============================] - 13s 431ms/step - loss: 2.3166 - accuracy: 0.0992 - val_loss: 2.3002 - val_accuracy: 0.0897\n",
      "Epoch 2/20\n",
      "30/31 [============================>.] - ETA: 0s - loss: 2.2939 - accuracy: 0.1197\n",
      "Epoch 00002: val_accuracy did not improve from 0.08972\n",
      "31/31 [==============================] - 10s 321ms/step - loss: 2.2934 - accuracy: 0.1198 - val_loss: 2.2947 - val_accuracy: 0.0897\n",
      "Epoch 3/20\n",
      "30/31 [============================>.] - ETA: 0s - loss: 2.2548 - accuracy: 0.1506\n",
      "Epoch 00003: val_accuracy improved from 0.08972 to 0.17843, saving model to checkpoints\n",
      "INFO:tensorflow:Assets written to: checkpoints\\assets\n",
      "31/31 [==============================] - 13s 419ms/step - loss: 2.2544 - accuracy: 0.1508 - val_loss: 2.2175 - val_accuracy: 0.1784\n",
      "Epoch 4/20\n",
      "30/31 [============================>.] - ETA: 0s - loss: 2.2045 - accuracy: 0.1859\n",
      "Epoch 00004: val_accuracy improved from 0.17843 to 0.24294, saving model to checkpoints\n",
      "INFO:tensorflow:Assets written to: checkpoints\\assets\n",
      "31/31 [==============================] - 13s 420ms/step - loss: 2.2003 - accuracy: 0.1911 - val_loss: 2.1137 - val_accuracy: 0.2429\n",
      "Epoch 5/20\n",
      "30/31 [============================>.] - ETA: 0s - loss: 2.0933 - accuracy: 0.2308\n",
      "Epoch 00005: val_accuracy did not improve from 0.24294\n",
      "31/31 [==============================] - 10s 322ms/step - loss: 2.0910 - accuracy: 0.2335 - val_loss: 2.0945 - val_accuracy: 0.2369\n",
      "Epoch 6/20\n",
      "30/31 [============================>.] - ETA: 0s - loss: 2.0940 - accuracy: 0.2457\n",
      "Epoch 00006: val_accuracy did not improve from 0.24294\n",
      "31/31 [==============================] - 10s 314ms/step - loss: 2.0943 - accuracy: 0.2428 - val_loss: 2.0532 - val_accuracy: 0.2127\n",
      "Epoch 7/20\n",
      "30/31 [============================>.] - ETA: 0s - loss: 2.0321 - accuracy: 0.2425\n",
      "Epoch 00007: val_accuracy improved from 0.24294 to 0.25907, saving model to checkpoints\n",
      "INFO:tensorflow:Assets written to: checkpoints\\assets\n",
      "31/31 [==============================] - 13s 405ms/step - loss: 2.0305 - accuracy: 0.2417 - val_loss: 1.9490 - val_accuracy: 0.2591\n",
      "Epoch 8/20\n",
      "30/31 [============================>.] - ETA: 0s - loss: 1.9803 - accuracy: 0.2553\n",
      "Epoch 00008: val_accuracy improved from 0.25907 to 0.27319, saving model to checkpoints\n",
      "INFO:tensorflow:Assets written to: checkpoints\\assets\n",
      "31/31 [==============================] - 13s 405ms/step - loss: 1.9765 - accuracy: 0.2583 - val_loss: 1.9415 - val_accuracy: 0.2732\n",
      "Epoch 9/20\n",
      "30/31 [============================>.] - ETA: 0s - loss: 1.8946 - accuracy: 0.3013\n",
      "Epoch 00009: val_accuracy did not improve from 0.27319\n",
      "31/31 [==============================] - 10s 320ms/step - loss: 1.8968 - accuracy: 0.2996 - val_loss: 2.0044 - val_accuracy: 0.2248\n",
      "Epoch 10/20\n",
      "30/31 [============================>.] - ETA: 0s - loss: 1.9024 - accuracy: 0.2788\n",
      "Epoch 00010: val_accuracy did not improve from 0.27319\n",
      "31/31 [==============================] - 10s 322ms/step - loss: 1.9069 - accuracy: 0.2769 - val_loss: 1.9509 - val_accuracy: 0.2702\n",
      "Epoch 11/20\n",
      "30/31 [============================>.] - ETA: 0s - loss: 1.8573 - accuracy: 0.3104\n",
      "Epoch 00011: val_accuracy improved from 0.27319 to 0.32157, saving model to checkpoints\n",
      "INFO:tensorflow:Assets written to: checkpoints\\assets\n",
      "31/31 [==============================] - 13s 419ms/step - loss: 1.8514 - accuracy: 0.3115 - val_loss: 1.8543 - val_accuracy: 0.3216\n",
      "Epoch 12/20\n",
      "30/31 [============================>.] - ETA: 0s - loss: 1.8049 - accuracy: 0.3300\n",
      "Epoch 00012: val_accuracy did not improve from 0.32157\n",
      "31/31 [==============================] - 10s 322ms/step - loss: 1.8078 - accuracy: 0.3284 - val_loss: 1.8524 - val_accuracy: 0.2893\n",
      "Epoch 13/20\n",
      "30/31 [============================>.] - ETA: 0s - loss: 1.7544 - accuracy: 0.3451\n",
      "Epoch 00013: val_accuracy did not improve from 0.32157\n",
      "31/31 [==============================] - 10s 332ms/step - loss: 1.7635 - accuracy: 0.3409 - val_loss: 1.7843 - val_accuracy: 0.3196\n",
      "Epoch 14/20\n",
      "30/31 [============================>.] - ETA: 0s - loss: 1.7503 - accuracy: 0.3552\n",
      "Epoch 00014: val_accuracy improved from 0.32157 to 0.33871, saving model to checkpoints\n",
      "INFO:tensorflow:Assets written to: checkpoints\\assets\n",
      "31/31 [==============================] - 12s 399ms/step - loss: 1.7371 - accuracy: 0.3574 - val_loss: 1.7836 - val_accuracy: 0.3387\n",
      "Epoch 15/20\n",
      "30/31 [============================>.] - ETA: 0s - loss: 1.7208 - accuracy: 0.3494\n",
      "Epoch 00015: val_accuracy improved from 0.33871 to 0.34577, saving model to checkpoints\n",
      "INFO:tensorflow:Assets written to: checkpoints\\assets\n",
      "31/31 [==============================] - 12s 399ms/step - loss: 1.7195 - accuracy: 0.3461 - val_loss: 1.7995 - val_accuracy: 0.3458\n",
      "Epoch 16/20\n",
      "30/31 [============================>.] - ETA: 0s - loss: 1.7168 - accuracy: 0.3600\n",
      "Epoch 00016: val_accuracy did not improve from 0.34577\n",
      "31/31 [==============================] - 11s 340ms/step - loss: 1.7133 - accuracy: 0.3626 - val_loss: 1.7932 - val_accuracy: 0.3266\n",
      "Epoch 17/20\n",
      "30/31 [============================>.] - ETA: 0s - loss: 1.7413 - accuracy: 0.3515\n",
      "Epoch 00017: val_accuracy improved from 0.34577 to 0.37802, saving model to checkpoints\n",
      "INFO:tensorflow:Assets written to: checkpoints\\assets\n",
      "31/31 [==============================] - 16s 529ms/step - loss: 1.7515 - accuracy: 0.3461 - val_loss: 1.7084 - val_accuracy: 0.3780\n",
      "Epoch 18/20\n",
      "30/31 [============================>.] - ETA: 0s - loss: 1.7361 - accuracy: 0.3490\n",
      "Epoch 00018: val_accuracy did not improve from 0.37802\n",
      "31/31 [==============================] - 14s 439ms/step - loss: 1.7374 - accuracy: 0.3458 - val_loss: 1.7954 - val_accuracy: 0.3498\n",
      "Epoch 19/20\n",
      "30/31 [============================>.] - ETA: 0s - loss: 1.5503 - accuracy: 0.4287\n",
      "Epoch 00019: val_accuracy did not improve from 0.37802\n",
      "31/31 [==============================] - 12s 397ms/step - loss: 1.5620 - accuracy: 0.4258 - val_loss: 1.7387 - val_accuracy: 0.3750\n",
      "Epoch 20/20\n",
      "30/31 [============================>.] - ETA: 0s - loss: 1.6311 - accuracy: 0.3964\n",
      "Epoch 00020: val_accuracy improved from 0.37802 to 0.38004, saving model to checkpoints\n",
      "INFO:tensorflow:Assets written to: checkpoints\\assets\n",
      "31/31 [==============================] - 14s 446ms/step - loss: 1.6310 - accuracy: 0.3946 - val_loss: 1.7045 - val_accuracy: 0.3800\n"
     ]
    },
    {
     "data": {
      "text/plain": [
       "<tensorflow.python.keras.callbacks.History at 0x1cb0f0efb00>"
      ]
     },
     "execution_count": 20,
     "metadata": {},
     "output_type": "execute_result"
    }
   ],
   "source": [
    "steps_per_epoch = len(train_paths) // batch_size\n",
    "validation_steps = len(test_paths) // batch_size\n",
    "\n",
    "model.fit_generator(\n",
    "    train_dataset,\n",
    "    steps_per_epoch=steps_per_epoch,\n",
    "    validation_data=test_dataset,\n",
    "    validation_steps=validation_steps,\n",
    "    epochs=num_epochs,\n",
    "    callbacks=[checkpoint]\n",
    ")"
   ]
  },
  {
   "cell_type": "markdown",
   "metadata": {},
   "source": [
    "https://www.tensorflow.org/tensorboard/r2/image_summaries#setup"
   ]
  }
 ],
 "metadata": {
  "kernelspec": {
   "display_name": "py3.6ten2.0",
   "language": "python",
   "name": "py3.6ten2.0"
  },
  "language_info": {
   "codemirror_mode": {
    "name": "ipython",
    "version": 3
   },
   "file_extension": ".py",
   "mimetype": "text/x-python",
   "name": "python",
   "nbconvert_exporter": "python",
   "pygments_lexer": "ipython3",
   "version": "3.6.10"
  }
 },
 "nbformat": 4,
 "nbformat_minor": 2
}

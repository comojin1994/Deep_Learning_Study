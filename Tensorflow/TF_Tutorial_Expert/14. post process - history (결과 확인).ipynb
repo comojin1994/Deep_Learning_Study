{
 "cells": [
  {
   "cell_type": "markdown",
   "metadata": {},
   "source": [
    "# TensorFlow 2.0"
   ]
  },
  {
   "cell_type": "code",
   "execution_count": 1,
   "metadata": {},
   "outputs": [],
   "source": [
    "import os\n",
    "from glob import glob\n",
    "from datetime import datetime\n",
    "\n",
    "import numpy as np\n",
    "\n",
    "import tensorflow as tf\n",
    "from tensorflow.keras import layers\n",
    "\n",
    "from tensorflow.keras import datasets \n",
    "\n",
    "import matplotlib.pyplot as plt\n",
    "\n",
    "%matplotlib inline"
   ]
  },
  {
   "cell_type": "markdown",
   "metadata": {},
   "source": [
    "## Hyperparameter Tunning"
   ]
  },
  {
   "cell_type": "code",
   "execution_count": 2,
   "metadata": {},
   "outputs": [],
   "source": [
    "num_epochs = 50\n",
    "batch_size = 32\n",
    "\n",
    "learning_rate = 0.001\n",
    "\n",
    "dropout_rate = 0.5\n",
    "\n",
    "input_shape = (32, 32, 3)\n",
    "num_classes = 10"
   ]
  },
  {
   "cell_type": "markdown",
   "metadata": {},
   "source": [
    "## Build Model"
   ]
  },
  {
   "cell_type": "code",
   "execution_count": 3,
   "metadata": {},
   "outputs": [],
   "source": [
    "inputs = layers.Input(input_shape)\n",
    "\n",
    "net = layers.Conv2D(32, (3, 3), padding='SAME')(inputs)\n",
    "net = layers.Activation('relu')(net)\n",
    "net = layers.Conv2D(32, (3, 3), padding='SAME')(net)\n",
    "net = layers.Activation('relu')(net)\n",
    "net = layers.MaxPooling2D(pool_size=(2, 2))(net)\n",
    "net = layers.Dropout(dropout_rate)(net)\n",
    "\n",
    "net = layers.Conv2D(64, (3, 3), padding='SAME')(net)\n",
    "net = layers.Activation('relu')(net)\n",
    "net = layers.Conv2D(64, (3, 3), padding='SAME')(net)\n",
    "net = layers.Activation('relu')(net)\n",
    "net = layers.MaxPooling2D(pool_size=(2, 2))(net)\n",
    "net = layers.Dropout(dropout_rate)(net)\n",
    "\n",
    "net = layers.Flatten()(net)\n",
    "net = layers.Dense(512)(net)\n",
    "net = layers.Activation('relu')(net)\n",
    "net = layers.Dropout(dropout_rate)(net)\n",
    "net = layers.Dense(num_classes)(net)\n",
    "net = layers.Activation('softmax')(net)\n",
    "\n",
    "model = tf.keras.Model(inputs=inputs, outputs=net, name='Basic_CNN')"
   ]
  },
  {
   "cell_type": "code",
   "execution_count": 4,
   "metadata": {},
   "outputs": [],
   "source": [
    "# Model is the full model w/o custom layers\n",
    "model.compile(optimizer=tf.keras.optimizers.Adam(learning_rate),  # Optimization\n",
    "              loss='sparse_categorical_crossentropy',  # Loss Function \n",
    "              metrics=['accuracy'])  # Metrics / Accuracy"
   ]
  },
  {
   "cell_type": "markdown",
   "metadata": {},
   "source": [
    "# Data Preprocess"
   ]
  },
  {
   "cell_type": "code",
   "execution_count": 5,
   "metadata": {},
   "outputs": [],
   "source": [
    "train_paths = glob(r'C:\\Users\\LG\\Deep_Learning_Study\\Tensorflow\\dataset\\cifar\\train\\*.png')[:1000]\n",
    "test_paths = glob(r'C:\\Users\\LG\\Deep_Learning_Study\\Tensorflow\\dataset\\cifar\\test\\*.png')[:1000]"
   ]
  },
  {
   "cell_type": "code",
   "execution_count": 6,
   "metadata": {},
   "outputs": [],
   "source": [
    "def get_class_name(path):\n",
    "    return path.split('_')[-1].replace('.png', '')"
   ]
  },
  {
   "cell_type": "code",
   "execution_count": 7,
   "metadata": {},
   "outputs": [],
   "source": [
    "train_labels = [get_class_name(path) for path in train_paths]\n",
    "class_names = np.unique(train_labels)"
   ]
  },
  {
   "cell_type": "code",
   "execution_count": 8,
   "metadata": {},
   "outputs": [],
   "source": [
    "def get_label(path):\n",
    "    fname = tf.strings.split(path, '_')[-1]\n",
    "    lbl_name = tf.strings.regex_replace(fname, '.png', '')\n",
    "    onehot = tf.cast(lbl_name == class_names, tf.uint8)\n",
    "    return tf.argmax(onehot)  # 이번에는 onehot이 아닌 label 번호로"
   ]
  },
  {
   "cell_type": "code",
   "execution_count": 9,
   "metadata": {},
   "outputs": [],
   "source": [
    "def load_image_label(path):\n",
    "    gfile = tf.io.read_file(path)\n",
    "    image = tf.io.decode_image(gfile)\n",
    "    image = tf.cast(image, tf.float32) / 255.  # rescale\n",
    "    \n",
    "    label = get_label(path)\n",
    "    return image, label"
   ]
  },
  {
   "cell_type": "code",
   "execution_count": 10,
   "metadata": {},
   "outputs": [],
   "source": [
    "def image_preprocess(image, label):\n",
    "    image = tf.image.random_flip_up_down(image)\n",
    "    image = tf.image.random_flip_left_right(image)\n",
    "    return image, label"
   ]
  },
  {
   "cell_type": "code",
   "execution_count": 11,
   "metadata": {},
   "outputs": [],
   "source": [
    "AUTOTUNE = tf.data.experimental.AUTOTUNE"
   ]
  },
  {
   "cell_type": "code",
   "execution_count": 12,
   "metadata": {
    "scrolled": false
   },
   "outputs": [],
   "source": [
    "train_dataset = tf.data.Dataset.from_tensor_slices(train_paths)\n",
    "train_dataset = train_dataset.map(load_image_label, num_parallel_calls=AUTOTUNE)\n",
    "train_dataset = train_dataset.map(image_preprocess, num_parallel_calls=AUTOTUNE)\n",
    "train_dataset = train_dataset.batch(batch_size)\n",
    "train_dataset = train_dataset.shuffle(buffer_size=len(train_paths))\n",
    "train_dataset = train_dataset.repeat()"
   ]
  },
  {
   "cell_type": "code",
   "execution_count": 13,
   "metadata": {},
   "outputs": [],
   "source": [
    "test_dataset = tf.data.Dataset.from_tensor_slices(test_paths)\n",
    "test_dataset = test_dataset.map(load_image_label, num_parallel_calls=AUTOTUNE)\n",
    "test_dataset = test_dataset.batch(batch_size)\n",
    "test_dataset = test_dataset.repeat()"
   ]
  },
  {
   "cell_type": "markdown",
   "metadata": {},
   "source": [
    "## Training"
   ]
  },
  {
   "cell_type": "markdown",
   "metadata": {},
   "source": [
    "http://localhost:6006"
   ]
  },
  {
   "cell_type": "code",
   "execution_count": 14,
   "metadata": {
    "scrolled": false
   },
   "outputs": [
    {
     "name": "stdout",
     "output_type": "stream",
     "text": [
      "Epoch 1/50\n",
      "31/31 [==============================] - 10s 337ms/step - loss: 2.3203 - accuracy: 0.1043 - val_loss: 2.2875 - val_accuracy: 0.1179\n",
      "Epoch 2/50\n",
      "31/31 [==============================] - 10s 316ms/step - loss: 2.2841 - accuracy: 0.1260 - val_loss: 2.3028 - val_accuracy: 0.0897\n",
      "Epoch 3/50\n",
      "31/31 [==============================] - 10s 323ms/step - loss: 2.3015 - accuracy: 0.1157 - val_loss: 2.3024 - val_accuracy: 0.0897\n",
      "Epoch 4/50\n",
      "31/31 [==============================] - 10s 312ms/step - loss: 2.2944 - accuracy: 0.1291 - val_loss: 2.2854 - val_accuracy: 0.1573\n",
      "Epoch 5/50\n",
      "31/31 [==============================] - 11s 371ms/step - loss: 2.2442 - accuracy: 0.1374 - val_loss: 2.1845 - val_accuracy: 0.1794\n",
      "Epoch 6/50\n",
      "31/31 [==============================] - 12s 374ms/step - loss: 2.2816 - accuracy: 0.1498 - val_loss: 2.2981 - val_accuracy: 0.0948\n",
      "Epoch 7/50\n",
      "31/31 [==============================] - 10s 322ms/step - loss: 2.2464 - accuracy: 0.1405 - val_loss: 2.1713 - val_accuracy: 0.2268\n",
      "Epoch 8/50\n",
      "31/31 [==============================] - 11s 339ms/step - loss: 2.2062 - accuracy: 0.1736 - val_loss: 2.1772 - val_accuracy: 0.2218\n",
      "Epoch 9/50\n",
      "31/31 [==============================] - 11s 352ms/step - loss: 2.1517 - accuracy: 0.2258 - val_loss: 2.1118 - val_accuracy: 0.2359\n",
      "Epoch 10/50\n",
      "31/31 [==============================] - 11s 340ms/step - loss: 2.0829 - accuracy: 0.2335 - val_loss: 2.0657 - val_accuracy: 0.2349\n",
      "Epoch 11/50\n",
      "31/31 [==============================] - 11s 368ms/step - loss: 2.0199 - accuracy: 0.2479 - val_loss: 1.9310 - val_accuracy: 0.2984\n",
      "Epoch 12/50\n",
      "31/31 [==============================] - 13s 430ms/step - loss: 1.9637 - accuracy: 0.2676 - val_loss: 1.9888 - val_accuracy: 0.2429\n",
      "Epoch 13/50\n",
      "31/31 [==============================] - 11s 352ms/step - loss: 1.9378 - accuracy: 0.2717 - val_loss: 1.9914 - val_accuracy: 0.2571\n",
      "Epoch 14/50\n",
      "31/31 [==============================] - 10s 332ms/step - loss: 1.8922 - accuracy: 0.3051 - val_loss: 1.8523 - val_accuracy: 0.2954\n",
      "Epoch 15/50\n",
      "31/31 [==============================] - 11s 340ms/step - loss: 1.8311 - accuracy: 0.3048 - val_loss: 1.8397 - val_accuracy: 0.3105\n",
      "Epoch 16/50\n",
      "31/31 [==============================] - 10s 335ms/step - loss: 1.8241 - accuracy: 0.3027 - val_loss: 1.8834 - val_accuracy: 0.3075\n",
      "Epoch 17/50\n",
      "31/31 [==============================] - 10s 337ms/step - loss: 1.8489 - accuracy: 0.3089 - val_loss: 1.8436 - val_accuracy: 0.3125\n",
      "Epoch 18/50\n",
      "31/31 [==============================] - 11s 355ms/step - loss: 1.8693 - accuracy: 0.2964 - val_loss: 1.8900 - val_accuracy: 0.2812\n",
      "Epoch 19/50\n",
      "31/31 [==============================] - 11s 346ms/step - loss: 1.7675 - accuracy: 0.3388 - val_loss: 1.8081 - val_accuracy: 0.3478\n",
      "Epoch 20/50\n",
      "31/31 [==============================] - 11s 370ms/step - loss: 1.7432 - accuracy: 0.3326 - val_loss: 1.7654 - val_accuracy: 0.3337\n",
      "Epoch 21/50\n",
      "31/31 [==============================] - 11s 351ms/step - loss: 1.7466 - accuracy: 0.3379 - val_loss: 1.7689 - val_accuracy: 0.3448\n",
      "Epoch 22/50\n",
      "31/31 [==============================] - 11s 341ms/step - loss: 1.6548 - accuracy: 0.3800 - val_loss: 1.8180 - val_accuracy: 0.3216\n",
      "Epoch 23/50\n",
      "31/31 [==============================] - 12s 381ms/step - loss: 1.6625 - accuracy: 0.3781 - val_loss: 1.6958 - val_accuracy: 0.3881\n",
      "Epoch 24/50\n",
      "31/31 [==============================] - 12s 376ms/step - loss: 1.6569 - accuracy: 0.3678 - val_loss: 1.7022 - val_accuracy: 0.3750\n",
      "Epoch 25/50\n",
      "31/31 [==============================] - 13s 413ms/step - loss: 1.6413 - accuracy: 0.4036 - val_loss: 1.6772 - val_accuracy: 0.4012\n",
      "Epoch 26/50\n",
      "31/31 [==============================] - 12s 385ms/step - loss: 1.6113 - accuracy: 0.4052 - val_loss: 1.6553 - val_accuracy: 0.3921\n",
      "Epoch 27/50\n",
      "31/31 [==============================] - 12s 394ms/step - loss: 1.5631 - accuracy: 0.4163 - val_loss: 1.6434 - val_accuracy: 0.4093\n",
      "Epoch 28/50\n",
      "31/31 [==============================] - 12s 379ms/step - loss: 1.5437 - accuracy: 0.4298 - val_loss: 1.6409 - val_accuracy: 0.4083\n",
      "Epoch 29/50\n",
      "31/31 [==============================] - 12s 401ms/step - loss: 1.4769 - accuracy: 0.4442 - val_loss: 1.6237 - val_accuracy: 0.4153\n",
      "Epoch 30/50\n",
      "31/31 [==============================] - 11s 371ms/step - loss: 1.4727 - accuracy: 0.4473 - val_loss: 1.6102 - val_accuracy: 0.4113\n",
      "Epoch 31/50\n",
      "31/31 [==============================] - 11s 352ms/step - loss: 1.4663 - accuracy: 0.4711 - val_loss: 1.7106 - val_accuracy: 0.3871\n",
      "Epoch 32/50\n",
      "31/31 [==============================] - 10s 338ms/step - loss: 1.4627 - accuracy: 0.4669 - val_loss: 1.6649 - val_accuracy: 0.4032\n",
      "Epoch 33/50\n",
      "31/31 [==============================] - 11s 348ms/step - loss: 1.4478 - accuracy: 0.4876 - val_loss: 1.6344 - val_accuracy: 0.4244\n",
      "Epoch 34/50\n",
      "31/31 [==============================] - 11s 341ms/step - loss: 1.4342 - accuracy: 0.4721 - val_loss: 1.6422 - val_accuracy: 0.4294\n",
      "Epoch 35/50\n",
      "31/31 [==============================] - 10s 338ms/step - loss: 1.3511 - accuracy: 0.5093 - val_loss: 1.5913 - val_accuracy: 0.4506\n",
      "Epoch 36/50\n",
      "31/31 [==============================] - 11s 342ms/step - loss: 1.3813 - accuracy: 0.5176 - val_loss: 1.5762 - val_accuracy: 0.4385\n",
      "Epoch 37/50\n",
      "31/31 [==============================] - 11s 343ms/step - loss: 1.3999 - accuracy: 0.5020 - val_loss: 1.5998 - val_accuracy: 0.4456\n",
      "Epoch 38/50\n",
      "31/31 [==============================] - 11s 339ms/step - loss: 1.2682 - accuracy: 0.5265 - val_loss: 1.6880 - val_accuracy: 0.4395\n",
      "Epoch 39/50\n",
      "31/31 [==============================] - 11s 349ms/step - loss: 1.2584 - accuracy: 0.5537 - val_loss: 1.6635 - val_accuracy: 0.4274\n",
      "Epoch 40/50\n",
      "31/31 [==============================] - 11s 339ms/step - loss: 1.2744 - accuracy: 0.5331 - val_loss: 1.6143 - val_accuracy: 0.4375\n",
      "Epoch 41/50\n",
      "31/31 [==============================] - 11s 352ms/step - loss: 1.3094 - accuracy: 0.5272 - val_loss: 1.6272 - val_accuracy: 0.4355\n",
      "Epoch 42/50\n",
      "31/31 [==============================] - 11s 341ms/step - loss: 1.2156 - accuracy: 0.5744 - val_loss: 1.6567 - val_accuracy: 0.4335\n",
      "Epoch 43/50\n",
      "31/31 [==============================] - 11s 340ms/step - loss: 1.2195 - accuracy: 0.5710 - val_loss: 1.6582 - val_accuracy: 0.4405\n",
      "Epoch 44/50\n",
      "31/31 [==============================] - 11s 346ms/step - loss: 1.2257 - accuracy: 0.5506 - val_loss: 1.6524 - val_accuracy: 0.4375\n",
      "Epoch 45/50\n",
      "31/31 [==============================] - 11s 348ms/step - loss: 1.1883 - accuracy: 0.5785 - val_loss: 1.6409 - val_accuracy: 0.4546\n",
      "Epoch 46/50\n",
      "31/31 [==============================] - 11s 344ms/step - loss: 1.1535 - accuracy: 0.5706 - val_loss: 1.6466 - val_accuracy: 0.4688\n",
      "Epoch 47/50\n",
      "31/31 [==============================] - 11s 347ms/step - loss: 1.0801 - accuracy: 0.5985 - val_loss: 1.6768 - val_accuracy: 0.4405\n",
      "Epoch 48/50\n",
      "31/31 [==============================] - 11s 340ms/step - loss: 1.1491 - accuracy: 0.5661 - val_loss: 1.6314 - val_accuracy: 0.4435\n",
      "Epoch 49/50\n",
      "31/31 [==============================] - 11s 345ms/step - loss: 1.1256 - accuracy: 0.5795 - val_loss: 1.7181 - val_accuracy: 0.4456\n",
      "Epoch 50/50\n",
      "31/31 [==============================] - 11s 360ms/step - loss: 1.0610 - accuracy: 0.6178 - val_loss: 1.6943 - val_accuracy: 0.4597\n"
     ]
    }
   ],
   "source": [
    "steps_per_epoch = len(train_paths) // batch_size\n",
    "validation_steps = len(test_paths) // batch_size\n",
    "\n",
    "history = model.fit_generator(\n",
    "    train_dataset,\n",
    "    steps_per_epoch=steps_per_epoch,\n",
    "    validation_data=test_dataset,\n",
    "    validation_steps=validation_steps,\n",
    "    epochs=num_epochs\n",
    ")"
   ]
  },
  {
   "cell_type": "markdown",
   "metadata": {},
   "source": [
    "# History 들여다 보기 "
   ]
  },
  {
   "cell_type": "code",
   "execution_count": 15,
   "metadata": {},
   "outputs": [
    {
     "data": {
      "text/plain": [
       "dict_keys(['loss', 'accuracy', 'val_loss', 'val_accuracy'])"
      ]
     },
     "execution_count": 15,
     "metadata": {},
     "output_type": "execute_result"
    }
   ],
   "source": [
    "history.history.keys()"
   ]
  },
  {
   "cell_type": "code",
   "execution_count": 16,
   "metadata": {
    "scrolled": true
   },
   "outputs": [
    {
     "data": {
      "text/plain": [
       "{'loss': [2.321345522384013,\n",
       "  2.2835027127226524,\n",
       "  2.3009921598040366,\n",
       "  2.2941809823690367,\n",
       "  2.243468615634382,\n",
       "  2.277146528575046,\n",
       "  2.2462124548667717,\n",
       "  2.205796525498067,\n",
       "  2.1517017502938547,\n",
       "  2.0818045631913114,\n",
       "  2.0157353267196783,\n",
       "  1.964845732223889,\n",
       "  1.9389952302964266,\n",
       "  1.8928209886712544,\n",
       "  1.8263246835755909,\n",
       "  1.8310753905083523,\n",
       "  1.8508451359331115,\n",
       "  1.8692803229055097,\n",
       "  1.7725475681714775,\n",
       "  1.7506425833899129,\n",
       "  1.7573118118916529,\n",
       "  1.6548382389929988,\n",
       "  1.6751991106458932,\n",
       "  1.6713514800899285,\n",
       "  1.6451432634208163,\n",
       "  1.6112739309187858,\n",
       "  1.5722906146167723,\n",
       "  1.546626675227457,\n",
       "  1.4826735750702786,\n",
       "  1.4897377303809174,\n",
       "  1.4725857490350391,\n",
       "  1.4703613155144306,\n",
       "  1.4618651374312472,\n",
       "  1.450598016750714,\n",
       "  1.3670637100196081,\n",
       "  1.3985580831519828,\n",
       "  1.3998542831790062,\n",
       "  1.2902081128904375,\n",
       "  1.2717014664460804,\n",
       "  1.289937481899892,\n",
       "  1.309377166532701,\n",
       "  1.2221893052424282,\n",
       "  1.2436127672761172,\n",
       "  1.2432172204837326,\n",
       "  1.1939392813966294,\n",
       "  1.1535427935661808,\n",
       "  1.1006930056264845,\n",
       "  1.1623651498605396,\n",
       "  1.1468275120435667,\n",
       "  1.073457300170394],\n",
       " 'accuracy': [0.10433884,\n",
       "  0.12603305,\n",
       "  0.11570248,\n",
       "  0.12913223,\n",
       "  0.1373967,\n",
       "  0.14979339,\n",
       "  0.14049587,\n",
       "  0.17355372,\n",
       "  0.22580644,\n",
       "  0.23347108,\n",
       "  0.24793388,\n",
       "  0.26756197,\n",
       "  0.2716942,\n",
       "  0.30508474,\n",
       "  0.30475205,\n",
       "  0.30268595,\n",
       "  0.3088843,\n",
       "  0.29637095,\n",
       "  0.338843,\n",
       "  0.33264464,\n",
       "  0.33792374,\n",
       "  0.38004032,\n",
       "  0.37809917,\n",
       "  0.3677686,\n",
       "  0.4036017,\n",
       "  0.40524194,\n",
       "  0.41632232,\n",
       "  0.42975205,\n",
       "  0.44421488,\n",
       "  0.44731405,\n",
       "  0.47107437,\n",
       "  0.46694216,\n",
       "  0.4876033,\n",
       "  0.47210744,\n",
       "  0.50929755,\n",
       "  0.517562,\n",
       "  0.5020161,\n",
       "  0.52648306,\n",
       "  0.553719,\n",
       "  0.53305787,\n",
       "  0.52721775,\n",
       "  0.57438016,\n",
       "  0.5709746,\n",
       "  0.55061984,\n",
       "  0.5785124,\n",
       "  0.5705645,\n",
       "  0.59851694,\n",
       "  0.5661157,\n",
       "  0.57954544,\n",
       "  0.6177686],\n",
       " 'val_loss': [2.2875144250931276,\n",
       "  2.3028054929548696,\n",
       "  2.3024245539019184,\n",
       "  2.28541894881956,\n",
       "  2.184537510718069,\n",
       "  2.298081644119755,\n",
       "  2.171333174551687,\n",
       "  2.177193041770689,\n",
       "  2.111750775767911,\n",
       "  2.065657715643606,\n",
       "  1.9310235092716832,\n",
       "  1.9888049287180747,\n",
       "  1.9913607028222853,\n",
       "  1.852321082545865,\n",
       "  1.8397242369190339,\n",
       "  1.883357051880129,\n",
       "  1.843565917784168,\n",
       "  1.889954432364433,\n",
       "  1.80813334449645,\n",
       "  1.7654173181902977,\n",
       "  1.7688642894068072,\n",
       "  1.8180410708150556,\n",
       "  1.6957746897974322,\n",
       "  1.7021582549618137,\n",
       "  1.6771519684022473,\n",
       "  1.655345336083443,\n",
       "  1.6434197964206818,\n",
       "  1.6408527089703469,\n",
       "  1.6236645752383816,\n",
       "  1.6101569552575388,\n",
       "  1.710637842455218,\n",
       "  1.664877510839893,\n",
       "  1.6344332425825057,\n",
       "  1.642152947764243,\n",
       "  1.591340587985131,\n",
       "  1.5762008120936732,\n",
       "  1.5998029555043867,\n",
       "  1.6879869353386663,\n",
       "  1.6635092919872654,\n",
       "  1.614348034704885,\n",
       "  1.6271780306293118,\n",
       "  1.6566766346654584,\n",
       "  1.6581565103223246,\n",
       "  1.6523857270517657,\n",
       "  1.6409187547622188,\n",
       "  1.6465688136316114,\n",
       "  1.6767857036282938,\n",
       "  1.6313810386965353,\n",
       "  1.718080336047757,\n",
       "  1.6942609433204896],\n",
       " 'val_accuracy': [0.11794355,\n",
       "  0.08971774,\n",
       "  0.08971774,\n",
       "  0.15725806,\n",
       "  0.17943548,\n",
       "  0.09475806,\n",
       "  0.22681452,\n",
       "  0.22177419,\n",
       "  0.2358871,\n",
       "  0.23487903,\n",
       "  0.2983871,\n",
       "  0.24294356,\n",
       "  0.25705644,\n",
       "  0.2953629,\n",
       "  0.31048387,\n",
       "  0.30745968,\n",
       "  0.3125,\n",
       "  0.28125,\n",
       "  0.34778225,\n",
       "  0.33366936,\n",
       "  0.34475806,\n",
       "  0.32157257,\n",
       "  0.38810483,\n",
       "  0.375,\n",
       "  0.40120968,\n",
       "  0.3921371,\n",
       "  0.4092742,\n",
       "  0.40826613,\n",
       "  0.41532257,\n",
       "  0.41129032,\n",
       "  0.38709676,\n",
       "  0.4032258,\n",
       "  0.42439517,\n",
       "  0.4294355,\n",
       "  0.45060483,\n",
       "  0.43850806,\n",
       "  0.4455645,\n",
       "  0.43951613,\n",
       "  0.42741936,\n",
       "  0.4375,\n",
       "  0.43548387,\n",
       "  0.43346775,\n",
       "  0.4405242,\n",
       "  0.4375,\n",
       "  0.4546371,\n",
       "  0.46875,\n",
       "  0.4405242,\n",
       "  0.44354838,\n",
       "  0.4455645,\n",
       "  0.45967743]}"
      ]
     },
     "execution_count": 16,
     "metadata": {},
     "output_type": "execute_result"
    }
   ],
   "source": [
    "history.history"
   ]
  },
  {
   "cell_type": "code",
   "execution_count": 17,
   "metadata": {},
   "outputs": [
    {
     "data": {
      "text/plain": [
       "{'batch_size': None,\n",
       " 'epochs': 50,\n",
       " 'steps': 31,\n",
       " 'samples': 31,\n",
       " 'verbose': 0,\n",
       " 'do_validation': True,\n",
       " 'metrics': ['loss', 'accuracy', 'val_loss', 'val_accuracy']}"
      ]
     },
     "execution_count": 17,
     "metadata": {},
     "output_type": "execute_result"
    }
   ],
   "source": [
    "history.params"
   ]
  },
  {
   "cell_type": "code",
   "execution_count": 18,
   "metadata": {},
   "outputs": [],
   "source": [
    "new_model = history.model"
   ]
  },
  {
   "cell_type": "markdown",
   "metadata": {},
   "source": [
    ">```python\n",
    "new_model.predict\n",
    "```"
   ]
  },
  {
   "cell_type": "code",
   "execution_count": 20,
   "metadata": {},
   "outputs": [
    {
     "data": {
      "image/png": "[encoded data removed]",
      "text/plain": [
       "<Figure size 432x288 with 1 Axes>"
      ]
     },
     "metadata": {
      "needs_background": "light"
     },
     "output_type": "display_data"
    }
   ],
   "source": [
    "plt.plot(history.history['accuracy'])\n",
    "plt.plot(history.history['val_accuracy'])\n",
    "plt.title(\"Model Accuracy\")\n",
    "plt.ylabel('accuracy')\n",
    "plt.xlabel('epoch')\n",
    "plt.legend(['train', 'validation'])\n",
    "plt.show()"
   ]
  },
  {
   "cell_type": "code",
   "execution_count": 21,
   "metadata": {},
   "outputs": [
    {
     "data": {
      "image/png": "[encoded data removed]",
      "text/plain": [
       "<Figure size 432x288 with 1 Axes>"
      ]
     },
     "metadata": {
      "needs_background": "light"
     },
     "output_type": "display_data"
    }
   ],
   "source": [
    "plt.plot(history.history['loss'])\n",
    "plt.plot(history.history['val_loss'])\n",
    "plt.title('Model Loss')\n",
    "plt.ylabel('loss')\n",
    "plt.xlabel('epoch')\n",
    "plt.legend(['train', 'validation'])\n",
    "plt.show()"
   ]
  }
 ],
 "metadata": {
  "kernelspec": {
   "display_name": "py3.6ten2.0",
   "language": "python",
   "name": "py3.6ten2.0"
  },
  "language_info": {
   "codemirror_mode": {
    "name": "ipython",
    "version": 3
   },
   "file_extension": ".py",
   "mimetype": "text/x-python",
   "name": "python",
   "nbconvert_exporter": "python",
   "pygments_lexer": "ipython3",
   "version": "3.6.10"
  }
 },
 "nbformat": 4,
 "nbformat_minor": 2
}

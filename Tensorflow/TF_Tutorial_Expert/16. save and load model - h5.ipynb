{
 "cells": [
  {
   "cell_type": "markdown",
   "metadata": {},
   "source": [
    "# TensorFlow 2.0"
   ]
  },
  {
   "cell_type": "code",
   "execution_count": 1,
   "metadata": {},
   "outputs": [],
   "source": [
    "import os\n",
    "from glob import glob\n",
    "from datetime import datetime\n",
    "\n",
    "import numpy as np\n",
    "\n",
    "import tensorflow as tf\n",
    "from tensorflow.keras import layers\n",
    "\n",
    "from tensorflow.keras import datasets \n",
    "\n",
    "import matplotlib.pyplot as plt\n",
    "\n",
    "%load_ext tensorboard\n",
    "%matplotlib inline"
   ]
  },
  {
   "cell_type": "markdown",
   "metadata": {},
   "source": [
    "## Hyperparameter Tunning"
   ]
  },
  {
   "cell_type": "code",
   "execution_count": 2,
   "metadata": {},
   "outputs": [],
   "source": [
    "num_epochs = 5\n",
    "batch_size = 32\n",
    "\n",
    "learning_rate = 0.001\n",
    "\n",
    "dropout_rate = 0.5\n",
    "\n",
    "input_shape = (32, 32, 3)\n",
    "num_classes = 10"
   ]
  },
  {
   "cell_type": "markdown",
   "metadata": {},
   "source": [
    "## Build Model"
   ]
  },
  {
   "cell_type": "code",
   "execution_count": 3,
   "metadata": {},
   "outputs": [],
   "source": [
    "inputs = layers.Input(input_shape)\n",
    "\n",
    "net = layers.Conv2D(32, (3, 3), padding='SAME')(inputs)\n",
    "net = layers.Activation('relu')(net)\n",
    "net = layers.Conv2D(32, (3, 3), padding='SAME')(net)\n",
    "net = layers.Activation('relu')(net)\n",
    "net = layers.MaxPooling2D(pool_size=(2, 2))(net)\n",
    "net = layers.Dropout(dropout_rate)(net)\n",
    "\n",
    "net = layers.Conv2D(64, (3, 3), padding='SAME')(net)\n",
    "net = layers.Activation('relu')(net)\n",
    "net = layers.Conv2D(64, (3, 3), padding='SAME')(net)\n",
    "net = layers.Activation('relu')(net)\n",
    "net = layers.MaxPooling2D(pool_size=(2, 2))(net)\n",
    "net = layers.Dropout(dropout_rate)(net)\n",
    "\n",
    "net = layers.Flatten()(net)\n",
    "net = layers.Dense(512)(net)\n",
    "net = layers.Activation('relu')(net)\n",
    "net = layers.Dropout(dropout_rate)(net)\n",
    "net = layers.Dense(num_classes)(net)\n",
    "net = layers.Activation('softmax')(net)\n",
    "\n",
    "model = tf.keras.Model(inputs=inputs, outputs=net, name='Basic_CNN')"
   ]
  },
  {
   "cell_type": "code",
   "execution_count": 4,
   "metadata": {},
   "outputs": [],
   "source": [
    "# Model is the full model w/o custom layers\n",
    "model.compile(optimizer=tf.keras.optimizers.Adam(learning_rate),  # Optimization\n",
    "              loss='sparse_categorical_crossentropy',  # Loss Function \n",
    "              metrics=['accuracy'])  # Metrics / Accuracy"
   ]
  },
  {
   "cell_type": "markdown",
   "metadata": {},
   "source": [
    "# Data Preprocess"
   ]
  },
  {
   "cell_type": "code",
   "execution_count": 6,
   "metadata": {},
   "outputs": [],
   "source": [
    "train_paths = glob(r'C:\\Users\\LG\\Deep_Learning_Study\\Tensorflow\\dataset\\cifar\\train\\*.png')[:100]\n",
    "test_paths = glob(r'C:\\Users\\LG\\Deep_Learning_Study\\Tensorflow\\dataset\\cifar\\test\\*.png')[:100]"
   ]
  },
  {
   "cell_type": "code",
   "execution_count": 7,
   "metadata": {},
   "outputs": [],
   "source": [
    "def get_class_name(path):\n",
    "    return path.split('_')[-1].replace('.png', '')"
   ]
  },
  {
   "cell_type": "code",
   "execution_count": 8,
   "metadata": {},
   "outputs": [],
   "source": [
    "train_labels = [get_class_name(path) for path in train_paths]\n",
    "class_names = np.unique(train_labels)"
   ]
  },
  {
   "cell_type": "code",
   "execution_count": 9,
   "metadata": {},
   "outputs": [],
   "source": [
    "def get_label(path):\n",
    "    fname = tf.strings.split(path, '_')[-1]\n",
    "    lbl_name = tf.strings.regex_replace(fname, '.png', '')\n",
    "    onehot = tf.cast(lbl_name == class_names, tf.uint8)\n",
    "    return tf.argmax(onehot)  # 이번에는 onehot이 아닌 label 번호로"
   ]
  },
  {
   "cell_type": "code",
   "execution_count": 10,
   "metadata": {},
   "outputs": [],
   "source": [
    "def load_image_label(path):\n",
    "    gfile = tf.io.read_file(path)\n",
    "    image = tf.io.decode_image(gfile)\n",
    "    image = tf.cast(image, tf.float32) / 255.  # rescale\n",
    "    \n",
    "    label = get_label(path)\n",
    "    return image, label"
   ]
  },
  {
   "cell_type": "code",
   "execution_count": 11,
   "metadata": {},
   "outputs": [],
   "source": [
    "def image_preprocess(image, label):\n",
    "    image = tf.image.random_flip_up_down(image)\n",
    "    image = tf.image.random_flip_left_right(image)\n",
    "    return image, label"
   ]
  },
  {
   "cell_type": "code",
   "execution_count": 12,
   "metadata": {},
   "outputs": [],
   "source": [
    "AUTOTUNE = tf.data.experimental.AUTOTUNE"
   ]
  },
  {
   "cell_type": "code",
   "execution_count": 13,
   "metadata": {
    "scrolled": false
   },
   "outputs": [],
   "source": [
    "train_dataset = tf.data.Dataset.from_tensor_slices(train_paths)\n",
    "train_dataset = train_dataset.map(load_image_label, num_parallel_calls=AUTOTUNE)\n",
    "train_dataset = train_dataset.map(image_preprocess, num_parallel_calls=AUTOTUNE)\n",
    "train_dataset = train_dataset.batch(batch_size)\n",
    "train_dataset = train_dataset.shuffle(buffer_size=len(train_paths))\n",
    "train_dataset = train_dataset.repeat()"
   ]
  },
  {
   "cell_type": "code",
   "execution_count": 14,
   "metadata": {},
   "outputs": [],
   "source": [
    "test_dataset = tf.data.Dataset.from_tensor_slices(test_paths)\n",
    "test_dataset = test_dataset.map(load_image_label, num_parallel_calls=AUTOTUNE)\n",
    "test_dataset = test_dataset.batch(batch_size)\n",
    "test_dataset = test_dataset.repeat()"
   ]
  },
  {
   "cell_type": "markdown",
   "metadata": {},
   "source": [
    "## Training"
   ]
  },
  {
   "cell_type": "markdown",
   "metadata": {},
   "source": [
    "http://localhost:6006"
   ]
  },
  {
   "cell_type": "code",
   "execution_count": 15,
   "metadata": {},
   "outputs": [
    {
     "name": "stdout",
     "output_type": "stream",
     "text": [
      "Epoch 1/5\n",
      "3/3 [==============================] - 1s 395ms/step - loss: 2.4092 - accuracy: 0.0588 - val_loss: 2.3039 - val_accuracy: 0.0729\n",
      "Epoch 2/5\n",
      "3/3 [==============================] - 1s 313ms/step - loss: 2.3516 - accuracy: 0.0882 - val_loss: 2.3177 - val_accuracy: 0.0729\n",
      "Epoch 3/5\n",
      "3/3 [==============================] - 1s 357ms/step - loss: 2.2788 - accuracy: 0.1875 - val_loss: 2.3171 - val_accuracy: 0.0729\n",
      "Epoch 4/5\n",
      "3/3 [==============================] - 1s 319ms/step - loss: 2.2419 - accuracy: 0.1471 - val_loss: 2.3242 - val_accuracy: 0.0729\n",
      "Epoch 5/5\n",
      "3/3 [==============================] - 1s 369ms/step - loss: 2.2719 - accuracy: 0.1042 - val_loss: 2.3250 - val_accuracy: 0.0833\n"
     ]
    }
   ],
   "source": [
    "steps_per_epoch = len(train_paths) // batch_size\n",
    "validation_steps = len(test_paths) // batch_size\n",
    "\n",
    "history = model.fit_generator(\n",
    "    train_dataset,\n",
    "    steps_per_epoch=steps_per_epoch,\n",
    "    validation_data=test_dataset,\n",
    "    validation_steps=validation_steps,\n",
    "    epochs=num_epochs\n",
    ")"
   ]
  },
  {
   "cell_type": "markdown",
   "metadata": {},
   "source": [
    "# Load Checkpoint"
   ]
  },
  {
   "cell_type": "code",
   "execution_count": null,
   "metadata": {},
   "outputs": [],
   "source": [
    "model.load_weights('checkpoints')"
   ]
  },
  {
   "cell_type": "markdown",
   "metadata": {},
   "source": [
    "# Saving Model"
   ]
  },
  {
   "cell_type": "code",
   "execution_count": 16,
   "metadata": {},
   "outputs": [],
   "source": [
    "save_path = 'my_model.h5'"
   ]
  },
  {
   "cell_type": "code",
   "execution_count": 17,
   "metadata": {},
   "outputs": [],
   "source": [
    "model.save(save_path, include_optimizer=True)"
   ]
  },
  {
   "cell_type": "code",
   "execution_count": 18,
   "metadata": {},
   "outputs": [],
   "source": [
    "model = tf.keras.models.load_model('my_model.h5')"
   ]
  },
  {
   "cell_type": "markdown",
   "metadata": {},
   "source": [
    "# Saving Model - 2"
   ]
  },
  {
   "cell_type": "markdown",
   "metadata": {},
   "source": [
    "##### weight 저장"
   ]
  },
  {
   "cell_type": "code",
   "execution_count": 19,
   "metadata": {},
   "outputs": [],
   "source": [
    "model.save_weights('model_weights.h5')"
   ]
  },
  {
   "cell_type": "markdown",
   "metadata": {},
   "source": [
    "##### model 저장"
   ]
  },
  {
   "cell_type": "code",
   "execution_count": 20,
   "metadata": {},
   "outputs": [],
   "source": [
    "with open('model_architecture.json', 'w') as f:\n",
    "    f.write(model.to_json())"
   ]
  },
  {
   "cell_type": "markdown",
   "metadata": {},
   "source": [
    "##### 구조 및 weight 불러오기"
   ]
  },
  {
   "cell_type": "code",
   "execution_count": 22,
   "metadata": {},
   "outputs": [],
   "source": [
    "from tensorflow.keras.models import model_from_json"
   ]
  },
  {
   "cell_type": "code",
   "execution_count": 23,
   "metadata": {},
   "outputs": [],
   "source": [
    "with open('model_architecture.json', 'r') as f:\n",
    "    model = model_from_json(f.read())"
   ]
  },
  {
   "cell_type": "code",
   "execution_count": 24,
   "metadata": {},
   "outputs": [],
   "source": [
    "model.load_weights('model_weights.h5')"
   ]
  },
  {
   "cell_type": "markdown",
   "metadata": {},
   "source": [
    "체크포인트가 있는 폴더를 지정해주면 체크포인트 불러오기 가능\n",
    ">```python\n",
    "model.load_weights('checkpoints')\n",
    "```"
   ]
  },
  {
   "cell_type": "markdown",
   "metadata": {},
   "source": [
    "# model.h5 들여다보기"
   ]
  },
  {
   "cell_type": "code",
   "execution_count": 25,
   "metadata": {},
   "outputs": [],
   "source": [
    "import h5py"
   ]
  },
  {
   "cell_type": "code",
   "execution_count": 28,
   "metadata": {},
   "outputs": [],
   "source": [
    "model_file = h5py.File('my_model.h5', 'r+')"
   ]
  },
  {
   "cell_type": "code",
   "execution_count": 29,
   "metadata": {},
   "outputs": [
    {
     "data": {
      "text/plain": [
       "<KeysViewHDF5 ['model_weights', 'optimizer_weights']>"
      ]
     },
     "execution_count": 29,
     "metadata": {},
     "output_type": "execute_result"
    }
   ],
   "source": [
    "model_file.keys()"
   ]
  },
  {
   "cell_type": "code",
   "execution_count": 30,
   "metadata": {},
   "outputs": [
    {
     "data": {
      "text/plain": [
       "<KeysViewHDF5 ['activation', 'activation_1', 'activation_2', 'activation_3', 'activation_4', 'activation_5', 'conv2d', 'conv2d_1', 'conv2d_2', 'conv2d_3', 'dense', 'dense_1', 'dropout', 'dropout_1', 'dropout_2', 'flatten', 'input_1', 'max_pooling2d', 'max_pooling2d_1']>"
      ]
     },
     "execution_count": 30,
     "metadata": {},
     "output_type": "execute_result"
    }
   ],
   "source": [
    "model_file['model_weights'].keys()"
   ]
  },
  {
   "cell_type": "code",
   "execution_count": 31,
   "metadata": {},
   "outputs": [
    {
     "data": {
      "text/plain": [
       "<KeysViewHDF5 ['bias:0', 'kernel:0']>"
      ]
     },
     "execution_count": 31,
     "metadata": {},
     "output_type": "execute_result"
    }
   ],
   "source": [
    "model_file['model_weights']['conv2d']['conv2d'].keys()"
   ]
  },
  {
   "cell_type": "code",
   "execution_count": 33,
   "metadata": {},
   "outputs": [
    {
     "data": {
      "text/plain": [
       "<HDF5 dataset \"kernel:0\": shape (3, 3, 3, 32), type \"<f4\">"
      ]
     },
     "execution_count": 33,
     "metadata": {},
     "output_type": "execute_result"
    }
   ],
   "source": [
    "model_file['model_weights']['conv2d']['conv2d']['kernel:0']"
   ]
  },
  {
   "cell_type": "code",
   "execution_count": 35,
   "metadata": {},
   "outputs": [],
   "source": [
    "weight = np.array(model_file['model_weights']['conv2d']['conv2d']['kernel:0'])"
   ]
  },
  {
   "cell_type": "code",
   "execution_count": 36,
   "metadata": {},
   "outputs": [
    {
     "data": {
      "text/plain": [
       "array([[[[-0.01790531, -0.09701243,  0.10658671, -0.03669837,\n",
       "          -0.01511543, -0.00290571,  0.06228109,  0.05538224,\n",
       "          -0.03237139,  0.1025598 ,  0.03816174,  0.00045612,\n",
       "           0.02957754,  0.12038291,  0.01010264,  0.02087348,\n",
       "          -0.00560233, -0.09366729,  0.07505775, -0.06445645,\n",
       "           0.11932862, -0.0313741 ,  0.02101019, -0.10719249,\n",
       "           0.05128941, -0.13271093,  0.04871363,  0.01158928,\n",
       "          -0.00143963, -0.06459263,  0.02806435, -0.08604052],\n",
       "         [ 0.04158574, -0.12016146,  0.12196834,  0.11362791,\n",
       "           0.0654196 , -0.12018426, -0.09186264, -0.07875167,\n",
       "           0.10266334, -0.06714372,  0.11110646,  0.0418493 ,\n",
       "          -0.02933619,  0.11937815, -0.12383316, -0.03992603,\n",
       "          -0.11837187, -0.0656889 , -0.08716273,  0.08039749,\n",
       "          -0.07498445, -0.01239698,  0.01208303, -0.11107653,\n",
       "          -0.06387948, -0.05412503, -0.04586476, -0.00024802,\n",
       "           0.08990255,  0.01315073,  0.08083221,  0.07968722],\n",
       "         [ 0.10475463, -0.04110161,  0.10660082, -0.13135983,\n",
       "          -0.03783962,  0.01427277,  0.04126189,  0.02341697,\n",
       "           0.06913192, -0.00040475,  0.04604935,  0.12174723,\n",
       "          -0.04191154, -0.02277873, -0.11530734, -0.09141358,\n",
       "          -0.02667403,  0.02058623,  0.07017686,  0.07719396,\n",
       "           0.13031206,  0.13217792,  0.10420409, -0.06723821,\n",
       "          -0.1126042 ,  0.08594377,  0.10253581, -0.08104935,\n",
       "          -0.07579316, -0.00019206,  0.0729067 ,  0.00088132]],\n",
       "\n",
       "        [[ 0.11004566, -0.04920201, -0.10605594,  0.05049047,\n",
       "           0.04972264,  0.00112096, -0.05841832, -0.04012855,\n",
       "           0.06077184, -0.12053093, -0.06369409, -0.11237918,\n",
       "          -0.06341171, -0.0547574 , -0.06028544,  0.03905079,\n",
       "          -0.04177036, -0.02240611, -0.02731662, -0.08735094,\n",
       "          -0.06461405, -0.0207389 , -0.08137273, -0.09546161,\n",
       "           0.00019105, -0.13308993, -0.12525894, -0.12160246,\n",
       "           0.01039342, -0.11711746, -0.06064853,  0.08171461],\n",
       "         [ 0.03263449, -0.07248226,  0.04957302, -0.11571937,\n",
       "           0.02550618, -0.12434693, -0.10485426,  0.00519569,\n",
       "           0.0952    ,  0.03010239,  0.07158582,  0.09974582,\n",
       "           0.12687087, -0.03709292, -0.00314833, -0.06944981,\n",
       "          -0.09695017,  0.05723703,  0.09560417, -0.07847282,\n",
       "           0.11866384,  0.01809411,  0.06686329,  0.12938806,\n",
       "          -0.01059242, -0.05747228,  0.02204589, -0.06860123,\n",
       "           0.05742611,  0.12798007,  0.1010092 , -0.00133985],\n",
       "         [-0.04023422, -0.06674594, -0.0206866 , -0.07638788,\n",
       "          -0.03636067, -0.01771435, -0.03224721,  0.08325655,\n",
       "           0.09488208, -0.09705491, -0.04065551,  0.02212206,\n",
       "          -0.00240054, -0.10715386, -0.01396   , -0.14096427,\n",
       "           0.03697736,  0.07156102,  0.08232643, -0.10447229,\n",
       "          -0.00599417, -0.12479702,  0.08913543, -0.01049384,\n",
       "          -0.11864266,  0.08231448,  0.03146515, -0.06592947,\n",
       "          -0.09160464, -0.00140458, -0.09103248, -0.10648405]],\n",
       "\n",
       "        [[ 0.00713665, -0.0865505 , -0.01975373,  0.12540156,\n",
       "           0.04726533, -0.0143365 ,  0.09105597,  0.03479502,\n",
       "          -0.011482  , -0.01199079,  0.08585852,  0.05875143,\n",
       "           0.09948555,  0.13795947, -0.08074488,  0.06283764,\n",
       "           0.10181931,  0.04643671,  0.03814761,  0.05536352,\n",
       "           0.14117666, -0.03270239,  0.01569442,  0.02310784,\n",
       "           0.08369128, -0.06825784,  0.0166303 , -0.05508112,\n",
       "          -0.01405936, -0.06816532,  0.03126184,  0.11629816],\n",
       "         [-0.01534608, -0.1198232 ,  0.08635031, -0.03743484,\n",
       "           0.04188794, -0.08372078,  0.05652578,  0.01405127,\n",
       "           0.08707546,  0.09869612, -0.05915637,  0.1103304 ,\n",
       "           0.03839117, -0.03761302, -0.03790604,  0.09315597,\n",
       "          -0.11470582,  0.05481952,  0.13121672,  0.05339385,\n",
       "           0.08725215, -0.06765271,  0.09535152, -0.11033774,\n",
       "           0.11519697,  0.05346887, -0.10761388,  0.05692931,\n",
       "          -0.11154878, -0.07873312,  0.03156099,  0.10248735],\n",
       "         [ 0.0245795 , -0.03502155,  0.0956025 , -0.12043054,\n",
       "          -0.02278843, -0.08643557,  0.05920547,  0.11589528,\n",
       "           0.12475393,  0.00450449, -0.06608337, -0.10161564,\n",
       "          -0.10677576, -0.07722846,  0.12949748,  0.08997604,\n",
       "           0.01078487, -0.08478981, -0.12937379,  0.0810378 ,\n",
       "           0.00824482, -0.11496117, -0.00733337, -0.09226234,\n",
       "           0.02453689, -0.02668208, -0.03991408, -0.00464057,\n",
       "          -0.06434433,  0.11614688,  0.03511427, -0.0200855 ]]],\n",
       "\n",
       "\n",
       "       [[[ 0.07307574,  0.09839946,  0.09079833,  0.09809416,\n",
       "           0.12126724,  0.00244731,  0.03898796, -0.13177414,\n",
       "           0.12928751, -0.06568014,  0.10741705,  0.07286698,\n",
       "           0.12689367, -0.0614537 ,  0.07362206, -0.13148542,\n",
       "          -0.13872223, -0.04978416,  0.10469297,  0.10248423,\n",
       "          -0.12745784, -0.12133202, -0.01948624,  0.0902255 ,\n",
       "           0.08051573,  0.08333573, -0.06855492,  0.07483977,\n",
       "           0.01491442, -0.126709  ,  0.08709035,  0.07018066],\n",
       "         [ 0.02907777,  0.02432183, -0.0500841 ,  0.02510577,\n",
       "          -0.07192943,  0.14322498, -0.09050664, -0.04015567,\n",
       "          -0.0695004 ,  0.07731333,  0.1237089 ,  0.13713975,\n",
       "          -0.09094656,  0.05781541, -0.02097295, -0.08024709,\n",
       "          -0.09828706, -0.02287314, -0.04194782,  0.06128137,\n",
       "          -0.12383723,  0.11964229,  0.08529355,  0.08362143,\n",
       "           0.0715958 ,  0.0627998 , -0.051679  , -0.04099642,\n",
       "           0.11504617, -0.06433842,  0.13137056, -0.07082038],\n",
       "         [ 0.12701514, -0.08295574,  0.10303392,  0.09318739,\n",
       "          -0.09254104, -0.05275923,  0.02579067, -0.11093801,\n",
       "           0.10192715, -0.03318302, -0.00703125, -0.0193818 ,\n",
       "          -0.09126173, -0.10044026, -0.10090882,  0.00852076,\n",
       "          -0.10055781, -0.08392353, -0.04050281, -0.02252307,\n",
       "          -0.13137087,  0.02857109,  0.05528017, -0.12758522,\n",
       "           0.07762789,  0.01788189,  0.10758083,  0.13176493,\n",
       "          -0.06030326, -0.10648108,  0.05453885,  0.01497361]],\n",
       "\n",
       "        [[-0.12962438, -0.08841748,  0.131753  , -0.06855423,\n",
       "          -0.1379983 , -0.1122539 ,  0.07332903, -0.02130392,\n",
       "           0.00639451, -0.02372371, -0.10809905, -0.08842565,\n",
       "          -0.06126776, -0.04059707,  0.13653651, -0.11460447,\n",
       "           0.03124459, -0.02817303, -0.12657847, -0.10362992,\n",
       "           0.05113689, -0.14194004,  0.0331503 , -0.07578223,\n",
       "           0.10519338, -0.0291852 ,  0.06838274,  0.02841886,\n",
       "          -0.06319818, -0.09407295,  0.09545245, -0.08653595],\n",
       "         [ 0.09416543,  0.11847715,  0.07417334,  0.05358734,\n",
       "          -0.11217239,  0.02529901, -0.03737495,  0.01171133,\n",
       "          -0.00910345,  0.05497702,  0.0538219 ,  0.07839083,\n",
       "           0.09850954,  0.04182215, -0.06039932, -0.05388685,\n",
       "          -0.03920145,  0.05777768,  0.13586766,  0.10647102,\n",
       "          -0.03589253, -0.05830158, -0.00912445, -0.03876012,\n",
       "          -0.10931901, -0.13171774, -0.01462663, -0.12221649,\n",
       "           0.07577157, -0.00409488, -0.07856325, -0.12914963],\n",
       "         [-0.02708059, -0.10013433, -0.13809974, -0.11977336,\n",
       "           0.11480086,  0.03137547, -0.07054818, -0.11238295,\n",
       "          -0.13934782,  0.07356926, -0.02271152, -0.06262176,\n",
       "          -0.13969757,  0.13615145, -0.06597578,  0.00088977,\n",
       "           0.09885659,  0.10150382, -0.06731292, -0.01950708,\n",
       "           0.04935736, -0.13692266,  0.07528981, -0.04165849,\n",
       "           0.01498758,  0.0845655 ,  0.12280829,  0.06198286,\n",
       "           0.09538005, -0.02323228, -0.10809521,  0.04734908]],\n",
       "\n",
       "        [[ 0.08001065, -0.13501771, -0.10115831, -0.03942065,\n",
       "          -0.04899847, -0.02990861,  0.08905487, -0.05723331,\n",
       "          -0.08798243,  0.03662613, -0.11105433, -0.06977572,\n",
       "          -0.04858003,  0.10194819, -0.0456471 ,  0.11123488,\n",
       "           0.11845991,  0.09730813,  0.06792933, -0.02403964,\n",
       "           0.09666272, -0.00059788,  0.06075068,  0.07376168,\n",
       "           0.06892273, -0.07351137, -0.07419409, -0.05658206,\n",
       "          -0.04826042, -0.08379048, -0.05145644, -0.0867037 ],\n",
       "         [-0.05104496, -0.11818686,  0.10442658,  0.10498273,\n",
       "           0.01570729,  0.12746528,  0.12669168,  0.03803665,\n",
       "           0.01030976, -0.02446843, -0.06645871, -0.13084884,\n",
       "           0.09462033, -0.02204844, -0.02317949,  0.09467635,\n",
       "          -0.03532272,  0.05646838,  0.06476755,  0.07209827,\n",
       "          -0.04653388, -0.040105  , -0.00426795,  0.00505348,\n",
       "           0.08367404, -0.1151078 , -0.01828805, -0.07842559,\n",
       "           0.09297049,  0.05757082,  0.04461061,  0.11829652],\n",
       "         [ 0.04578548, -0.02551599, -0.07046256,  0.10017177,\n",
       "           0.13112025,  0.01819527, -0.00053809, -0.0258337 ,\n",
       "          -0.01542828, -0.03451709, -0.13459751, -0.08720894,\n",
       "           0.08821223,  0.10176377,  0.00833789, -0.10971737,\n",
       "          -0.08145229,  0.07395593,  0.03554519, -0.11069354,\n",
       "          -0.02431689, -0.13766173, -0.1001551 , -0.0199952 ,\n",
       "           0.1171736 , -0.00397296,  0.10528406,  0.0265111 ,\n",
       "          -0.01283132,  0.03380841,  0.03752454,  0.02454109]]],\n",
       "\n",
       "\n",
       "       [[[-0.10140454,  0.11001504,  0.03844898,  0.03874379,\n",
       "          -0.12664361, -0.01141912,  0.03771412, -0.11894087,\n",
       "           0.0926095 ,  0.11918356, -0.10428452, -0.12198934,\n",
       "           0.05020742,  0.06561397, -0.02298545, -0.07422156,\n",
       "           0.10544088,  0.08418556, -0.09153713,  0.0813328 ,\n",
       "          -0.04081077, -0.01758364, -0.05461709,  0.08794673,\n",
       "          -0.13981749,  0.05599636, -0.0290749 , -0.01651096,\n",
       "           0.00041099,  0.06946025, -0.06103217,  0.06732784],\n",
       "         [-0.0624372 , -0.13848719,  0.03944772, -0.10338062,\n",
       "          -0.05145319, -0.11663429,  0.12464006,  0.05476569,\n",
       "          -0.10359057, -0.11306176, -0.12836927, -0.06304634,\n",
       "           0.02425711,  0.08763644,  0.11027659, -0.13965444,\n",
       "           0.06598212, -0.09967147, -0.13478169,  0.09389195,\n",
       "           0.02099951, -0.03064617,  0.1018382 ,  0.04020552,\n",
       "           0.04116184, -0.13962035,  0.04463735, -0.07965382,\n",
       "           0.02706832,  0.02821107,  0.01848157,  0.10449427],\n",
       "         [-0.12343694, -0.02329185,  0.02087184,  0.10398116,\n",
       "          -0.09890883,  0.08981314, -0.02132649, -0.1162817 ,\n",
       "           0.05353275, -0.08513159, -0.11560139,  0.08163773,\n",
       "          -0.0680865 , -0.06376344,  0.08606593,  0.08578483,\n",
       "           0.02880556, -0.13267595,  0.09069613, -0.10135065,\n",
       "           0.07317966,  0.0513055 ,  0.085858  ,  0.07513704,\n",
       "          -0.07072592,  0.06478955,  0.07351213,  0.11210204,\n",
       "           0.01114884,  0.03905512, -0.0980674 ,  0.05136174]],\n",
       "\n",
       "        [[ 0.07592764,  0.04688885, -0.11042406,  0.00064876,\n",
       "           0.04519403, -0.05236478,  0.01978973,  0.0155328 ,\n",
       "          -0.1145402 ,  0.10366488, -0.05547153,  0.0018814 ,\n",
       "          -0.08109645, -0.00505201, -0.1228483 ,  0.09798381,\n",
       "          -0.12802221,  0.07018012, -0.14071722, -0.11344963,\n",
       "          -0.01587736,  0.05495761, -0.11177313, -0.12057506,\n",
       "           0.08761153, -0.10579628, -0.01321552,  0.03106201,\n",
       "          -0.07925583,  0.07262058,  0.09926111, -0.06197218],\n",
       "         [-0.01582825, -0.09950333,  0.10632353, -0.01983557,\n",
       "          -0.1311284 ,  0.10639269,  0.04744062,  0.08501378,\n",
       "           0.0559347 , -0.1013578 ,  0.11699404, -0.11587273,\n",
       "          -0.0860842 , -0.02958075,  0.07042857,  0.04243854,\n",
       "           0.10494513,  0.05774027, -0.00043449,  0.13452041,\n",
       "           0.12417456,  0.0961574 , -0.11908574, -0.04356162,\n",
       "           0.05544623,  0.03865171,  0.0692175 , -0.13510673,\n",
       "           0.12564214,  0.04797467,  0.06966778, -0.1154961 ],\n",
       "         [-0.12468097,  0.0435061 , -0.07747447,  0.03783982,\n",
       "           0.12074018,  0.0350675 ,  0.09954577,  0.12418773,\n",
       "          -0.05634605,  0.01580892, -0.08715458,  0.00354499,\n",
       "          -0.09207166,  0.08852249, -0.04845628,  0.04031866,\n",
       "          -0.13410597,  0.025624  , -0.01850024, -0.12280998,\n",
       "           0.0752486 , -0.03474583,  0.08693667, -0.10539547,\n",
       "           0.04179635, -0.00050426, -0.11997427,  0.10510934,\n",
       "          -0.1130107 , -0.13951315,  0.03029375, -0.04140965]],\n",
       "\n",
       "        [[-0.0189632 ,  0.00557002,  0.01260516, -0.07428474,\n",
       "          -0.07932272, -0.00079131,  0.10653917, -0.05826183,\n",
       "           0.00897669, -0.03879484, -0.04497576, -0.10404793,\n",
       "           0.12351975, -0.07794299, -0.10764363,  0.08502162,\n",
       "          -0.11290739,  0.11887927, -0.07254092, -0.12014049,\n",
       "           0.13019532, -0.00319051,  0.11623492,  0.09964914,\n",
       "           0.01094208,  0.03105634, -0.00882366, -0.04564768,\n",
       "          -0.13259386,  0.08981697, -0.07826084,  0.06427785],\n",
       "         [ 0.01142134, -0.03186134, -0.13704701,  0.12288751,\n",
       "           0.10412551,  0.11525577,  0.09913971,  0.04699969,\n",
       "           0.07980459, -0.14077652,  0.08380618, -0.11648424,\n",
       "          -0.02294071, -0.04324916,  0.04587962,  0.0092781 ,\n",
       "          -0.09307922,  0.01264928, -0.11948267, -0.11519989,\n",
       "          -0.09704725,  0.00753314,  0.04568211, -0.13461211,\n",
       "          -0.1189087 ,  0.06857775,  0.01782132,  0.06426468,\n",
       "           0.09118392, -0.06102834, -0.04203134, -0.1390954 ],\n",
       "         [ 0.00740542,  0.11193597, -0.0675904 , -0.03178813,\n",
       "           0.11804614,  0.05566975, -0.08769087,  0.12689194,\n",
       "          -0.09011947, -0.06327181,  0.08838791, -0.10841207,\n",
       "           0.07956843, -0.08900841,  0.11681631,  0.06742369,\n",
       "           0.09468498, -0.04107249, -0.07190344,  0.02153757,\n",
       "          -0.07647534, -0.02023245, -0.07988226, -0.06831311,\n",
       "           0.07109252, -0.07691283,  0.12013327,  0.06580231,\n",
       "          -0.08534666,  0.12280997, -0.1240644 ,  0.03504934]]]],\n",
       "      dtype=float32)"
      ]
     },
     "execution_count": 36,
     "metadata": {},
     "output_type": "execute_result"
    }
   ],
   "source": [
    "weight"
   ]
  }
 ],
 "metadata": {
  "kernelspec": {
   "display_name": "py3.6ten2.0",
   "language": "python",
   "name": "py3.6ten2.0"
  },
  "language_info": {
   "codemirror_mode": {
    "name": "ipython",
    "version": 3
   },
   "file_extension": ".py",
   "mimetype": "text/x-python",
   "name": "python",
   "nbconvert_exporter": "python",
   "pygments_lexer": "ipython3",
   "version": "3.6.10"
  }
 },
 "nbformat": 4,
 "nbformat_minor": 2
}
